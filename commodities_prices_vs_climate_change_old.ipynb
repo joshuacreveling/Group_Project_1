{
 "cells": [
  {
   "cell_type": "code",
<<<<<<< HEAD:commodities_prices_vs_climate_change.ipynb
   "execution_count": 3,
=======
<<<<<<< HEAD
   "execution_count": 65,
=======
   "execution_count": 763,
>>>>>>> f4869e0c2d563b7915abdccb25e3e7ec4efcab45
>>>>>>> 63f8ba45e0bf701583efee4d35c673e603e26119:commodities_prices_vs_climate_change_old.ipynb
   "id": "d1b6fa67-32d9-40fa-a7ae-19df273622e9",
   "metadata": {
    "tags": []
   },
   "outputs": [],
   "source": [
    "# Import the required libraries and dependencies\n",
    "import pandas as pd\n",
    "import hvplot.pandas\n",
    "from pathlib import Path\n",
    "import seaborn as sns"
   ]
  },
  {
   "cell_type": "markdown",
   "id": "7a1f59a6-0040-4146-a708-bfe21d8fd1fc",
   "metadata": {},
   "source": [
    "# Climate Change Analysis"
   ]
  },
  {
   "cell_type": "markdown",
   "id": "8ad888e7-d2b2-48bd-b927-25eb4e291bb5",
   "metadata": {},
   "source": [
    "### Import Data"
   ]
  },
  {
   "cell_type": "code",
<<<<<<< HEAD:commodities_prices_vs_climate_change.ipynb
   "execution_count": 4,
=======
<<<<<<< HEAD
   "execution_count": 2,
=======
   "execution_count": 764,
>>>>>>> f4869e0c2d563b7915abdccb25e3e7ec4efcab45
>>>>>>> 63f8ba45e0bf701583efee4d35c673e603e26119:commodities_prices_vs_climate_change_old.ipynb
   "id": "c06a8b00-ab02-4589-ad3a-58f46c0074e1",
   "metadata": {},
   "outputs": [],
   "source": [
    "# Using the read_csv function and Path module, create a DataFrame \n",
    "# by importing the GlobalLandTemperatureByCountry.csv, GlobalLandTemperatureByMajorCity.csv and GlobalTemperature.csv file from the Resources folder\n",
    "temperature_by_country_df = pd.read_csv(Path(\"./Resources/GlobalLandTemperaturesByCountry.csv\"))\n",
    "temperature_by_major_city_df = pd.read_csv(Path(\"./Resources/GlobalLandTemperaturesByMajorCity.csv\"))\n",
    "global_temperature_df = pd.read_csv(Path(\"./Resources/GlobalTemperatures.csv\"))\n",
    "commodity_prices_df = pd.read_csv(Path(\"./Resources/GlobalTemperatures.csv\"))"
   ]
  },
  {
   "cell_type": "code",
<<<<<<< HEAD:commodities_prices_vs_climate_change.ipynb
   "execution_count": 5,
=======
<<<<<<< HEAD
   "execution_count": 3,
=======
   "execution_count": 765,
>>>>>>> f4869e0c2d563b7915abdccb25e3e7ec4efcab45
>>>>>>> 63f8ba45e0bf701583efee4d35c673e603e26119:commodities_prices_vs_climate_change_old.ipynb
   "id": "3dbf29db-36af-40c7-8736-82a1ffadeefc",
   "metadata": {},
   "outputs": [
    {
     "data": {
      "text/html": [
       "<div>\n",
       "<style scoped>\n",
       "    .dataframe tbody tr th:only-of-type {\n",
       "        vertical-align: middle;\n",
       "    }\n",
       "\n",
       "    .dataframe tbody tr th {\n",
       "        vertical-align: top;\n",
       "    }\n",
       "\n",
       "    .dataframe thead th {\n",
       "        text-align: right;\n",
       "    }\n",
       "</style>\n",
       "<table border=\"1\" class=\"dataframe\">\n",
       "  <thead>\n",
       "    <tr style=\"text-align: right;\">\n",
       "      <th></th>\n",
       "      <th>dt</th>\n",
       "      <th>AverageTemperature</th>\n",
       "      <th>AverageTemperatureUncertainty</th>\n",
       "      <th>Country</th>\n",
       "    </tr>\n",
       "  </thead>\n",
       "  <tbody>\n",
       "    <tr>\n",
       "      <th>0</th>\n",
       "      <td>1743-11-01</td>\n",
       "      <td>4.384</td>\n",
       "      <td>2.294</td>\n",
       "      <td>Åland</td>\n",
       "    </tr>\n",
       "    <tr>\n",
       "      <th>1</th>\n",
       "      <td>1743-12-01</td>\n",
       "      <td>NaN</td>\n",
       "      <td>NaN</td>\n",
       "      <td>Åland</td>\n",
       "    </tr>\n",
       "    <tr>\n",
       "      <th>2</th>\n",
       "      <td>1744-01-01</td>\n",
       "      <td>NaN</td>\n",
       "      <td>NaN</td>\n",
       "      <td>Åland</td>\n",
       "    </tr>\n",
       "    <tr>\n",
       "      <th>3</th>\n",
       "      <td>1744-02-01</td>\n",
       "      <td>NaN</td>\n",
       "      <td>NaN</td>\n",
       "      <td>Åland</td>\n",
       "    </tr>\n",
       "    <tr>\n",
       "      <th>4</th>\n",
       "      <td>1744-03-01</td>\n",
       "      <td>NaN</td>\n",
       "      <td>NaN</td>\n",
       "      <td>Åland</td>\n",
       "    </tr>\n",
       "  </tbody>\n",
       "</table>\n",
       "</div>"
      ],
      "text/plain": [
       "           dt  AverageTemperature  AverageTemperatureUncertainty Country\n",
       "0  1743-11-01               4.384                          2.294   Åland\n",
       "1  1743-12-01                 NaN                            NaN   Åland\n",
       "2  1744-01-01                 NaN                            NaN   Åland\n",
       "3  1744-02-01                 NaN                            NaN   Åland\n",
       "4  1744-03-01                 NaN                            NaN   Åland"
      ]
     },
     "metadata": {},
     "output_type": "display_data"
    },
    {
     "data": {
      "text/html": [
       "<div>\n",
       "<style scoped>\n",
       "    .dataframe tbody tr th:only-of-type {\n",
       "        vertical-align: middle;\n",
       "    }\n",
       "\n",
       "    .dataframe tbody tr th {\n",
       "        vertical-align: top;\n",
       "    }\n",
       "\n",
       "    .dataframe thead th {\n",
       "        text-align: right;\n",
       "    }\n",
       "</style>\n",
       "<table border=\"1\" class=\"dataframe\">\n",
       "  <thead>\n",
       "    <tr style=\"text-align: right;\">\n",
       "      <th></th>\n",
       "      <th>dt</th>\n",
       "      <th>AverageTemperature</th>\n",
       "      <th>AverageTemperatureUncertainty</th>\n",
       "      <th>Country</th>\n",
       "    </tr>\n",
       "  </thead>\n",
       "  <tbody>\n",
       "    <tr>\n",
       "      <th>577457</th>\n",
       "      <td>2013-05-01</td>\n",
       "      <td>19.059</td>\n",
       "      <td>1.022</td>\n",
       "      <td>Zimbabwe</td>\n",
       "    </tr>\n",
       "    <tr>\n",
       "      <th>577458</th>\n",
       "      <td>2013-06-01</td>\n",
       "      <td>17.613</td>\n",
       "      <td>0.473</td>\n",
       "      <td>Zimbabwe</td>\n",
       "    </tr>\n",
       "    <tr>\n",
       "      <th>577459</th>\n",
       "      <td>2013-07-01</td>\n",
       "      <td>17.000</td>\n",
       "      <td>0.453</td>\n",
       "      <td>Zimbabwe</td>\n",
       "    </tr>\n",
       "    <tr>\n",
       "      <th>577460</th>\n",
       "      <td>2013-08-01</td>\n",
       "      <td>19.759</td>\n",
       "      <td>0.717</td>\n",
       "      <td>Zimbabwe</td>\n",
       "    </tr>\n",
       "    <tr>\n",
       "      <th>577461</th>\n",
       "      <td>2013-09-01</td>\n",
       "      <td>NaN</td>\n",
       "      <td>NaN</td>\n",
       "      <td>Zimbabwe</td>\n",
       "    </tr>\n",
       "  </tbody>\n",
       "</table>\n",
       "</div>"
      ],
      "text/plain": [
       "                dt  AverageTemperature  AverageTemperatureUncertainty  \\\n",
       "577457  2013-05-01              19.059                          1.022   \n",
       "577458  2013-06-01              17.613                          0.473   \n",
       "577459  2013-07-01              17.000                          0.453   \n",
       "577460  2013-08-01              19.759                          0.717   \n",
       "577461  2013-09-01                 NaN                            NaN   \n",
       "\n",
       "         Country  \n",
       "577457  Zimbabwe  \n",
       "577458  Zimbabwe  \n",
       "577459  Zimbabwe  \n",
       "577460  Zimbabwe  \n",
       "577461  Zimbabwe  "
      ]
     },
     "metadata": {},
     "output_type": "display_data"
    }
   ],
   "source": [
    "# Review the first and last five rows of the temperature_by_country_df DataFrame\n",
    "display(temperature_by_country_df.head())\n",
    "display(temperature_by_country_df.tail())"
   ]
  },
  {
   "cell_type": "code",
<<<<<<< HEAD:commodities_prices_vs_climate_change.ipynb
   "execution_count": 6,
=======
<<<<<<< HEAD
   "execution_count": 4,
=======
   "execution_count": 766,
>>>>>>> f4869e0c2d563b7915abdccb25e3e7ec4efcab45
>>>>>>> 63f8ba45e0bf701583efee4d35c673e603e26119:commodities_prices_vs_climate_change_old.ipynb
   "id": "a5f83d7a-02aa-4edb-8a9d-cdfd7ee6b122",
   "metadata": {},
   "outputs": [
    {
     "data": {
      "text/html": [
       "<div>\n",
       "<style scoped>\n",
       "    .dataframe tbody tr th:only-of-type {\n",
       "        vertical-align: middle;\n",
       "    }\n",
       "\n",
       "    .dataframe tbody tr th {\n",
       "        vertical-align: top;\n",
       "    }\n",
       "\n",
       "    .dataframe thead th {\n",
       "        text-align: right;\n",
       "    }\n",
       "</style>\n",
       "<table border=\"1\" class=\"dataframe\">\n",
       "  <thead>\n",
       "    <tr style=\"text-align: right;\">\n",
       "      <th></th>\n",
       "      <th>dt</th>\n",
       "      <th>AverageTemperature</th>\n",
       "      <th>AverageTemperatureUncertainty</th>\n",
       "      <th>City</th>\n",
       "      <th>Country</th>\n",
       "      <th>Latitude</th>\n",
       "      <th>Longitude</th>\n",
       "    </tr>\n",
       "  </thead>\n",
       "  <tbody>\n",
       "    <tr>\n",
       "      <th>0</th>\n",
       "      <td>1849-01-01</td>\n",
       "      <td>26.704</td>\n",
       "      <td>1.435</td>\n",
       "      <td>Abidjan</td>\n",
       "      <td>Côte D'Ivoire</td>\n",
       "      <td>5.63N</td>\n",
       "      <td>3.23W</td>\n",
       "    </tr>\n",
       "    <tr>\n",
       "      <th>1</th>\n",
       "      <td>1849-02-01</td>\n",
       "      <td>27.434</td>\n",
       "      <td>1.362</td>\n",
       "      <td>Abidjan</td>\n",
       "      <td>Côte D'Ivoire</td>\n",
       "      <td>5.63N</td>\n",
       "      <td>3.23W</td>\n",
       "    </tr>\n",
       "    <tr>\n",
       "      <th>2</th>\n",
       "      <td>1849-03-01</td>\n",
       "      <td>28.101</td>\n",
       "      <td>1.612</td>\n",
       "      <td>Abidjan</td>\n",
       "      <td>Côte D'Ivoire</td>\n",
       "      <td>5.63N</td>\n",
       "      <td>3.23W</td>\n",
       "    </tr>\n",
       "    <tr>\n",
       "      <th>3</th>\n",
       "      <td>1849-04-01</td>\n",
       "      <td>26.140</td>\n",
       "      <td>1.387</td>\n",
       "      <td>Abidjan</td>\n",
       "      <td>Côte D'Ivoire</td>\n",
       "      <td>5.63N</td>\n",
       "      <td>3.23W</td>\n",
       "    </tr>\n",
       "    <tr>\n",
       "      <th>4</th>\n",
       "      <td>1849-05-01</td>\n",
       "      <td>25.427</td>\n",
       "      <td>1.200</td>\n",
       "      <td>Abidjan</td>\n",
       "      <td>Côte D'Ivoire</td>\n",
       "      <td>5.63N</td>\n",
       "      <td>3.23W</td>\n",
       "    </tr>\n",
       "  </tbody>\n",
       "</table>\n",
       "</div>"
      ],
      "text/plain": [
       "           dt  AverageTemperature  AverageTemperatureUncertainty     City  \\\n",
       "0  1849-01-01              26.704                          1.435  Abidjan   \n",
       "1  1849-02-01              27.434                          1.362  Abidjan   \n",
       "2  1849-03-01              28.101                          1.612  Abidjan   \n",
       "3  1849-04-01              26.140                          1.387  Abidjan   \n",
       "4  1849-05-01              25.427                          1.200  Abidjan   \n",
       "\n",
       "         Country Latitude Longitude  \n",
       "0  Côte D'Ivoire    5.63N     3.23W  \n",
       "1  Côte D'Ivoire    5.63N     3.23W  \n",
       "2  Côte D'Ivoire    5.63N     3.23W  \n",
       "3  Côte D'Ivoire    5.63N     3.23W  \n",
       "4  Côte D'Ivoire    5.63N     3.23W  "
      ]
     },
     "metadata": {},
     "output_type": "display_data"
    },
    {
     "data": {
      "text/html": [
       "<div>\n",
       "<style scoped>\n",
       "    .dataframe tbody tr th:only-of-type {\n",
       "        vertical-align: middle;\n",
       "    }\n",
       "\n",
       "    .dataframe tbody tr th {\n",
       "        vertical-align: top;\n",
       "    }\n",
       "\n",
       "    .dataframe thead th {\n",
       "        text-align: right;\n",
       "    }\n",
       "</style>\n",
       "<table border=\"1\" class=\"dataframe\">\n",
       "  <thead>\n",
       "    <tr style=\"text-align: right;\">\n",
       "      <th></th>\n",
       "      <th>dt</th>\n",
       "      <th>AverageTemperature</th>\n",
       "      <th>AverageTemperatureUncertainty</th>\n",
       "      <th>City</th>\n",
       "      <th>Country</th>\n",
       "      <th>Latitude</th>\n",
       "      <th>Longitude</th>\n",
       "    </tr>\n",
       "  </thead>\n",
       "  <tbody>\n",
       "    <tr>\n",
       "      <th>239172</th>\n",
       "      <td>2013-05-01</td>\n",
       "      <td>18.979</td>\n",
       "      <td>0.807</td>\n",
       "      <td>Xian</td>\n",
       "      <td>China</td>\n",
       "      <td>34.56N</td>\n",
       "      <td>108.97E</td>\n",
       "    </tr>\n",
       "    <tr>\n",
       "      <th>239173</th>\n",
       "      <td>2013-06-01</td>\n",
       "      <td>23.522</td>\n",
       "      <td>0.647</td>\n",
       "      <td>Xian</td>\n",
       "      <td>China</td>\n",
       "      <td>34.56N</td>\n",
       "      <td>108.97E</td>\n",
       "    </tr>\n",
       "    <tr>\n",
       "      <th>239174</th>\n",
       "      <td>2013-07-01</td>\n",
       "      <td>25.251</td>\n",
       "      <td>1.042</td>\n",
       "      <td>Xian</td>\n",
       "      <td>China</td>\n",
       "      <td>34.56N</td>\n",
       "      <td>108.97E</td>\n",
       "    </tr>\n",
       "    <tr>\n",
       "      <th>239175</th>\n",
       "      <td>2013-08-01</td>\n",
       "      <td>24.528</td>\n",
       "      <td>0.840</td>\n",
       "      <td>Xian</td>\n",
       "      <td>China</td>\n",
       "      <td>34.56N</td>\n",
       "      <td>108.97E</td>\n",
       "    </tr>\n",
       "    <tr>\n",
       "      <th>239176</th>\n",
       "      <td>2013-09-01</td>\n",
       "      <td>NaN</td>\n",
       "      <td>NaN</td>\n",
       "      <td>Xian</td>\n",
       "      <td>China</td>\n",
       "      <td>34.56N</td>\n",
       "      <td>108.97E</td>\n",
       "    </tr>\n",
       "  </tbody>\n",
       "</table>\n",
       "</div>"
      ],
      "text/plain": [
       "                dt  AverageTemperature  AverageTemperatureUncertainty  City  \\\n",
       "239172  2013-05-01              18.979                          0.807  Xian   \n",
       "239173  2013-06-01              23.522                          0.647  Xian   \n",
       "239174  2013-07-01              25.251                          1.042  Xian   \n",
       "239175  2013-08-01              24.528                          0.840  Xian   \n",
       "239176  2013-09-01                 NaN                            NaN  Xian   \n",
       "\n",
       "       Country Latitude Longitude  \n",
       "239172   China   34.56N   108.97E  \n",
       "239173   China   34.56N   108.97E  \n",
       "239174   China   34.56N   108.97E  \n",
       "239175   China   34.56N   108.97E  \n",
       "239176   China   34.56N   108.97E  "
      ]
     },
     "metadata": {},
     "output_type": "display_data"
    }
   ],
   "source": [
    "# Review the first and last five rows of the temperature_by_major_city_df DataFrame\n",
    "display(temperature_by_major_city_df.head())\n",
    "display(temperature_by_major_city_df.tail())"
   ]
  },
  {
   "cell_type": "code",
<<<<<<< HEAD:commodities_prices_vs_climate_change.ipynb
   "execution_count": 7,
=======
<<<<<<< HEAD
   "execution_count": 5,
=======
   "execution_count": 767,
>>>>>>> f4869e0c2d563b7915abdccb25e3e7ec4efcab45
>>>>>>> 63f8ba45e0bf701583efee4d35c673e603e26119:commodities_prices_vs_climate_change_old.ipynb
   "id": "b96acaaf-9572-4d53-9c72-8de140060fac",
   "metadata": {},
   "outputs": [
    {
     "data": {
      "text/html": [
       "<div>\n",
       "<style scoped>\n",
       "    .dataframe tbody tr th:only-of-type {\n",
       "        vertical-align: middle;\n",
       "    }\n",
       "\n",
       "    .dataframe tbody tr th {\n",
       "        vertical-align: top;\n",
       "    }\n",
       "\n",
       "    .dataframe thead th {\n",
       "        text-align: right;\n",
       "    }\n",
       "</style>\n",
       "<table border=\"1\" class=\"dataframe\">\n",
       "  <thead>\n",
       "    <tr style=\"text-align: right;\">\n",
       "      <th></th>\n",
       "      <th>dt</th>\n",
       "      <th>LandAverageTemperature</th>\n",
       "      <th>LandAverageTemperatureUncertainty</th>\n",
       "      <th>LandMaxTemperature</th>\n",
       "      <th>LandMaxTemperatureUncertainty</th>\n",
       "      <th>LandMinTemperature</th>\n",
       "      <th>LandMinTemperatureUncertainty</th>\n",
       "      <th>LandAndOceanAverageTemperature</th>\n",
       "      <th>LandAndOceanAverageTemperatureUncertainty</th>\n",
       "    </tr>\n",
       "  </thead>\n",
       "  <tbody>\n",
       "    <tr>\n",
       "      <th>0</th>\n",
       "      <td>1750-01-01</td>\n",
       "      <td>3.034</td>\n",
       "      <td>3.574</td>\n",
       "      <td>NaN</td>\n",
       "      <td>NaN</td>\n",
       "      <td>NaN</td>\n",
       "      <td>NaN</td>\n",
       "      <td>NaN</td>\n",
       "      <td>NaN</td>\n",
       "    </tr>\n",
       "    <tr>\n",
       "      <th>1</th>\n",
       "      <td>1750-02-01</td>\n",
       "      <td>3.083</td>\n",
       "      <td>3.702</td>\n",
       "      <td>NaN</td>\n",
       "      <td>NaN</td>\n",
       "      <td>NaN</td>\n",
       "      <td>NaN</td>\n",
       "      <td>NaN</td>\n",
       "      <td>NaN</td>\n",
       "    </tr>\n",
       "    <tr>\n",
       "      <th>2</th>\n",
       "      <td>1750-03-01</td>\n",
       "      <td>5.626</td>\n",
       "      <td>3.076</td>\n",
       "      <td>NaN</td>\n",
       "      <td>NaN</td>\n",
       "      <td>NaN</td>\n",
       "      <td>NaN</td>\n",
       "      <td>NaN</td>\n",
       "      <td>NaN</td>\n",
       "    </tr>\n",
       "    <tr>\n",
       "      <th>3</th>\n",
       "      <td>1750-04-01</td>\n",
       "      <td>8.490</td>\n",
       "      <td>2.451</td>\n",
       "      <td>NaN</td>\n",
       "      <td>NaN</td>\n",
       "      <td>NaN</td>\n",
       "      <td>NaN</td>\n",
       "      <td>NaN</td>\n",
       "      <td>NaN</td>\n",
       "    </tr>\n",
       "    <tr>\n",
       "      <th>4</th>\n",
       "      <td>1750-05-01</td>\n",
       "      <td>11.573</td>\n",
       "      <td>2.072</td>\n",
       "      <td>NaN</td>\n",
       "      <td>NaN</td>\n",
       "      <td>NaN</td>\n",
       "      <td>NaN</td>\n",
       "      <td>NaN</td>\n",
       "      <td>NaN</td>\n",
       "    </tr>\n",
       "  </tbody>\n",
       "</table>\n",
       "</div>"
      ],
      "text/plain": [
       "           dt  LandAverageTemperature  LandAverageTemperatureUncertainty  \\\n",
       "0  1750-01-01                   3.034                              3.574   \n",
       "1  1750-02-01                   3.083                              3.702   \n",
       "2  1750-03-01                   5.626                              3.076   \n",
       "3  1750-04-01                   8.490                              2.451   \n",
       "4  1750-05-01                  11.573                              2.072   \n",
       "\n",
       "   LandMaxTemperature  LandMaxTemperatureUncertainty  LandMinTemperature  \\\n",
       "0                 NaN                            NaN                 NaN   \n",
       "1                 NaN                            NaN                 NaN   \n",
       "2                 NaN                            NaN                 NaN   \n",
       "3                 NaN                            NaN                 NaN   \n",
       "4                 NaN                            NaN                 NaN   \n",
       "\n",
       "   LandMinTemperatureUncertainty  LandAndOceanAverageTemperature  \\\n",
       "0                            NaN                             NaN   \n",
       "1                            NaN                             NaN   \n",
       "2                            NaN                             NaN   \n",
       "3                            NaN                             NaN   \n",
       "4                            NaN                             NaN   \n",
       "\n",
       "   LandAndOceanAverageTemperatureUncertainty  \n",
       "0                                        NaN  \n",
       "1                                        NaN  \n",
       "2                                        NaN  \n",
       "3                                        NaN  \n",
       "4                                        NaN  "
      ]
     },
     "metadata": {},
     "output_type": "display_data"
    },
    {
     "data": {
      "text/html": [
       "<div>\n",
       "<style scoped>\n",
       "    .dataframe tbody tr th:only-of-type {\n",
       "        vertical-align: middle;\n",
       "    }\n",
       "\n",
       "    .dataframe tbody tr th {\n",
       "        vertical-align: top;\n",
       "    }\n",
       "\n",
       "    .dataframe thead th {\n",
       "        text-align: right;\n",
       "    }\n",
       "</style>\n",
       "<table border=\"1\" class=\"dataframe\">\n",
       "  <thead>\n",
       "    <tr style=\"text-align: right;\">\n",
       "      <th></th>\n",
       "      <th>dt</th>\n",
       "      <th>LandAverageTemperature</th>\n",
       "      <th>LandAverageTemperatureUncertainty</th>\n",
       "      <th>LandMaxTemperature</th>\n",
       "      <th>LandMaxTemperatureUncertainty</th>\n",
       "      <th>LandMinTemperature</th>\n",
       "      <th>LandMinTemperatureUncertainty</th>\n",
       "      <th>LandAndOceanAverageTemperature</th>\n",
       "      <th>LandAndOceanAverageTemperatureUncertainty</th>\n",
       "    </tr>\n",
       "  </thead>\n",
       "  <tbody>\n",
       "    <tr>\n",
       "      <th>3187</th>\n",
       "      <td>2015-08-01</td>\n",
       "      <td>14.755</td>\n",
       "      <td>0.072</td>\n",
       "      <td>20.699</td>\n",
       "      <td>0.110</td>\n",
       "      <td>9.005</td>\n",
       "      <td>0.170</td>\n",
       "      <td>17.589</td>\n",
       "      <td>0.057</td>\n",
       "    </tr>\n",
       "    <tr>\n",
       "      <th>3188</th>\n",
       "      <td>2015-09-01</td>\n",
       "      <td>12.999</td>\n",
       "      <td>0.079</td>\n",
       "      <td>18.845</td>\n",
       "      <td>0.088</td>\n",
       "      <td>7.199</td>\n",
       "      <td>0.229</td>\n",
       "      <td>17.049</td>\n",
       "      <td>0.058</td>\n",
       "    </tr>\n",
       "    <tr>\n",
       "      <th>3189</th>\n",
       "      <td>2015-10-01</td>\n",
       "      <td>10.801</td>\n",
       "      <td>0.102</td>\n",
       "      <td>16.450</td>\n",
       "      <td>0.059</td>\n",
       "      <td>5.232</td>\n",
       "      <td>0.115</td>\n",
       "      <td>16.290</td>\n",
       "      <td>0.062</td>\n",
       "    </tr>\n",
       "    <tr>\n",
       "      <th>3190</th>\n",
       "      <td>2015-11-01</td>\n",
       "      <td>7.433</td>\n",
       "      <td>0.119</td>\n",
       "      <td>12.892</td>\n",
       "      <td>0.093</td>\n",
       "      <td>2.157</td>\n",
       "      <td>0.106</td>\n",
       "      <td>15.252</td>\n",
       "      <td>0.063</td>\n",
       "    </tr>\n",
       "    <tr>\n",
       "      <th>3191</th>\n",
       "      <td>2015-12-01</td>\n",
       "      <td>5.518</td>\n",
       "      <td>0.100</td>\n",
       "      <td>10.725</td>\n",
       "      <td>0.154</td>\n",
       "      <td>0.287</td>\n",
       "      <td>0.099</td>\n",
       "      <td>14.774</td>\n",
       "      <td>0.062</td>\n",
       "    </tr>\n",
       "  </tbody>\n",
       "</table>\n",
       "</div>"
      ],
      "text/plain": [
       "              dt  LandAverageTemperature  LandAverageTemperatureUncertainty  \\\n",
       "3187  2015-08-01                  14.755                              0.072   \n",
       "3188  2015-09-01                  12.999                              0.079   \n",
       "3189  2015-10-01                  10.801                              0.102   \n",
       "3190  2015-11-01                   7.433                              0.119   \n",
       "3191  2015-12-01                   5.518                              0.100   \n",
       "\n",
       "      LandMaxTemperature  LandMaxTemperatureUncertainty  LandMinTemperature  \\\n",
       "3187              20.699                          0.110               9.005   \n",
       "3188              18.845                          0.088               7.199   \n",
       "3189              16.450                          0.059               5.232   \n",
       "3190              12.892                          0.093               2.157   \n",
       "3191              10.725                          0.154               0.287   \n",
       "\n",
       "      LandMinTemperatureUncertainty  LandAndOceanAverageTemperature  \\\n",
       "3187                          0.170                          17.589   \n",
       "3188                          0.229                          17.049   \n",
       "3189                          0.115                          16.290   \n",
       "3190                          0.106                          15.252   \n",
       "3191                          0.099                          14.774   \n",
       "\n",
       "      LandAndOceanAverageTemperatureUncertainty  \n",
       "3187                                      0.057  \n",
       "3188                                      0.058  \n",
       "3189                                      0.062  \n",
       "3190                                      0.063  \n",
       "3191                                      0.062  "
      ]
     },
     "metadata": {},
     "output_type": "display_data"
    }
   ],
   "source": [
    "# Review the first and last five rows of the global_temperature_df DataFrame\n",
    "display(global_temperature_df.head())\n",
    "display(global_temperature_df.tail())"
   ]
  },
  {
   "cell_type": "markdown",
   "id": "f2d53785-2c48-4985-945b-31bb3128a970",
   "metadata": {},
   "source": [
    "### Clean Data"
   ]
  },
  {
   "cell_type": "code",
<<<<<<< HEAD:commodities_prices_vs_climate_change.ipynb
   "execution_count": 8,
=======
<<<<<<< HEAD
   "execution_count": 6,
=======
   "execution_count": 768,
>>>>>>> f4869e0c2d563b7915abdccb25e3e7ec4efcab45
>>>>>>> 63f8ba45e0bf701583efee4d35c673e603e26119:commodities_prices_vs_climate_change_old.ipynb
   "id": "020e8181-e8fb-420b-955e-7823d60e8af8",
   "metadata": {},
   "outputs": [],
   "source": [
    "# Format dt column as Datetime data format\n",
    "global_temperature_df['time'] = pd.to_datetime(global_temperature_df['dt'], infer_datetime_format=True)\n",
    "\n",
    "# Set time as index \n",
    "global_temperature_df = global_temperature_df.set_index('time')"
   ]
  },
  {
   "cell_type": "code",
<<<<<<< HEAD:commodities_prices_vs_climate_change.ipynb
   "execution_count": 9,
=======
<<<<<<< HEAD
   "execution_count": 7,
=======
   "execution_count": 769,
>>>>>>> f4869e0c2d563b7915abdccb25e3e7ec4efcab45
>>>>>>> 63f8ba45e0bf701583efee4d35c673e603e26119:commodities_prices_vs_climate_change_old.ipynb
   "id": "1cc2245c-ce0b-4789-b361-845faa1bf6c7",
   "metadata": {},
   "outputs": [],
   "source": [
    "# Drop unnecessary columns\n",
    "global_temperature_df = global_temperature_df['LandAndOceanAverageTemperature'].dropna()\n",
    "\n",
    "# Rename DataFrame columns so units show correctly in hvplot\n",
    "global_temperature_df = pd.DataFrame({'temperature':global_temperature_df})"
   ]
  },
  {
   "cell_type": "code",
<<<<<<< HEAD:commodities_prices_vs_climate_change.ipynb
   "execution_count": 10,
=======
<<<<<<< HEAD
   "execution_count": 8,
=======
   "execution_count": 770,
>>>>>>> f4869e0c2d563b7915abdccb25e3e7ec4efcab45
>>>>>>> 63f8ba45e0bf701583efee4d35c673e603e26119:commodities_prices_vs_climate_change_old.ipynb
   "id": "6aa05efa-f976-4ffb-8cf9-90ab386e8e45",
   "metadata": {},
   "outputs": [
    {
     "data": {
      "text/html": [
       "<div>\n",
       "<style scoped>\n",
       "    .dataframe tbody tr th:only-of-type {\n",
       "        vertical-align: middle;\n",
       "    }\n",
       "\n",
       "    .dataframe tbody tr th {\n",
       "        vertical-align: top;\n",
       "    }\n",
       "\n",
       "    .dataframe thead th {\n",
       "        text-align: right;\n",
       "    }\n",
       "</style>\n",
       "<table border=\"1\" class=\"dataframe\">\n",
       "  <thead>\n",
       "    <tr style=\"text-align: right;\">\n",
       "      <th></th>\n",
       "      <th>temperature</th>\n",
       "    </tr>\n",
       "    <tr>\n",
       "      <th>time</th>\n",
       "      <th></th>\n",
       "    </tr>\n",
       "  </thead>\n",
       "  <tbody>\n",
       "    <tr>\n",
       "      <th>1850-01-01</th>\n",
       "      <td>12.833</td>\n",
       "    </tr>\n",
       "    <tr>\n",
       "      <th>1850-02-01</th>\n",
       "      <td>13.588</td>\n",
       "    </tr>\n",
       "    <tr>\n",
       "      <th>1850-03-01</th>\n",
       "      <td>14.043</td>\n",
       "    </tr>\n",
       "    <tr>\n",
       "      <th>1850-04-01</th>\n",
       "      <td>14.667</td>\n",
       "    </tr>\n",
       "    <tr>\n",
       "      <th>1850-05-01</th>\n",
       "      <td>15.507</td>\n",
       "    </tr>\n",
       "  </tbody>\n",
       "</table>\n",
       "</div>"
      ],
      "text/plain": [
       "            temperature\n",
       "time                   \n",
       "1850-01-01       12.833\n",
       "1850-02-01       13.588\n",
       "1850-03-01       14.043\n",
       "1850-04-01       14.667\n",
       "1850-05-01       15.507"
      ]
     },
     "metadata": {},
     "output_type": "display_data"
    },
    {
     "data": {
      "text/html": [
       "<div>\n",
       "<style scoped>\n",
       "    .dataframe tbody tr th:only-of-type {\n",
       "        vertical-align: middle;\n",
       "    }\n",
       "\n",
       "    .dataframe tbody tr th {\n",
       "        vertical-align: top;\n",
       "    }\n",
       "\n",
       "    .dataframe thead th {\n",
       "        text-align: right;\n",
       "    }\n",
       "</style>\n",
       "<table border=\"1\" class=\"dataframe\">\n",
       "  <thead>\n",
       "    <tr style=\"text-align: right;\">\n",
       "      <th></th>\n",
       "      <th>temperature</th>\n",
       "    </tr>\n",
       "    <tr>\n",
       "      <th>time</th>\n",
       "      <th></th>\n",
       "    </tr>\n",
       "  </thead>\n",
       "  <tbody>\n",
       "    <tr>\n",
       "      <th>2015-08-01</th>\n",
       "      <td>17.589</td>\n",
       "    </tr>\n",
       "    <tr>\n",
       "      <th>2015-09-01</th>\n",
       "      <td>17.049</td>\n",
       "    </tr>\n",
       "    <tr>\n",
       "      <th>2015-10-01</th>\n",
       "      <td>16.290</td>\n",
       "    </tr>\n",
       "    <tr>\n",
       "      <th>2015-11-01</th>\n",
       "      <td>15.252</td>\n",
       "    </tr>\n",
       "    <tr>\n",
       "      <th>2015-12-01</th>\n",
       "      <td>14.774</td>\n",
       "    </tr>\n",
       "  </tbody>\n",
       "</table>\n",
       "</div>"
      ],
      "text/plain": [
       "            temperature\n",
       "time                   \n",
       "2015-08-01       17.589\n",
       "2015-09-01       17.049\n",
       "2015-10-01       16.290\n",
       "2015-11-01       15.252\n",
       "2015-12-01       14.774"
      ]
     },
     "metadata": {},
     "output_type": "display_data"
    }
   ],
   "source": [
    "# Review the first 5 and last 5 rows the DataFrame\n",
    "display(global_temperature_df.head())\n",
    "display(global_temperature_df.tail())"
   ]
  },
  {
   "cell_type": "markdown",
   "id": "0212b18f-c94a-4aef-91be-032162d295d6",
   "metadata": {},
   "source": [
    "### Analyze Data"
   ]
  },
  {
   "cell_type": "code",
<<<<<<< HEAD:commodities_prices_vs_climate_change.ipynb
   "execution_count": 11,
=======
<<<<<<< HEAD
   "execution_count": 9,
=======
   "execution_count": 771,
>>>>>>> f4869e0c2d563b7915abdccb25e3e7ec4efcab45
>>>>>>> 63f8ba45e0bf701583efee4d35c673e603e26119:commodities_prices_vs_climate_change_old.ipynb
   "id": "2d5a1cfb-7904-4067-8399-986c5950af1b",
   "metadata": {},
   "outputs": [
    {
     "data": {},
     "metadata": {},
     "output_type": "display_data"
    },
    {
     "data": {
      "application/vnd.holoviews_exec.v0+json": "",
      "text/html": [
<<<<<<< HEAD:commodities_prices_vs_climate_change.ipynb
       "<div id='1002'>\n",
=======
<<<<<<< HEAD
       "<div id='1002'>\n",
=======
       "<div id='26821'>\n",
>>>>>>> f4869e0c2d563b7915abdccb25e3e7ec4efcab45
>>>>>>> 63f8ba45e0bf701583efee4d35c673e603e26119:commodities_prices_vs_climate_change_old.ipynb
       "\n",
       "\n",
       "\n",
       "\n",
       "\n",
<<<<<<< HEAD:commodities_prices_vs_climate_change.ipynb
       "  <div class=\"bk-root\" id=\"9ead8df0-5774-4cee-a1bc-ccd527fc0f15\" data-root-id=\"1002\"></div>\n",
       "</div>\n",
       "<script type=\"application/javascript\">(function(root) {\n",
       "  function embed_document(root) {\n",
       "    var docs_json = {\"c02d7a32-0022-4aaa-ab72-653068378e34\":{\"defs\":[{\"extends\":null,\"module\":null,\"name\":\"ReactiveHTML1\",\"overrides\":[],\"properties\":[]},{\"extends\":null,\"module\":null,\"name\":\"FlexBox1\",\"overrides\":[],\"properties\":[{\"default\":\"flex-start\",\"kind\":null,\"name\":\"align_content\"},{\"default\":\"flex-start\",\"kind\":null,\"name\":\"align_items\"},{\"default\":\"row\",\"kind\":null,\"name\":\"flex_direction\"},{\"default\":\"wrap\",\"kind\":null,\"name\":\"flex_wrap\"},{\"default\":\"flex-start\",\"kind\":null,\"name\":\"justify_content\"}]},{\"extends\":null,\"module\":null,\"name\":\"TemplateActions1\",\"overrides\":[],\"properties\":[{\"default\":0,\"kind\":null,\"name\":\"open_modal\"},{\"default\":0,\"kind\":null,\"name\":\"close_modal\"}]},{\"extends\":null,\"module\":null,\"name\":\"MaterialTemplateActions1\",\"overrides\":[],\"properties\":[{\"default\":0,\"kind\":null,\"name\":\"open_modal\"},{\"default\":0,\"kind\":null,\"name\":\"close_modal\"}]}],\"roots\":{\"references\":[{\"attributes\":{\"line_color\":\"#30a2da\",\"line_width\":2,\"x\":{\"field\":\"time\"},\"y\":{\"field\":\"temperature\"}},\"id\":\"1045\",\"type\":\"Line\"},{\"attributes\":{\"line_alpha\":0.1,\"line_color\":\"#30a2da\",\"line_width\":2,\"x\":{\"field\":\"time\"},\"y\":{\"field\":\"temperature\"}},\"id\":\"1041\",\"type\":\"Line\"},{\"attributes\":{\"days\":[1,4,7,10,13,16,19,22,25,28]},\"id\":\"1063\",\"type\":\"DaysTicker\"},{\"attributes\":{\"axis_label\":\"Date\",\"formatter\":{\"id\":\"1047\"},\"major_label_policy\":{\"id\":\"1048\"},\"ticker\":{\"id\":\"1017\"}},\"id\":\"1016\",\"type\":\"DatetimeAxis\"},{\"attributes\":{\"axis\":{\"id\":\"1016\"},\"grid_line_color\":null,\"ticker\":null},\"id\":\"1019\",\"type\":\"Grid\"},{\"attributes\":{},\"id\":\"1024\",\"type\":\"SaveTool\"},{\"attributes\":{},\"id\":\"1038\",\"type\":\"Selection\"},{\"attributes\":{\"text\":\"Land and Ocean Daily Average Temperatures (1850 - 2016)\",\"text_color\":\"black\",\"text_font_size\":\"12pt\"},\"id\":\"1008\",\"type\":\"Title\"},{\"attributes\":{},\"id\":\"1025\",\"type\":\"PanTool\"},{\"attributes\":{\"months\":[0,1,2,3,4,5,6,7,8,9,10,11]},\"id\":\"1066\",\"type\":\"MonthsTicker\"},{\"attributes\":{\"callback\":null,\"formatters\":{\"@{time}\":\"datetime\"},\"renderers\":[{\"id\":\"1043\"}],\"tags\":[\"hv_created\"],\"tooltips\":[[\"time\",\"@{time}{%F %T}\"],[\"temperature\",\"@{temperature}\"]]},\"id\":\"1006\",\"type\":\"HoverTool\"},{\"attributes\":{},\"id\":\"1028\",\"type\":\"ResetTool\"},{\"attributes\":{\"margin\":[5,5,5,5],\"name\":\"HSpacer01630\",\"sizing_mode\":\"stretch_width\"},\"id\":\"1003\",\"type\":\"Spacer\"},{\"attributes\":{},\"id\":\"1026\",\"type\":\"WheelZoomTool\"},{\"attributes\":{\"bottom_units\":\"screen\",\"fill_alpha\":0.5,\"fill_color\":\"lightgrey\",\"left_units\":\"screen\",\"level\":\"overlay\",\"line_alpha\":1.0,\"line_color\":\"black\",\"line_dash\":[4,4],\"line_width\":2,\"right_units\":\"screen\",\"syncable\":false,\"top_units\":\"screen\"},\"id\":\"1029\",\"type\":\"BoxAnnotation\"},{\"attributes\":{\"children\":[{\"id\":\"1003\"},{\"id\":\"1007\"},{\"id\":\"1096\"}],\"margin\":[0,0,0,0],\"name\":\"Row01626\",\"tags\":[\"embedded\"]},\"id\":\"1002\",\"type\":\"Row\"},{\"attributes\":{\"days\":[1,8,15,22]},\"id\":\"1064\",\"type\":\"DaysTicker\"},{\"attributes\":{\"num_minor_ticks\":5,\"tickers\":[{\"id\":\"1059\"},{\"id\":\"1060\"},{\"id\":\"1061\"},{\"id\":\"1062\"},{\"id\":\"1063\"},{\"id\":\"1064\"},{\"id\":\"1065\"},{\"id\":\"1066\"},{\"id\":\"1067\"},{\"id\":\"1068\"},{\"id\":\"1069\"},{\"id\":\"1070\"}]},\"id\":\"1017\",\"type\":\"DatetimeTicker\"},{\"attributes\":{\"overlay\":{\"id\":\"1029\"}},\"id\":\"1027\",\"type\":\"BoxZoomTool\"},{\"attributes\":{\"days\":[1,2,3,4,5,6,7,8,9,10,11,12,13,14,15,16,17,18,19,20,21,22,23,24,25,26,27,28,29,30,31]},\"id\":\"1062\",\"type\":\"DaysTicker\"},{\"attributes\":{\"days\":[1,15]},\"id\":\"1065\",\"type\":\"DaysTicker\"},{\"attributes\":{},\"id\":\"1051\",\"type\":\"AllLabels\"},{\"attributes\":{\"data\":{\"temperature\":{\"__ndarray__\":\"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\",\"dtype\":\"float64\",\"order\":\"little\",\"shape\":[1992]},\"time\":{\"__ndarray__\":\"AABgKIONi8IAAED/hYiLwgAAwG4EhIvCAACgRQd/i8IAAGBPM3qLwgAAQCY2dYvCAAAAMGJwi8IAAOAGZWuLwgAAwN1nZovCAACA55Nhi8IAAGC+llyLwgAAIMjCV4vCAAAAn8VSi8IAAOB1yE2LwgAAYOVGSYvCAABAvElEi8IAAADGdT+LwgAA4Jx4OovCAACgpqQ1i8IAAIB9pzCLwgAAYFSqK4vCAAAgXtYmi8IAAAA12SGLwgAAwD4FHYvCAACgFQgYi8IAAIDsChOLwgAAIClgDovCAAAAAGMJi8IAAMAJjwSLwgAAoOCR/4rCAABg6r36isIAAEDBwPWKwgAAIJjD8IrCAADgoe/risIAAMB48uaKwgAAgIIe4orCAABgWSHdisIAAEAwJNiKwgAAwJ+i04rCAACgdqXOisIAAGCA0cmKwgAAQFfUxIrCAAAAYQDAisIAAOA3A7uKwgAAwA4GtorCAACAGDKxisIAAGDvNKyKwgAAIPlgp4rCAAAA0GOiisIAAOCmZp2KwgAAYBblmIrCAABA7eeTisIAAAD3E4+KwgAA4M0WiorCAACg10KFisIAAICuRYCKwgAAYIVIe4rCAAAgj3R2isIAAABmd3GKwgAAwG+jbIrCAACgRqZnisIAAIAdqWKKwgAAAI0nXorCAADgYypZisIAAKBtVlSKwgAAgERZT4rCAABAToVKisIAACAliEWKwgAAAPyKQIrCAADABbc7isIAAKDcuTaKwgAAYOblMYrCAABAvegsisIAACCU6yeKwgAAwNBAI4rCAACgp0MeisIAAGCxbxmKwgAAQIhyFIrCAAAAkp4PisIAAOBooQqKwgAAwD+kBYrCAACASdAAisIAAGAg0/uJwgAAICr/9onCAAAAAQLyicIAAODXBO2JwgAAYEeD6InCAABAHobjicIAAAAost6JwgAA4P602YnCAACgCOHUicIAAIDf48+JwgAAYLbmyonCAAAgwBLGicIAAACXFcGJwgAAwKBBvInCAACgd0S3icIAAIBOR7KJwgAAAL7FrYnCAADglMioicIAAKCe9KOJwgAAgHX3nonCAABAfyOaicIAACBWJpWJwgAAAC0pkInCAADANlWLicIAAKANWIaJwgAAYBeEgYnCAABA7oZ8icIAACDFiXeJwgAAoDQIc4nCAACACwtuicIAAEAVN2mJwgAAIOw5ZInCAADg9WVficIAAMDMaFqJwgAAoKNrVYnCAABgrZdQicIAAECEmkuJwgAAAI7GRonCAADgZMlBicIAAMA7zDyJwgAAYHghOInCAABATyQzicIAAABZUC6JwgAA4C9TKYnCAACgOX8kicIAAIAQgh+JwgAAYOeEGonCAAAg8bAVicIAAADIsxCJwgAAwNHfC4nCAACgqOIGicIAAIB/5QGJwgAAAO9j/YjCAADgxWb4iMIAAKDPkvOIwgAAgKaV7ojCAABAsMHpiMIAACCHxOSIwgAAAF7H34jCAADAZ/PaiMIAAKA+9tWIwgAAYEgi0YjCAABAHyXMiMIAACD2J8eIwgAAoGWmwojCAACAPKm9iMIAAEBG1biIwgAAIB3Ys4jCAADgJgSviMIAAMD9BqqIwgAAoNQJpYjCAABg3jWgiMIAAEC1OJuIwgAAAL9klojCAADglWeRiMIAAMBsaoyIwgAAQNzoh4jCAAAgs+uCiMIAAOC8F36IwgAAwJMaeYjCAACAnUZ0iMIAAGB0SW+IwgAAQEtMaojCAAAAVXhliMIAAOAre2CIwgAAoDWnW4jCAACADKpWiMIAAGDjrFGIwgAAACACTYjCAADg9gRIiMIAAKAAMUOIwgAAgNczPojCAABA4V85iMIAACC4YjSIwgAAAI9lL4jCAADAmJEqiMIAAKBvlCWIwgAAYHnAIIjCAABAUMMbiMIAACAnxhaIwgAAoJZEEojCAACAbUcNiMIAAEB3cwiIwgAAIE52A4jCAADgV6L+h8IAAMAupfmHwgAAoAWo9IfCAABgD9Tvh8IAAEDm1uqHwgAAAPAC5ofCAADgxgXhh8IAAMCdCNyHwgAAQA2H14fCAAAg5InSh8IAAODttc2HwgAAwMS4yIfCAACAzuTDh8IAAGCl576HwgAAQHzquYfCAAAAhha1h8IAAOBcGbCHwgAAoGZFq4fCAACAPUimh8IAAGAUS6GHwgAA4IPJnIfCAADAWsyXh8IAAIBk+JKHwgAAYDv7jYfCAAAgRSeJh8IAAAAcKoSHwgAA4PIsf4fCAACg/Fh6h8IAAIDTW3WHwgAAQN2HcIfCAAAgtIprh8IAAACLjWaHwgAAoMfiYYfCAACAnuVch8IAAECoEViHwgAAIH8UU4fCAADgiEBOh8IAAMBfQ0mHwgAAoDZGRIfCAABgQHI/h8IAAEAXdTqHwgAAACGhNYfCAADg96Mwh8IAAMDOpiuHwgAAQD4lJ4fCAAAgFSgih8IAAOAeVB2HwgAAwPVWGIfCAACA/4ITh8IAAGDWhQ6HwgAAQK2ICYfCAAAAt7QEh8IAAOCNt/+GwgAAoJfj+obCAACAbub1hsIAAGBF6fCGwgAA4LRn7IbCAADAi2rnhsIAAICVluKGwgAAYGyZ3YbCAAAgdsXYhsIAAABNyNOGwgAA4CPLzobCAACgLffJhsIAAIAE+sSGwgAAQA4mwIbCAAAg5Si7hsIAAAC8K7aGwgAAgCuqsYbCAABgAq2shsIAACAM2aeGwgAAAOPboobCAADA7AeehsIAAKDDCpmGwgAAgJoNlIbCAABApDmPhsIAACB7PIqGwgAA4IRohYbCAADAW2uAhsIAAKAybnuGwgAAQG/DdobCAAAgRsZxhsIAAOBP8myGwgAAwCb1Z4bCAACAMCFjhsIAAGAHJF6GwgAAQN4mWYbCAAAA6FJUhsIAAOC+VU+GwgAAoMiBSobCAACAn4RFhsIAAGB2h0CGwgAA4OUFPIbCAADAvAg3hsIAAIDGNDKGwgAAYJ03LYbCAAAgp2MohsIAAAB+ZiOGwgAA4FRpHobCAACgXpUZhsIAAIA1mBSGwgAAQD/ED4bCAAAgFscKhsIAAADtyQWGwgAAgFxIAYbCAABgM0v8hcIAACA9d/eFwgAAABR68oXCAADAHabthcIAAKD0qOiFwgAAgMur44XCAABA1dfehcIAACCs2tmFwgAA4LUG1YXCAADAjAnQhcIAAKBjDMuFwgAAINOKxoXCAAAAqo3BhcIAAMCzubyFwgAAoIq8t4XCAABglOiyhcIAAEBr662FwgAAIELuqIXCAADgSxqkhcIAAMAiHZ+FwgAAgCxJmoXCAABgA0yVhcIAAEDaTpCFwgAA4Baki4XCAADA7aaGhcIAAID30oGFwgAAYM7VfIXCAAAg2AF4hcIAAACvBHOFwgAA4IUHboXCAACgjzNphcIAAIBmNmSFwgAAQHBiX4XCAAAgR2VahcIAAAAeaFWFwgAAgI3mUIXCAABgZOlLhcIAACBuFUeFwgAAAEUYQoXCAADATkQ9hcIAAKAlRziFwgAAgPxJM4XCAABABnYuhcIAACDdeCmFwgAA4OakJIXCAADAvacfhcIAAKCUqhqFwgAAIAQpFoXCAAAA2ysRhcIAAMDkVwyFwgAAoLtaB4XCAABgxYYChcIAAECcif2EwgAAIHOM+ITCAADgfLjzhMIAAMBTu+6EwgAAgF3n6YTCAABgNOrkhMIAAEAL7d+EwgAAwHpr24TCAACgUW7WhMIAAGBbmtGEwgAAQDKdzITCAAAAPMnHhMIAAOASzMKEwgAAwOnOvYTCAACA8/q4hMIAAGDK/bOEwgAAINQpr4TCAAAAqyyqhMIAAOCBL6WEwgAAgL6EoITCAABglYebhMIAACCfs5aEwgAAAHa2kYTCAADAf+KMhMIAAKBW5YeEwgAAgC3ogoTCAABANxR+hMIAACAOF3mEwgAA4BdDdITCAADA7kVvhMIAAKDFSGqEwgAAIDXHZYTCAAAADMpghMIAAMAV9luEwgAAoOz4VoTCAABg9iRShMIAAEDNJ02EwgAAIKQqSITCAADgrVZDhMIAAMCEWT6EwgAAgI6FOYTCAABgZYg0hMIAAEA8iy+EwgAAwKsJK4TCAACgggwmhMIAAGCMOCGEwgAAQGM7HITCAAAAbWcXhMIAAOBDahKEwgAAwBptDYTCAACAJJkIhMIAAGD7mwOEwgAAIAXI/oPCAAAA3Mr5g8IAAOCyzfSDwgAAYCJM8IPCAABA+U7rg8IAAAADe+aDwgAA4Nl94YPCAACg46ncg8IAAIC6rNeDwgAAYJGv0oPCAAAgm9vNg8IAAABy3siDwgAAwHsKxIPCAACgUg2/g8IAAIApELqDwgAAIGZltYPCAAAAPWiwg8IAAMBGlKuDwgAAoB2XpoPCAABgJ8Ohg8IAAED+xZyDwgAAINXIl4PCAADg3vSSg8IAAMC1942DwgAAgL8jiYPCAABgliaEg8IAAEBtKX+DwgAAwNyneoPCAACgs6p1g8IAAGC91nCDwgAAQJTZa4PCAAAAngVng8IAAOB0CGKDwgAAwEsLXYPCAACAVTdYg8IAAGAsOlODwgAAIDZmToPCAAAADWlJg8IAAODja0SDwgAAYFPqP4PCAABAKu06g8IAAAA0GTaDwgAA4AocMYPCAACgFEgsg8IAAIDrSieDwgAAYMJNIoPCAAAgzHkdg8IAAACjfBiDwgAAwKyoE4PCAACgg6sOg8IAAIBargmDwgAAAMosBYPCAADgoC8Ag8IAAKCqW/uCwgAAgIFe9oLCAABAi4rxgsIAACBijeyCwgAAADmQ54LCAADAQrzigsIAAKAZv92CwgAAYCPr2ILCAABA+u3TgsIAACDR8M6CwgAAwA1GyoLCAACg5EjFgsIAAGDudMCCwgAAQMV3u4LCAAAAz6O2gsIAAOClprGCwgAAwHyprILCAACAhtWngsIAAGBd2KKCwgAAIGcEnoLCAAAAPgeZgsIAAOAUCpSCwgAAYISIj4LCAABAW4uKgsIAAABlt4WCwgAA4Du6gILCAACgReZ7gsIAAIAc6XaCwgAAYPPrcYLCAAAg/RdtgsIAAADUGmiCwgAAwN1GY4LCAACgtElegsIAAICLTFmCwgAAAPvKVILCAADg0c1PgsIAAKDb+UqCwgAAgLL8RYLCAABAvChBgsIAACCTKzyCwgAAAGouN4LCAADAc1oygsIAAKBKXS2CwgAAYFSJKILCAABAK4wjgsIAACACjx6CwgAAoHENGoLCAACASBAVgsIAAEBSPBCCwgAAICk/C4LCAADgMmsGgsIAAMAJbgGCwgAAoOBw/IHCAABg6pz3gcIAAEDBn/KBwgAAAMvL7YHCAADgoc7ogcIAAMB40eOBwgAAYLUm34HCAABAjCnagcIAAACWVdWBwgAA4GxY0IHCAACgdoTLgcIAAIBNh8aBwgAAYCSKwYHCAAAgLra8gcIAAAAFubeBwgAAwA7lsoHCAACg5eetgcIAAIC86qiBwgAAACxppIHCAADgAmyfgcIAAKAMmJqBwgAAgOOalYHCAABA7caQgcIAACDEyYuBwgAAAJvMhoHCAADApPiBgcIAAKB7+3yBwgAAYIUneIHCAABAXCpzgcIAACAzLW6BwgAAoKKraYHCAACAea5kgcIAAECD2l+BwgAAIFrdWoHCAADgYwlWgcIAAMA6DFGBwgAAoBEPTIHCAABgGztHgcIAAEDyPUKBwgAAAPxpPYHCAADg0mw4gcIAAMCpbzOBwgAAQBnuLoHCAAAg8PApgcIAAOD5HCWBwgAAwNAfIIHCAACA2ksbgcIAAGCxThaBwgAAQIhREYHCAAAAkn0MgcIAAOBogAeBwgAAoHKsAoHCAACASa/9gMIAAGAgsviAwgAAAF0H9IDCAADgMwrvgMIAAKA9NuqAwgAAgBQ55YDCAABAHmXggMIAACD1Z9uAwgAAAMxq1oDCAADA1ZbRgMIAAKCsmcyAwgAAYLbFx4DCAABAjcjCgMIAACBky72AwgAAoNNJuYDCAACAqky0gMIAAEC0eK+AwgAAIIt7qoDCAADglKelgMIAAMBrqqCAwgAAoEKtm4DCAABgTNmWgMIAAEAj3JGAwgAAAC0IjYDCAADgAwuIgMIAAMDaDYOAwgAAQEqMfoDCAAAgIY95gMIAAOAqu3SAwgAAwAG+b4DCAACAC+pqgMIAAGDi7GWAwgAAQLnvYIDCAAAAwxtcgMIAAOCZHleAwgAAoKNKUoDCAACAek1NgMIAAGBRUEiAwgAA4MDOQ4DCAADAl9E+gMIAAICh/TmAwgAAYHgANYDCAAAggiwwgMIAAABZLyuAwgAA4C8yJoDCAACgOV4hgMIAAIAQYRyAwgAAQBqNF4DCAAAg8Y8SgMIAAADIkg2AwgAAgDcRCYDCAABgDhQEgMIAAEAwgP5/wgAAAN6F9H/CAACA8d3qf8IAAECf4+B/wgAAAE3p1n/CAACAYEHNf8IAAEAOR8N/wgAAwCGfuX/CAACAz6Svf8IAAEB9qqV/wgAAQFynnH/CAAAACq2Sf8IAAIAdBYl/wgAAQMsKf3/CAADA3mJ1f8IAAICMaGt/wgAAQDpuYX/CAADATcZXf8IAAID7y01/wgAAAA8kRH/CAADAvCk6f8IAAIBqLzB/wgAAgEksJ3/CAABA9zEdf8IAAMAKihN/wgAAgLiPCX/CAAAAzOf/fsIAAMB57fV+wgAAgCfz637CAAAAO0vifsIAAMDoUNh+wgAAQPyozn7CAAAAqq7EfsIAAMBXtLp+wgAAwDaxsX7CAACA5LanfsIAAAD4Dp5+wgAAwKUUlH7CAABAuWyKfsIAAABncoB+wgAAwBR4dn7CAABAKNBsfsIAAADW1WJ+wgAAgOktWX7CAABAlzNPfsIAAABFOUV+wgAAQL7jO37CAAAAbOkxfsIAAIB/QSh+wgAAQC1HHn7CAADAQJ8UfsIAAIDupAp+wgAAQJyqAH7CAADArwL3fcIAAIBdCO19wgAAAHFg433CAADAHmbZfcIAAIDMa899wgAAgKtoxn3CAABAWW68fcIAAMBsxrJ9wgAAgBrMqH3CAAAALiSffcIAAMDbKZV9wgAAgIkvi33CAAAAnYeBfcIAAMBKjXd9wgAAQF7lbX3CAAAADOtjfcIAAMC58Fl9wgAAwJjtUH3CAACARvNGfcIAAABaSz19wgAAwAdRM33CAABAG6kpfcIAAADJrh99wgAAwHa0FX3CAABAigwMfcIAAAA4EgJ9wgAAgEtq+HzCAABA+W/ufMIAAACndeR8wgAAAIZy23zCAADAM3jRfMIAAEBH0Md8wgAAAPXVvXzCAACACC60fMIAAEC2M6p8wgAAAGQ5oHzCAACAd5GWfMIAAEAll4x8wgAAwDjvgnzCAACA5vR4fMIAAECU+m58wgAAgA2lZXzCAABAu6pbfMIAAMDOAlJ8wgAAgHwISHzCAAAAkGA+fMIAAMA9ZjR8wgAAgOtrKnzCAAAA/8MgfMIAAMCsyRZ8wgAAQMAhDXzCAAAAbicDfMIAAMAbLfl7wgAAwPop8HvCAACAqC/me8IAAAC8h9x7wgAAwGmN0nvCAABAfeXIe8IAAAAr6757wgAAwNjwtHvCAABA7Eire8IAAACaTqF7wgAAgK2ml3vCAABAW6yNe8IAAAAJsoN7wgAAAOiuenvCAADAlbRwe8IAAECpDGd7wgAAAFcSXXvCAACAampTe8IAAEAYcEl7wgAAAMZ1P3vCAACA2c01e8IAAECH0yt7wgAAwJorInvCAACASDEYe8IAAED2Ng57wgAAQNUzBXvCAAAAgzn7esIAAICWkfF6wgAAQESX53rCAADAV+/desIAAIAF9dN6wgAAQLP6yXrCAADAxlLAesIAAIB0WLZ6wgAAAIiwrHrCAADANbaiesIAAIDju5h6wgAAwFxmj3rCAACACmyFesIAAAAexHt6wgAAwMvJcXrCAABA3yFoesIAAACNJ156wgAAwDotVHrCAABAToVKesIAAAD8ikB6wgAAgA/jNnrCAABAvegsesIAAABr7iJ6wgAAAErrGXrCAADA9/APesIAAEALSQZ6wgAAALlO/HnCAACAzKbyecIAAEB6rOh5wgAAACiy3nnCAACAOwrVecIAAEDpD8t5wgAAwPxnwXnCAACAqm23ecIAAEBYc615wgAAQDdwpHnCAAAA5XWaecIAAID4zZB5wgAAQKbThnnCAADAuSt9ecIAAIBnMXN5wgAAQBU3aXnCAADAKI9fecIAAIDWlFV5wgAAAOrsS3nCAADAl/JBecIAAIBF+Dd5wgAAgCT1LnnCAABA0vokecIAAMDlUht5wgAAgJNYEXnCAAAAp7AHecIAAMBUtv14wgAAgAK883jCAAAAFhTqeMIAAMDDGeB4wgAAQNdx1njCAAAAhXfMeMIAAMAyfcJ4wgAAAKwnuXjCAADAWS2veMIAAEBthaV4wgAAABuLm3jCAACALuOReMIAAEDc6Id4wgAAAIrufXjCAACAnUZ0eMIAAEBLTGp4wgAAwF6kYHjCAACADKpWeMIAAEC6r0x4wgAAQJmsQ3jCAAAAR7I5eMIAAIBaCjB4wgAAQAgQJnjCAADAG2gceMIAAIDJbRJ4wgAAQHdzCHjCAADAisv+d8IAAIA40fR3wgAAAEwp63fCAADA+S7hd8IAAICnNNd3wgAAgIYxznfCAABANDfEd8IAAMBHj7p3wgAAgPWUsHfCAAAACe2md8IAAMC28px3wgAAgGT4knfCAAAAeFCJd8IAAMAlVn93wgAAQDmudXfCAAAA57Nrd8IAAMCUuWF3wgAAwHO2WHfCAACAIbxOd8IAAAA1FEV3wgAAwOIZO3fCAABA9nExd8IAAACkdyd3wgAAwFF9HXfCAABAZdUTd8IAAAAT2wl3wgAAgCYzAHfCAABA1Dj2dsIAAACCPux2wgAAQPvo4nbCAAAAqe7YdsIAAIC8Rs92wgAAQGpMxXbCAADAfaS7dsIAAIArqrF2wgAAQNmvp3bCAADA7AeedsIAAICaDZR2wgAAAK5linbCAADAW2uAdsIAAIAJcXZ2wgAAgOhtbXbCAABAlnNjdsIAAMCpy1l2wgAAgFfRT3bCAAAAaylGdsIAAMAYLzx2wgAAgMY0MnbCAAAA2owodsIAAMCHkh52wgAAQJvqFHbCAAAASfAKdsIAAMD29QB2wgAAwNXy93XCAACAg/jtdcIAAACXUOR1wgAAwERW2nXCAABAWK7QdcIAAAAGtMZ1wgAAwLO5vHXCAABAxxGzdcIAAAB1F6l1wgAAgIhvn3XCAABANnWVdcIAAADkeot1wgAAAMN3gnXCAADAcH14dcIAAECE1W51wgAAADLbZHXCAACARTNbdcIAAEDzOFF1wgAAAKE+R3XCAACAtJY9dcIAAEBinDN1wgAAwHX0KXXCAACAI/ofdcIAAEDR/xV1wgAAgEqqDHXCAABA+K8CdcIAAMALCPl0wgAAgLkN73TCAAAAzWXldMIAAMB6a9t0wgAAgChx0XTCAAAAPMnHdMIAAMDpzr10wgAAQP0mtHTCAAAAqyyqdMIAAMBYMqB0wgAAwDcvl3TCAACA5TSNdMIAAAD5jIN0wgAAwKaSeXTCAABAuupvdMIAAABo8GV0wgAAwBX2W3TCAABAKU5SdMIAAADXU0h0wgAAgOqrPnTCAABAmLE0dMIAAABGtyp0wgAAACW0IXTCAADA0rkXdMIAAEDmEQ50wgAAAJQXBHTCAACAp2/6c8IAAEBVdfBzwgAAAAN75nPCAACAFtPcc8IAAEDE2NJzwgAAwNcwyXPCAACAhTa/c8IAAEAzPLVzwgAAQBI5rHPCAAAAwD6ic8IAAIDTlphzwgAAQIGcjnPCAADAlPSEc8IAAIBC+npzwgAAQPD/cHPCAADAA1hnc8IAAICxXV1zwgAAAMW1U3PCAADAcrtJc8IAAIAgwT9zwgAAwJlrNnPCAACAR3Esc8IAAABbySJzwgAAwAjPGHPCAABAHCcPc8IAAADKLAVzwgAAwHcy+3LCAABAi4rxcsIAAAA5kOdywgAAgEzo3XLCAABA+u3TcsIAAACo88lywgAAAIfwwHLCAADANPa2csIAAEBITq1ywgAAAPZTo3LCAACACayZcsIAAEC3sY9ywgAAAGW3hXLCAACAeA98csIAAEAmFXJywgAAwDltaHLCAACA53JecsIAAECVeFRywgAAQHR1S3LCAAAAIntBcsIAAIA10zdywgAAQOPYLXLCAADA9jAkcsIAAICkNhpywgAAQFI8EHLCAADAZZQGcsIAAIATmvxxwgAAACfy8nHCAADA1PfoccIAAICC/d5xwgAAgGH61XHCAABADwDMccIAAMAiWMJxwgAAgNBduHHCAAAA5LWuccIAAMCRu6RxwgAAgD/BmnHCAAAAUxmRccIAAMAAH4dxwgAAQBR3fXHCAAAAwnxzccIAAMBvgmlxwgAAAOksYHHCAADAljJWccIAAECqikxxwgAAAFiQQnHCAACAa+g4ccIAAEAZ7i5xwgAAAMfzJHHCAACA2ksbccIAAECIURFxwgAAwJupB3HCAACASa/9cMIAAED3tPNwwgAAQNax6nDCAAAAhLfgcMIAAICXD9dwwgAAQEUVzXDCAADAWG3DcMIAAIAGc7lwwgAAQLR4r3DCAADAx9ClcMIAAIB11ptwwgAAAIkuknDCAADANjSIcMIAAIDkOX5wwgAAgMM2dXDCAABAcTxrcMIAAMCElGFwwgAAgDKaV3DCAAAARvJNcMIAAMDz90NwwgAAgKH9OXDCAAAAtVUwcMIAAMBiWyZwwgAAQHazHHDCAAAAJLkScMIAAMDRvghwwgAAgGF3/2/CAAAAvYLrb8IAAADkMthvwgAAgD8+xG/CAACAZu6wb8IAAADC+ZxvwgAAgB0FiW/CAACARLV1b8IAAACgwGFvwgAAAMdwTm/CAACAInw6b8IAAAB+hyZvwgAAgHDcE2/CAAAAzOf/bsIAAADzl+xuwgAAgE6j2G7CAACAdVPFbsIAAADRXrFuwgAAgCxqnW7CAACAUxqKbsIAAACvJXZuwgAAANbVYm7CAACAMeFObsIAAACN7DpuwgAAAEvmKG7CAACApvEUbsIAAIDNoQFuwgAAACmt7W3CAAAAUF3abcIAAICraMZtwgAAAAd0sm3CAAAALiSfbcIAAICJL4ttwgAAgLDfd23CAAAADOtjbcIAAIBn9k9twgAAgCXwPW3CAAAAgfspbcIAAACoqxZtwgAAgAO3Am3CAACAKmfvbMIAAACGcttswgAAgOF9x2zCAACACC60bMIAAABkOaBswgAAAIvpjGzCAACA5vR4bMIAAABCAGVswgAAAAD6UmzCAACAWwU/bMIAAICCtStswgAAAN7AF2zCAAAABXEEbMIAAIBgfPBrwgAAALyH3GvCAAAA4zfJa8IAAIA+Q7VrwgAAgGXzoWvCAAAAwf6Na8IAAIAcCnprwgAAAA9fZ2vCAACAampTa8IAAICRGkBrwgAAAO0lLGvCAAAAFNYYa8IAAIBv4QRrwgAAAMvs8GrCAAAA8pzdasIAAIBNqMlqwgAAgHRYtmrCAAAA0GOiasIAAIArb45qwgAAgOlofGrCAAAARXRoasIAAABsJFVqwgAAgMcvQWrCAACA7t8tasIAAABK6xlqwgAAgKX2BWrCAACAzKbyacIAAAAost5pwgAAAE9iy2nCAACAqm23acIAAAAGeaNpwgAAAMRykWnCAACAH359acIAAIBGLmppwgAAAKI5VmnCAAAAyelCacIAAIAk9S5pwgAAAIAAG2nCAAAAp7AHacIAAIACvPNowgAAgCls4GjCAAAAhXfMaMIAAIDggrhowgAAgJ58pmjCAAAA+oeSaMIAAAAhOH9owgAAgHxDa2jCAACAo/NXaMIAAAD//kNowgAAgFoKMGjCAACAgbocaMIAAADdxQhowgAAAAR29WfCAACAX4HhZ8IAAAC7jM1nwgAAgK3humfCAAAACe2mZ8IAAAAwnZNnwgAAgIuof2fCAACAslhsZ8IAAAAOZFhnwgAAgGlvRGfCAACAkB8xZ8IAAADsKh1nwgAAABPbCWfCAACAbub1ZsIAAADK8eFmwgAAAIjrz2bCAACA4/a7ZsIAAIAKp6hmwgAAAGaylGbCAAAAjWKBZsIAAIDobW1mwgAAAER5WWbCAAAAaylGZsIAAIDGNDJmwgAAgO3kHmbCAAAASfAKZsIAAICk+/ZlwgAAgGL15GXCAAAAvgDRZcIAAADlsL1lwgAAgEC8qWXCAACAZ2yWZcIAAADDd4JlwgAAgB6DbmXCAACARTNbZcIAAAChPkdlwgAAAMjuM2XCAACAI/ofZcIAAAB/BQxlwgAAAD3/+WTCAACAmArmZMIAAIC/utJkwgAAABvGvmTCAAAAQnarZMIAAICdgZdkwgAAAPmMg2TCAAAAID1wZMIAAIB7SFxkwgAAgKL4SGTCAAAA/gM1ZMIAAIBZDyFkwgAAAExkDmTCAACAp2/6Y8IAAIDOH+djwgAAACor02PCAAAAUdu/Y8IAAICs5qtjwgAAAAjyl2PCAAAAL6KEY8IAAICKrXBjwgAAgLFdXWPCAAAADWlJY8IAAIBodDVjwgAAgCZuI2PCAAAAgnkPY8IAAACpKfxiwgAAgAQ16GLCAACAK+XUYsIAAACH8MBiwgAAgOL7rGLCAACACayZYsIAAABlt4ViwgAAAIxncmLCAACA53JeYsIAAABDfkpiwgAAAAF4OGLCAACAXIMkYsIAAICDMxFiwgAAAN8+/WHCAAAABu/pYcIAAIBh+tVhwgAAAL0FwmHCAAAA5LWuYcIAAIA/wZphwgAAgGZxh2HCAAAAwnxzYcIAAIAdiF9hwgAAgNuBTWHCAAAAN405YcIAAABePSZhwgAAgLlIEmHCAACA4Pj+YMIAAAA8BOtgwgAAgJcP12DCAACAvr/DYMIAAAAay69gwgAAAEF7nGDCAACAnIaIYMIAAAD4kXRgwgAAgOrmYWDCAAAARvJNYMIAAABtojpgwgAAgMitJmDCAACA710TYMIAAACW0v5fwgAAAE3p1l/CAAAAm0mwX8IAAABSYIhfwgAAAKDAYV/CAAAAV9c5X8IAAAAO7hFfwgAAAIrh7V7CAAAAQfjFXsIAAACPWJ9ewgAAAEZvd17CAAAAlM9QXsIAAABL5ihewgAAAAL9AF7CAAAAUF3aXcIAAAAHdLJdwgAAAFXUi13CAAAADOtjXcIAAADDATxdwgAAAD/1F13CAAAA9gvwXMIAAABEbMlcwgAAAPuCoVzCAAAASeN6XMIAAAAA+lJcwgAAALcQK1zCAAAABXEEXMIAAAC8h9xbwgAAAArotVvCAAAAwf6NW8IAAAB4FWZbwgAAAPQIQlvCAAAAqx8aW8IAAAD5f/NawgAAALCWy1rCAAAA/vakWsIAAAC1DX1awgAAAGwkVVrCAAAAuoQuWsIAAABxmwZawgAAAL/731nCAAAAdhK4WcIAAAAtKZBZwgAAABLTalnCAAAAyelCWcIAAAAXShxZwgAAAM5g9FjCAAAAHMHNWMIAAADT16VYwgAAAIrufVjCAAAA2E5XWMIAAACPZS9YwgAAAN3FCFjCAAAAlNzgV8IAAABL87hXwgAAAMfmlFfCAAAAfv1sV8IAAADMXUZXwgAAAIN0HlfCAAAA0dT3VsIAAACI689WwgAAAD8CqFbCAAAAjWKBVsIAAABEeVlWwgAAAJLZMlbCAAAASfAKVsIAAAAAB+NVwgAAAHz6vlXCAAAAMxGXVcIAAACBcXBVwgAAADiISFXCAAAAhughVcIAAAA9//lUwgAAAPQV0lTCAAAAQnarVMIAAAD5jINUwgAAAEftXFTCAAAA/gM1VMIAAAC1Gg1UwgAAADEO6VPCAAAA6CTBU8IAAAA2hZpTwgAAAO2bclPCAAAAO/xLU8IAAADyEiRTwgAAAKkp/FLCAAAA94nVUsIAAACuoK1SwgAAAPwAh1LCAAAAsxdfUsIAAABqLjdSwgAAAE/YEVLCAAAABu/pUcIAAABUT8NRwgAAAAtmm1HCAAAAWcZ0UcIAAAAQ3UxRwgAAAMfzJFHCAAAAFVT+UMIAAADMatZQwgAAABrLr1DCAAAA0eGHUMIAAACI+F9QwgAAAATsO1DCAAAAuwIUUMIAAAASxtpPwgAAAIDzik/CAAAAHLQ9T8IAAACK4e1OwgAAAPgOnk7CAAAAlM9QTsIAAAAC/QBOwgAAAJ69s03CAAAADOtjTcIAAAB6GBRNwgAAAHL/y0zCAAAA4Cx8TMIAAAB87S5MwgAAAOoa30vCAAAAhtuRS8IAAAD0CEJLwgAAAGI28krCAAAA/vakSsIAAABsJFVKwgAAAAjlB0rCAAAAdhK4ScIAAADkP2hJwgAAANwmIEnCAAAASlTQSMIAAADmFINIwgAAAFRCM0jCAAAA8ALmR8IAAABeMJZHwgAAAMxdRkfCAAAAaB75RsIAAADWS6lGwgAAAHIMXEbCAAAA4DkMRsIAAABOZ7xFwgAAABi7cUXCAAAAhughRcIAAAAiqdREwgAAAJDWhETCAAAALJc3RMIAAACaxOdDwgAAAAjyl0PCAAAApLJKQ8IAAAAS4PpCwgAAAK6grULCAAAAHM5dQsIAAACK+w1CwgAAAILixUHCAAAA8A92QcIAAACM0ChBwgAAAPr92EDCAAAAlr6LQMIAAAAE7DtAwgAAAOQy2D/CAAAAHLQ9P8IAAAD4Dp4+wgAAADCQAz7CAAAADOtjPcIAAADoRcQ8wgAAANgTNDzCAAAAtG6UO8IAAADs7/k6wgAAAMhKWjrCAAAAAMy/OcIAAADcJiA5wgAAALiBgDjCAAAA8ALmN8IAAADMXUY3wgAAAATfqzbCAAAA4DkMNsIAAAC8lGw1wgAAAKxi3DTCAAAAiL08NMIAAADAPqIzwgAAAJyZAjPCAAAA1BpoMsIAAACwdcgxwgAAAIzQKDHCAAAAxFGOMMIAAABAWd0vwgAAALBbqC7CAAAAaBFpLcIAAAAgxykswgAAAEgW/yrCAAAAAMy/KcIAAABwzooowgAAACiESyfCAAAAmIYWJsIAAABQPNckwgAAAAjylyPCAAAAePRiIsIAAAAwqiMhwgAAAEBZ3R/CAAAAsMReHcIAAAAgMOAawgAAAOBnnxjCAAAAUNMgFsIAAAAw2LYTwgAAAKBDOBHCAAAAAJGcDcIAAADgZ58IwgAAAMA+ogPCAAAAAJGc/cEAAADAPqLzwQAAAICk9OPBAAAAAAAAAAAAAACApPTjQQAAAEBz/fJBAAAAgMX3/EEAAAAA2U8DQgAAACACTQhCAAAAYPggDUIAAADAEA8RQgAAAFCljRNCAAAAcKD3FUIAAAAANXYYQgAAACAw4BpCAAAAsMReHUIAAABAWd0fQgAAAMAQDyFCAAAACFtOIkIAAACYWIMjQgAAAOCiwiRCAAAAcKD3JUIAAAC46jYnQgAAAAA1dihCAAAAkDKrKUIAAADYfOoqQgAAAGh6HyxCAAAAsMReLUIAAAD4Dp4uQgAAANC/yC9CAAAADAWEMEIAAADUgx4xQgAAAPgovjFCAAAAwKdYMkIAAADkTPgyQgAAAAjylzNCAAAA0HAyNEIAAAD0FdI0QgAAALyUbDVCAAAA4DkMNkIAAAAE36s2QgAAABQRPDdCAAAAOLbbN0IAAAAANXY4QgAAACTaFTlCAAAA7FiwOUIAAAAQ/k86QgAAADSj7zpCAAAA/CGKO0IAAAAgxyk8QgAAAOhFxDxCAAAADOtjPUIAAAAwkAM+QgAAAEDCkz5CAAAAZGczP0IAAAAs5s0/QgAAAKjFNkBCAAAADAWEQEIAAACe19NAQgAAADCqI0FCAAAAlOlwQUIAAAAmvMBBQgAAAIr7DUJCAAAAHM5dQkIAAACuoK1CQgAAALa59UJCAAAASIxFQ0IAAACsy5JDQgAAAD6e4kNCAAAAot0vREIAAAA0sH9EQgAAAMaCz0RCAAAAKsIcRUIAAAC8lGxFQgAAACDUuUVCAAAAsqYJRkIAAABEeVlGQgAAAHolpEZCAAAADPjzRkIAAABwN0FHQgAAAAIKkUdCAAAAZkneR0IAAAD4Gy5IQgAAAIrufUhCAAAA7i3LSEIAAACAABtJQgAAAOQ/aElCAAAAdhK4SUIAAAAI5QdKQgAAABD+T0pCAAAAotCfSkIAAAAGEO1KQgAAAJjiPEtCAAAA/CGKS0IAAACO9NlLQgAAACDHKUxCAAAAhAZ3TEIAAAAW2cZMQgAAAHoYFE1CAAAADOtjTUIAAACevbNNQgAAAKbW+01CAAAAOKlLTkIAAACc6JhOQgAAAC676E5CAAAAkvo1T0IAAAAkzYVPQgAAALaf1U9CAAAAjW8RUEIAAADWWDlQQgAAAIj4X1BCAAAA0eGHUEIAAAAay69QQgAAAJ7X01BCAAAA58D7UEIAAACZYCJRQgAAAOJJSlFCAAAAlOlwUUIAAADd0phRQgAAACa8wFFCAAAA2FvnUUIAAAAhRQ9SQgAAANPkNVJCAAAAHM5dUkIAAABlt4VSQgAAAIANq1JCAAAAyfbSUkIAAAB7lvlSQgAAAMR/IVNCAAAAdh9IU0IAAAC/CHBTQgAAAAjyl1NCAAAAupG+U0IAAAADe+ZTQgAAALUaDVRCAAAA/gM1VEIAAABH7VxUQgAAAMv5gFRCAAAAFOOoVEIAAADGgs9UQgAAAA9s91RCAAAAwQseVUIAAAAK9UVVQgAAAFPebVVCAAAABX6UVUIAAABOZ7xVQgAAAAAH41VCAAAASfAKVkIAAACS2TJWQgAAABbmVlZCAAAAX89+VkIAAAARb6VWQgAAAFpYzVZCAAAADPjzVkIAAABV4RtXQgAAAJ7KQ1dCAAAAUGpqV0IAAACZU5JXQgAAAEvzuFdCAAAAlNzgV0IAAADdxQhYQgAAAGHSLFhCAAAAqrtUWEIAAABcW3tYQgAAAKVEo1hCAAAAV+TJWEIAAACgzfFYQgAAAOm2GVlCAAAAm1ZAWUIAAADkP2hZQgAAAJbfjllCAAAA38i2WUIAAAAost5ZQgAAAEMIBFpCAAAAjPErWkIAAAA+kVJaQgAAAId6elpCAAAAORqhWkIAAACCA8laQgAAAMvs8FpCAAAAfYwXW0IAAADGdT9bQgAAAHgVZltCAAAAwf6NW0IAAAAK6LVbQgAAAI702VtCAAAA190BXEIAAACJfShcQgAAANJmUFxCAAAAhAZ3XEIAAADN755cQgAAABbZxlxCAAAAyHjtXEIAAAARYhVdQgAAAMMBPF1CAAAADOtjXUIAAABV1ItdQgAAANngr11CAAAAIsrXXUIAAADUaf5dQgAAAB1TJl5CAAAAz/JMXkIAAAAY3HReQgAAAGHFnF5CAAAAE2XDXkIAAABcTuteQgAAAA7uEV9CAAAAV9c5X0IAAACgwGFfQgAAACTNhV9CAAAAbbatX0IAAAAfVtRfQgAAAGg//F9CAAAAjW8RYEIAAIAxZCVgQgAAANZYOWBCAAAAr6hMYEIAAIBTnWBgQgAAgCztc2BCAAAA0eGHYEIAAIB11ptgQgAAAIOBrmBCAACAJ3bCYEIAAIAAxtVgQgAAAKW66WBCAAAAfgr9YEIAAIAi/xBhQgAAAMfzJGFCAAAAoEM4YUIAAIBEOExhQgAAgB2IX2FCAAAAwnxzYUIAAIBmcYdhQgAAgKh3mWFCAAAATWytYUIAAAAmvMBhQgAAgMqw1GFCAACAowDoYUIAAABI9fthQgAAgOzpD2JCAACAxTkjYkIAAABqLjdiQgAAAEN+SmJCAACA53JeYkIAAACMZ3JiQgAAAM5thGJCAACAcmKYYkIAAIBLsqtiQgAAAPCmv2JCAAAAyfbSYkIAAIBt6+ZiQgAAABLg+mJCAAAA6y8OY0IAAICPJCJjQgAAgGh0NWNCAAAADWlJY0IAAICxXV1jQgAAgPNjb2NCAAAAmFiDY0IAAABxqJZjQgAAgBWdqmNCAACA7uy9Y0IAAACT4dFjQgAAgDfW5WNCAACAECb5Y0IAAAC1Gg1kQgAAAI5qIGRCAACAMl80ZEIAAADXU0hkQgAAgOT+WmRCAAAAifNuZEIAAABiQ4JkQgAAgAY4lmRCAACA34epZEIAAACEfL1kQgAAgChx0WRCAACAAcHkZEIAAACmtfhkQgAAAH8FDGVCAACAI/ofZUIAAADI7jNlQgAAAAr1RWVCAACArulZZUIAAICHOW1lQgAAACwugWVCAAAABX6UZUIAAICpcqhlQgAAAE5nvGVCAAAAJ7fPZUIAAIDLq+NlQgAAgKT79mVCAAAASfAKZkIAAIDt5B5mQgAAgC/rMGZCAAAA1N9EZkIAAACtL1hmQgAAgFEkbGZCAACAKnR/ZkIAAADPaJNmQgAAgHNdp2ZCAACATK26ZkIAAADxoc5mQgAAAMrx4WZCAACAbub1ZkIAAAAT2wlnQgAAAFXhG2dCAACA+dUvZ0IAAIDSJUNnQgAAAHcaV2dCAAAAUGpqZ0IAAID0Xn5nQgAAAJlTkmdCAAAAcqOlZ0IAAIAWmLlnQgAAgO/nzGdCAAAAlNzgZ0IAAIA40fRnQgAAAEZ8B2hCAACA6nAbaEIAAIDDwC5oQgAAAGi1QmhCAAAAQQVWaEIAAIDl+WloQgAAAIrufWhCAAAAYz6RaEIAAIAHM6VoQgAAgOCCuGhCAAAAhXfMaEIAAIApbOBoQgAAgGty8mhCAAAAEGcGaUIAAADpthlpQgAAgI2rLWlCAACAZvtAaUIAAAAL8FRpQgAAgK/kaGlCAACAiDR8aUIAAAAtKZBpQgAAAAZ5o2lCAACAqm23aUIAAABPYstpQgAAAJFo3WlCAACANV3xaUIAAIAOrQRqQgAAALOhGGpCAAAAjPErakIAAIAw5j9qQgAAANXaU2pCAAAAripnakIAAIBSH3tqQgAAgCtvjmpCAAAA0GOiakIAAIB0WLZqQgAAgLZeyGpCAAAAW1PcakIAAAA0o+9qQgAAgNiXA2tCAACAsecWa0IAAABW3CprQgAAgPrQPmtCAACA0yBSa0IAAAB4FWZrQgAAAFFleWtCAACA9VmNa0IAAACaTqFrQgAAgKf5s2tCAAAATO7Ha0IAAAAlPttrQgAAgMky72tCAACAooICbEIAAABHdxZsQgAAgOtrKmxCAACAxLs9bEIAAABpsFFsQgAAAEIAZWxCAACA5vR4bEIAAACL6YxsQgAAAM3vnmxCAACAceSybEIAAIBKNMZsQgAAAO8o2mxCAAAAyHjtbEIAAIBsbQFtQgAAABFiFW1CAAAA6rEobUIAAICOpjxtQgAAgGf2T21CAAAADOtjbUIAAICw33dtQgAAgPLliW1CAAAAl9qdbUIAAABwKrFtQgAAgBQfxW1CAACA7W7YbUIAAACSY+xtQgAAgDZYAG5CAACAD6gTbkIAAAC0nCduQgAAAI3sOm5CAACAMeFObkIAAADW1WJuQgAAABjcdG5CAACAvNCIbkIAAICVIJxuQgAAADoVsG5CAAAAE2XDbkIAAIC3WdduQgAAAFxO625CAAAANZ7+bkIAAIDZkhJvQgAAgLLiJW9CAAAAV9c5b0IAAID7y01vQgAAAAl3YG9CAACArWt0b0IAAICGu4dvQgAAACuwm29CAAAABACvb0IAAICo9MJvQgAAAE3p1m9CAAAAJjnqb0IAAIDKLf5vQgAAwNG+CHBCAAAAJLkScEIAAEB2sxxwQgAAQJe2JXBCAACA6bAvcEIAAADWWDlwQgAAQChTQ3BCAADAFPtMcEIAAABn9VZwQgAAQLnvYHBCAADApZdqcEIAAAD4kXRwQgAAgOQ5fnBCAADANjSIcEIAAACJLpJwQgAAAKoxm3BCAABA/CulcEIAAMDo065wQgAAADvOuHBCAACAJ3bCcEIAAMB5cMxwQgAAAMxq1nBCAACAuBLgcEIAAMAKDepwQgAAQPe083BCAACASa/9cEIAAMCbqQdxQgAAwLysEHFCAAAAD6cacUIAAID7TiRxQgAAwE1JLnFCAABAOvE3cUIAAICM60FxQgAAwN7lS3FCAABAy41VcUIAAIAdiF9xQgAAAAowaXFCAABAXCpzcUIAAICuJH1xQgAAQDV6hnFCAACAh3SQcUIAAAB0HJpxQgAAQMYWpHFCAADAsr6tcUIAAAAFubdxQgAAQFezwXFCAADAQ1vLcUIAAACWVdVxQgAAgIL93nFCAADA1PfocUIAAAAn8vJxQgAAAEj1+3FCAABAmu8FckIAAMCGlw9yQgAAANmRGXJCAACAxTkjckIAAMAXNC1yQgAAAGouN3JCAACAVtZAckIAAMCo0EpyQgAAQJV4VHJCAACA53JeckIAAMA5bWhyQgAAwFpwcXJCAAAArWp7ckIAAICZEoVyQgAAwOsMj3JCAABA2LSYckIAAIAqr6JyQgAAwHyprHJCAABAaVG2ckIAAIC7S8ByQgAAAKjzyXJCAABA+u3TckIAAIBM6N1yQgAAgG3r5nJCAADAv+XwckIAAECsjfpyQgAAgP6HBHNCAAAA6y8Oc0IAAEA9KhhzQgAAgI8kInNCAAAAfMwrc0IAAEDOxjVzQgAAwLpuP3NCAAAADWlJc0IAAEBfY1NzQgAAAOa4XHNCAABAOLNmc0IAAMAkW3BzQgAAAHdVenNCAACAY/2Dc0IAAMC1941zQgAAAAjyl3NCAACA9Jmhc0IAAMBGlKtzQgAAQDM8tXNCAACAhTa/c0IAAMDXMMlzQgAAwPgz0nNCAAAASy7cc0IAAIA31uVzQgAAwInQ73NCAABAdnj5c0IAAIDIcgN0QgAAwBptDXRCAABABxUXdEIAAIBZDyF0QgAAAEa3KnRCAABAmLE0dEIAAIDqqz50QgAAgAuvR3RCAADAXalRdEIAAEBKUVt0QgAAgJxLZXRCAAAAifNudEIAAEDb7Xh0QgAAgC3ognRCAAAAGpCMdEIAAEBsipZ0QgAAwFgyoHRCAAAAqyyqdEIAAED9JrR0QgAAQB4qvXRCAACAcCTHdEIAAABdzNB0QgAAQK/G2nRCAADAm27kdEIAAADuaO50QgAAQEBj+HRCAADALAsCdUIAAAB/BQx1QgAAgGutFXVC\",\"dtype\":\"float64\",\"order\":\"little\",\"shape\":[1992]}},\"selected\":{\"id\":\"1038\"},\"selection_policy\":{\"id\":\"1072\"}},\"id\":\"1037\",\"type\":\"ColumnDataSource\"},{\"attributes\":{\"source\":{\"id\":\"1037\"}},\"id\":\"1044\",\"type\":\"CDSView\"},{\"attributes\":{\"base\":60,\"mantissas\":[1,2,5,10,15,20,30],\"max_interval\":1800000.0,\"min_interval\":1000.0,\"num_minor_ticks\":0},\"id\":\"1060\",\"type\":\"AdaptiveTicker\"},{\"attributes\":{\"months\":[0,2,4,6,8,10]},\"id\":\"1067\",\"type\":\"MonthsTicker\"},{\"attributes\":{},\"id\":\"1047\",\"type\":\"DatetimeTickFormatter\"},{\"attributes\":{\"mantissas\":[1,2,5],\"max_interval\":500.0,\"num_minor_ticks\":0},\"id\":\"1059\",\"type\":\"AdaptiveTicker\"},{\"attributes\":{\"base\":24,\"mantissas\":[1,2,4,6,8,12],\"max_interval\":43200000.0,\"min_interval\":3600000.0,\"num_minor_ticks\":0},\"id\":\"1061\",\"type\":\"AdaptiveTicker\"},{\"attributes\":{},\"id\":\"1014\",\"type\":\"LinearScale\"},{\"attributes\":{\"months\":[0,4,8]},\"id\":\"1068\",\"type\":\"MonthsTicker\"},{\"attributes\":{\"data_source\":{\"id\":\"1037\"},\"glyph\":{\"id\":\"1040\"},\"hover_glyph\":null,\"muted_glyph\":{\"id\":\"1042\"},\"nonselection_glyph\":{\"id\":\"1041\"},\"selection_glyph\":{\"id\":\"1045\"},\"view\":{\"id\":\"1044\"}},\"id\":\"1043\",\"type\":\"GlyphRenderer\"},{\"attributes\":{},\"id\":\"1012\",\"type\":\"LinearScale\"},{\"attributes\":{\"months\":[0,6]},\"id\":\"1069\",\"type\":\"MonthsTicker\"},{\"attributes\":{\"line_alpha\":0.2,\"line_color\":\"#30a2da\",\"line_width\":2,\"x\":{\"field\":\"time\"},\"y\":{\"field\":\"temperature\"}},\"id\":\"1042\",\"type\":\"Line\"},{\"attributes\":{\"axis_label\":\"Temperature (Celsius)\",\"formatter\":{\"id\":\"1050\"},\"major_label_policy\":{\"id\":\"1051\"},\"ticker\":{\"id\":\"1021\"}},\"id\":\"1020\",\"type\":\"LinearAxis\"},{\"attributes\":{\"margin\":[5,5,5,5],\"name\":\"HSpacer01631\",\"sizing_mode\":\"stretch_width\"},\"id\":\"1096\",\"type\":\"Spacer\"},{\"attributes\":{\"active_multi\":null,\"tools\":[{\"id\":\"1006\"},{\"id\":\"1024\"},{\"id\":\"1025\"},{\"id\":\"1026\"},{\"id\":\"1027\"},{\"id\":\"1028\"}]},\"id\":\"1030\",\"type\":\"Toolbar\"},{\"attributes\":{},\"id\":\"1021\",\"type\":\"BasicTicker\"},{\"attributes\":{\"line_color\":\"#30a2da\",\"line_width\":2,\"x\":{\"field\":\"time\"},\"y\":{\"field\":\"temperature\"}},\"id\":\"1040\",\"type\":\"Line\"},{\"attributes\":{},\"id\":\"1070\",\"type\":\"YearsTicker\"},{\"attributes\":{\"axis\":{\"id\":\"1020\"},\"dimension\":1,\"grid_line_color\":null,\"ticker\":null},\"id\":\"1023\",\"type\":\"Grid\"},{\"attributes\":{},\"id\":\"1050\",\"type\":\"BasicTickFormatter\"},{\"attributes\":{\"below\":[{\"id\":\"1016\"}],\"center\":[{\"id\":\"1019\"},{\"id\":\"1023\"}],\"height\":300,\"left\":[{\"id\":\"1020\"}],\"margin\":[5,5,5,5],\"min_border_bottom\":10,\"min_border_left\":10,\"min_border_right\":10,\"min_border_top\":10,\"renderers\":[{\"id\":\"1043\"}],\"sizing_mode\":\"fixed\",\"title\":{\"id\":\"1008\"},\"toolbar\":{\"id\":\"1030\"},\"width\":700,\"x_range\":{\"id\":\"1004\"},\"x_scale\":{\"id\":\"1012\"},\"y_range\":{\"id\":\"1005\"},\"y_scale\":{\"id\":\"1014\"}},\"id\":\"1007\",\"subtype\":\"Figure\",\"type\":\"Plot\"},{\"attributes\":{},\"id\":\"1048\",\"type\":\"AllLabels\"},{\"attributes\":{},\"id\":\"1072\",\"type\":\"UnionRenderers\"},{\"attributes\":{\"end\":1448928000000.0,\"reset_end\":1448928000000.0,\"reset_start\":-3786825600000.0,\"start\":-3786825600000.0,\"tags\":[[[\"time\",\"time\",null]]]},\"id\":\"1004\",\"type\":\"Range1d\"},{\"attributes\":{\"end\":18.1246,\"reset_end\":18.1246,\"reset_start\":11.9614,\"start\":11.9614,\"tags\":[[[\"temperature\",\"temperature\",null]]]},\"id\":\"1005\",\"type\":\"Range1d\"}],\"root_ids\":[\"1002\"]},\"title\":\"Bokeh Application\",\"version\":\"2.3.2\"}};\n",
       "    var render_items = [{\"docid\":\"c02d7a32-0022-4aaa-ab72-653068378e34\",\"root_ids\":[\"1002\"],\"roots\":{\"1002\":\"9ead8df0-5774-4cee-a1bc-ccd527fc0f15\"}}];\n",
=======
<<<<<<< HEAD
       "  <div class=\"bk-root\" id=\"3a4015b6-2b61-49a2-b622-8361d7d8d250\" data-root-id=\"1002\"></div>\n",
       "</div>\n",
       "<script type=\"application/javascript\">(function(root) {\n",
       "  function embed_document(root) {\n",
       "    var docs_json = {\"2f740c60-c243-4254-808a-8b8b48b5b77b\":{\"defs\":[{\"extends\":null,\"module\":null,\"name\":\"ReactiveHTML1\",\"overrides\":[],\"properties\":[]},{\"extends\":null,\"module\":null,\"name\":\"FlexBox1\",\"overrides\":[],\"properties\":[{\"default\":\"flex-start\",\"kind\":null,\"name\":\"align_content\"},{\"default\":\"flex-start\",\"kind\":null,\"name\":\"align_items\"},{\"default\":\"row\",\"kind\":null,\"name\":\"flex_direction\"},{\"default\":\"wrap\",\"kind\":null,\"name\":\"flex_wrap\"},{\"default\":\"flex-start\",\"kind\":null,\"name\":\"justify_content\"}]},{\"extends\":null,\"module\":null,\"name\":\"TemplateActions1\",\"overrides\":[],\"properties\":[{\"default\":0,\"kind\":null,\"name\":\"open_modal\"},{\"default\":0,\"kind\":null,\"name\":\"close_modal\"}]},{\"extends\":null,\"module\":null,\"name\":\"MaterialTemplateActions1\",\"overrides\":[],\"properties\":[{\"default\":0,\"kind\":null,\"name\":\"open_modal\"},{\"default\":0,\"kind\":null,\"name\":\"close_modal\"}]}],\"roots\":{\"references\":[{\"attributes\":{\"bottom_units\":\"screen\",\"fill_alpha\":0.5,\"fill_color\":\"lightgrey\",\"left_units\":\"screen\",\"level\":\"overlay\",\"line_alpha\":1.0,\"line_color\":\"black\",\"line_dash\":[4,4],\"line_width\":2,\"right_units\":\"screen\",\"syncable\":false,\"top_units\":\"screen\"},\"id\":\"1029\",\"type\":\"BoxAnnotation\"},{\"attributes\":{\"line_alpha\":0.1,\"line_color\":\"#30a2da\",\"line_width\":2,\"x\":{\"field\":\"time\"},\"y\":{\"field\":\"temperature\"}},\"id\":\"1041\",\"type\":\"Line\"},{\"attributes\":{\"line_alpha\":0.2,\"line_color\":\"#30a2da\",\"line_width\":2,\"x\":{\"field\":\"time\"},\"y\":{\"field\":\"temperature\"}},\"id\":\"1042\",\"type\":\"Line\"},{\"attributes\":{\"base\":24,\"mantissas\":[1,2,4,6,8,12],\"max_interval\":43200000.0,\"min_interval\":3600000.0,\"num_minor_ticks\":0},\"id\":\"1064\",\"type\":\"AdaptiveTicker\"},{\"attributes\":{\"active_multi\":null,\"tools\":[{\"id\":\"1006\"},{\"id\":\"1024\"},{\"id\":\"1025\"},{\"id\":\"1026\"},{\"id\":\"1027\"},{\"id\":\"1028\"}]},\"id\":\"1030\",\"type\":\"Toolbar\"},{\"attributes\":{\"callback\":null,\"formatters\":{\"@{time}\":\"datetime\"},\"renderers\":[{\"id\":\"1043\"}],\"tags\":[\"hv_created\"],\"tooltips\":[[\"time\",\"@{time}{%F %T}\"],[\"temperature\",\"@{temperature}\"]]},\"id\":\"1006\",\"type\":\"HoverTool\"},{\"attributes\":{\"data_source\":{\"id\":\"1037\"},\"glyph\":{\"id\":\"1040\"},\"hover_glyph\":null,\"muted_glyph\":{\"id\":\"1042\"},\"nonselection_glyph\":{\"id\":\"1041\"},\"selection_glyph\":{\"id\":\"1045\"},\"view\":{\"id\":\"1044\"}},\"id\":\"1043\",\"type\":\"GlyphRenderer\"},{\"attributes\":{\"data\":{\"temperature\":{\"__ndarray__\":\"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\",\"dtype\":\"float64\",\"order\":\"little\",\"shape\":[1992]},\"time\":{\"__ndarray__\":\"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\",\"dtype\":\"float64\",\"order\":\"little\",\"shape\":[1992]}},\"selected\":{\"id\":\"1038\"},\"selection_policy\":{\"id\":\"1061\"}},\"id\":\"1037\",\"type\":\"ColumnDataSource\"},{\"attributes\":{},\"id\":\"1024\",\"type\":\"SaveTool\"},{\"attributes\":{\"base\":60,\"mantissas\":[1,2,5,10,15,20,30],\"max_interval\":1800000.0,\"min_interval\":1000.0,\"num_minor_ticks\":0},\"id\":\"1063\",\"type\":\"AdaptiveTicker\"},{\"attributes\":{\"below\":[{\"id\":\"1016\"}],\"center\":[{\"id\":\"1019\"},{\"id\":\"1023\"}],\"height\":300,\"left\":[{\"id\":\"1020\"}],\"margin\":[5,5,5,5],\"min_border_bottom\":10,\"min_border_left\":10,\"min_border_right\":10,\"min_border_top\":10,\"renderers\":[{\"id\":\"1043\"}],\"sizing_mode\":\"fixed\",\"title\":{\"id\":\"1008\"},\"toolbar\":{\"id\":\"1030\"},\"width\":700,\"x_range\":{\"id\":\"1004\"},\"x_scale\":{\"id\":\"1012\"},\"y_range\":{\"id\":\"1005\"},\"y_scale\":{\"id\":\"1014\"}},\"id\":\"1007\",\"subtype\":\"Figure\",\"type\":\"Plot\"},{\"attributes\":{},\"id\":\"1025\",\"type\":\"PanTool\"},{\"attributes\":{\"line_color\":\"#30a2da\",\"line_width\":2,\"x\":{\"field\":\"time\"},\"y\":{\"field\":\"temperature\"}},\"id\":\"1040\",\"type\":\"Line\"},{\"attributes\":{\"axis_label\":\"Date\",\"formatter\":{\"id\":\"1047\"},\"major_label_policy\":{\"id\":\"1046\"},\"ticker\":{\"id\":\"1017\"}},\"id\":\"1016\",\"type\":\"DatetimeAxis\"},{\"attributes\":{},\"id\":\"1026\",\"type\":\"WheelZoomTool\"},{\"attributes\":{},\"id\":\"1049\",\"type\":\"AllLabels\"},{\"attributes\":{\"days\":[1,2,3,4,5,6,7,8,9,10,11,12,13,14,15,16,17,18,19,20,21,22,23,24,25,26,27,28,29,30,31]},\"id\":\"1065\",\"type\":\"DaysTicker\"},{\"attributes\":{\"overlay\":{\"id\":\"1029\"}},\"id\":\"1027\",\"type\":\"BoxZoomTool\"},{\"attributes\":{},\"id\":\"1046\",\"type\":\"AllLabels\"},{\"attributes\":{\"days\":[1,4,7,10,13,16,19,22,25,28]},\"id\":\"1066\",\"type\":\"DaysTicker\"},{\"attributes\":{},\"id\":\"1012\",\"type\":\"LinearScale\"},{\"attributes\":{\"margin\":[5,5,5,5],\"name\":\"HSpacer01631\",\"sizing_mode\":\"stretch_width\"},\"id\":\"1096\",\"type\":\"Spacer\"},{\"attributes\":{\"source\":{\"id\":\"1037\"}},\"id\":\"1044\",\"type\":\"CDSView\"},{\"attributes\":{\"days\":[1,8,15,22]},\"id\":\"1067\",\"type\":\"DaysTicker\"},{\"attributes\":{},\"id\":\"1014\",\"type\":\"LinearScale\"},{\"attributes\":{\"days\":[1,15]},\"id\":\"1068\",\"type\":\"DaysTicker\"},{\"attributes\":{},\"id\":\"1028\",\"type\":\"ResetTool\"},{\"attributes\":{},\"id\":\"1038\",\"type\":\"Selection\"},{\"attributes\":{\"end\":18.1246,\"reset_end\":18.1246,\"reset_start\":11.9614,\"start\":11.9614,\"tags\":[[[\"temperature\",\"temperature\",null]]]},\"id\":\"1005\",\"type\":\"Range1d\"},{\"attributes\":{},\"id\":\"1047\",\"type\":\"DatetimeTickFormatter\"},{\"attributes\":{\"months\":[0,1,2,3,4,5,6,7,8,9,10,11]},\"id\":\"1069\",\"type\":\"MonthsTicker\"},{\"attributes\":{\"months\":[0,2,4,6,8,10]},\"id\":\"1070\",\"type\":\"MonthsTicker\"},{\"attributes\":{},\"id\":\"1021\",\"type\":\"BasicTicker\"},{\"attributes\":{\"line_color\":\"#30a2da\",\"line_width\":2,\"x\":{\"field\":\"time\"},\"y\":{\"field\":\"temperature\"}},\"id\":\"1045\",\"type\":\"Line\"},{\"attributes\":{},\"id\":\"1061\",\"type\":\"UnionRenderers\"},{\"attributes\":{\"text\":\"Land and Ocean Daily Average Temperatures (1850 - 2016)\",\"text_color\":\"black\",\"text_font_size\":\"12pt\"},\"id\":\"1008\",\"type\":\"Title\"},{\"attributes\":{\"months\":[0,4,8]},\"id\":\"1071\",\"type\":\"MonthsTicker\"},{\"attributes\":{\"children\":[{\"id\":\"1003\"},{\"id\":\"1007\"},{\"id\":\"1096\"}],\"margin\":[0,0,0,0],\"name\":\"Row01626\",\"tags\":[\"embedded\"]},\"id\":\"1002\",\"type\":\"Row\"},{\"attributes\":{\"num_minor_ticks\":5,\"tickers\":[{\"id\":\"1062\"},{\"id\":\"1063\"},{\"id\":\"1064\"},{\"id\":\"1065\"},{\"id\":\"1066\"},{\"id\":\"1067\"},{\"id\":\"1068\"},{\"id\":\"1069\"},{\"id\":\"1070\"},{\"id\":\"1071\"},{\"id\":\"1072\"},{\"id\":\"1073\"}]},\"id\":\"1017\",\"type\":\"DatetimeTicker\"},{\"attributes\":{\"months\":[0,6]},\"id\":\"1072\",\"type\":\"MonthsTicker\"},{\"attributes\":{\"margin\":[5,5,5,5],\"name\":\"HSpacer01630\",\"sizing_mode\":\"stretch_width\"},\"id\":\"1003\",\"type\":\"Spacer\"},{\"attributes\":{\"axis\":{\"id\":\"1016\"},\"grid_line_color\":null,\"ticker\":null},\"id\":\"1019\",\"type\":\"Grid\"},{\"attributes\":{\"end\":1448928000000.0,\"reset_end\":1448928000000.0,\"reset_start\":-3786825600000.0,\"start\":-3786825600000.0,\"tags\":[[[\"time\",\"time\",null]]]},\"id\":\"1004\",\"type\":\"Range1d\"},{\"attributes\":{},\"id\":\"1050\",\"type\":\"BasicTickFormatter\"},{\"attributes\":{\"mantissas\":[1,2,5],\"max_interval\":500.0,\"num_minor_ticks\":0},\"id\":\"1062\",\"type\":\"AdaptiveTicker\"},{\"attributes\":{},\"id\":\"1073\",\"type\":\"YearsTicker\"},{\"attributes\":{\"axis\":{\"id\":\"1020\"},\"dimension\":1,\"grid_line_color\":null,\"ticker\":null},\"id\":\"1023\",\"type\":\"Grid\"},{\"attributes\":{\"axis_label\":\"Temperature (Celsius)\",\"formatter\":{\"id\":\"1050\"},\"major_label_policy\":{\"id\":\"1049\"},\"ticker\":{\"id\":\"1021\"}},\"id\":\"1020\",\"type\":\"LinearAxis\"}],\"root_ids\":[\"1002\"]},\"title\":\"Bokeh Application\",\"version\":\"2.3.3\"}};\n",
       "    var render_items = [{\"docid\":\"2f740c60-c243-4254-808a-8b8b48b5b77b\",\"root_ids\":[\"1002\"],\"roots\":{\"1002\":\"3a4015b6-2b61-49a2-b622-8361d7d8d250\"}}];\n",
=======
       "  <div class=\"bk-root\" id=\"566416a1-3d0a-4e56-9d50-9be357645b78\" data-root-id=\"26821\"></div>\n",
       "</div>\n",
       "<script type=\"application/javascript\">(function(root) {\n",
       "  function embed_document(root) {\n",
       "    var docs_json = {\"2ddb09f7-4ed9-4d14-adf1-3f30491b7477\":{\"defs\":[{\"extends\":null,\"module\":null,\"name\":\"ReactiveHTML1\",\"overrides\":[],\"properties\":[]},{\"extends\":null,\"module\":null,\"name\":\"FlexBox1\",\"overrides\":[],\"properties\":[{\"default\":\"flex-start\",\"kind\":null,\"name\":\"align_content\"},{\"default\":\"flex-start\",\"kind\":null,\"name\":\"align_items\"},{\"default\":\"row\",\"kind\":null,\"name\":\"flex_direction\"},{\"default\":\"wrap\",\"kind\":null,\"name\":\"flex_wrap\"},{\"default\":\"flex-start\",\"kind\":null,\"name\":\"justify_content\"}]},{\"extends\":null,\"module\":null,\"name\":\"TemplateActions1\",\"overrides\":[],\"properties\":[{\"default\":0,\"kind\":null,\"name\":\"open_modal\"},{\"default\":0,\"kind\":null,\"name\":\"close_modal\"}]},{\"extends\":null,\"module\":null,\"name\":\"MaterialTemplateActions1\",\"overrides\":[],\"properties\":[{\"default\":0,\"kind\":null,\"name\":\"open_modal\"},{\"default\":0,\"kind\":null,\"name\":\"close_modal\"}]}],\"roots\":{\"references\":[{\"attributes\":{\"mantissas\":[1,2,5],\"max_interval\":500.0,\"num_minor_ticks\":0},\"id\":\"26881\",\"type\":\"AdaptiveTicker\"},{\"attributes\":{\"days\":[1,8,15,22]},\"id\":\"26886\",\"type\":\"DaysTicker\"},{\"attributes\":{\"axis_label\":\"Temperature (Celsius)\",\"formatter\":{\"id\":\"26868\"},\"major_label_policy\":{\"id\":\"26870\"},\"ticker\":{\"id\":\"26840\"}},\"id\":\"26839\",\"type\":\"LinearAxis\"},{\"attributes\":{\"days\":[1,15]},\"id\":\"26887\",\"type\":\"DaysTicker\"},{\"attributes\":{\"months\":[0,2,4,6,8,10]},\"id\":\"26889\",\"type\":\"MonthsTicker\"},{\"attributes\":{\"bottom_units\":\"screen\",\"fill_alpha\":0.5,\"fill_color\":\"lightgrey\",\"left_units\":\"screen\",\"level\":\"overlay\",\"line_alpha\":1.0,\"line_color\":\"black\",\"line_dash\":[4,4],\"line_width\":2,\"right_units\":\"screen\",\"syncable\":false,\"top_units\":\"screen\"},\"id\":\"26848\",\"type\":\"BoxAnnotation\"},{\"attributes\":{\"months\":[0,1,2,3,4,5,6,7,8,9,10,11]},\"id\":\"26888\",\"type\":\"MonthsTicker\"},{\"attributes\":{\"line_alpha\":0.1,\"line_color\":\"#30a2da\",\"line_width\":2,\"x\":{\"field\":\"time\"},\"y\":{\"field\":\"temperature\"}},\"id\":\"26860\",\"type\":\"Line\"},{\"attributes\":{\"days\":[1,2,3,4,5,6,7,8,9,10,11,12,13,14,15,16,17,18,19,20,21,22,23,24,25,26,27,28,29,30,31]},\"id\":\"26884\",\"type\":\"DaysTicker\"},{\"attributes\":{},\"id\":\"26840\",\"type\":\"BasicTicker\"},{\"attributes\":{\"days\":[1,4,7,10,13,16,19,22,25,28]},\"id\":\"26885\",\"type\":\"DaysTicker\"},{\"attributes\":{\"active_multi\":null,\"tools\":[{\"id\":\"26825\"},{\"id\":\"26843\"},{\"id\":\"26844\"},{\"id\":\"26845\"},{\"id\":\"26846\"},{\"id\":\"26847\"}]},\"id\":\"26849\",\"type\":\"Toolbar\"},{\"attributes\":{\"axis\":{\"id\":\"26839\"},\"dimension\":1,\"grid_line_color\":null,\"ticker\":null},\"id\":\"26842\",\"type\":\"Grid\"},{\"attributes\":{\"months\":[0,4,8]},\"id\":\"26890\",\"type\":\"MonthsTicker\"},{\"attributes\":{\"data_source\":{\"id\":\"26856\"},\"glyph\":{\"id\":\"26859\"},\"hover_glyph\":null,\"muted_glyph\":{\"id\":\"26861\"},\"nonselection_glyph\":{\"id\":\"26860\"},\"selection_glyph\":{\"id\":\"26864\"},\"view\":{\"id\":\"26863\"}},\"id\":\"26862\",\"type\":\"GlyphRenderer\"},{\"attributes\":{\"callback\":null,\"formatters\":{\"@{time}\":\"datetime\"},\"renderers\":[{\"id\":\"26862\"}],\"tags\":[\"hv_created\"],\"tooltips\":[[\"time\",\"@{time}{%F %T}\"],[\"temperature\",\"@{temperature}\"]]},\"id\":\"26825\",\"type\":\"HoverTool\"},{\"attributes\":{\"months\":[0,6]},\"id\":\"26891\",\"type\":\"MonthsTicker\"},{\"attributes\":{\"line_alpha\":0.2,\"line_color\":\"#30a2da\",\"line_width\":2,\"x\":{\"field\":\"time\"},\"y\":{\"field\":\"temperature\"}},\"id\":\"26861\",\"type\":\"Line\"},{\"attributes\":{\"line_color\":\"#30a2da\",\"line_width\":2,\"x\":{\"field\":\"time\"},\"y\":{\"field\":\"temperature\"}},\"id\":\"26864\",\"type\":\"Line\"},{\"attributes\":{},\"id\":\"26867\",\"type\":\"AllLabels\"},{\"attributes\":{\"margin\":[5,5,5,5],\"name\":\"HSpacer29099\",\"sizing_mode\":\"stretch_width\"},\"id\":\"26822\",\"type\":\"Spacer\"},{\"attributes\":{\"source\":{\"id\":\"26856\"}},\"id\":\"26863\",\"type\":\"CDSView\"},{\"attributes\":{},\"id\":\"26892\",\"type\":\"YearsTicker\"},{\"attributes\":{\"end\":18.1246,\"reset_end\":18.1246,\"reset_start\":11.9614,\"start\":11.9614,\"tags\":[[[\"temperature\",\"temperature\",null]]]},\"id\":\"26824\",\"type\":\"Range1d\"},{\"attributes\":{},\"id\":\"26857\",\"type\":\"Selection\"},{\"attributes\":{\"below\":[{\"id\":\"26835\"}],\"center\":[{\"id\":\"26838\"},{\"id\":\"26842\"}],\"height\":300,\"left\":[{\"id\":\"26839\"}],\"margin\":[5,5,5,5],\"min_border_bottom\":10,\"min_border_left\":10,\"min_border_right\":10,\"min_border_top\":10,\"renderers\":[{\"id\":\"26862\"}],\"sizing_mode\":\"fixed\",\"title\":{\"id\":\"26827\"},\"toolbar\":{\"id\":\"26849\"},\"width\":700,\"x_range\":{\"id\":\"26823\"},\"x_scale\":{\"id\":\"26831\"},\"y_range\":{\"id\":\"26824\"},\"y_scale\":{\"id\":\"26833\"}},\"id\":\"26826\",\"subtype\":\"Figure\",\"type\":\"Plot\"},{\"attributes\":{},\"id\":\"26844\",\"type\":\"PanTool\"},{\"attributes\":{},\"id\":\"26843\",\"type\":\"SaveTool\"},{\"attributes\":{},\"id\":\"26868\",\"type\":\"BasicTickFormatter\"},{\"attributes\":{},\"id\":\"26847\",\"type\":\"ResetTool\"},{\"attributes\":{\"line_color\":\"#30a2da\",\"line_width\":2,\"x\":{\"field\":\"time\"},\"y\":{\"field\":\"temperature\"}},\"id\":\"26859\",\"type\":\"Line\"},{\"attributes\":{},\"id\":\"26845\",\"type\":\"WheelZoomTool\"},{\"attributes\":{\"data\":{\"temperature\":{\"__ndarray__\":\"0CLb+X6qKUCTGARWDi0rQLx0kxgEFixAL90kBoFVLUDdJAaBlQMvQO18PzVeWjBAnMQgsHLIMEArhxbZzrcwQBKDwMqhxS9AtvP91HipLUAlBoGVQ8srQJqZmZmZmSpAPQrXo3B9KkC28/3UeKkqQCUGgZVDyytASOF6FK5HLUCYbhKDwIovQObQItv5fjBA2/l+arzUMEDm0CLb+Z4wQAIrhxbZDjBAkxgEVg5tLkDfT42XblIsQC2yne+nRitAg8DKoUV2KkCsHFpkO58qQEa28/3UeCtA30+Nl26SLUA/NV66ScwvQFg5tMh2njBAlkOLbOf7MEA3iUFg5ZAwQH0/NV66CTBAQmDl0CJbLkBMN4lBYOUrQKrx0k1ikCtA8KfGSzdJKkDTTWIQWLkqQDeJQWDlECxASgwCK4fWLUC8dJMYBJYvQBWuR+F6dDBAOrTIdr7/MEBEi2zn+8kwQPyp8dJN4i9Ac2iR7Xy/LUCcxCCwcqgrQNrO91PjpSpAnu+nxkv3KUDl0CLb+X4qQCGwcmiRLSxApHA9CtfjLUC8dJMYBJYvQO+nxks3STBAZ2ZmZmbGMECiRbbz/bQwQAwCK4cWGTBAqMZLN4nBLkDl0CLb+T4sQMl2vp8a7ypA+FPjpZvEKkCYbhKDwEorQPLSTWIQWCxAObTIdr5fLkC+nxov3aQvQFK4HoXrcTBAzczMzMysMECQwvUoXK8wQJzEILByqC9AZmZmZmYmLkAj2/l+ajwsQK5H4XoUbipAI9v5fmq8KkCsHFpkO58qQESLbOf76StApHA9CtfjLUDHSzeJQaAvQMuhRbbzfTBAzczMzMysMECkcD0K12MwQNR46SYxSC9AN4lBYOWQLUCDwMqhRbYrQDEIrBxapCpAi2zn+6nxKUCG61G4HsUqQKJFtvP91CtAg8DKoUX2LEADK4cW2Y4uQM3MzMzMLDBA7Xw/NV56MEAv3SQGgXUwQK5H4XoUri9AvHSTGATWLUCcxCCwcqgrQJZDi2znuypA/dR46SZxKkAUrkfhepQqQEoMAiuHFixAyXa+nxrvLUCiRbbz/RQvQHnpJjEILDBAw/UoXI+CMEB3vp8aL30wQNEi2/l+qi9A7nw/NV46LkD4U+Olm0QsQC2yne+nhipABFYOLbIdKkApXI/C9agqQGiR7Xw/NSxAvp8aL91kLkAj2/l+arwvQGdmZmZmZjBAWDm0yHZ+MEAzMzMzM3MwQCGwcmiRLS9AObTIdr4fLkDjpZvEIDAsQC2yne+nBitA16NwPQpXKkAMAiuHFtkqQCGwcmiRbStARrbz/dS4LUBqvHSTGIQvQEoMAiuHVjBA6iYxCKy8MED8qfHSTaIwQDVeukkMIjBA9P3UeOkmLkDy0k1iENgrQA4tsp3vpylAMzMzMzPzKEAw3SQGgdUpQNrO91PjpStA8KfGSzcJLkDufD81XvouQM/3U+OlWzBAeekmMQiMMECd76fGS7cwQLTIdr6f2i9Aj8L1KFzPLUBxPQrXozAsQAaBlUOLrCpAN4lBYOVQKUD8qfHSTWIqQEoMAiuHFixAZmZmZmamLUDRItv5fmovQNNNYhBYWTBAK4cW2c6XMEB0kxgEVk4wQPp+arx0ky9A5/up8dLNLUDFILByaJErQBBYObTIdilAZDvfT42XKkD4U+Olm0QrQE+Nl24SAyxAhetRuB4FLkBMN4lBYKUvQNNNYhBYOTBAMzMzMzOTMEAdWmQ7328wQLKd76fGyy9A2/l+arz0LUCWQ4ts5/srQIPAyqFFtipANV66SQzCKUDNzMzMzIwqQHsUrkfh+itAKVyPwvWoLUDByqFFtrMvQD4K16NwfTBA16NwPQq3MEBYObTIdn4wQDMzMzMzsy9Ai2zn+6nxLUDUeOkmMUgsQJhuEoPAiipAqMZLN4kBK0BPjZduEgMrQIcW2c730ytARrbz/dS4LUBPjZduEoMvQESLbOf7aTBAOrTIdr6/MEDVeOkmMagwQKJFtvP9FDBAqvHSTWJQLkDByqFFtjMsQIXrUbgehSpAyXa+nxrvKkB56SYxCCwrQGZmZmZm5itAkxgEVg5tLUDD9Shcj0IvQH9qvHSTmDBAj8L1KFwPMUBSuB6F67EwQLx0kxgE1i9AObTIdr4fLkDNzMzMzIwsQBBYObTIditAy6FFtvO9KkDRItv5fuoqQEw3iUFgJSxAMzMzMzMzLkAfhetRuB4vQARWDi2yXTBAeekmMQisMEBOYhBYOXQwQBODwMqhJTBAiUFg5dCiLkDdJAaBlUMtQEJg5dAiGytAoBov3SQGKkDXo3A9CpcqQIXrUbgeRSxARIts5/spLkCWQ4ts5/svQIGVQ4tshzBAZ2ZmZmYGMUBeukkMAsswQAisHFpkGzBAjZduEoPALkAMAiuHFlksQPCnxks3SStAhxbZzveTKkD0/dR46eYrQL6fGi/d5CtA1HjpJjEILkCYbhKDwMovQEw3iUFgZTBAmG4Sg8CqMEC9dJMYBLYwQK5H4XoULjBAZDvfT41XLkDD9Shcj4IsQHe+nxovnSpAzvdT46WbKkAshxbZzrcqQLpJDAIrRyxAtMh2vp8aLkD0/dR46aYvQItBYOXQgjBAXI/C9SjcMEDLoUW2850wQKabxCCwEjBA6SYxCKwcLkCcxCCwcigsQCYxCKwcWipAIbByaJEtKkAMAiuHFpkqQBkEVg4tcixAnu+nxkt3LkAK16NwPYovQGmR7Xw/dTBAz/dT46XbMEC7SQwCK6cwQIXrUbgeBTBArBxaZDsfLkCLbOf7qfErQB+F61G43ipAokW28/0UKkCNl24Sg8AqQBBYObTINixA46WbxCDwLUC0yHa+n9ovQCPb+X5qXDBAK4cW2c7XMEDfT42XbtIwQEA1XrpJLDBA6SYxCKxcLkDByqFFtjMsQLbz/dR4qSpA2/l+ary0KkBEi2zn+2krQFpkO99PTSxANV66SQzCLUAxCKwcWqQvQOj7qfHSbTBArkfhehTOMEBg5dAi27kwQK5H4XoU7i9Aw/UoXI9CLkDjpZvEIDAsQB1aZDvfDytAYhBYObTIKkDRItv5fuoqQHe+nxovnStAUrgehevRLUAAAAAAAIAvQL10kxgENjBAH4XrUbi+MECF61G4HqUwQKwcWmQ7HzBAw/UoXI8CLkAtsp3vpwYsQCYxCKwc2ipA5/up8dINKkAzMzMzM7MqQKabxCCw8itAf2q8dJPYLUAv3SQGgZUvQM/3U+OlWzBAAiuHFtmuMEAW2c73U6MwQMl2vp8aDzBAAAAAAABALkCPwvUoXM8rQGiR7Xw/dSpAMzMzMzMzKkDLoUW28/0qQPLSTWIQGCxAZmZmZmbmLUCkcD0K1yMvQAzXo3A9SjBADAIrhxbZMEBOYhBYOZQwQEjhehSuxy9A8tJNYhAYLkB1kxgEVs4rQIlBYOXQYipA6SYxCKycKkAQWDm0yHYrQF66SQwC6yxAjZduEoNALkBoke18P7UvQPLSTWIQmDBAGy/dJAYBMUD6fmq8dBMxQB1aZDvfbzBA30+Nl24SL0BU46WbxCAtQJzEILByaCtA+X5qvHQTK0C0yHa+n1osQN0kBoGVwy1ATDeJQWAlL0BqvHSTGAQwQL10kxgEtjBAOrTIdr7/MEBI4XoUrucwQDEIrBxaRDBAd76fGi+dLkAtsp3vp8YsQFpkO99PDStAppvEILCyKkDD9Shcj0IrQK5H4XoUrixA001iEFj5LUB3vp8aL50vQMZLN4lBgDBA5tAi2/m+MEDD9Shcj6IwQG8Sg8DKATBAAAAAAACALkAOLbKd72csQIlBYOXQoipANV66SQxCKkCq8dJNYtAqQLKd76fGiyxAarx0kxgELkAzMzMzM7MvQGdmZmZmZjBAHVpkO9+vMEBSuB6F67EwQLx0kxgE1i9APzVeukkMLkCe76fGS3csQPYoXI/C9SpAmG4Sg8DKKkAAAAAAAEArQPYoXI/CtSxAYhBYObSILkBzaJHtfP8vQE5iEFg5VDBAnMQgsHLIMEAK16NwPaowQBBYObTI9i9AexSuR+E6LkB9PzVeugksQBKDwMqhBStA3SQGgZVDK0BWDi2yna8rQCGwcmiRrSxAHVpkO98PLkBvEoPAyqEvQEFg5dAiWzBA/Knx0k2iMEAhsHJoka0wQM/3U+OlGzBAJQaBlUMLLkA3iUFg5RAsQDm0yHa+XypAg8DKoUU2KkCe76fGS7cqQEa28/3UeCxAokW28/3ULUBmZmZmZqYvQFCNl24SgzBARIts5/upMEB9PzVeuokwQLbz/dR46S9Az/dT46UbLkCJQWDl0OIrQPT91Hjp5ipAAyuHFtmOKkAzMzMzMzMrQIcW2c730ytAsXJoke18LUAEVg4tsh0vQJDC9ShcLzBAyXa+nxpvMECcxCCwcmgwQPT91Hjppi9AnMQgsHLoLUCBlUOLbKcrQArXo3A9iipAukkMAivHKUCBlUOLbKcqQJhuEoPACixAWDm0yHZ+LUDhehSuRyEvQHsUrkfhGjBAYOXQItuZMEDjpZvEIHAwQKrx0k1i0C9Az/dT46UbLkB3vp8aLx0sQC/dJAaBFStAjZduEoMAKkAmMQisHFoqQC2yne+nxitAO99PjZeuLUAGgZVDi6wvQOFPjZduMjBArBxaZDufMEBpke18P3UwQLbz/dR4qS9AaJHtfD/1LUAbL90kBsErQG8Sg8DKoSpAPQrXo3A9KUD91HjpJjEqQDEIrBxa5CtAbxKDwMrhLUBaZDvfT00vQBFYObTINjBA4XoUrkehMECsHFpkO18wQKJFtvP91C9Anu+nxkv3LUBt5/up8RIsQBKDwMqhxSpA3SQGgZVDKkCkcD0K16MqQIts5/up8StAx0s3iUHgLUD2KFyPwnUvQF6PwvUoXDBAVg4tsp2vMEAj2/l+apwwQD0K16Nw/S9AiUFg5dCiLkD4U+Olm4QsQJ7vp8ZLNytAL90kBoHVKkCcxCCwcugrQDEIrBxa5CxAXI/C9SicLkAUrkfhetQvQHNoke18fzBAsp3vp8bLMEC0yHa+n5owQPp+arx00y9ACKwcWmQ7LkDLoUW28/0rQFpkO99PzSpAiUFg5dAiKkB9PzVeuskqQNR46SYxyCtAAAAAAADALUBzaJHtfD8vQAAAAAAAQDBAukkMAiuHMEBaZDvfT20wQMl2vp8ary9ACtejcD0KLkBCYOXQIpsrQJZDi2znuypAbef7qfESKkB/arx0k5gqQG8Sg8DKYSxAvHSTGATWLUDjpZvEILAvQHnpJjEITDBAH4XrUbieMEAGgZVDi4wwQFK4HoXrETBAsp3vp8YLLkDXo3A9CtcrQJHtfD81HitAukkMAiuHKkAw3SQGgVUrQGiR7Xw/9StAzvdT46WbLUCPwvUoXE8vQCGwcmiRTTBAYOXQItt5MECkcD0K12MwQOXQItv5/i9AjZduEoNALkAQWDm0yHYrQDEIrBxaZCpAgZVDi2xnKUD2KFyPwnUqQEa28/3UOCxAy6FFtvO9LUBt5/up8VIvQG8Sg8DKYTBAfT81XrrJMEBnZmZmZqYwQHe+nxov3S9A5/up8dJNLkCcxCCwcigsQC2yne+nxipAhxbZzvcTKkApXI/C9egqQClcj8L1KCxASgwCK4eWLUAdWmQ7308vQGLl0CLbOTBAHVpkO9+vMEBxPQrXo5AwQLTIdr6f2i9AFK5H4XpULkDfT42XbhIsQIts5/upsSpAXrpJDAIrKkBCYOXQIpsqQO58PzVe+itAw/UoXI8CLkAOLbKd72cvQCcxCKwcWjBAne+nxku3MEDqJjEIrJwwQIPAyqFF9i9AWmQ7309NLkDjpZvEIHAsQC2yne+nBitACKwcWmS7KkD0/dR46SYrQPLSTWIQGCxACtejcD3KLUD8qfHSTaIvQKRwPQrXgzBABFYOLbLdMEBQjZduEsMwQPhT46WbJDBACtejcD2KLkA5tMh2vl8sQPCnxks3SStAObTIdr6fKkBcj8L1KBwrQOf7qfHSTSxAyXa+nxpvLkCF61G4HgUwQON6FK5HgTBAnMQgsHLIMECUGARWDq0wQMQgsHJoETBAvHSTGARWLkDy0k1iEBgsQFpkO99PzSpAmG4Sg8DKKkDufD81XroqQHNoke18fytAI9v5fmq8LUDLoUW28z0vQPhT46WbZDBAjZduEoOgMEBQjZduEoMwQIcW2c730y9AFK5H4XrULUAEVg4tst0rQMHKoUW2sypA6SYxCKycKkA/NV66ScwqQKjGSzeJASxAWmQ7308NLkB56SYxCKwvQJLtfD81PjBAqvHSTWKwMEDm0CLb+b4wQCGwcmiRLTBAbef7qfGSLkApXI/C9egsQG3n+6nx0ipAYhBYObRIKkDn+6nx0o0rQM3MzMzMzCxA16NwPQpXLkApXI/C9egvQKRwPQrXgzBAKVyPwvXIMEBt5/up8bIwQDq0yHa+HzBA5dAi2/m+LkBU46WbxGAsQBkEVg4tMitAFK5H4XqUKkBSuB6F61ErQGq8dJMYxCxAcT0K16NwLkCsHFpkO98vQDmJQWDlcDBAK4cW2c63MEB9PzVeuqkwQMZLN4lBADBABoGVQ4ssLkDByqFFtjMsQMP1KFyPwipAtMh2vp+aKkBvEoPAymErQDMzMzMzMyxA0SLb+X7qLUDjpZvEIHAvQGMQWDm0SDBAcT0K16OwMECd76fGS5cwQNV46SYxCDBACKwcWmT7LUDn+6nx0s0rQHsUrkfheipAzczMzMyMKkC8dJMYBFYrQJqZmZmZGSxAJjEIrByaLUAK16NwPUovQO+nxks3KTBA5tAi2/l+MEDo+6nx0k0wQJhuEoPAii9A7FG4HoWrLUAOLbKd76crQClcj8L1aCpARIts5/vpKUADK4cW2U4qQCyHFtnOtytAw/UoXI+CLUBMN4lBYCUvQKJFtvP9NDBAZ2ZmZmaGMEC7SQwCK2cwQPCnxks3iS9Avp8aL93kLUB9PzVeukksQARWDi2y3SpAKVyPwvVoKkC28/3UeGkqQFK4HoXrESxAEFg5tMi2LUD6fmq8dJMvQBsv3SQGYTBALbKd76emMEACK4cW2Y4wQBsv3SQGATBAO99PjZcuLkAQWDm0yHYsQGZmZmZm5ipAAAAAAACAKkAbL90kBgErQD0K16NwfSxA9ihcj8J1LkB9PzVeuokvQFYOLbKdbzBAtvP91HipMEArhxbZzpcwQGZmZmZm5i9A5/up8dJNLkDP91PjpRssQBSuR+F6FCtAnu+nxks3KkDdJAaBlYMqQM3MzMzMTCxAvHSTGATWLUBOYhBYOTQvQFTjpZvEQDBAf2q8dJOYMEDb+X5qvHQwQOf7qfHSzS9AxSCwcmhRLkBYObTIdr4rQDMzMzMzcypAUrgehetRKkBvEoPAyuEqQDeJQWDlkCtAJjEIrByaLUDdJAaBlYMvQESLbOf7STBAku18PzWeMEA+CtejcF0wQFyPwvUo3C9Aarx0kxjELUDJdr6fGq8rQFTjpZvEYCpAIbByaJGtKUAzMzMzM7MqQE5iEFg5tCtA46WbxCBwLUAzMzMzMzMvQDmJQWDlMDBAHVpkO99vMEDm0CLb+X4wQKabxCCwsi9AbxKDwMrhLUAj2/l+avwrQMl2vp8abypAukkMAitHKkD8qfHSTaIqQFg5tMh2vitAcT0K16OwLUAGgZVDi2wvQN8kBoGVQzBAXrpJDAKLMEAnMQisHHowQAAAAAAAwC9AfT81XroJLkAAAAAAAIArQNR46SYxCCpAN4lBYOXQKUCHFtnO91MqQBsv3SQGgStAO99PjZduLUBYObTIdv4uQM/3U+OlGzBAdJMYBFZuMEBQjZduEmMwQAwCK4cWmS9Ax0s3iUEgLkA5tMh2vh8sQJqZmZmZ2SpAc2iR7Xx/KkBxPQrXozArQD0K16Nw/StA4XoUrkchLkDHSzeJQaAvQBODwMqhZTBA/Knx0k2CMEDJdr6fGk8wQB+F61G4Xi9AjZduEoOALUBCYOXQItsrQPYoXI/CdSpAbxKDwMohKkDjpZvEILAqQA4tsp3v5ytARIts5/vpLUDP91PjpVsvQJ3vp8ZLNzBAWmQ730+NMEDm0CLb+X4wQJZDi2znuy9AdZMYBFYOLkDl0CLb+T4sQHNoke18PytA16NwPQoXK0D0/dR46SYrQNv5fmq8NCxA8KfGSzcJLkAQWDm0yLYvQLSd76fGazBAukkMAiunMED+1HjpJrEwQDMzMzMzEzBAGQRWDi1yLkCPwvUoXE8sQIts5/upMStApHA9CtejKkCamZmZmVkrQKRwPQrXoyxAL90kBoGVLkD+1HjpJhEwQFK4HoXrcTBA/tR46SbRMEBaZDvfT80wQCcxCKwcGjBAVg4tsp0vLkA1XrpJDIIsQPp+arx0EytASgwCK4eWKkC28/3UeCkrQMuhRbbzPSxAMzMzMzPzLUADK4cW2Y4vQAzXo3A9SjBA001iEFiZMECJQWDl0IIwQLTIdr6f2i9ASgwCK4fWLUBU46WbxKArQE+Nl24SAypArkfhehSuKUCmm8QgsDIqQCYxCKwcmitA4XoUrkehLUBt5/up8RIvQHe+nxovPTBA2/l+ary0MEAVrkfhepQwQAIrhxbZDjBA/Knx0k3iLUAbL90kBgEsQBkEVg4tMipANV66SQxCKkA5tMh2vp8qQMUgsHJoESxASgwCK4eWLUCe76fGS3cvQHSTGARWTjBAf2q8dJOYMEBaZDvfT40wQG3n+6nxEjBAGy/dJAaBLkDy0k1iEJgsQFTjpZvE4CpAke18PzWeKkBCYOXQIlsrQHE9CtejcCxAqMZLN4mBLkCLbOf7qbEvQAAAAAAAYDBAokW28/2UMEBzaJHtfH8wQGZmZmZmBjBAlkOLbOc7LkCHFtnO99MrQC2yne+nhipA3SQGgZWDKkCLbOf7qbEqQAAAAAAAgCxAnMQgsHIoLkD2KFyPwrUvQAzXo3A9ajBAxCCwcmixMEDGSzeJQaAwQMuhRbbzHTBAtvP91HhpLkDFILByaFEsQKwcWmQ7nypAVOOlm8TgKkBYObTIdj4rQKjGSzeJQSxAw/UoXI8CLkD0/dR46aYvQD4K16NwfTBAnMQgsHLIMECS7Xw/NZ4wQNEi2/l+KjBAUrgeheuRLkBGtvP91HgsQBsv3SQGQStAtMh2vp9aKkAOLbKd7+cqQD0K16NwfSxAvHSTGARWLkB1kxgEVo4vQA8tsp3vZzBAH4XrUbi+MEDVeOkmMYgwQIPAyqFF9i9AvHSTGAQWLkCWQ4ts5zssQKjGSzeJAStAexSuR+F6KkCe76fGS7cqQAwCK4cWGSxAXrpJDALrLUCmm8QgsHIvQMHKoUW2czBAVOOlm8SgMEAK16NwPYowQJZDi2zn+y9Ac2iR7Xx/LkADK4cW2c4sQO58PzVeeitAQmDl0CKbKkDsUbgehSsrQGZmZmZmpixAtvP91HgpLkC8dJMYBNYvQL10kxgEdjBA001iEFi5MEB0kxgEVo4wQFTjpZvEADBAL90kBoEVLkDdJAaBlUMsQMl2vp8arypAqvHSTWJQKkBGtvP91LgqQI/C9ShcTyxAEoPAyqEFLkD2KFyPwrUvQH0/NV66aTBAPgrXo3C9MECd76fGS7cwQKRwPQrXIzBA/dR46SZxLkC8dJMYBNYsQCUGgZVDyytA7nw/NV56K0DJdr6fGq8rQN9PjZduEi1AIbByaJFtLkB3vp8aL90vQNv5fmq8lDBAa7x0kxjEMEDNzMzMzMwwQEa28/3UODBAWDm0yHa+LkDByqFFtrMsQPp+arx0EytATDeJQWClKkDNzMzMzEwrQF66SQwCKyxA16NwPQoXLkDl0CLb+b4vQI1s5/upcTBAHVpkO9/PMEDLoUW2870wQNNNYhBYOTBAH4XrUbjeLkDJdr6fGq8sQCPb+X5q/CpAoBov3SRGK0CLbOf7qXErQGiR7Xw/dSxAjZduEoNALkDD9Shcj8IvQHsUrkfhWjBAsp3vp8bLMEAzMzMzM7MwQDeJQWDlEDBAEFg5tMh2LkBaZDvfT40sQIlBYOXQIitAoBov3SRGKkAIrBxaZHsqQJzEILByKCxA001iEFj5LUA730+Nl24vQIkW2c73UzBA16NwPQqXMECyne+nxqswQGQ730+NFzBA5dAi2/l+LkDHSzeJQaAsQESLbOf7aSpAhetRuB6FKkAUrkfhehQrQPT91HjppixAtvP91HgpLkDfT42XbtIvQA4CK4cWeTBAtMh2vp/aMEDRItv5fsowQAAAAAAAQDBA9ihcj8K1LkDD9ShcjwItQKabxCCwcitAAyuHFtkOK0DLoUW28z0rQIts5/upsSxACKwcWmQ7LkBYObTIdr4vQON6FK5HoTBAZDvfT433MEBQjZduEuMwQCUGgZVDSzBATDeJQWDlLkD8qfHSTaIsQHnpJjEIbCtAObTIdr5fK0A3iUFg5VArQBsv3SQGgSxA7FG4HoWrLkD4U+OlmwQwQBsv3SQGgTBAf2q8dJPYMECuR+F6FK4wQBbZzvdTQzBAj8L1KFyPLkCamZmZmVksQARWDi2yHStAhetRuB6FKkBPjZduEgMrQE+Nl24SQyxAvHSTGAQWLkBMN4lBYKUvQIPAyqFFVjBATmIQWDm0MED6fmq8dLMwQKAaL90kBjBA8KfGSzdJLkBPjZduEkMsQE5iEFg5tCpAWmQ730+NKkD0/dR46WYrQL6fGi/dJCxACtejcD0KLkD0/dR46eYvQIkW2c73kzBAYOXQItvZMEA+CtejcL0wQFTjpZvEIDBARIts5/upLkBt5/up8dIsQH9qvHSTWCtADAIrhxaZKkAQWDm0yLYrQH0/NV66iSxALbKd76cGLkAZBFYOLbIvQBsv3SQGgTBADAIrhxbZMEDXo3A9CrcwQPhT46WbJDBArBxaZDufLkAX2c73UyMsQJqZmZmZGStAhetRuB6FKkA3iUFg5RArQLbz/dR4aSxAIbByaJEtLkAfhetRuN4vQKAaL90khjBAIbByaJHtMEBWDi2ync8wQDeJQWDlMDBAbef7qfHSLkCTGARWDq0sQGIQWDm0iCtAL90kBoHVKkADK4cW2c4rQFpkO99PjSxA2/l+arx0LkCTGARWDg0wQOj7qfHSrTBA6Pup8dINMUA3iUFg5fAwQPT91HjpZjBAsp3vp8YLL0C+nxov3eQsQJHtfD81XitA/dR46SYxK0CBlUOLbKcrQAisHFpk+yxAYOXQItu5LkDGSzeJQQAwQAqsHFpkmzBA5dAi2/neMECBlUOLbOcwQMuhRbbzXTBAWmQ7308NL0A3iUFg5dAsQOkmMQisHCtA+X5qvHQTK0DdJAaBlYMrQLKd76fGiyxAZDvfT42XLkAGgZVDiywwQIPAyqFFtjBAsHJoke38MEAxCKwcWuQwQM3MzMzMTDBAEFg5tMh2LkA1XrpJDMIsQAaBlUOLLCxA9P3UeOkmK0B3vp8aL90rQPYoXI/C9SxAgZVDi2znLkAUrkfhehQwQJqZmZmZuTBAc2iR7XwfMUAYBFYOLfIwQK5H4XoUbjBA+FPjpZvELkAbL90kBsEsQOxRuB6F6ytAWDm0yHY+K0AyCKwcWuQrQJqZmZmZ2SxAqvHSTWLQLkD0/dR46SYwQFTjpZvEwDBAqMZLN4khMUAK16NwPeowQHE9CtejMDBANV66SQxCL0AzMzMzM/MsQP3UeOkm8StAMQisHFqkK0Cyne+nxosrQPp+arx0Ey1Ad76fGi+dLkATg8DKoSUwQLbIdr6fujBA9P3UeOnmMEBrvHSTGMQwQKRwPQrXQzBAnu+nxku3LkAmMQisHNosQFg5tMh2vitAJQaBlUMLK0BU46WbxOArQMuhRbbzvSxA7FG4HoWrLkBzaJHtfB8wQH9qvHSTmDBAMzMzMzPzMEC28/3UeOkwQClcj8L1SDBAPQrXo3A9L0CPwvUoXA8tQESLbOf76StAF9nO91OjK0Cyne+nxgssQN0kBoGVQy1Ad76fGi/dLkCDwMqhRTYwQBODwMqhxTBAWDm0yHYeMUDLoUW28x0xQEa28/3UeDBA5dAi2/k+L0BaZDvfT80sQGIQWDm0iCtAeekmMQgsK0BYObTIdn4rQAaBlUOL7CxA6SYxCKzcLkCq8dJNYhAwQO+nxks3qTBA76fGSzfpMEBBYOXQIhsxQM/3U+OlWzBA2s73U+MlL0AOLbKd7+csQAisHFpkOytALbKd76dGK0BvEoPAyqErQLpJDAIrBy1AbxKDwMrhLkCxcmiR7fwvQBbZzvdTgzBAjGzn+6nxMEBlO99PjbcwQI2XbhKDQDBAObTIdr7fLkAshxbZzrcsQHWTGARWDitAqvHSTWIQK0BEi2zn+6krQBSuR+F6FC1A5dAi2/m+LkARWDm0yBYwQPp+arx0szBADAIrhxb5MEDo+6nx0s0wQIlBYOXQQjBAexSuR+H6LkAfhetRuN4sQPyp8dJNYitAokW28/1UK0D8qfHSTWIrQMUgsHJokSxA1HjpJjGILkA/NV66SSwwQMuhRbbzvTBA46WbxCDwMED0/dR46eYwQJHtfD81PjBAukkMAivHLkAMAiuHFpksQBSuR+F6FCtAnMQgsHJoK0CsHFpkO18rQL6fGi/dpCxAObTIdr6fLkDjpZvEIBAwQGU730+NdzBAPN9PjZfOMECyne+nxsswQFpkO99PLTBAAAAAAADALkC28/3UeKksQGq8dJMYRCtArBxaZDufKkDP91PjpRsrQGQ730+NlyxAVg4tsp0vLkCcxCCwcggwQClcj8L1qDBAQWDl0CL7MEBBYOXQIrswQDq0yHa+HzBAPQrXo3B9LkAfhetRuB4sQHnpJjEILCtAO99PjZeuKkBg5dAi2/kqQHWTGARWjixATDeJQWBlLkCcxCCwcigwQPhT46WbxDBAsp3vp8YLMUDb+X5qvBQxQK5H4XoUbjBAAyuHFtkOL0Dy0k1iENgsQD0K16Nw/StAoBov3SSGK0D4U+OlmwQsQOXQItv5vixAYOXQItu5LkAbL90kBiEwQMZLN4lBwDBAxCCwcmgRMUDByqFFtvMwQIXrUbgeZTBAke18PzXeLkBeukkMAqssQG3n+6nxkitAYhBYObRIK0AK16NwPQosQKwcWmQ7Hy1A8KfGSzcJL0BqvHSTGEQwQKRwPQrX4zBASgwCK4cWMUBcj8L1KPwwQF66SQwCazBA/dR46SbxLkBEi2zn+6ksQNNNYhBYuStAw/UoXI/CKkA3iUFg5ZArQIXrUbgexSxAwcqhRbZzLkD91HjpJvEvQJZDi2znmzBAYOXQItvZMEA3iUFg5dAwQAwCK4cWOTBAf2q8dJPYLkD2KFyPwvUsQD0K16NwPStAyXa+nxpvK0BWDi2ynW8rQM/3U+OlWyxAsXJoke08LkDdJAaBlcMvQK5H4XoUjjBAyXa+nxrPMECgGi/dJOYwQNnO91PjJTBA0SLb+X6qLkB56SYxCGwsQCUGgZVDCytAF9nO91PjKkCNl24Sg0ArQIPAyqFFdixAAyuHFtkOLkBMN4lBYKUvQEa28/3UeDBAFa5H4XrUMEB7FK5H4ZowQEoMAiuHFjBAxSCwcmhRLkASg8DKoYUsQJzEILByaCtAGQRWDi3yKkDP91PjpZsrQE+Nl24SwyxA2s73U+OlLkCd76fGSzcwQFTjpZvE4DBAYxBYObQIMUAGgZVDiwwxQOF6FK5HYTBAkxgEVg7tLkDUeOkmMQgtQP3UeOkm8StAT42XbhLDK0AyCKwcWiQsQPLSTWIQGC1ALIcW2c63LkCuR+F6FC4wQFg5tMh2njBARIts5/sJMUCiRbbz/dQwQGMQWDm0SDBAObTIdr7fLkDdJAaBlQMtQJzEILByqCtAEoPAyqFFK0Dl0CLb+b4rQNNNYhBYOS1AVOOlm8TgLkCsHFpkOx8wQC2yne+nxjBAjZduEoMAMUCcxCCwcugwQLpJDAIrRzBAj8L1KFzPLkAlBoGVQ4ssQC2yne+nhitAQmDl0CIbK0C28/3UeOkrQArXo3A9SixA4XoUrkdhLkC28/3UeOkvQOxRuB6FqzBAXI/C9Sj8MEDy0k1iEPgwQG8Sg8DKYTBAtvP91HjpLkDHSzeJQaAsQEJg5dAi2ytAhxbZzvdTK0AEVg4tsh0sQCyHFtnONy1AF9nO91PjLkAEVg4tsj0wQJDC9ShczzBA6iYxCKz8MECYbhKDwOowQMl2vp8aTzBAWmQ730/NLkA5tMh2vt8sQHe+nxovXStAj8L1KFxPK0Coxks3iQEsQCUGgZVDCy1A2/l+ary0LkDRItv5fgowQOj7qfHSrTBAwcqhRbbzMEAVrkfhetQwQOXQItv5PjBAz/dT46XbLkBkO99PjdcsQFpkO99PjStA46WbxCAwK0C6SQwCKwcsQBBYObTItixAO99PjZduLkDNzMzMzAwwQM3MzMzMrDBAEVg5tMgWMUBWDi2ynQ8xQHsUrkfhejBABoGVQ4ssL0ApXI/C9SgtQPyp8dJNoitAcT0K16MwK0D2KFyPwnUrQE+Nl24SgyxAObTIdr4fLkCDwMqhRbYvQJ3vp8ZLlzBAYxBYObTIMED8qfHSTaIwQI2XbhKDADBAZDvfT41XLkCBlUOLbGcsQCUGgZVDCytA16NwPQoXK0BMN4lBYGUrQFK4HoXrkSxAcT0K16MwLkBvEoPAygEwQNV46SYxiDBAUI2XbhLDMEAhsHJokc0wQIGVQ4tsJzBAHVpkO9/PLkBt5/up8ZIsQM3MzMzMjCtAPQrXo3D9KkAfhetRuJ4rQKRwPQrX4yxANV66SQyCLkDTTWIQWPkvQMQgsHJosTBAnMQgsHIIMUD6fmq8dNMwQNnO91PjRTBA4XoUrkehLkDTTWIQWLksQARWDi2yXStA5/up8dINK0DHSzeJQWArQK5H4XoU7ixAmpmZmZmZLkCBlUOLbEcwQAzXo3A9qjBAuB6F61H4MEDXo3A9CtcwQFg5tMh2PjBA46WbxCDwLkDb+X5qvLQsQPYoXI/CdStAukkMAivHKkCmm8QgsHIrQLbz/dR4KS1AEoPAyqGFLkB7FK5H4fovQBgEVg4tsjBAUI2XbhLjMEAlBoGVQ8swQEjhehSuJzBAg8DKoUX2LkC8dJMYBNYsQKJFtvP9lCtA8KfGSzcJK0BYObTIdn4rQPT91HjpJi1A8KfGSzcJL0BOYhBYOVQwQBWuR+F61DBABoGVQ4vsMEBSuB6F6/EwQIPAyqFFVjBApHA9CtfjLkA/NV66SQwtQCPb+X5q/CtAeekmMQhsK0AlBoGVQwssQKjGSzeJAS1A4XoUrkfhLkC0yHa+nxowQHnpJjEIrDBAtvP91HjpMEBzaJHtfL8wQPYoXI/CVTBA16NwPQrXLkC8dJMYBNYsQESLbOf7aStAexSuR+E6K0AbL90kBkErQDVeukkMgixATmIQWDl0LkCTGARWDu0vQESLbOf7iTBAf2q8dJPYMECNl24Sg8AwQLgehetRODBAf2q8dJOYLkA/NV66ScwsQFK4HoXrUStAf2q8dJOYKkB9PzVeukkrQDEIrBxa5CxAokW28/2ULkC4HoXrURgwQLbIdr6fujBA2/l+arz0MEDtfD81XvowQIXrUbgeRTBAx0s3iUHgLkBKDAIrh9YsQPT91Hjp5itAPzVeukmMK0BI4XoUrkcsQPp+arx0Uy1AdZMYBFYOL0B9PzVeukkwQOxRuB6FyzBAjZduEoMAMUDdJAaBleMwQDEIrBxaRDBASgwCK4fWLkBPjZduEsMsQHnpJjEIbCtAmpmZmZmZKkB7FK5H4foqQGIQWDm0iCxAd76fGi9dLkBEi2zn++kvQARWDi2ynTBAf2q8dJPYMEC28/3UeOkwQN9PjZduMjBAPzVeukmMLkCkcD0K16MsQB1aZDvfTytAy6FFtvM9K0AQWDm0yLYrQPp+arx0Ey1A8tJNYhCYLkCJQWDl0CIwQDzfT42XrjBAjZduEoPgMEAK16NwPaowQJ3vp8ZLNzBAL90kBoGVLkCNl24Sg0AsQHe+nxovHStA/Knx0k3iKkCxcmiR7TwrQHNoke18PyxAhetRuB5FLkB1kxgEVo4vQKabxCCwcjBAd76fGi/dMECyne+nxqswQI/C9ShcLzBAL90kBoFVLkAMAiuHFpksQDvfT42XritAJAaBlUNLK0CNl24SgwAsQLpJDAIrRy1AcT0K16PwLkDvp8ZLN0kwQH9qvHST2DBAeekmMQgMMUC0yHa+n/owQB1aZDvfTzBAoBov3STGLkBKDAIrhxYtQAisHFpkeytABoGVQ4ssK0ADK4cW2c4rQFyPwvUoHC1AWDm0yHa+LkBg5dAi2xkwQGLl0CLbmTBAj8L1KFzvMEBzaJHtfJ8wQA4tsp3vRzBABoGVQ4usLkAlBoGVQwstQLx0kxgElitAw/UoXI9CK0Dwp8ZLN4krQOF6FK5HIS1A1HjpJjHILkD6fmq8dBMwQBODwMqhxTBAy6FFtvP9MEDtfD81XvowQDMzMzMzczBAd76fGi8dL0AshxbZzjctQHe+nxovXSxAObTIdr6fK0DTTWIQWDksQJhuEoPASi1ADi2yne8nL0Cq8dJNYlAwQHSTGARWzjBAsp3vp8YrMUAGgZVDiwwxQFpkO99PbTBAZmZmZmbmLkAK16NwPUotQGIQWDm0yCtAkxgEVg7tK0BMN4lBYCUsQH0/NV66iS1Ad76fGi/dLkCmm8QgsDIwQDzfT42X7jBAZDvfT403MUBzaJHtfB8xQJ3vp8ZLdzBADi2yne/nLkBxPQrXo/AsQBkEVg4tMixABoGVQ4ssK0BOYhBYObQrQAaBlUOLrCxAKVyPwvWoLkC/nxov3SQwQAAAAAAAoDBAAAAAAAAAMUDLoUW2890wQLTIdr6fWjBAI9v5fmr8LkAxCKwcWuQsQIlBYOXQIixAaJHtfD/1K0BKDAIrh1YsQARWDi2yXS1AVg4tsp3vLkDXo3A9ClcwQO+nxks3yTBAxCCwcmgRMUCF61G4HiUxQKabxCCwkjBA5dAi2/n+LkCyne+nxkstQBKDwMqhxStA9P3UeOlmK0Coxks3icErQJ7vp8ZLNy1APQrXo3C9LkDrUbgehUswQGC6SQwCqzBAvXSTGAT2MEBGtvP91PgwQMP1KFyPYjBAI9v5fmq8LkCkcD0K16MsQGiR7Xw/NStAQmDl0CJbK0CDwMqhRXYrQFpkO99PDS1Ag8DKoUW2LkCJQWDl0CIwQEoMAiuHtjBADi2yne/nMEAW2c73UwMxQAisHFpkWzBAwcqhRbbzLkAtsp3vp8YsQARWDi2ynStAppvEILByK0BeukkMAissQJ7vp8ZLNy1AgZVDi2znLkB9PzVeuikwQBgEVg4tsjBABFYOLbL9MEDjpZvEIPAwQClcj8L1SDBAKVyPwvXoLkCq8dJNYtAsQFyPwvUonCtAarx0kxiEK0DfT42XblIsQPp+arx0Ey1Avp8aL93kLkCNl24Sg0AwQGdmZmZm5jBAsp3vp8ZLMUBWDi2ynQ8xQIxs5/upkTBAy6FFtvM9L0CsHFpkOx8tQMP1KFyPQixA2/l+arz0K0BU46WbxCAsQHWTGARWji1AVg4tsp0vL0AMAiuHFlkwQGLl0CLb+TBA6Pup8dItMUBANV66SSwxQCGwcmiRjTBAukkMAitHL0CuR+F6FO4sQH9qvHST2CtAbxKDwMohK0Dc+X5qvPQrQBBYObTINi1A8tJNYhDYLkDl0CLb+R4wQJqZmZmZuTBAZ2ZmZmYmMUCUGARWDg0xQAAAAAAAgDBAi2zn+6kxL0A/NV66SQwtQARWDi2yHSxA1HjpJjHIK0Dwp8ZLN0ksQMP1KFyPAi5ABFYOLbJdL0ATg8DKoWUwQB+F61G4/jBA5tAi2/k+MUBcj8L1KBwxQNejcD0KdzBAWDm0yHZ+L0AK16NwPYotQDMzMzMzMyxALIcW2c63K0D0/dR46WYsQFTjpZvEYC1AO99PjZduL0AfhetRuF4wQFpkO99PDTFADAIrhxZZMUB9PzVeuikxQN9PjZdukjBAsXJoke08L0AQWDm0yDYtQPYoXI/C9StAeekmMQjsK0DpJjEIrFwsQJhuEoPAii1AhetRuB4FL0CMbOf7qVEwQItBYOXQ4jBAxks3iUEAMUBnZmZmZuYwQJHtfD81PjBASgwCK4fWLkBWDi2yna8sQOf7qfHSzStAmG4Sg8DKK0DsUbgehSssQDMzMzMzcy1AEFg5tMj2LkBBYOXQIjswQJZDi2zn2zBASOF6FK4nMUCUGARWDu0wQKjGSzeJYTBAvHSTGAQWL0BSuB6F69EsQAMrhxbZzitAg8DKoUV2K0Cyne+nxosrQJMYBFYObS1AXrpJDAIrL0AMAiuHFlkwQEw3iUFgBTFAAiuHFtkuMUDvp8ZLNwkxQHNoke18fzBAI9v5fmp8L0A1XrpJDIItQN9PjZduEixApHA9CtfjK0Atsp3vp8YsQDeJQWDlkC1ABoGVQ4ssL0CBlUOLbEcwQDdeukkMAjFAAAAAAABgMUB56SYxCEwxQBWuR+F6lDBA5dAi2/l+L0CTGARWDm0tQPT91Hjp5itA/dR46SZxK0BEi2zn+2ksQDeJQWDlUC1AokW28/0UL0ATg8DKoUUwQEa28/3U2DBAuB6F61E4MUD2KFyPwjUxQIxs5/upcTBA1HjpJjEIL0AQWDm0yDYtQEJg5dAiGyxAiUFg5dCiK0BCYOXQIlssQOXQItv5vi1A+FPjpZtEL0AW2c73U2MwQJzEILByKDFAPN9PjZdOMUBrvHSTGEQxQGu8dJMYxDBAH4XrUbjeL0CBlUOLbOctQKJFtvP9lCxAx0s3iUEgLEBGtvP91DgtQNEi2/l+6i1A+FPjpZvEL0Cyne+nxqswQESLbOf7STFAlkOLbOebMUAEVg4tsn0xQNV46SYxqDBA8KfGSzeJL0C+nxov3WQtQCGwcmiRbSxABFYOLbLdK0CWQ4ts57ssQCYxCKwcWi1Avp8aL90kL0A/NV66SUwwQKJFtvP99DBAK4cW2c43MUCamZmZmRkxQHsUrkfhmjBAmpmZmZlZL0B/arx0k1gtQMP1KFyPQixAsp3vp8aLK0DUeOkmMYgsQP3UeOkmsS1AoBov3SSGL0CF61G4HmUwQAAAAAAAADFAy6FFtvM9MUCS7Xw/NT4xQLByaJHtnDBAkxgEVg4tL0DdJAaBlUMtQFYOLbKd7ytArBxaZDvfK0DP91PjpVssQBBYObTI9i1ABFYOLbKdL0CMbOf7qZEwQC2yne+nJjFAMzMzMzNzMUAlBoGVQ0sxQDVeukkMwjBAtvP91HipL0ASg8DKoQUuQAisHFpkeyxAarx0kxiELEDD9ShcjwItQEw3iUFgZS5AiUFg5dCiL0B7FK5H4ZowQF6PwvUoHDFA6iYxCKx8MUCHFtnO91MxQAaBlUOLzDBALIcW2c63L0CDwMqhRbYtQBsv3SQGQSxARIts5/tpLEAshxbZzrcsQBkEVg4t8i1APzVeukmML0D+1HjpJpEwQLbIdr6fGjFAQDVeuklsMUD0/dR46WYxQBFYObTI1jBAWDm0yHb+L0CTGARWDq0tQKwcWmQ73yxAi2zn+6kxLEBg5dAi2/ksQJZDi2zn+y1ArBxaZDufL0A1XrpJDGIwQKjGSzeJATFAJzEIrBw6MUBrvHSTGEQxQB+F61G4vjBAukkMAivHL0AlBoGVQwsuQN9PjZduUixAxSCwcmhRLEC8dJMYBJYsQIPAyqFFNi5A2/l+arz0L0AbL90kBqEwQHNoke18PzFAVOOlm8SAMUAAAAAAAGAxQLpJDAIr5zBAZ2ZmZmYGMEDD9ShcjwIuQIGVQ4tspyxAexSuR+H6K0AfhetRuN4sQDvfT42X7i1AaJHtfD91L0BKDAIrh3YwQJ3vp8ZLNzFAJQaBlUNrMUC0yHa+n3oxQJhuEoPAyjBAH4XrUbjeL0DpJjEIrNwtQKrx0k1i0CxAL90kBoHVLEA3iUFg5dAsQGIQWDm0CC5AXI/C9SjcL0AbL90kBqEwQGC6SQwCKzFAXI/C9Sh8MUARWDm0yFYxQOomMQisvDBAlkOLbOe7L0AxCKwcWqQtQLgehetROCxA46WbxCBwK0CsHFpkOx8sQIGVQ4tsJy5AuB6F61F4L0CsHFpkO38wQMHKoUW2EzFAbef7qfFyMUDVeOkmMUgxQG8Sg8DKwTBA6SYxCKzcL0BKDAIrh9YtQFpkO99PTSxAO99PjZcuLEBiEFg5tIgsQOXQItv5vi1AF9nO91OjL0AYBFYOLZIwQMP1KFyPQjFAhxbZzveTMUBaZDvfT20xQHe+nxov3TBAUrgehevRL0BWDi2yne8tQH9qvHSTmCxA0CLb+X5qLEBiEFg5tAgtQBkEVg4tci5AQ4ts5/sJMEAIrBxaZLswQEw3iUFgRTFA1XjpJjGIMUC28/3UeGkxQIlBYOXQwjBAVOOlm8TgL0A9CtejcP0tQJZDi2znOyxAQmDl0CLbK0CJQWDl0GIsQMP1KFyPwi1ARIts5/upL0DZzvdT44UwQIkW2c73MzFAxCCwcmiRMUCamZmZmXkxQFCNl24SwzBA5dAi2/m+L0AMAiuHFpktQEw3iUFgZSxALIcW2c63K0CHFtnO91MsQGDl0CLbuS1AT42XbhLDL0Bs5/up8bIwQI6XbhKDQDFAMzMzMzNzMUDsUbgehWsxQG8Sg8DK4TBAv58aL90EMECNl24SgwAuQC2yne+nRixAlkOLbOc7LEAshxbZzrcsQIGVQ4ts5y1Ac2iR7Xx/L0CVQ4ts55swQG8Sg8DKQTFAVOOlm8SAMUCDwMqhRXYxQL+fGi/d5DBAj8L1KFzPL0AQWDm0yDYuQCGwcmiRrSxAEoPAyqFFLECq8dJNYlAsQK5H4XoULi5AfT81XroJMEDo+6nx0s0wQCGwcmiRTTFANV66SQyCMUAIrBxaZJsxQJqZmZmZ+TBAgZVDi2wHMEA/NV66ScwtQFK4HoXr0SxAw/UoXI+CLEBU46WbxCAtQIlBYOXQYi5ABoGVQ4vsL0CgGi/dJMYwQKRwPQrXYzFAI9v5fmqcMUARWDm0yJYxQAaBlUOLDDFACtejcD1KMEAbL90kBoEuQD81XrpJjC1A\",\"dtype\":\"float64\",\"order\":\"little\",\"shape\":[1992]},\"time\":{\"__ndarray__\":\"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\",\"dtype\":\"float64\",\"order\":\"little\",\"shape\":[1992]}},\"selected\":{\"id\":\"26857\"},\"selection_policy\":{\"id\":\"26880\"}},\"id\":\"26856\",\"type\":\"ColumnDataSource\"},{\"attributes\":{},\"id\":\"26870\",\"type\":\"AllLabels\"},{\"attributes\":{\"base\":24,\"mantissas\":[1,2,4,6,8,12],\"max_interval\":43200000.0,\"min_interval\":3600000.0,\"num_minor_ticks\":0},\"id\":\"26883\",\"type\":\"AdaptiveTicker\"},{\"attributes\":{\"margin\":[5,5,5,5],\"name\":\"HSpacer29100\",\"sizing_mode\":\"stretch_width\"},\"id\":\"26915\",\"type\":\"Spacer\"},{\"attributes\":{\"overlay\":{\"id\":\"26848\"}},\"id\":\"26846\",\"type\":\"BoxZoomTool\"},{\"attributes\":{},\"id\":\"26831\",\"type\":\"LinearScale\"},{\"attributes\":{\"axis\":{\"id\":\"26835\"},\"grid_line_color\":null,\"ticker\":null},\"id\":\"26838\",\"type\":\"Grid\"},{\"attributes\":{\"text\":\"Land and Ocean Daily Average Temperatures (1850 - 2016)\",\"text_color\":\"black\",\"text_font_size\":\"12pt\"},\"id\":\"26827\",\"type\":\"Title\"},{\"attributes\":{\"base\":60,\"mantissas\":[1,2,5,10,15,20,30],\"max_interval\":1800000.0,\"min_interval\":1000.0,\"num_minor_ticks\":0},\"id\":\"26882\",\"type\":\"AdaptiveTicker\"},{\"attributes\":{\"children\":[{\"id\":\"26822\"},{\"id\":\"26826\"},{\"id\":\"26915\"}],\"margin\":[0,0,0,0],\"name\":\"Row29095\",\"tags\":[\"embedded\"]},\"id\":\"26821\",\"type\":\"Row\"},{\"attributes\":{},\"id\":\"26865\",\"type\":\"DatetimeTickFormatter\"},{\"attributes\":{\"axis_label\":\"Date\",\"formatter\":{\"id\":\"26865\"},\"major_label_policy\":{\"id\":\"26867\"},\"ticker\":{\"id\":\"26836\"}},\"id\":\"26835\",\"type\":\"DatetimeAxis\"},{\"attributes\":{},\"id\":\"26880\",\"type\":\"UnionRenderers\"},{\"attributes\":{\"num_minor_ticks\":5,\"tickers\":[{\"id\":\"26881\"},{\"id\":\"26882\"},{\"id\":\"26883\"},{\"id\":\"26884\"},{\"id\":\"26885\"},{\"id\":\"26886\"},{\"id\":\"26887\"},{\"id\":\"26888\"},{\"id\":\"26889\"},{\"id\":\"26890\"},{\"id\":\"26891\"},{\"id\":\"26892\"}]},\"id\":\"26836\",\"type\":\"DatetimeTicker\"},{\"attributes\":{},\"id\":\"26833\",\"type\":\"LinearScale\"},{\"attributes\":{\"end\":1448928000000.0,\"reset_end\":1448928000000.0,\"reset_start\":-3786825600000.0,\"start\":-3786825600000.0,\"tags\":[[[\"time\",\"time\",null]]]},\"id\":\"26823\",\"type\":\"Range1d\"}],\"root_ids\":[\"26821\"]},\"title\":\"Bokeh Application\",\"version\":\"2.3.2\"}};\n",
       "    var render_items = [{\"docid\":\"2ddb09f7-4ed9-4d14-adf1-3f30491b7477\",\"root_ids\":[\"26821\"],\"roots\":{\"26821\":\"566416a1-3d0a-4e56-9d50-9be357645b78\"}}];\n",
>>>>>>> f4869e0c2d563b7915abdccb25e3e7ec4efcab45
>>>>>>> 63f8ba45e0bf701583efee4d35c673e603e26119:commodities_prices_vs_climate_change_old.ipynb
       "    root.Bokeh.embed.embed_items_notebook(docs_json, render_items);\n",
       "  }\n",
       "  if (root.Bokeh !== undefined && root.Bokeh.Panel !== undefined) {\n",
       "    embed_document(root);\n",
       "  } else {\n",
       "    var attempts = 0;\n",
       "    var timer = setInterval(function(root) {\n",
       "      if (root.Bokeh !== undefined && root.Bokeh.Panel !== undefined) {\n",
       "        clearInterval(timer);\n",
       "        embed_document(root);\n",
       "      } else if (document.readyState == \"complete\") {\n",
       "        attempts++;\n",
       "        if (attempts > 200) {\n",
       "          clearInterval(timer);\n",
       "          console.log(\"Bokeh: ERROR: Unable to run BokehJS code because BokehJS library is missing\");\n",
       "        }\n",
       "      }\n",
       "    }, 25, root)\n",
       "  }\n",
       "})(window);</script>"
      ],
      "text/plain": [
       ":Curve   [time]   (temperature)"
      ]
     },
<<<<<<< HEAD:commodities_prices_vs_climate_change.ipynb
     "execution_count": 11,
     "metadata": {
      "application/vnd.holoviews_exec.v0+json": {
       "id": "1002"
=======
<<<<<<< HEAD
     "execution_count": 9,
     "metadata": {
      "application/vnd.holoviews_exec.v0+json": {
       "id": "1002"
=======
     "execution_count": 771,
     "metadata": {
      "application/vnd.holoviews_exec.v0+json": {
       "id": "26821"
>>>>>>> f4869e0c2d563b7915abdccb25e3e7ec4efcab45
>>>>>>> 63f8ba45e0bf701583efee4d35c673e603e26119:commodities_prices_vs_climate_change_old.ipynb
      }
     },
     "output_type": "execute_result"
    }
   ],
   "source": [
    "# Plot Land and Ocean Daily Averages to get a visualization of the raw data.\n",
    "global_temperature_df.hvplot(title = \"Land and Ocean Daily Average Temperatures (1850 - 2016)\",\n",
    "                            xlabel = \"Date\",\n",
    "                            ylabel = \"Temperature (Celsius)\")"
   ]
  },
  {
   "cell_type": "markdown",
   "id": "d3b7f59c-a223-4137-b333-55251a5b12cb",
   "metadata": {},
   "source": [
    "As seen from the following screenshot, seasons have more variation than the overall trend of land temperature.  Due to this, we will look at the mean average temperature per year, and use this information to evaluate overall trends. \n",
    "\n",
    "![A screenshot depicting the impact of seasons on overall trend analysis.](./Images/land_average_temp_no_average.PNG)"
   ]
  },
  {
   "cell_type": "code",
<<<<<<< HEAD:commodities_prices_vs_climate_change.ipynb
   "execution_count": 12,
=======
<<<<<<< HEAD
   "execution_count": 10,
=======
   "execution_count": 772,
>>>>>>> f4869e0c2d563b7915abdccb25e3e7ec4efcab45
>>>>>>> 63f8ba45e0bf701583efee4d35c673e603e26119:commodities_prices_vs_climate_change_old.ipynb
   "id": "e048fed3-5b9d-4450-a9fb-4bf1cb082e66",
   "metadata": {},
   "outputs": [
    {
     "data": {
      "text/html": [
       "<div>\n",
       "<style scoped>\n",
       "    .dataframe tbody tr th:only-of-type {\n",
       "        vertical-align: middle;\n",
       "    }\n",
       "\n",
       "    .dataframe tbody tr th {\n",
       "        vertical-align: top;\n",
       "    }\n",
       "\n",
       "    .dataframe thead th {\n",
       "        text-align: right;\n",
       "    }\n",
       "</style>\n",
       "<table border=\"1\" class=\"dataframe\">\n",
       "  <thead>\n",
       "    <tr style=\"text-align: right;\">\n",
       "      <th></th>\n",
       "      <th>temperature</th>\n",
       "    </tr>\n",
       "    <tr>\n",
       "      <th>time</th>\n",
       "      <th></th>\n",
       "    </tr>\n",
       "  </thead>\n",
       "  <tbody>\n",
       "    <tr>\n",
       "      <th>1850-12-31</th>\n",
       "      <td>14.867167</td>\n",
       "    </tr>\n",
       "    <tr>\n",
       "      <th>1851-12-31</th>\n",
       "      <td>14.991833</td>\n",
       "    </tr>\n",
       "    <tr>\n",
       "      <th>1852-12-31</th>\n",
       "      <td>15.006500</td>\n",
       "    </tr>\n",
       "    <tr>\n",
       "      <th>1853-12-31</th>\n",
       "      <td>14.955167</td>\n",
       "    </tr>\n",
       "    <tr>\n",
       "      <th>1854-12-31</th>\n",
       "      <td>14.991000</td>\n",
       "    </tr>\n",
       "  </tbody>\n",
       "</table>\n",
       "</div>"
      ],
      "text/plain": [
       "            temperature\n",
       "time                   \n",
       "1850-12-31    14.867167\n",
       "1851-12-31    14.991833\n",
       "1852-12-31    15.006500\n",
       "1853-12-31    14.955167\n",
       "1854-12-31    14.991000"
      ]
     },
     "metadata": {},
     "output_type": "display_data"
    },
    {
     "data": {
      "text/html": [
       "<div>\n",
       "<style scoped>\n",
       "    .dataframe tbody tr th:only-of-type {\n",
       "        vertical-align: middle;\n",
       "    }\n",
       "\n",
       "    .dataframe tbody tr th {\n",
       "        vertical-align: top;\n",
       "    }\n",
       "\n",
       "    .dataframe thead th {\n",
       "        text-align: right;\n",
       "    }\n",
       "</style>\n",
       "<table border=\"1\" class=\"dataframe\">\n",
       "  <thead>\n",
       "    <tr style=\"text-align: right;\">\n",
       "      <th></th>\n",
       "      <th>temperature</th>\n",
       "    </tr>\n",
       "    <tr>\n",
       "      <th>time</th>\n",
       "      <th></th>\n",
       "    </tr>\n",
       "  </thead>\n",
       "  <tbody>\n",
       "    <tr>\n",
       "      <th>2011-12-31</th>\n",
       "      <td>15.769500</td>\n",
       "    </tr>\n",
       "    <tr>\n",
       "      <th>2012-12-31</th>\n",
       "      <td>15.802333</td>\n",
       "    </tr>\n",
       "    <tr>\n",
       "      <th>2013-12-31</th>\n",
       "      <td>15.854417</td>\n",
       "    </tr>\n",
       "    <tr>\n",
       "      <th>2014-12-31</th>\n",
       "      <td>15.913000</td>\n",
       "    </tr>\n",
       "    <tr>\n",
       "      <th>2015-12-31</th>\n",
       "      <td>16.058583</td>\n",
       "    </tr>\n",
       "  </tbody>\n",
       "</table>\n",
       "</div>"
      ],
      "text/plain": [
       "            temperature\n",
       "time                   \n",
       "2011-12-31    15.769500\n",
       "2012-12-31    15.802333\n",
       "2013-12-31    15.854417\n",
       "2014-12-31    15.913000\n",
       "2015-12-31    16.058583"
      ]
     },
     "metadata": {},
     "output_type": "display_data"
    }
   ],
   "source": [
    "# Average values by year to acommodate for seasonal changes get mean yearly temperatures\n",
    "global_temperature_year_df = global_temperature_df.resample('A').mean()\n",
    "\n",
    "# Review the first 5 and last 5 rows of DataFrame\n",
    "display(global_temperature_year_df.head())\n",
    "display(global_temperature_year_df.tail())"
   ]
  },
  {
   "cell_type": "code",
<<<<<<< HEAD:commodities_prices_vs_climate_change.ipynb
   "execution_count": 13,
=======
<<<<<<< HEAD
   "execution_count": 11,
=======
   "execution_count": 773,
>>>>>>> f4869e0c2d563b7915abdccb25e3e7ec4efcab45
>>>>>>> 63f8ba45e0bf701583efee4d35c673e603e26119:commodities_prices_vs_climate_change_old.ipynb
   "id": "149485b3-44eb-4780-a58c-9d4eb5a4607c",
   "metadata": {},
   "outputs": [
    {
     "name": "stdout",
     "output_type": "stream",
     "text": [
      "The length of the land_global_temperature_year is 166.\n"
     ]
    }
   ],
   "source": [
    "# Review the length the DataFrame which corresponds to the number of years analyzed. \n",
    "print(f\"The length of the land_global_temperature_year is {len(global_temperature_year_df.index)}.\")"
   ]
  },
  {
   "cell_type": "code",
<<<<<<< HEAD:commodities_prices_vs_climate_change.ipynb
   "execution_count": 14,
=======
<<<<<<< HEAD
   "execution_count": 12,
=======
   "execution_count": 774,
>>>>>>> f4869e0c2d563b7915abdccb25e3e7ec4efcab45
>>>>>>> 63f8ba45e0bf701583efee4d35c673e603e26119:commodities_prices_vs_climate_change_old.ipynb
   "id": "a1430f56-6e8d-489e-98b6-e626659e8493",
   "metadata": {},
   "outputs": [
    {
     "data": {},
     "metadata": {},
     "output_type": "display_data"
    },
    {
     "data": {
      "application/vnd.holoviews_exec.v0+json": "",
      "text/html": [
<<<<<<< HEAD:commodities_prices_vs_climate_change.ipynb
       "<div id='1208'>\n",
=======
<<<<<<< HEAD
       "<div id='1208'>\n",
=======
       "<div id='27027'>\n",
>>>>>>> f4869e0c2d563b7915abdccb25e3e7ec4efcab45
>>>>>>> 63f8ba45e0bf701583efee4d35c673e603e26119:commodities_prices_vs_climate_change_old.ipynb
       "\n",
       "\n",
       "\n",
       "\n",
       "\n",
<<<<<<< HEAD:commodities_prices_vs_climate_change.ipynb
       "  <div class=\"bk-root\" id=\"de439474-a015-4e1e-bc3f-c4cc2d7d412f\" data-root-id=\"1208\"></div>\n",
       "</div>\n",
       "<script type=\"application/javascript\">(function(root) {\n",
       "  function embed_document(root) {\n",
       "    var docs_json = {\"0b864398-a2c5-4dbc-8a66-00c523a12ffc\":{\"defs\":[{\"extends\":null,\"module\":null,\"name\":\"ReactiveHTML1\",\"overrides\":[],\"properties\":[]},{\"extends\":null,\"module\":null,\"name\":\"FlexBox1\",\"overrides\":[],\"properties\":[{\"default\":\"flex-start\",\"kind\":null,\"name\":\"align_content\"},{\"default\":\"flex-start\",\"kind\":null,\"name\":\"align_items\"},{\"default\":\"row\",\"kind\":null,\"name\":\"flex_direction\"},{\"default\":\"wrap\",\"kind\":null,\"name\":\"flex_wrap\"},{\"default\":\"flex-start\",\"kind\":null,\"name\":\"justify_content\"}]},{\"extends\":null,\"module\":null,\"name\":\"TemplateActions1\",\"overrides\":[],\"properties\":[{\"default\":0,\"kind\":null,\"name\":\"open_modal\"},{\"default\":0,\"kind\":null,\"name\":\"close_modal\"}]},{\"extends\":null,\"module\":null,\"name\":\"MaterialTemplateActions1\",\"overrides\":[],\"properties\":[{\"default\":0,\"kind\":null,\"name\":\"open_modal\"},{\"default\":0,\"kind\":null,\"name\":\"close_modal\"}]}],\"roots\":{\"references\":[{\"attributes\":{\"months\":[0,2,4,6,8,10]},\"id\":\"1273\",\"type\":\"MonthsTicker\"},{\"attributes\":{\"callback\":null,\"formatters\":{\"@{time}\":\"datetime\"},\"renderers\":[{\"id\":\"1249\"}],\"tags\":[\"hv_created\"],\"tooltips\":[[\"time\",\"@{time}{%F %T}\"],[\"temperature\",\"@{temperature}\"]]},\"id\":\"1212\",\"type\":\"HoverTool\"},{\"attributes\":{\"days\":[1,15]},\"id\":\"1271\",\"type\":\"DaysTicker\"},{\"attributes\":{\"bottom_units\":\"screen\",\"fill_alpha\":0.5,\"fill_color\":\"lightgrey\",\"left_units\":\"screen\",\"level\":\"overlay\",\"line_alpha\":1.0,\"line_color\":\"black\",\"line_dash\":[4,4],\"line_width\":2,\"right_units\":\"screen\",\"syncable\":false,\"top_units\":\"screen\"},\"id\":\"1235\",\"type\":\"BoxAnnotation\"},{\"attributes\":{\"active_multi\":null,\"tools\":[{\"id\":\"1212\"},{\"id\":\"1230\"},{\"id\":\"1231\"},{\"id\":\"1232\"},{\"id\":\"1233\"},{\"id\":\"1234\"}]},\"id\":\"1236\",\"type\":\"Toolbar\"},{\"attributes\":{},\"id\":\"1253\",\"type\":\"DatetimeTickFormatter\"},{\"attributes\":{\"line_color\":\"#30a2da\",\"line_width\":2,\"x\":{\"field\":\"time\"},\"y\":{\"field\":\"temperature\"}},\"id\":\"1246\",\"type\":\"Line\"},{\"attributes\":{\"months\":[0,4,8]},\"id\":\"1274\",\"type\":\"MonthsTicker\"},{\"attributes\":{\"line_alpha\":0.1,\"line_color\":\"#30a2da\",\"line_width\":2,\"x\":{\"field\":\"time\"},\"y\":{\"field\":\"temperature\"}},\"id\":\"1247\",\"type\":\"Line\"},{\"attributes\":{\"line_alpha\":0.2,\"line_color\":\"#30a2da\",\"line_width\":2,\"x\":{\"field\":\"time\"},\"y\":{\"field\":\"temperature\"}},\"id\":\"1248\",\"type\":\"Line\"},{\"attributes\":{\"months\":[0,6]},\"id\":\"1275\",\"type\":\"MonthsTicker\"},{\"attributes\":{},\"id\":\"1256\",\"type\":\"BasicTickFormatter\"},{\"attributes\":{},\"id\":\"1278\",\"type\":\"UnionRenderers\"},{\"attributes\":{\"text\":\"Land and Ocean Yearly Average Temperatures (1850 - 2016)\",\"text_color\":\"black\",\"text_font_size\":\"12pt\"},\"id\":\"1214\",\"type\":\"Title\"},{\"attributes\":{},\"id\":\"1257\",\"type\":\"AllLabels\"},{\"attributes\":{},\"id\":\"1230\",\"type\":\"SaveTool\"},{\"attributes\":{},\"id\":\"1231\",\"type\":\"PanTool\"},{\"attributes\":{\"source\":{\"id\":\"1243\"}},\"id\":\"1250\",\"type\":\"CDSView\"},{\"attributes\":{\"end\":16.190433333333335,\"reset_end\":16.190433333333335,\"reset_start\":14.608233333333333,\"start\":14.608233333333333,\"tags\":[[[\"temperature\",\"temperature\",null]]]},\"id\":\"1211\",\"type\":\"Range1d\"},{\"attributes\":{},\"id\":\"1234\",\"type\":\"ResetTool\"},{\"attributes\":{},\"id\":\"1232\",\"type\":\"WheelZoomTool\"},{\"attributes\":{\"base\":60,\"mantissas\":[1,2,5,10,15,20,30],\"max_interval\":1800000.0,\"min_interval\":1000.0,\"num_minor_ticks\":0},\"id\":\"1266\",\"type\":\"AdaptiveTicker\"},{\"attributes\":{},\"id\":\"1276\",\"type\":\"YearsTicker\"},{\"attributes\":{\"margin\":[5,5,5,5],\"name\":\"HSpacer01808\",\"sizing_mode\":\"stretch_width\"},\"id\":\"1302\",\"type\":\"Spacer\"},{\"attributes\":{\"children\":[{\"id\":\"1209\"},{\"id\":\"1213\"},{\"id\":\"1302\"}],\"margin\":[0,0,0,0],\"name\":\"Row01803\",\"tags\":[\"embedded\"]},\"id\":\"1208\",\"type\":\"Row\"},{\"attributes\":{\"mantissas\":[1,2,5],\"max_interval\":500.0,\"num_minor_ticks\":0},\"id\":\"1265\",\"type\":\"AdaptiveTicker\"},{\"attributes\":{\"overlay\":{\"id\":\"1235\"}},\"id\":\"1233\",\"type\":\"BoxZoomTool\"},{\"attributes\":{\"line_color\":\"#30a2da\",\"line_width\":2,\"x\":{\"field\":\"time\"},\"y\":{\"field\":\"temperature\"}},\"id\":\"1251\",\"type\":\"Line\"},{\"attributes\":{\"axis\":{\"id\":\"1226\"},\"dimension\":1,\"grid_line_color\":null,\"ticker\":null},\"id\":\"1229\",\"type\":\"Grid\"},{\"attributes\":{\"days\":[1,2,3,4,5,6,7,8,9,10,11,12,13,14,15,16,17,18,19,20,21,22,23,24,25,26,27,28,29,30,31]},\"id\":\"1268\",\"type\":\"DaysTicker\"},{\"attributes\":{\"margin\":[5,5,5,5],\"name\":\"HSpacer01807\",\"sizing_mode\":\"stretch_width\"},\"id\":\"1209\",\"type\":\"Spacer\"},{\"attributes\":{\"data_source\":{\"id\":\"1243\"},\"glyph\":{\"id\":\"1246\"},\"hover_glyph\":null,\"muted_glyph\":{\"id\":\"1248\"},\"nonselection_glyph\":{\"id\":\"1247\"},\"selection_glyph\":{\"id\":\"1251\"},\"view\":{\"id\":\"1250\"}},\"id\":\"1249\",\"type\":\"GlyphRenderer\"},{\"attributes\":{\"num_minor_ticks\":5,\"tickers\":[{\"id\":\"1265\"},{\"id\":\"1266\"},{\"id\":\"1267\"},{\"id\":\"1268\"},{\"id\":\"1269\"},{\"id\":\"1270\"},{\"id\":\"1271\"},{\"id\":\"1272\"},{\"id\":\"1273\"},{\"id\":\"1274\"},{\"id\":\"1275\"},{\"id\":\"1276\"}]},\"id\":\"1223\",\"type\":\"DatetimeTicker\"},{\"attributes\":{\"base\":24,\"mantissas\":[1,2,4,6,8,12],\"max_interval\":43200000.0,\"min_interval\":3600000.0,\"num_minor_ticks\":0},\"id\":\"1267\",\"type\":\"AdaptiveTicker\"},{\"attributes\":{},\"id\":\"1218\",\"type\":\"LinearScale\"},{\"attributes\":{\"axis_label\":\"Date\",\"formatter\":{\"id\":\"1253\"},\"major_label_policy\":{\"id\":\"1254\"},\"ticker\":{\"id\":\"1223\"}},\"id\":\"1222\",\"type\":\"DatetimeAxis\"},{\"attributes\":{\"below\":[{\"id\":\"1222\"}],\"center\":[{\"id\":\"1225\"},{\"id\":\"1229\"}],\"height\":300,\"left\":[{\"id\":\"1226\"}],\"margin\":[5,5,5,5],\"min_border_bottom\":10,\"min_border_left\":10,\"min_border_right\":10,\"min_border_top\":10,\"renderers\":[{\"id\":\"1249\"}],\"sizing_mode\":\"fixed\",\"title\":{\"id\":\"1214\"},\"toolbar\":{\"id\":\"1236\"},\"width\":700,\"x_range\":{\"id\":\"1210\"},\"x_scale\":{\"id\":\"1218\"},\"y_range\":{\"id\":\"1211\"},\"y_scale\":{\"id\":\"1220\"}},\"id\":\"1213\",\"subtype\":\"Figure\",\"type\":\"Plot\"},{\"attributes\":{},\"id\":\"1244\",\"type\":\"Selection\"},{\"attributes\":{},\"id\":\"1220\",\"type\":\"LinearScale\"},{\"attributes\":{\"days\":[1,4,7,10,13,16,19,22,25,28]},\"id\":\"1269\",\"type\":\"DaysTicker\"},{\"attributes\":{\"axis_label\":\"Temperature (Celsius)\",\"formatter\":{\"id\":\"1256\"},\"major_label_policy\":{\"id\":\"1257\"},\"ticker\":{\"id\":\"1227\"}},\"id\":\"1226\",\"type\":\"LinearAxis\"},{\"attributes\":{\"axis\":{\"id\":\"1222\"},\"grid_line_color\":null,\"ticker\":null},\"id\":\"1225\",\"type\":\"Grid\"},{\"attributes\":{\"months\":[0,1,2,3,4,5,6,7,8,9,10,11]},\"id\":\"1272\",\"type\":\"MonthsTicker\"},{\"attributes\":{},\"id\":\"1254\",\"type\":\"AllLabels\"},{\"attributes\":{\"data\":{\"temperature\":{\"__ndarray__\":\"gwfzRP27LUCofyOU0fstQBjZzvdTAy5AFyD3mgvpLUAHrBxaZPstQI1QRm/LCi5AD+aJ+jfCLUBNYhBYOYQtQBfZzvdTwy1AZ62OCR7cLUBz2kCnDcQtQE2pOPvwmS1AcfbhM+x6LUDJdr6fGt8tQF26SQwCyy1Af7HkF0v+LUB4vp8aLx0uQLhlrY4JHi5AlYqzD58xLkCnxks3iSEuQBDmifo3Ai5AW6tjggcDLkBYxwQP5gkuQPCnxks3GS5ARIts5/vpLUD78Bl2BdgtQJeKsw+f0S1AXwFyr7mQLkDgwTxR/7YuQCVNqTj7IC5AHcwT9W8ELkD0RP0boSwuQKVUnH34HC5Ad76fGi/tLUC1yHa+n6otQDn78Bl2tS1Az/dT46WrLUBvEoPAyqEtQKhUnH34/C1AMU/UvxE6LkBYObTIdq4tQCgVZx8+4y1ApHA9CtfDLUBQjZduEtMtQDEIrBxa1C1A5KWbxCDwLUBsdUzwYC4uQEHuNReSJi5AqDj78BnGLUBZ8oslvxguQIddAXKvSS5AJb9Y8oslLkCrqqqqquotQDcXkqZUrC1A8O7u7u6eLUBP1L8RyugtQLQPn2FXEC5AETyYJ+q/LUCD3GsuJK0tQO81F5KmlC1ADbsC5F6jLUBbZDvfT40tQAfzRP0bwS1A4HoUrkfRLUDYo3A9CicuQJmZmZmZSS5ANOwKkHvNLUA930+Nl54tQACOUEZv6y1A+X5qvHQDLkA8CtejcA0uQEVERERENC5Ae6L+jVAGLkCHz7ArQA4uQGGeqH8jFC5AiM+wK0AuLkAAjlBGb3suQDzfT42XPi5AwcqhRbZDLkCY4ME8Ue8tQLcehetRWC5AwJ8aL910LkDISzeJQWAuQDfQaQOdBi5ARIts5/tJLkDErgC51zwuQI8JHswTVS5AYOXQItuZLkCzVscED5YuQI1QRm/Lmi5ATxvotIG+LkCrY4IH88QuQEPuNReSpi5AcT0K16OwLkDQsCtA7uUuQNNNYhBYqS5ASwwCK4eGLkANSVMqzp4uQABHKKO3hS5ANV66SQxyLkCBlUOLbEcuQJjgwTxRny5AV8cED+a5LkBbHRM8mNcuQLRWxwQPdi5A54n6N0JZLkCDwMqhRTYuQGhKxdmHvy5A1AY6baDDLkB0kxgEVq4uQDj78Bl2lS5AzRP1b4TCLkAklNHbsqYuQECnDXTawC5AiyW/WPI7LkBPYhBYOWQuQG1Zq2OChy5AN9BpA52WLkDDZ9gVIIcuQA0tsp3vxy5A95oLSVOqLkBnZmZmZmYuQMeSXyz5lS5ArRxaZDvPLkCzVscED1YuQBT1b4Qyei5AR2/LWh1DLkAbL90kBtEuQDBP1L8Rmi5AdNpApw3ULkCofyOU0fsuQMM8Uf9GCC9A05SKsw+vLkDtfD81XgovQNBpA502sC5AY1eA3GuuLkD5U+Olm8QuQAiBlUOLDC9AB4GVQ4scL0AsQO41F+IuQBDmifo3Qi9AGARWDi0yL0ANLbKd7+cuQAxJUyrO7i5AUbgehesRL0BA7jUXkkYvQPNE/RuhDC9ANOwKkHttL0D1/dR46aYvQA27AuReMy9AbC4kTak4L0AoXI/C9YgvQImIiIiIqC9AsytA7jWnL0DByqFFtoMvQBgEVg4twi9AjZduEoOgL0BbHRM8mKcvQON6FK5HcS9AbVmrY4KnL0DQItv5fsovQESLbOf7iS9AkFBGb8uaL0A5+/AZdrUvQPh+arx00y9A4cE8Uf8OMEA=\",\"dtype\":\"float64\",\"order\":\"little\",\"shape\":[166]},\"time\":{\"__ndarray__\":\"AADg0e5Si8IAAIBIMRiLwgAAQIxK3YrCAADgAo2iisIAAIB5z2eKwgAAIPARLYrCAADgMyvyicIAAICqbbeJwgAAICGwfInCAADAl/JBicIAAIDbCweJwgAAIFJOzIjCAADAyJCRiMIAAGA/01aIwgAAIIPsG4jCAADA+S7hh8IAAGBwcaaHwgAAAOeza4fCAADAKs0wh8IAAGChD/aGwgAAABhSu4bCAACgjpSAhsIAAGDSrUWGwgAAAEnwCobCAACgvzLQhcIAAEA2dZWFwgAAAHqOWoXCAACg8NAfhcIAAEBnE+WEwgAA4N1VqoTCAACgIW9vhMIAAECYsTSEwgAA4A70+YPCAACAhTa/g8IAAEDJT4SDwgAA4D+SSYPCAACAttQOg8IAACAtF9SCwgAA4HAwmYLCAACA53JegsIAACBetSOCwgAAwNT36IHCAACAGBGugcIAACCPU3OBwgAAwAWWOIHCAABgfNj9gMIAACDA8cKAwgAAwDY0iIDCAABgrXZNgMIAAAAkuRKAwgAAQDX3r3/CAACAInw6f8IAAMAPAcV+wgAAAP2FT37CAACAhLjZfcIAAMBxPWR9wgAAAF/C7nzCAABATEd5fMIAAMDTeQN8wgAAAMH+jXvCAABAroMYe8IAAICbCKN6wgAAACM7LXrCAABAEMC3ecIAAID9REJ5wgAAwOrJzHjCAABAcvxWeMIAAIBfgeF3wgAAwEwGbHfCAAAAOov2dsIAAIDBvYB2wgAAwK5CC3bCAAAAnMeVdcIAAECJTCB1wgAAwBB/qnTCAAAA/gM1dMIAAEDriL9zwgAAgNgNSnPCAAAAYEDUcsIAAEBNxV5ywgAAgDpK6XHCAADAJ89zccIAAECvAf5wwgAAgJyGiHDCAADAiQsTcMIAAADuIDtvwgAAAP2FT27CAACA149kbcIAAACymXlswgAAgIyjjmvCAACAmwijasIAAAB2ErhpwgAAgFAczWjCAAAAKybiZ8IAAAA6i/ZmwgAAgBSVC2bCAAAA754gZcIAAIDJqDVkwgAAgNgNSmPCAAAAsxdfYsIAAICNIXRhwgAAAGgriWDCAAAA7iA7X8IAAACjNGVdwgAAAFhIj1vCAAAADVy5WcIAAAArJuJXwgAAAOA5DFbCAAAAlU02VMIAAABKYWBSwgAAAGgriVDCAAAAOn5mTcIAAACkpbpJwgAAAA7NDkbCAAAASmFgQsIAAABoEWk9wgAAADxgETbCAAAAIF5zLcIAAAAgXnMdwgAAAABwmZTBAAAAQCtKHUIAAAD4d1QtQgAAAIQTBzZCAAAAsMRePUIAAADuOltCQgAAAIQTB0ZCAAAASH+1SUIAAADeV2FNQgAAADqYhlBCAAAAhYRcUkIAAABnujNUQgAAALKmCVZCAAAA/ZLfV0IAAABIf7VZQgAAACq1jFtCAAAAdaFiXUIAAADAjThfQgAAgAU9h2BCAACA9tdyYUIAAAAczl1iQgAAgEHESGNCAAAAZ7ozZEIAAABYVR9lQgAAgH1LCmZCAAAAo0H1ZkIAAIDIN+BnQgAAgLnSy2hCAAAA38i2aUIAAIAEv6FqQgAAACq1jGtCAAAAG1B4bEIAAIBARmNtQgAAAGY8Tm5CAACAizI5b0IAAEC+ZhJwQgAAANHhh3BCAADA41z9cEIAAID213JxQgAAAG+l6HFCAADAgSBeckIAAICUm9NyQgAAQKcWSXNCAADAH+S+c0IAAIAyXzR0QgAAQEXaqXRCAAAAWFUfdUI=\",\"dtype\":\"float64\",\"order\":\"little\",\"shape\":[166]}},\"selected\":{\"id\":\"1244\"},\"selection_policy\":{\"id\":\"1278\"}},\"id\":\"1243\",\"type\":\"ColumnDataSource\"},{\"attributes\":{\"days\":[1,8,15,22]},\"id\":\"1270\",\"type\":\"DaysTicker\"},{\"attributes\":{},\"id\":\"1227\",\"type\":\"BasicTicker\"},{\"attributes\":{\"end\":1451520000000.0,\"reset_end\":1451520000000.0,\"reset_start\":-3755376000000.0,\"start\":-3755376000000.0,\"tags\":[[[\"time\",\"time\",null]]]},\"id\":\"1210\",\"type\":\"Range1d\"}],\"root_ids\":[\"1208\"]},\"title\":\"Bokeh Application\",\"version\":\"2.3.2\"}};\n",
       "    var render_items = [{\"docid\":\"0b864398-a2c5-4dbc-8a66-00c523a12ffc\",\"root_ids\":[\"1208\"],\"roots\":{\"1208\":\"de439474-a015-4e1e-bc3f-c4cc2d7d412f\"}}];\n",
=======
<<<<<<< HEAD
       "  <div class=\"bk-root\" id=\"a81d2069-2d05-40dc-83d4-c8f971906b65\" data-root-id=\"1208\"></div>\n",
       "</div>\n",
       "<script type=\"application/javascript\">(function(root) {\n",
       "  function embed_document(root) {\n",
       "    var docs_json = {\"d42c4e22-55a7-4414-9700-e937d13d3484\":{\"defs\":[{\"extends\":null,\"module\":null,\"name\":\"ReactiveHTML1\",\"overrides\":[],\"properties\":[]},{\"extends\":null,\"module\":null,\"name\":\"FlexBox1\",\"overrides\":[],\"properties\":[{\"default\":\"flex-start\",\"kind\":null,\"name\":\"align_content\"},{\"default\":\"flex-start\",\"kind\":null,\"name\":\"align_items\"},{\"default\":\"row\",\"kind\":null,\"name\":\"flex_direction\"},{\"default\":\"wrap\",\"kind\":null,\"name\":\"flex_wrap\"},{\"default\":\"flex-start\",\"kind\":null,\"name\":\"justify_content\"}]},{\"extends\":null,\"module\":null,\"name\":\"TemplateActions1\",\"overrides\":[],\"properties\":[{\"default\":0,\"kind\":null,\"name\":\"open_modal\"},{\"default\":0,\"kind\":null,\"name\":\"close_modal\"}]},{\"extends\":null,\"module\":null,\"name\":\"MaterialTemplateActions1\",\"overrides\":[],\"properties\":[{\"default\":0,\"kind\":null,\"name\":\"open_modal\"},{\"default\":0,\"kind\":null,\"name\":\"close_modal\"}]}],\"roots\":{\"references\":[{\"attributes\":{\"axis\":{\"id\":\"1226\"},\"dimension\":1,\"grid_line_color\":null,\"ticker\":null},\"id\":\"1229\",\"type\":\"Grid\"},{\"attributes\":{},\"id\":\"1256\",\"type\":\"BasicTickFormatter\"},{\"attributes\":{\"axis_label\":\"Temperature (Celsius)\",\"formatter\":{\"id\":\"1256\"},\"major_label_policy\":{\"id\":\"1255\"},\"ticker\":{\"id\":\"1227\"}},\"id\":\"1226\",\"type\":\"LinearAxis\"},{\"attributes\":{\"months\":[0,1,2,3,4,5,6,7,8,9,10,11]},\"id\":\"1275\",\"type\":\"MonthsTicker\"},{\"attributes\":{\"days\":[1,15]},\"id\":\"1274\",\"type\":\"DaysTicker\"},{\"attributes\":{\"callback\":null,\"formatters\":{\"@{time}\":\"datetime\"},\"renderers\":[{\"id\":\"1249\"}],\"tags\":[\"hv_created\"],\"tooltips\":[[\"time\",\"@{time}{%F %T}\"],[\"temperature\",\"@{temperature}\"]]},\"id\":\"1212\",\"type\":\"HoverTool\"},{\"attributes\":{\"line_alpha\":0.1,\"line_color\":\"#30a2da\",\"line_width\":2,\"x\":{\"field\":\"time\"},\"y\":{\"field\":\"temperature\"}},\"id\":\"1247\",\"type\":\"Line\"},{\"attributes\":{\"line_color\":\"#30a2da\",\"line_width\":2,\"x\":{\"field\":\"time\"},\"y\":{\"field\":\"temperature\"}},\"id\":\"1246\",\"type\":\"Line\"},{\"attributes\":{\"bottom_units\":\"screen\",\"fill_alpha\":0.5,\"fill_color\":\"lightgrey\",\"left_units\":\"screen\",\"level\":\"overlay\",\"line_alpha\":1.0,\"line_color\":\"black\",\"line_dash\":[4,4],\"line_width\":2,\"right_units\":\"screen\",\"syncable\":false,\"top_units\":\"screen\"},\"id\":\"1235\",\"type\":\"BoxAnnotation\"},{\"attributes\":{\"line_alpha\":0.2,\"line_color\":\"#30a2da\",\"line_width\":2,\"x\":{\"field\":\"time\"},\"y\":{\"field\":\"temperature\"}},\"id\":\"1248\",\"type\":\"Line\"},{\"attributes\":{\"days\":[1,8,15,22]},\"id\":\"1273\",\"type\":\"DaysTicker\"},{\"attributes\":{\"end\":1451520000000.0,\"reset_end\":1451520000000.0,\"reset_start\":-3755376000000.0,\"start\":-3755376000000.0,\"tags\":[[[\"time\",\"time\",null]]]},\"id\":\"1210\",\"type\":\"Range1d\"},{\"attributes\":{},\"id\":\"1244\",\"type\":\"Selection\"},{\"attributes\":{\"data_source\":{\"id\":\"1243\"},\"glyph\":{\"id\":\"1246\"},\"hover_glyph\":null,\"muted_glyph\":{\"id\":\"1248\"},\"nonselection_glyph\":{\"id\":\"1247\"},\"selection_glyph\":{\"id\":\"1251\"},\"view\":{\"id\":\"1250\"}},\"id\":\"1249\",\"type\":\"GlyphRenderer\"},{\"attributes\":{},\"id\":\"1218\",\"type\":\"LinearScale\"},{\"attributes\":{},\"id\":\"1230\",\"type\":\"SaveTool\"},{\"attributes\":{\"margin\":[5,5,5,5],\"name\":\"HSpacer01808\",\"sizing_mode\":\"stretch_width\"},\"id\":\"1302\",\"type\":\"Spacer\"},{\"attributes\":{\"months\":[0,2,4,6,8,10]},\"id\":\"1276\",\"type\":\"MonthsTicker\"},{\"attributes\":{\"children\":[{\"id\":\"1209\"},{\"id\":\"1213\"},{\"id\":\"1302\"}],\"margin\":[0,0,0,0],\"name\":\"Row01803\",\"tags\":[\"embedded\"]},\"id\":\"1208\",\"type\":\"Row\"},{\"attributes\":{},\"id\":\"1231\",\"type\":\"PanTool\"},{\"attributes\":{\"months\":[0,4,8]},\"id\":\"1277\",\"type\":\"MonthsTicker\"},{\"attributes\":{},\"id\":\"1232\",\"type\":\"WheelZoomTool\"},{\"attributes\":{},\"id\":\"1220\",\"type\":\"LinearScale\"},{\"attributes\":{},\"id\":\"1255\",\"type\":\"AllLabels\"},{\"attributes\":{\"active_multi\":null,\"tools\":[{\"id\":\"1212\"},{\"id\":\"1230\"},{\"id\":\"1231\"},{\"id\":\"1232\"},{\"id\":\"1233\"},{\"id\":\"1234\"}]},\"id\":\"1236\",\"type\":\"Toolbar\"},{\"attributes\":{\"line_color\":\"#30a2da\",\"line_width\":2,\"x\":{\"field\":\"time\"},\"y\":{\"field\":\"temperature\"}},\"id\":\"1251\",\"type\":\"Line\"},{\"attributes\":{\"months\":[0,6]},\"id\":\"1278\",\"type\":\"MonthsTicker\"},{\"attributes\":{\"below\":[{\"id\":\"1222\"}],\"center\":[{\"id\":\"1225\"},{\"id\":\"1229\"}],\"height\":300,\"left\":[{\"id\":\"1226\"}],\"margin\":[5,5,5,5],\"min_border_bottom\":10,\"min_border_left\":10,\"min_border_right\":10,\"min_border_top\":10,\"renderers\":[{\"id\":\"1249\"}],\"sizing_mode\":\"fixed\",\"title\":{\"id\":\"1214\"},\"toolbar\":{\"id\":\"1236\"},\"width\":700,\"x_range\":{\"id\":\"1210\"},\"x_scale\":{\"id\":\"1218\"},\"y_range\":{\"id\":\"1211\"},\"y_scale\":{\"id\":\"1220\"}},\"id\":\"1213\",\"subtype\":\"Figure\",\"type\":\"Plot\"},{\"attributes\":{\"overlay\":{\"id\":\"1235\"}},\"id\":\"1233\",\"type\":\"BoxZoomTool\"},{\"attributes\":{},\"id\":\"1252\",\"type\":\"AllLabels\"},{\"attributes\":{},\"id\":\"1279\",\"type\":\"YearsTicker\"},{\"attributes\":{},\"id\":\"1253\",\"type\":\"DatetimeTickFormatter\"},{\"attributes\":{\"source\":{\"id\":\"1243\"}},\"id\":\"1250\",\"type\":\"CDSView\"},{\"attributes\":{\"margin\":[5,5,5,5],\"name\":\"HSpacer01807\",\"sizing_mode\":\"stretch_width\"},\"id\":\"1209\",\"type\":\"Spacer\"},{\"attributes\":{},\"id\":\"1267\",\"type\":\"UnionRenderers\"},{\"attributes\":{\"axis_label\":\"Date\",\"formatter\":{\"id\":\"1253\"},\"major_label_policy\":{\"id\":\"1252\"},\"ticker\":{\"id\":\"1223\"}},\"id\":\"1222\",\"type\":\"DatetimeAxis\"},{\"attributes\":{},\"id\":\"1234\",\"type\":\"ResetTool\"},{\"attributes\":{\"end\":16.190433333333335,\"reset_end\":16.190433333333335,\"reset_start\":14.608233333333333,\"start\":14.608233333333333,\"tags\":[[[\"temperature\",\"temperature\",null]]]},\"id\":\"1211\",\"type\":\"Range1d\"},{\"attributes\":{},\"id\":\"1227\",\"type\":\"BasicTicker\"},{\"attributes\":{\"mantissas\":[1,2,5],\"max_interval\":500.0,\"num_minor_ticks\":0},\"id\":\"1268\",\"type\":\"AdaptiveTicker\"},{\"attributes\":{\"base\":24,\"mantissas\":[1,2,4,6,8,12],\"max_interval\":43200000.0,\"min_interval\":3600000.0,\"num_minor_ticks\":0},\"id\":\"1270\",\"type\":\"AdaptiveTicker\"},{\"attributes\":{\"text\":\"Land and Ocean Yearly Average Temperatures (1850 - 2016)\",\"text_color\":\"black\",\"text_font_size\":\"12pt\"},\"id\":\"1214\",\"type\":\"Title\"},{\"attributes\":{\"data\":{\"temperature\":{\"__ndarray__\":\"gwfzRP27LUCpfyOU0fstQBfZzvdTAy5AFyD3mgvpLUAIrBxaZPstQI9QRm/LCi5AD+aJ+jfCLUBNYhBYOYQtQBfZzvdTwy1AZa2OCR7cLUB02kCnDcQtQE2pOPvwmS1AcfbhM+x6LUDIdr6fGt8tQF+6SQwCyy1Af7HkF0v+LUB3vp8aLx0uQLhlrY4JHi5AlYqzD58xLkCoxks3iSEuQA/mifo3Ai5AWatjggcDLkBXxwQP5gkuQPCnxks3GS5ARIts5/vpLUD78Bl2BdgtQJWKsw+f0S1AXQFyr7mQLkDgwTxR/7YuQCRNqTj7IC5AH8wT9W8ELkDzRP0boSwuQKdUnH34HC5Ad76fGi/tLUC0yHa+n6otQDj78Bl2tS1Az/dT46WrLUBvEoPAyqEtQKdUnH34/C1AME/UvxE6LkBYObTIdq4tQCkVZx8+4y1ApHA9CtfDLUBQjZduEtMtQDEIrBxa1C1A46WbxCDwLUBrdUzwYC4uQEDuNReSJi5AqTj78BnGLUBZ8oslvxguQIddAXKvSS5AJb9Y8oslLkCrqqqqquotQDUXkqZUrC1A8O7u7u6eLUBP1L8RyugtQLQPn2FXEC5AEzyYJ+q/LUCA3GsuJK0tQO81F5KmlC1ADbsC5F6jLUBbZDvfT40tQAjzRP0bwS1A4XoUrkfRLUDXo3A9CicuQJmZmZmZSS5ANOwKkHvNLUA830+Nl54tQP+NUEZv6y1A+35qvHQDLkA9CtejcA0uQEVERERENC5AeaL+jVAGLkCIz7ArQA4uQGGeqH8jFC5AiM+wK0AuLkD/jVBGb3suQDzfT42XPi5AwMqhRbZDLkCZ4ME8Ue8tQLgehetRWC5Av58aL910LkDHSzeJQWAuQDfQaQOdBi5ARIts5/tJLkDDrgC51zwuQI8JHswTVS5AYOXQItuZLkCzVscED5YuQI1QRm/Lmi5ATxvotIG+LkCsY4IH88QuQEDuNReSpi5AcD0K16OwLkDQsCtA7uUuQNNNYhBYqS5ASwwCK4eGLkAMSVMqzp4uQP9GKKO3hS5ANV66SQxyLkCBlUOLbEcuQJngwTxRny5AV8cED+a5LkBbHRM8mNcuQLNWxwQPdi5A54n6N0JZLkCEwMqhRTYuQGlKxdmHvy5A1AY6baDDLkB0kxgEVq4uQDn78Bl2lS5AzBP1b4TCLkAklNHbsqYuQEGnDXTawC5AjCW/WPI7LkBPYhBYOWQuQG1Zq2OChy5AN9BpA52WLkDEZ9gVIIcuQA8tsp3vxy5A95oLSVOqLkBnZmZmZmYuQMeSXyz5lS5ArBxaZDvPLkCzVscED1YuQBT1b4Qyei5AR2/LWh1DLkAbL90kBtEuQDBP1L8Rmi5AdNpApw3ULkCofyOU0fsuQMM8Uf9GCC9A05SKsw+vLkDtfD81XgovQNBpA502sC5AYVeA3GuuLkD4U+Olm8QuQAeBlUOLDC9AB4GVQ4scL0AsQO41F+IuQA/mifo3Qi9AGARWDi0yL0APLbKd7+cuQAxJUyrO7i5AUbgehesRL0BA7jUXkkYvQPNE/RuhDC9ANOwKkHttL0D0/dR46aYvQA27AuReMy9AbC4kTak4L0ApXI/C9YgvQImIiIiIqC9AsStA7jWnL0DAyqFFtoMvQBgEVg4twi9AjZduEoOgL0BbHRM8mKcvQOF6FK5HcS9AbVmrY4KnL0DQItv5fsovQESLbOf7iS9Aj1BGb8uaL0A5+/AZdrUvQPl+arx00y9A4cE8Uf8OMEA=\",\"dtype\":\"float64\",\"order\":\"little\",\"shape\":[166]},\"time\":{\"__ndarray__\":\"AADg0e5Si8IAAIBIMRiLwgAAQIxK3YrCAADgAo2iisIAAIB5z2eKwgAAIPARLYrCAADgMyvyicIAAICqbbeJwgAAICGwfInCAADAl/JBicIAAIDbCweJwgAAIFJOzIjCAADAyJCRiMIAAGA/01aIwgAAIIPsG4jCAADA+S7hh8IAAGBwcaaHwgAAAOeza4fCAADAKs0wh8IAAGChD/aGwgAAABhSu4bCAACgjpSAhsIAAGDSrUWGwgAAAEnwCobCAACgvzLQhcIAAEA2dZWFwgAAAHqOWoXCAACg8NAfhcIAAEBnE+WEwgAA4N1VqoTCAACgIW9vhMIAAECYsTSEwgAA4A70+YPCAACAhTa/g8IAAEDJT4SDwgAA4D+SSYPCAACAttQOg8IAACAtF9SCwgAA4HAwmYLCAACA53JegsIAACBetSOCwgAAwNT36IHCAACAGBGugcIAACCPU3OBwgAAwAWWOIHCAABgfNj9gMIAACDA8cKAwgAAwDY0iIDCAABgrXZNgMIAAAAkuRKAwgAAQDX3r3/CAACAInw6f8IAAMAPAcV+wgAAAP2FT37CAACAhLjZfcIAAMBxPWR9wgAAAF/C7nzCAABATEd5fMIAAMDTeQN8wgAAAMH+jXvCAABAroMYe8IAAICbCKN6wgAAACM7LXrCAABAEMC3ecIAAID9REJ5wgAAwOrJzHjCAABAcvxWeMIAAIBfgeF3wgAAwEwGbHfCAAAAOov2dsIAAIDBvYB2wgAAwK5CC3bCAAAAnMeVdcIAAECJTCB1wgAAwBB/qnTCAAAA/gM1dMIAAEDriL9zwgAAgNgNSnPCAAAAYEDUcsIAAEBNxV5ywgAAgDpK6XHCAADAJ89zccIAAECvAf5wwgAAgJyGiHDCAADAiQsTcMIAAADuIDtvwgAAAP2FT27CAACA149kbcIAAACymXlswgAAgIyjjmvCAACAmwijasIAAAB2ErhpwgAAgFAczWjCAAAAKybiZ8IAAAA6i/ZmwgAAgBSVC2bCAAAA754gZcIAAIDJqDVkwgAAgNgNSmPCAAAAsxdfYsIAAICNIXRhwgAAAGgriWDCAAAA7iA7X8IAAACjNGVdwgAAAFhIj1vCAAAADVy5WcIAAAArJuJXwgAAAOA5DFbCAAAAlU02VMIAAABKYWBSwgAAAGgriVDCAAAAOn5mTcIAAACkpbpJwgAAAA7NDkbCAAAASmFgQsIAAABoEWk9wgAAADxgETbCAAAAIF5zLcIAAAAgXnMdwgAAAABwmZTBAAAAQCtKHUIAAAD4d1QtQgAAAIQTBzZCAAAAsMRePUIAAADuOltCQgAAAIQTB0ZCAAAASH+1SUIAAADeV2FNQgAAADqYhlBCAAAAhYRcUkIAAABnujNUQgAAALKmCVZCAAAA/ZLfV0IAAABIf7VZQgAAACq1jFtCAAAAdaFiXUIAAADAjThfQgAAgAU9h2BCAACA9tdyYUIAAAAczl1iQgAAgEHESGNCAAAAZ7ozZEIAAABYVR9lQgAAgH1LCmZCAAAAo0H1ZkIAAIDIN+BnQgAAgLnSy2hCAAAA38i2aUIAAIAEv6FqQgAAACq1jGtCAAAAG1B4bEIAAIBARmNtQgAAAGY8Tm5CAACAizI5b0IAAEC+ZhJwQgAAANHhh3BCAADA41z9cEIAAID213JxQgAAAG+l6HFCAADAgSBeckIAAICUm9NyQgAAQKcWSXNCAADAH+S+c0IAAIAyXzR0QgAAQEXaqXRCAAAAWFUfdUI=\",\"dtype\":\"float64\",\"order\":\"little\",\"shape\":[166]}},\"selected\":{\"id\":\"1244\"},\"selection_policy\":{\"id\":\"1267\"}},\"id\":\"1243\",\"type\":\"ColumnDataSource\"},{\"attributes\":{\"days\":[1,2,3,4,5,6,7,8,9,10,11,12,13,14,15,16,17,18,19,20,21,22,23,24,25,26,27,28,29,30,31]},\"id\":\"1271\",\"type\":\"DaysTicker\"},{\"attributes\":{\"num_minor_ticks\":5,\"tickers\":[{\"id\":\"1268\"},{\"id\":\"1269\"},{\"id\":\"1270\"},{\"id\":\"1271\"},{\"id\":\"1272\"},{\"id\":\"1273\"},{\"id\":\"1274\"},{\"id\":\"1275\"},{\"id\":\"1276\"},{\"id\":\"1277\"},{\"id\":\"1278\"},{\"id\":\"1279\"}]},\"id\":\"1223\",\"type\":\"DatetimeTicker\"},{\"attributes\":{\"base\":60,\"mantissas\":[1,2,5,10,15,20,30],\"max_interval\":1800000.0,\"min_interval\":1000.0,\"num_minor_ticks\":0},\"id\":\"1269\",\"type\":\"AdaptiveTicker\"},{\"attributes\":{\"days\":[1,4,7,10,13,16,19,22,25,28]},\"id\":\"1272\",\"type\":\"DaysTicker\"},{\"attributes\":{\"axis\":{\"id\":\"1222\"},\"grid_line_color\":null,\"ticker\":null},\"id\":\"1225\",\"type\":\"Grid\"}],\"root_ids\":[\"1208\"]},\"title\":\"Bokeh Application\",\"version\":\"2.3.3\"}};\n",
       "    var render_items = [{\"docid\":\"d42c4e22-55a7-4414-9700-e937d13d3484\",\"root_ids\":[\"1208\"],\"roots\":{\"1208\":\"a81d2069-2d05-40dc-83d4-c8f971906b65\"}}];\n",
=======
       "  <div class=\"bk-root\" id=\"c2025829-05d6-4969-b864-a3b50cd8636d\" data-root-id=\"27027\"></div>\n",
       "</div>\n",
       "<script type=\"application/javascript\">(function(root) {\n",
       "  function embed_document(root) {\n",
       "    var docs_json = {\"5b7b48c1-b65d-45d1-b93a-8fbe797b3222\":{\"defs\":[{\"extends\":null,\"module\":null,\"name\":\"ReactiveHTML1\",\"overrides\":[],\"properties\":[]},{\"extends\":null,\"module\":null,\"name\":\"FlexBox1\",\"overrides\":[],\"properties\":[{\"default\":\"flex-start\",\"kind\":null,\"name\":\"align_content\"},{\"default\":\"flex-start\",\"kind\":null,\"name\":\"align_items\"},{\"default\":\"row\",\"kind\":null,\"name\":\"flex_direction\"},{\"default\":\"wrap\",\"kind\":null,\"name\":\"flex_wrap\"},{\"default\":\"flex-start\",\"kind\":null,\"name\":\"justify_content\"}]},{\"extends\":null,\"module\":null,\"name\":\"TemplateActions1\",\"overrides\":[],\"properties\":[{\"default\":0,\"kind\":null,\"name\":\"open_modal\"},{\"default\":0,\"kind\":null,\"name\":\"close_modal\"}]},{\"extends\":null,\"module\":null,\"name\":\"MaterialTemplateActions1\",\"overrides\":[],\"properties\":[{\"default\":0,\"kind\":null,\"name\":\"open_modal\"},{\"default\":0,\"kind\":null,\"name\":\"close_modal\"}]}],\"roots\":{\"references\":[{\"attributes\":{},\"id\":\"27073\",\"type\":\"AllLabels\"},{\"attributes\":{\"days\":[1,8,15,22]},\"id\":\"27092\",\"type\":\"DaysTicker\"},{\"attributes\":{\"line_color\":\"#30a2da\",\"line_width\":2,\"x\":{\"field\":\"time\"},\"y\":{\"field\":\"temperature\"}},\"id\":\"27065\",\"type\":\"Line\"},{\"attributes\":{\"line_alpha\":0.1,\"line_color\":\"#30a2da\",\"line_width\":2,\"x\":{\"field\":\"time\"},\"y\":{\"field\":\"temperature\"}},\"id\":\"27066\",\"type\":\"Line\"},{\"attributes\":{\"axis_label\":\"Date\",\"formatter\":{\"id\":\"27071\"},\"major_label_policy\":{\"id\":\"27073\"},\"ticker\":{\"id\":\"27042\"}},\"id\":\"27041\",\"type\":\"DatetimeAxis\"},{\"attributes\":{},\"id\":\"27037\",\"type\":\"LinearScale\"},{\"attributes\":{\"days\":[1,15]},\"id\":\"27093\",\"type\":\"DaysTicker\"},{\"attributes\":{\"end\":16.190433333333335,\"reset_end\":16.190433333333335,\"reset_start\":14.608233333333333,\"start\":14.608233333333333,\"tags\":[[[\"temperature\",\"temperature\",null]]]},\"id\":\"27030\",\"type\":\"Range1d\"},{\"attributes\":{\"margin\":[5,5,5,5],\"name\":\"HSpacer29277\",\"sizing_mode\":\"stretch_width\"},\"id\":\"27121\",\"type\":\"Spacer\"},{\"attributes\":{\"below\":[{\"id\":\"27041\"}],\"center\":[{\"id\":\"27044\"},{\"id\":\"27048\"}],\"height\":300,\"left\":[{\"id\":\"27045\"}],\"margin\":[5,5,5,5],\"min_border_bottom\":10,\"min_border_left\":10,\"min_border_right\":10,\"min_border_top\":10,\"renderers\":[{\"id\":\"27068\"}],\"sizing_mode\":\"fixed\",\"title\":{\"id\":\"27033\"},\"toolbar\":{\"id\":\"27055\"},\"width\":700,\"x_range\":{\"id\":\"27029\"},\"x_scale\":{\"id\":\"27037\"},\"y_range\":{\"id\":\"27030\"},\"y_scale\":{\"id\":\"27039\"}},\"id\":\"27032\",\"subtype\":\"Figure\",\"type\":\"Plot\"},{\"attributes\":{\"end\":1451520000000.0,\"reset_end\":1451520000000.0,\"reset_start\":-3755376000000.0,\"start\":-3755376000000.0,\"tags\":[[[\"time\",\"time\",null]]]},\"id\":\"27029\",\"type\":\"Range1d\"},{\"attributes\":{},\"id\":\"27051\",\"type\":\"WheelZoomTool\"},{\"attributes\":{},\"id\":\"27076\",\"type\":\"AllLabels\"},{\"attributes\":{\"bottom_units\":\"screen\",\"fill_alpha\":0.5,\"fill_color\":\"lightgrey\",\"left_units\":\"screen\",\"level\":\"overlay\",\"line_alpha\":1.0,\"line_color\":\"black\",\"line_dash\":[4,4],\"line_width\":2,\"right_units\":\"screen\",\"syncable\":false,\"top_units\":\"screen\"},\"id\":\"27054\",\"type\":\"BoxAnnotation\"},{\"attributes\":{\"overlay\":{\"id\":\"27054\"}},\"id\":\"27052\",\"type\":\"BoxZoomTool\"},{\"attributes\":{},\"id\":\"27063\",\"type\":\"Selection\"},{\"attributes\":{},\"id\":\"27086\",\"type\":\"UnionRenderers\"},{\"attributes\":{},\"id\":\"27050\",\"type\":\"PanTool\"},{\"attributes\":{},\"id\":\"27074\",\"type\":\"BasicTickFormatter\"},{\"attributes\":{},\"id\":\"27049\",\"type\":\"SaveTool\"},{\"attributes\":{},\"id\":\"27053\",\"type\":\"ResetTool\"},{\"attributes\":{},\"id\":\"27046\",\"type\":\"BasicTicker\"},{\"attributes\":{},\"id\":\"27098\",\"type\":\"YearsTicker\"},{\"attributes\":{\"text\":\"Land and Ocean Yearly Average Temperatures (1850 - 2016)\",\"text_color\":\"black\",\"text_font_size\":\"12pt\"},\"id\":\"27033\",\"type\":\"Title\"},{\"attributes\":{},\"id\":\"27071\",\"type\":\"DatetimeTickFormatter\"},{\"attributes\":{\"callback\":null,\"formatters\":{\"@{time}\":\"datetime\"},\"renderers\":[{\"id\":\"27068\"}],\"tags\":[\"hv_created\"],\"tooltips\":[[\"time\",\"@{time}{%F %T}\"],[\"temperature\",\"@{temperature}\"]]},\"id\":\"27031\",\"type\":\"HoverTool\"},{\"attributes\":{\"base\":24,\"mantissas\":[1,2,4,6,8,12],\"max_interval\":43200000.0,\"min_interval\":3600000.0,\"num_minor_ticks\":0},\"id\":\"27089\",\"type\":\"AdaptiveTicker\"},{\"attributes\":{\"line_color\":\"#30a2da\",\"line_width\":2,\"x\":{\"field\":\"time\"},\"y\":{\"field\":\"temperature\"}},\"id\":\"27070\",\"type\":\"Line\"},{\"attributes\":{\"source\":{\"id\":\"27062\"}},\"id\":\"27069\",\"type\":\"CDSView\"},{\"attributes\":{\"line_alpha\":0.2,\"line_color\":\"#30a2da\",\"line_width\":2,\"x\":{\"field\":\"time\"},\"y\":{\"field\":\"temperature\"}},\"id\":\"27067\",\"type\":\"Line\"},{\"attributes\":{\"data_source\":{\"id\":\"27062\"},\"glyph\":{\"id\":\"27065\"},\"hover_glyph\":null,\"muted_glyph\":{\"id\":\"27067\"},\"nonselection_glyph\":{\"id\":\"27066\"},\"selection_glyph\":{\"id\":\"27070\"},\"view\":{\"id\":\"27069\"}},\"id\":\"27068\",\"type\":\"GlyphRenderer\"},{\"attributes\":{\"margin\":[5,5,5,5],\"name\":\"HSpacer29276\",\"sizing_mode\":\"stretch_width\"},\"id\":\"27028\",\"type\":\"Spacer\"},{\"attributes\":{\"num_minor_ticks\":5,\"tickers\":[{\"id\":\"27087\"},{\"id\":\"27088\"},{\"id\":\"27089\"},{\"id\":\"27090\"},{\"id\":\"27091\"},{\"id\":\"27092\"},{\"id\":\"27093\"},{\"id\":\"27094\"},{\"id\":\"27095\"},{\"id\":\"27096\"},{\"id\":\"27097\"},{\"id\":\"27098\"}]},\"id\":\"27042\",\"type\":\"DatetimeTicker\"},{\"attributes\":{\"mantissas\":[1,2,5],\"max_interval\":500.0,\"num_minor_ticks\":0},\"id\":\"27087\",\"type\":\"AdaptiveTicker\"},{\"attributes\":{\"axis\":{\"id\":\"27045\"},\"dimension\":1,\"grid_line_color\":null,\"ticker\":null},\"id\":\"27048\",\"type\":\"Grid\"},{\"attributes\":{},\"id\":\"27039\",\"type\":\"LinearScale\"},{\"attributes\":{\"axis\":{\"id\":\"27041\"},\"grid_line_color\":null,\"ticker\":null},\"id\":\"27044\",\"type\":\"Grid\"},{\"attributes\":{\"months\":[0,4,8]},\"id\":\"27096\",\"type\":\"MonthsTicker\"},{\"attributes\":{\"axis_label\":\"Temperature (Celsius)\",\"formatter\":{\"id\":\"27074\"},\"major_label_policy\":{\"id\":\"27076\"},\"ticker\":{\"id\":\"27046\"}},\"id\":\"27045\",\"type\":\"LinearAxis\"},{\"attributes\":{\"months\":[0,6]},\"id\":\"27097\",\"type\":\"MonthsTicker\"},{\"attributes\":{\"active_multi\":null,\"tools\":[{\"id\":\"27031\"},{\"id\":\"27049\"},{\"id\":\"27050\"},{\"id\":\"27051\"},{\"id\":\"27052\"},{\"id\":\"27053\"}]},\"id\":\"27055\",\"type\":\"Toolbar\"},{\"attributes\":{\"months\":[0,1,2,3,4,5,6,7,8,9,10,11]},\"id\":\"27094\",\"type\":\"MonthsTicker\"},{\"attributes\":{\"data\":{\"temperature\":{\"__ndarray__\":\"gwfzRP27LUCofyOU0fstQBjZzvdTAy5AFyD3mgvpLUAHrBxaZPstQI1QRm/LCi5AD+aJ+jfCLUBNYhBYOYQtQBfZzvdTwy1AZ62OCR7cLUBz2kCnDcQtQE2pOPvwmS1AcfbhM+x6LUDJdr6fGt8tQF26SQwCyy1Af7HkF0v+LUB4vp8aLx0uQLhlrY4JHi5AlYqzD58xLkCnxks3iSEuQBDmifo3Ai5AW6tjggcDLkBYxwQP5gkuQPCnxks3GS5ARIts5/vpLUD78Bl2BdgtQJeKsw+f0S1AXwFyr7mQLkDgwTxR/7YuQCVNqTj7IC5AHcwT9W8ELkD0RP0boSwuQKVUnH34HC5Ad76fGi/tLUC1yHa+n6otQDn78Bl2tS1Az/dT46WrLUBvEoPAyqEtQKhUnH34/C1AMU/UvxE6LkBYObTIdq4tQCgVZx8+4y1ApHA9CtfDLUBQjZduEtMtQDEIrBxa1C1A5KWbxCDwLUBsdUzwYC4uQEHuNReSJi5AqDj78BnGLUBZ8oslvxguQIddAXKvSS5AJb9Y8oslLkCrqqqqquotQDcXkqZUrC1A8O7u7u6eLUBP1L8RyugtQLQPn2FXEC5AETyYJ+q/LUCD3GsuJK0tQO81F5KmlC1ADbsC5F6jLUBbZDvfT40tQAfzRP0bwS1A4HoUrkfRLUDYo3A9CicuQJmZmZmZSS5ANOwKkHvNLUA930+Nl54tQACOUEZv6y1A+X5qvHQDLkA8CtejcA0uQEVERERENC5Ae6L+jVAGLkCHz7ArQA4uQGGeqH8jFC5AiM+wK0AuLkAAjlBGb3suQDzfT42XPi5AwcqhRbZDLkCY4ME8Ue8tQLcehetRWC5AwJ8aL910LkDISzeJQWAuQDfQaQOdBi5ARIts5/tJLkDErgC51zwuQI8JHswTVS5AYOXQItuZLkCzVscED5YuQI1QRm/Lmi5ATxvotIG+LkCrY4IH88QuQEPuNReSpi5AcT0K16OwLkDQsCtA7uUuQNNNYhBYqS5ASwwCK4eGLkANSVMqzp4uQABHKKO3hS5ANV66SQxyLkCBlUOLbEcuQJjgwTxRny5AV8cED+a5LkBbHRM8mNcuQLRWxwQPdi5A54n6N0JZLkCDwMqhRTYuQGhKxdmHvy5A1AY6baDDLkB0kxgEVq4uQDj78Bl2lS5AzRP1b4TCLkAklNHbsqYuQECnDXTawC5AiyW/WPI7LkBPYhBYOWQuQG1Zq2OChy5AN9BpA52WLkDDZ9gVIIcuQA0tsp3vxy5A95oLSVOqLkBnZmZmZmYuQMeSXyz5lS5ArRxaZDvPLkCzVscED1YuQBT1b4Qyei5AR2/LWh1DLkAbL90kBtEuQDBP1L8Rmi5AdNpApw3ULkCofyOU0fsuQMM8Uf9GCC9A05SKsw+vLkDtfD81XgovQNBpA502sC5AY1eA3GuuLkD5U+Olm8QuQAiBlUOLDC9AB4GVQ4scL0AsQO41F+IuQBDmifo3Qi9AGARWDi0yL0ANLbKd7+cuQAxJUyrO7i5AUbgehesRL0BA7jUXkkYvQPNE/RuhDC9ANOwKkHttL0D1/dR46aYvQA27AuReMy9AbC4kTak4L0AoXI/C9YgvQImIiIiIqC9AsytA7jWnL0DByqFFtoMvQBgEVg4twi9AjZduEoOgL0BbHRM8mKcvQON6FK5HcS9AbVmrY4KnL0DQItv5fsovQESLbOf7iS9AkFBGb8uaL0A5+/AZdrUvQPh+arx00y9A4cE8Uf8OMEA=\",\"dtype\":\"float64\",\"order\":\"little\",\"shape\":[166]},\"time\":{\"__ndarray__\":\"AADg0e5Si8IAAIBIMRiLwgAAQIxK3YrCAADgAo2iisIAAIB5z2eKwgAAIPARLYrCAADgMyvyicIAAICqbbeJwgAAICGwfInCAADAl/JBicIAAIDbCweJwgAAIFJOzIjCAADAyJCRiMIAAGA/01aIwgAAIIPsG4jCAADA+S7hh8IAAGBwcaaHwgAAAOeza4fCAADAKs0wh8IAAGChD/aGwgAAABhSu4bCAACgjpSAhsIAAGDSrUWGwgAAAEnwCobCAACgvzLQhcIAAEA2dZWFwgAAAHqOWoXCAACg8NAfhcIAAEBnE+WEwgAA4N1VqoTCAACgIW9vhMIAAECYsTSEwgAA4A70+YPCAACAhTa/g8IAAEDJT4SDwgAA4D+SSYPCAACAttQOg8IAACAtF9SCwgAA4HAwmYLCAACA53JegsIAACBetSOCwgAAwNT36IHCAACAGBGugcIAACCPU3OBwgAAwAWWOIHCAABgfNj9gMIAACDA8cKAwgAAwDY0iIDCAABgrXZNgMIAAAAkuRKAwgAAQDX3r3/CAACAInw6f8IAAMAPAcV+wgAAAP2FT37CAACAhLjZfcIAAMBxPWR9wgAAAF/C7nzCAABATEd5fMIAAMDTeQN8wgAAAMH+jXvCAABAroMYe8IAAICbCKN6wgAAACM7LXrCAABAEMC3ecIAAID9REJ5wgAAwOrJzHjCAABAcvxWeMIAAIBfgeF3wgAAwEwGbHfCAAAAOov2dsIAAIDBvYB2wgAAwK5CC3bCAAAAnMeVdcIAAECJTCB1wgAAwBB/qnTCAAAA/gM1dMIAAEDriL9zwgAAgNgNSnPCAAAAYEDUcsIAAEBNxV5ywgAAgDpK6XHCAADAJ89zccIAAECvAf5wwgAAgJyGiHDCAADAiQsTcMIAAADuIDtvwgAAAP2FT27CAACA149kbcIAAACymXlswgAAgIyjjmvCAACAmwijasIAAAB2ErhpwgAAgFAczWjCAAAAKybiZ8IAAAA6i/ZmwgAAgBSVC2bCAAAA754gZcIAAIDJqDVkwgAAgNgNSmPCAAAAsxdfYsIAAICNIXRhwgAAAGgriWDCAAAA7iA7X8IAAACjNGVdwgAAAFhIj1vCAAAADVy5WcIAAAArJuJXwgAAAOA5DFbCAAAAlU02VMIAAABKYWBSwgAAAGgriVDCAAAAOn5mTcIAAACkpbpJwgAAAA7NDkbCAAAASmFgQsIAAABoEWk9wgAAADxgETbCAAAAIF5zLcIAAAAgXnMdwgAAAABwmZTBAAAAQCtKHUIAAAD4d1QtQgAAAIQTBzZCAAAAsMRePUIAAADuOltCQgAAAIQTB0ZCAAAASH+1SUIAAADeV2FNQgAAADqYhlBCAAAAhYRcUkIAAABnujNUQgAAALKmCVZCAAAA/ZLfV0IAAABIf7VZQgAAACq1jFtCAAAAdaFiXUIAAADAjThfQgAAgAU9h2BCAACA9tdyYUIAAAAczl1iQgAAgEHESGNCAAAAZ7ozZEIAAABYVR9lQgAAgH1LCmZCAAAAo0H1ZkIAAIDIN+BnQgAAgLnSy2hCAAAA38i2aUIAAIAEv6FqQgAAACq1jGtCAAAAG1B4bEIAAIBARmNtQgAAAGY8Tm5CAACAizI5b0IAAEC+ZhJwQgAAANHhh3BCAADA41z9cEIAAID213JxQgAAAG+l6HFCAADAgSBeckIAAICUm9NyQgAAQKcWSXNCAADAH+S+c0IAAIAyXzR0QgAAQEXaqXRCAAAAWFUfdUI=\",\"dtype\":\"float64\",\"order\":\"little\",\"shape\":[166]}},\"selected\":{\"id\":\"27063\"},\"selection_policy\":{\"id\":\"27086\"}},\"id\":\"27062\",\"type\":\"ColumnDataSource\"},{\"attributes\":{\"days\":[1,2,3,4,5,6,7,8,9,10,11,12,13,14,15,16,17,18,19,20,21,22,23,24,25,26,27,28,29,30,31]},\"id\":\"27090\",\"type\":\"DaysTicker\"},{\"attributes\":{\"days\":[1,4,7,10,13,16,19,22,25,28]},\"id\":\"27091\",\"type\":\"DaysTicker\"},{\"attributes\":{\"months\":[0,2,4,6,8,10]},\"id\":\"27095\",\"type\":\"MonthsTicker\"},{\"attributes\":{\"children\":[{\"id\":\"27028\"},{\"id\":\"27032\"},{\"id\":\"27121\"}],\"margin\":[0,0,0,0],\"name\":\"Row29272\",\"tags\":[\"embedded\"]},\"id\":\"27027\",\"type\":\"Row\"},{\"attributes\":{\"base\":60,\"mantissas\":[1,2,5,10,15,20,30],\"max_interval\":1800000.0,\"min_interval\":1000.0,\"num_minor_ticks\":0},\"id\":\"27088\",\"type\":\"AdaptiveTicker\"}],\"root_ids\":[\"27027\"]},\"title\":\"Bokeh Application\",\"version\":\"2.3.2\"}};\n",
       "    var render_items = [{\"docid\":\"5b7b48c1-b65d-45d1-b93a-8fbe797b3222\",\"root_ids\":[\"27027\"],\"roots\":{\"27027\":\"c2025829-05d6-4969-b864-a3b50cd8636d\"}}];\n",
>>>>>>> f4869e0c2d563b7915abdccb25e3e7ec4efcab45
>>>>>>> 63f8ba45e0bf701583efee4d35c673e603e26119:commodities_prices_vs_climate_change_old.ipynb
       "    root.Bokeh.embed.embed_items_notebook(docs_json, render_items);\n",
       "  }\n",
       "  if (root.Bokeh !== undefined && root.Bokeh.Panel !== undefined) {\n",
       "    embed_document(root);\n",
       "  } else {\n",
       "    var attempts = 0;\n",
       "    var timer = setInterval(function(root) {\n",
       "      if (root.Bokeh !== undefined && root.Bokeh.Panel !== undefined) {\n",
       "        clearInterval(timer);\n",
       "        embed_document(root);\n",
       "      } else if (document.readyState == \"complete\") {\n",
       "        attempts++;\n",
       "        if (attempts > 200) {\n",
       "          clearInterval(timer);\n",
       "          console.log(\"Bokeh: ERROR: Unable to run BokehJS code because BokehJS library is missing\");\n",
       "        }\n",
       "      }\n",
       "    }, 25, root)\n",
       "  }\n",
       "})(window);</script>"
      ],
      "text/plain": [
       ":Curve   [time]   (temperature)"
      ]
     },
<<<<<<< HEAD:commodities_prices_vs_climate_change.ipynb
     "execution_count": 14,
     "metadata": {
      "application/vnd.holoviews_exec.v0+json": {
       "id": "1208"
=======
<<<<<<< HEAD
     "execution_count": 12,
     "metadata": {
      "application/vnd.holoviews_exec.v0+json": {
       "id": "1208"
=======
     "execution_count": 774,
     "metadata": {
      "application/vnd.holoviews_exec.v0+json": {
       "id": "27027"
>>>>>>> f4869e0c2d563b7915abdccb25e3e7ec4efcab45
>>>>>>> 63f8ba45e0bf701583efee4d35c673e603e26119:commodities_prices_vs_climate_change_old.ipynb
      }
     },
     "output_type": "execute_result"
    }
   ],
   "source": [
    "# Plot Land and Ocean Daily Averages to get a visualization of the raw data.\n",
    "global_temperature_year_df.hvplot(title = \"Land and Ocean Yearly Average Temperatures (1850 - 2016)\",\n",
    "                            xlabel = \"Date\",\n",
    "                            ylabel = \"Temperature (Celsius)\")"
   ]
  },
  {
   "cell_type": "markdown",
   "id": "bf07708e-b41d-4983-87db-6371c6e34ebe",
   "metadata": {},
   "source": [
    "After further research into climate analysis, it was discovered that climate is not typically analyzed in average absolute values, but rather in what is know as \"temperature anomalies\".  A temperature anomoly is measured by the distance that a temperature deviates from the \"normal average temperature\".  The \"normal average temperature\" is the mean value of a temperature range that spans over atleast a 30 year period.  This distance from mean can be normalized to the standard deviation which is know as \"Standardized Anomolies\".  Standardized anomolies will be how we will analyze trends for our data.   \n",
    "\n",
    "Different organizations use different normal average temperature timeframes; for example the World Meteorological Organization (WMO) uses 1918-2010, NASA uses 1951-1980 and NOAA uses data spanning over the entire 20th century.\n",
    "\n",
    "For the sake of this analysis, we will use the same timeframe as NOAA (1900-01-01 to 2000-01-01) for our normal average temperature reference.   "
   ]
  },
  {
   "cell_type": "code",
<<<<<<< HEAD:commodities_prices_vs_climate_change.ipynb
   "execution_count": 15,
=======
<<<<<<< HEAD
   "execution_count": 13,
=======
   "execution_count": 775,
>>>>>>> f4869e0c2d563b7915abdccb25e3e7ec4efcab45
>>>>>>> 63f8ba45e0bf701583efee4d35c673e603e26119:commodities_prices_vs_climate_change_old.ipynb
   "id": "508b8d0e-4580-4015-8b46-2acd3f99b332",
   "metadata": {},
   "outputs": [
    {
     "data": {
      "text/html": [
       "<div>\n",
       "<style scoped>\n",
       "    .dataframe tbody tr th:only-of-type {\n",
       "        vertical-align: middle;\n",
       "    }\n",
       "\n",
       "    .dataframe tbody tr th {\n",
       "        vertical-align: top;\n",
       "    }\n",
       "\n",
       "    .dataframe thead th {\n",
       "        text-align: right;\n",
       "    }\n",
       "</style>\n",
       "<table border=\"1\" class=\"dataframe\">\n",
       "  <thead>\n",
       "    <tr style=\"text-align: right;\">\n",
       "      <th></th>\n",
       "      <th>temperature</th>\n",
       "    </tr>\n",
       "    <tr>\n",
       "      <th>time</th>\n",
       "      <th></th>\n",
       "    </tr>\n",
       "  </thead>\n",
       "  <tbody>\n",
       "    <tr>\n",
       "      <th>1900-12-31</th>\n",
       "      <td>15.143917</td>\n",
       "    </tr>\n",
       "    <tr>\n",
       "      <th>1901-12-31</th>\n",
       "      <td>15.073333</td>\n",
       "    </tr>\n",
       "    <tr>\n",
       "      <th>1902-12-31</th>\n",
       "      <td>14.958333</td>\n",
       "    </tr>\n",
       "    <tr>\n",
       "      <th>1903-12-31</th>\n",
       "      <td>14.836583</td>\n",
       "    </tr>\n",
       "    <tr>\n",
       "      <th>1904-12-31</th>\n",
       "      <td>14.810417</td>\n",
       "    </tr>\n",
       "  </tbody>\n",
       "</table>\n",
       "</div>"
      ],
      "text/plain": [
       "            temperature\n",
       "time                   \n",
       "1900-12-31    15.143917\n",
       "1901-12-31    15.073333\n",
       "1902-12-31    14.958333\n",
       "1903-12-31    14.836583\n",
       "1904-12-31    14.810417"
      ]
     },
     "metadata": {},
     "output_type": "display_data"
    },
    {
     "data": {
      "text/html": [
       "<div>\n",
       "<style scoped>\n",
       "    .dataframe tbody tr th:only-of-type {\n",
       "        vertical-align: middle;\n",
       "    }\n",
       "\n",
       "    .dataframe tbody tr th {\n",
       "        vertical-align: top;\n",
       "    }\n",
       "\n",
       "    .dataframe thead th {\n",
       "        text-align: right;\n",
       "    }\n",
       "</style>\n",
       "<table border=\"1\" class=\"dataframe\">\n",
       "  <thead>\n",
       "    <tr style=\"text-align: right;\">\n",
       "      <th></th>\n",
       "      <th>temperature</th>\n",
       "    </tr>\n",
       "    <tr>\n",
       "      <th>time</th>\n",
       "      <th></th>\n",
       "    </tr>\n",
       "  </thead>\n",
       "  <tbody>\n",
       "    <tr>\n",
       "      <th>1995-12-31</th>\n",
       "      <td>15.637833</td>\n",
       "    </tr>\n",
       "    <tr>\n",
       "      <th>1996-12-31</th>\n",
       "      <td>15.524667</td>\n",
       "    </tr>\n",
       "    <tr>\n",
       "      <th>1997-12-31</th>\n",
       "      <td>15.713833</td>\n",
       "    </tr>\n",
       "    <tr>\n",
       "      <th>1998-12-31</th>\n",
       "      <td>15.826000</td>\n",
       "    </tr>\n",
       "    <tr>\n",
       "      <th>1999-12-31</th>\n",
       "      <td>15.600333</td>\n",
       "    </tr>\n",
       "  </tbody>\n",
       "</table>\n",
       "</div>"
      ],
      "text/plain": [
       "            temperature\n",
       "time                   \n",
       "1995-12-31    15.637833\n",
       "1996-12-31    15.524667\n",
       "1997-12-31    15.713833\n",
       "1998-12-31    15.826000\n",
       "1999-12-31    15.600333"
      ]
     },
     "metadata": {},
     "output_type": "display_data"
    }
   ],
   "source": [
    "# Extract the 20th century from the global_temperature_year_df to use as reference.  \n",
    "normal_average_temperature = global_temperature_year_df.loc['1900-01-01':'2000-01-01']\n",
    "\n",
    "# Review the first 5 and last 5 rows of DataFrame\n",
    "display(normal_average_temperature.head())\n",
    "display(normal_average_temperature.tail())"
   ]
  },
  {
   "cell_type": "code",
<<<<<<< HEAD:commodities_prices_vs_climate_change.ipynb
   "execution_count": 16,
=======
<<<<<<< HEAD
   "execution_count": 14,
=======
   "execution_count": 776,
>>>>>>> f4869e0c2d563b7915abdccb25e3e7ec4efcab45
>>>>>>> 63f8ba45e0bf701583efee4d35c673e603e26119:commodities_prices_vs_climate_change_old.ipynb
   "id": "804513ee-4fe3-4746-82d0-b1db2787f53f",
   "metadata": {},
   "outputs": [
    {
     "name": "stdout",
     "output_type": "stream",
     "text": [
      "The mean value of the normal_average_temperature DataFrame is:\n",
      "temperature    15.236225\n",
      "dtype: float64\n",
      "\n",
      "\n",
      "The standard devation of the normal_average_temperature DataFrame is:\n",
      "temperature    0.223864\n",
      "dtype: float64\n"
     ]
    }
   ],
   "source": [
    "# Find the mean value and standard deviation of the normal_average_temperature DataFrame\n",
    "mean = normal_average_temperature.mean()\n",
    "std_dev = normal_average_temperature.std()\n",
    "\n",
    "# Review the mean value and standard deviation\n",
    "print(\"The mean value of the normal_average_temperature DataFrame is:\")\n",
    "print(f\"{mean}\")\n",
    "print(\"\\n\")\n",
    "print(f\"The standard devation of the normal_average_temperature DataFrame is:\")\n",
    "print(f\"{std_dev}\")"
   ]
  },
  {
   "cell_type": "code",
<<<<<<< HEAD:commodities_prices_vs_climate_change.ipynb
   "execution_count": 17,
=======
<<<<<<< HEAD
   "execution_count": 15,
=======
   "execution_count": 777,
>>>>>>> f4869e0c2d563b7915abdccb25e3e7ec4efcab45
>>>>>>> 63f8ba45e0bf701583efee4d35c673e603e26119:commodities_prices_vs_climate_change_old.ipynb
   "id": "420226d8-49cb-475e-81d8-af72090df858",
   "metadata": {},
   "outputs": [
    {
     "data": {
      "text/html": [
       "<div>\n",
       "<style scoped>\n",
       "    .dataframe tbody tr th:only-of-type {\n",
       "        vertical-align: middle;\n",
       "    }\n",
       "\n",
       "    .dataframe tbody tr th {\n",
       "        vertical-align: top;\n",
       "    }\n",
       "\n",
       "    .dataframe thead th {\n",
       "        text-align: right;\n",
       "    }\n",
       "</style>\n",
       "<table border=\"1\" class=\"dataframe\">\n",
       "  <thead>\n",
       "    <tr style=\"text-align: right;\">\n",
       "      <th></th>\n",
       "      <th>standardized_anomoly</th>\n",
       "    </tr>\n",
       "    <tr>\n",
       "      <th>time</th>\n",
       "      <th></th>\n",
       "    </tr>\n",
       "  </thead>\n",
       "  <tbody>\n",
       "    <tr>\n",
       "      <th>1850-12-31</th>\n",
       "      <td>-1.648582</td>\n",
       "    </tr>\n",
       "    <tr>\n",
       "      <th>1851-12-31</th>\n",
       "      <td>-1.091697</td>\n",
       "    </tr>\n",
       "    <tr>\n",
       "      <th>1852-12-31</th>\n",
       "      <td>-1.026181</td>\n",
       "    </tr>\n",
       "    <tr>\n",
       "      <th>1853-12-31</th>\n",
       "      <td>-1.255487</td>\n",
       "    </tr>\n",
       "    <tr>\n",
       "      <th>1854-12-31</th>\n",
       "      <td>-1.095419</td>\n",
       "    </tr>\n",
       "  </tbody>\n",
       "</table>\n",
       "</div>"
      ],
      "text/plain": [
       "            standardized_anomoly\n",
       "time                            \n",
       "1850-12-31             -1.648582\n",
       "1851-12-31             -1.091697\n",
       "1852-12-31             -1.026181\n",
       "1853-12-31             -1.255487\n",
       "1854-12-31             -1.095419"
      ]
     },
     "metadata": {},
     "output_type": "display_data"
    },
    {
     "data": {
      "text/html": [
       "<div>\n",
       "<style scoped>\n",
       "    .dataframe tbody tr th:only-of-type {\n",
       "        vertical-align: middle;\n",
       "    }\n",
       "\n",
       "    .dataframe tbody tr th {\n",
       "        vertical-align: top;\n",
       "    }\n",
       "\n",
       "    .dataframe thead th {\n",
       "        text-align: right;\n",
       "    }\n",
       "</style>\n",
       "<table border=\"1\" class=\"dataframe\">\n",
       "  <thead>\n",
       "    <tr style=\"text-align: right;\">\n",
       "      <th></th>\n",
       "      <th>standardized_anomoly</th>\n",
       "    </tr>\n",
       "    <tr>\n",
       "      <th>time</th>\n",
       "      <th></th>\n",
       "    </tr>\n",
       "  </thead>\n",
       "  <tbody>\n",
       "    <tr>\n",
       "      <th>2011-12-31</th>\n",
       "      <td>2.382138</td>\n",
       "    </tr>\n",
       "    <tr>\n",
       "      <th>2012-12-31</th>\n",
       "      <td>2.528804</td>\n",
       "    </tr>\n",
       "    <tr>\n",
       "      <th>2013-12-31</th>\n",
       "      <td>2.761460</td>\n",
       "    </tr>\n",
       "    <tr>\n",
       "      <th>2014-12-31</th>\n",
       "      <td>3.023152</td>\n",
       "    </tr>\n",
       "    <tr>\n",
       "      <th>2015-12-31</th>\n",
       "      <td>3.673472</td>\n",
       "    </tr>\n",
       "  </tbody>\n",
       "</table>\n",
       "</div>"
      ],
      "text/plain": [
       "            standardized_anomoly\n",
       "time                            \n",
       "2011-12-31              2.382138\n",
       "2012-12-31              2.528804\n",
       "2013-12-31              2.761460\n",
       "2014-12-31              3.023152\n",
       "2015-12-31              3.673472"
      ]
     },
     "metadata": {},
     "output_type": "display_data"
    }
   ],
   "source": [
    "# Create a new DataFrame containing standardized anomolies normalized to the normal_average_temperature DataFrame.  \n",
    "climate_standardized_anomoly = (global_temperature_year_df - mean)/std_dev\n",
    "\n",
    "# Rename column in df\n",
    "climate_standardized_anomoly = climate_standardized_anomoly.rename(columns={'temperature':'standardized_anomoly'})\n",
    "\n",
    "# Review the first 5 and last 5 rows of DataFrame\n",
    "display(climate_standardized_anomoly.head())\n",
    "display(climate_standardized_anomoly.tail())"
   ]
  },
  {
   "cell_type": "code",
<<<<<<< HEAD:commodities_prices_vs_climate_change.ipynb
   "execution_count": 18,
=======
<<<<<<< HEAD
   "execution_count": 16,
=======
   "execution_count": 778,
>>>>>>> f4869e0c2d563b7915abdccb25e3e7ec4efcab45
>>>>>>> 63f8ba45e0bf701583efee4d35c673e603e26119:commodities_prices_vs_climate_change_old.ipynb
   "id": "a6ad0224-b6f3-497b-ad21-3028fe9dd7fd",
   "metadata": {},
   "outputs": [
    {
     "data": {},
     "metadata": {},
     "output_type": "display_data"
    },
    {
     "data": {
      "application/vnd.holoviews_exec.v0+json": "",
      "text/html": [
<<<<<<< HEAD:commodities_prices_vs_climate_change.ipynb
       "<div id='1414'>\n",
=======
<<<<<<< HEAD
       "<div id='1414'>\n",
=======
       "<div id='27233'>\n",
>>>>>>> f4869e0c2d563b7915abdccb25e3e7ec4efcab45
>>>>>>> 63f8ba45e0bf701583efee4d35c673e603e26119:commodities_prices_vs_climate_change_old.ipynb
       "\n",
       "\n",
       "\n",
       "\n",
       "\n",
<<<<<<< HEAD:commodities_prices_vs_climate_change.ipynb
       "  <div class=\"bk-root\" id=\"a23c0ec8-1a9d-48a7-8c50-03ed73f63686\" data-root-id=\"1414\"></div>\n",
       "</div>\n",
       "<script type=\"application/javascript\">(function(root) {\n",
       "  function embed_document(root) {\n",
       "    var docs_json = {\"7171673a-addc-4f63-831f-4e8908a86863\":{\"defs\":[{\"extends\":null,\"module\":null,\"name\":\"ReactiveHTML1\",\"overrides\":[],\"properties\":[]},{\"extends\":null,\"module\":null,\"name\":\"FlexBox1\",\"overrides\":[],\"properties\":[{\"default\":\"flex-start\",\"kind\":null,\"name\":\"align_content\"},{\"default\":\"flex-start\",\"kind\":null,\"name\":\"align_items\"},{\"default\":\"row\",\"kind\":null,\"name\":\"flex_direction\"},{\"default\":\"wrap\",\"kind\":null,\"name\":\"flex_wrap\"},{\"default\":\"flex-start\",\"kind\":null,\"name\":\"justify_content\"}]},{\"extends\":null,\"module\":null,\"name\":\"TemplateActions1\",\"overrides\":[],\"properties\":[{\"default\":0,\"kind\":null,\"name\":\"open_modal\"},{\"default\":0,\"kind\":null,\"name\":\"close_modal\"}]},{\"extends\":null,\"module\":null,\"name\":\"MaterialTemplateActions1\",\"overrides\":[],\"properties\":[{\"default\":0,\"kind\":null,\"name\":\"open_modal\"},{\"default\":0,\"kind\":null,\"name\":\"close_modal\"}]}],\"roots\":{\"references\":[{\"attributes\":{\"months\":[0,4,8]},\"id\":\"1480\",\"type\":\"MonthsTicker\"},{\"attributes\":{\"end\":4.262445319217883,\"reset_end\":4.262445319217883,\"reset_start\":-2.805236599370679,\"start\":-2.805236599370679,\"tags\":[[[\"standardized_anomoly\",\"standardized_anomoly\",null]]]},\"id\":\"1417\",\"type\":\"Range1d\"},{\"attributes\":{\"line_alpha\":0.2,\"line_color\":\"#30a2da\",\"line_width\":2,\"x\":{\"field\":\"time\"},\"y\":{\"field\":\"standardized_anomoly\"}},\"id\":\"1454\",\"type\":\"Line\"},{\"attributes\":{\"months\":[0,2,4,6,8,10]},\"id\":\"1479\",\"type\":\"MonthsTicker\"},{\"attributes\":{\"margin\":[5,5,5,5],\"name\":\"HSpacer01984\",\"sizing_mode\":\"stretch_width\"},\"id\":\"1415\",\"type\":\"Spacer\"},{\"attributes\":{\"axis_label\":\"Date\",\"formatter\":{\"id\":\"1459\"},\"major_label_policy\":{\"id\":\"1460\"},\"ticker\":{\"id\":\"1429\"}},\"id\":\"1428\",\"type\":\"DatetimeAxis\"},{\"attributes\":{\"num_minor_ticks\":5,\"tickers\":[{\"id\":\"1471\"},{\"id\":\"1472\"},{\"id\":\"1473\"},{\"id\":\"1474\"},{\"id\":\"1475\"},{\"id\":\"1476\"},{\"id\":\"1477\"},{\"id\":\"1478\"},{\"id\":\"1479\"},{\"id\":\"1480\"},{\"id\":\"1481\"},{\"id\":\"1482\"}]},\"id\":\"1429\",\"type\":\"DatetimeTicker\"},{\"attributes\":{\"months\":[0,6]},\"id\":\"1481\",\"type\":\"MonthsTicker\"},{\"attributes\":{},\"id\":\"1426\",\"type\":\"LinearScale\"},{\"attributes\":{\"base\":24,\"mantissas\":[1,2,4,6,8,12],\"max_interval\":43200000.0,\"min_interval\":3600000.0,\"num_minor_ticks\":0},\"id\":\"1473\",\"type\":\"AdaptiveTicker\"},{\"attributes\":{\"axis_label\":\"Standardized Anomolies\",\"formatter\":{\"id\":\"1462\"},\"major_label_policy\":{\"id\":\"1463\"},\"ticker\":{\"id\":\"1433\"}},\"id\":\"1432\",\"type\":\"LinearAxis\"},{\"attributes\":{\"axis\":{\"id\":\"1428\"},\"grid_line_color\":null,\"ticker\":null},\"id\":\"1431\",\"type\":\"Grid\"},{\"attributes\":{},\"id\":\"1482\",\"type\":\"YearsTicker\"},{\"attributes\":{\"mantissas\":[1,2,5],\"max_interval\":500.0,\"num_minor_ticks\":0},\"id\":\"1471\",\"type\":\"AdaptiveTicker\"},{\"attributes\":{\"active_multi\":null,\"tools\":[{\"id\":\"1418\"},{\"id\":\"1436\"},{\"id\":\"1437\"},{\"id\":\"1438\"},{\"id\":\"1439\"},{\"id\":\"1440\"}]},\"id\":\"1442\",\"type\":\"Toolbar\"},{\"attributes\":{},\"id\":\"1433\",\"type\":\"BasicTicker\"},{\"attributes\":{\"axis\":{\"id\":\"1432\"},\"dimension\":1,\"grid_line_color\":null,\"ticker\":null},\"id\":\"1435\",\"type\":\"Grid\"},{\"attributes\":{\"base\":60,\"mantissas\":[1,2,5,10,15,20,30],\"max_interval\":1800000.0,\"min_interval\":1000.0,\"num_minor_ticks\":0},\"id\":\"1472\",\"type\":\"AdaptiveTicker\"},{\"attributes\":{\"days\":[1,2,3,4,5,6,7,8,9,10,11,12,13,14,15,16,17,18,19,20,21,22,23,24,25,26,27,28,29,30,31]},\"id\":\"1474\",\"type\":\"DaysTicker\"},{\"attributes\":{\"end\":1451520000000.0,\"reset_end\":1451520000000.0,\"reset_start\":-3755376000000.0,\"start\":-3755376000000.0,\"tags\":[[[\"time\",\"time\",null]]]},\"id\":\"1416\",\"type\":\"Range1d\"},{\"attributes\":{\"line_alpha\":0.1,\"line_color\":\"#30a2da\",\"line_width\":2,\"x\":{\"field\":\"time\"},\"y\":{\"field\":\"standardized_anomoly\"}},\"id\":\"1453\",\"type\":\"Line\"},{\"attributes\":{\"line_color\":\"#30a2da\",\"line_width\":2,\"x\":{\"field\":\"time\"},\"y\":{\"field\":\"standardized_anomoly\"}},\"id\":\"1452\",\"type\":\"Line\"},{\"attributes\":{},\"id\":\"1424\",\"type\":\"LinearScale\"},{\"attributes\":{\"callback\":null,\"formatters\":{\"@{time}\":\"datetime\"},\"renderers\":[{\"id\":\"1455\"}],\"tags\":[\"hv_created\"],\"tooltips\":[[\"time\",\"@{time}{%F %T}\"],[\"standardized_anomoly\",\"@{standardized_anomoly}\"]]},\"id\":\"1418\",\"type\":\"HoverTool\"},{\"attributes\":{\"data_source\":{\"id\":\"1449\"},\"glyph\":{\"id\":\"1452\"},\"hover_glyph\":null,\"muted_glyph\":{\"id\":\"1454\"},\"nonselection_glyph\":{\"id\":\"1453\"},\"selection_glyph\":{\"id\":\"1457\"},\"view\":{\"id\":\"1456\"}},\"id\":\"1455\",\"type\":\"GlyphRenderer\"},{\"attributes\":{},\"id\":\"1460\",\"type\":\"AllLabels\"},{\"attributes\":{},\"id\":\"1450\",\"type\":\"Selection\"},{\"attributes\":{},\"id\":\"1463\",\"type\":\"AllLabels\"},{\"attributes\":{\"data\":{\"standardized_anomoly\":{\"__ndarray__\":\"0pd+1Jdg+r9ozhT9lnfxv2a2Yok8a/C/cwlSHnkW9L/Vj0pP1obxv1P+a9XQwO6/PMRtV/uB+b8RNHjztRQBwKkA4rRWWvm/QtKuv3fk9b+VnoYPa0D5v3RDQNtUIf+/uSLCJui6AcD3iDaAvHn1v6RoGu3iR/i/aAbduScf8b+NSVKNfp7pv2ZEe0SBYem/wIg0Y8zp47+qrgnNcmfov/h57ivhkvC/VFeI3Oh18L9Xw03I2gDvv9kiOlMYuuq/lsbbz+30879o37Kh13b2v0gz2XKNW/e/SkGeseCNyj98QRP811LhP61xlW8Xj+i/P/PW5pdD8L8QaB4alk7lv60LiN+9rem/gpxI55KC87+kbgoAKc38v3kMtaTgSfu/fmuJB5Go/L+VKmO/xwj+v3uqgwVsTvG/S9Pj3gCO4b+hoiYc70P8vyocLUnW5fS/F3+huApI+b/9biIotif3v/wqgTH4+fa/JrPV/F0Z878OnWXejtHkv18OFWyc/+a/JpiEHjv3+L/ZZbCho9vqv1LhCYfLY9q/ORUXXcxI579xxIV/iNzzvzVpM7crkPy/hVPL/+9u/r9ySnIcnx/0v+Ja9ntiNO2/zQuQRlHU+b9tRs1nM3P8vwrU2glm3v+/pkWcdV3Q/b+ZtbuUU3IAwM6H+fmfqfm/2DQEG8Bn979ey54dEd7mvwXjNC/+b9q/pKDiqXPv97+GVPanInv+v98BJYUWwfO/UpZSiqlm8L+9bdGmvwPuv+P3mTS7LOO/92zqSYEA8L90KAUIz8ntvwKDOV77JOy/Dd6F3LTa5L/+OVkuFzmWP7Q2cHbCSuC/zCzMgqW53b/u1TtMVjbzv3ipOt7bN9K/SfpNEFk9or91hzaN6ZLLv1mYie2p6++/ml1zOho52r+2ASmyycfgv4TRnNRgB9S/BpPIohxg0j9G405nTkHQP3ieodxJ5tI/OHF344xr4z+u2c4vBTjlP1410IOYedk/MbOiB/IY3z87akWiQm3uP9vWRd0GBts/2X7wYitVvj940oa8liPVP5FUjmymhbw/2R6nfJbRrr8wfn3vCafbv6XXiK3GbNU/EFTuJjUi4j+bDyl0o2zqP6EG+/pezpm/WZxhpK6x0b9yq6D8Z53ivzx3edS8tOM/h5GBmHzZ5D95lRlLms/dP5C2Q5zX188/qQpqUzOK5D+vtRCA5IvZP6u/xmtFE+Q/2ccKpdMH4b9kI5d1giTHv8hVVc0iQ8A/a2pmrJeQ0D8fmKTHtaq/P0Vsv657DeY/JmM0a02S2z8P7QX1arbEv7HiI78bNdA//9rtQ/EW6D84Ra5GGnvTvwVrwI5dVoY/OzT5GwgP3r8mZrEpBZfoP5oVNEebftI/KrmsUohv6T8XWuiw0UTyP64BCqsKAvQ/dh+H4Eg33j8MaBHxwEz0P3uty770294/vJdE88zb3T/013jfnx/lP0KPI+GDmvQ/pmEDbErW9j/u0X3azlrtP6b4ja2hGPw/xMWozVTb+T9ktj7alfzuPyLRgGXGc/A/2d/IuaFa9T88RrKNJ7T8P0NPLouQnfQ/lWBsOFsRAUBaG467gBMFQKBJPxoGBvo/WdrZSBfD+j/lSy8pUvwCQNo99Ap5MAVA4usg5dYYBUC2s2S8jJ4CQEaWw9en+gZAIvH60iWhBEBaHLljsx8FQLGW2/80VQFAJLyzDi0eBUBjs085UY8HQJzNbyWeDgNARMiSkv06BEBCoqJbeBcGQHghhBhqLwhAXKdbMkVjDUA=\",\"dtype\":\"float64\",\"order\":\"little\",\"shape\":[166]},\"time\":{\"__ndarray__\":\"AADg0e5Si8IAAIBIMRiLwgAAQIxK3YrCAADgAo2iisIAAIB5z2eKwgAAIPARLYrCAADgMyvyicIAAICqbbeJwgAAICGwfInCAADAl/JBicIAAIDbCweJwgAAIFJOzIjCAADAyJCRiMIAAGA/01aIwgAAIIPsG4jCAADA+S7hh8IAAGBwcaaHwgAAAOeza4fCAADAKs0wh8IAAGChD/aGwgAAABhSu4bCAACgjpSAhsIAAGDSrUWGwgAAAEnwCobCAACgvzLQhcIAAEA2dZWFwgAAAHqOWoXCAACg8NAfhcIAAEBnE+WEwgAA4N1VqoTCAACgIW9vhMIAAECYsTSEwgAA4A70+YPCAACAhTa/g8IAAEDJT4SDwgAA4D+SSYPCAACAttQOg8IAACAtF9SCwgAA4HAwmYLCAACA53JegsIAACBetSOCwgAAwNT36IHCAACAGBGugcIAACCPU3OBwgAAwAWWOIHCAABgfNj9gMIAACDA8cKAwgAAwDY0iIDCAABgrXZNgMIAAAAkuRKAwgAAQDX3r3/CAACAInw6f8IAAMAPAcV+wgAAAP2FT37CAACAhLjZfcIAAMBxPWR9wgAAAF/C7nzCAABATEd5fMIAAMDTeQN8wgAAAMH+jXvCAABAroMYe8IAAICbCKN6wgAAACM7LXrCAABAEMC3ecIAAID9REJ5wgAAwOrJzHjCAABAcvxWeMIAAIBfgeF3wgAAwEwGbHfCAAAAOov2dsIAAIDBvYB2wgAAwK5CC3bCAAAAnMeVdcIAAECJTCB1wgAAwBB/qnTCAAAA/gM1dMIAAEDriL9zwgAAgNgNSnPCAAAAYEDUcsIAAEBNxV5ywgAAgDpK6XHCAADAJ89zccIAAECvAf5wwgAAgJyGiHDCAADAiQsTcMIAAADuIDtvwgAAAP2FT27CAACA149kbcIAAACymXlswgAAgIyjjmvCAACAmwijasIAAAB2ErhpwgAAgFAczWjCAAAAKybiZ8IAAAA6i/ZmwgAAgBSVC2bCAAAA754gZcIAAIDJqDVkwgAAgNgNSmPCAAAAsxdfYsIAAICNIXRhwgAAAGgriWDCAAAA7iA7X8IAAACjNGVdwgAAAFhIj1vCAAAADVy5WcIAAAArJuJXwgAAAOA5DFbCAAAAlU02VMIAAABKYWBSwgAAAGgriVDCAAAAOn5mTcIAAACkpbpJwgAAAA7NDkbCAAAASmFgQsIAAABoEWk9wgAAADxgETbCAAAAIF5zLcIAAAAgXnMdwgAAAABwmZTBAAAAQCtKHUIAAAD4d1QtQgAAAIQTBzZCAAAAsMRePUIAAADuOltCQgAAAIQTB0ZCAAAASH+1SUIAAADeV2FNQgAAADqYhlBCAAAAhYRcUkIAAABnujNUQgAAALKmCVZCAAAA/ZLfV0IAAABIf7VZQgAAACq1jFtCAAAAdaFiXUIAAADAjThfQgAAgAU9h2BCAACA9tdyYUIAAAAczl1iQgAAgEHESGNCAAAAZ7ozZEIAAABYVR9lQgAAgH1LCmZCAAAAo0H1ZkIAAIDIN+BnQgAAgLnSy2hCAAAA38i2aUIAAIAEv6FqQgAAACq1jGtCAAAAG1B4bEIAAIBARmNtQgAAAGY8Tm5CAACAizI5b0IAAEC+ZhJwQgAAANHhh3BCAADA41z9cEIAAID213JxQgAAAG+l6HFCAADAgSBeckIAAICUm9NyQgAAQKcWSXNCAADAH+S+c0IAAIAyXzR0QgAAQEXaqXRCAAAAWFUfdUI=\",\"dtype\":\"float64\",\"order\":\"little\",\"shape\":[166]}},\"selected\":{\"id\":\"1450\"},\"selection_policy\":{\"id\":\"1484\"}},\"id\":\"1449\",\"type\":\"ColumnDataSource\"},{\"attributes\":{\"days\":[1,4,7,10,13,16,19,22,25,28]},\"id\":\"1475\",\"type\":\"DaysTicker\"},{\"attributes\":{\"below\":[{\"id\":\"1428\"}],\"center\":[{\"id\":\"1431\"},{\"id\":\"1435\"}],\"height\":300,\"left\":[{\"id\":\"1432\"}],\"margin\":[5,5,5,5],\"min_border_bottom\":10,\"min_border_left\":10,\"min_border_right\":10,\"min_border_top\":10,\"renderers\":[{\"id\":\"1455\"}],\"sizing_mode\":\"fixed\",\"title\":{\"id\":\"1420\"},\"toolbar\":{\"id\":\"1442\"},\"width\":700,\"x_range\":{\"id\":\"1416\"},\"x_scale\":{\"id\":\"1424\"},\"y_range\":{\"id\":\"1417\"},\"y_scale\":{\"id\":\"1426\"}},\"id\":\"1419\",\"subtype\":\"Figure\",\"type\":\"Plot\"},{\"attributes\":{\"margin\":[5,5,5,5],\"name\":\"HSpacer01985\",\"sizing_mode\":\"stretch_width\"},\"id\":\"1508\",\"type\":\"Spacer\"},{\"attributes\":{\"line_color\":\"#30a2da\",\"line_width\":2,\"x\":{\"field\":\"time\"},\"y\":{\"field\":\"standardized_anomoly\"}},\"id\":\"1457\",\"type\":\"Line\"},{\"attributes\":{\"bottom_units\":\"screen\",\"fill_alpha\":0.5,\"fill_color\":\"lightgrey\",\"left_units\":\"screen\",\"level\":\"overlay\",\"line_alpha\":1.0,\"line_color\":\"black\",\"line_dash\":[4,4],\"line_width\":2,\"right_units\":\"screen\",\"syncable\":false,\"top_units\":\"screen\"},\"id\":\"1441\",\"type\":\"BoxAnnotation\"},{\"attributes\":{},\"id\":\"1462\",\"type\":\"BasicTickFormatter\"},{\"attributes\":{\"text\":\"Land and Ocean Standardized Temperature Anomolies (1850 - 2016)\",\"text_color\":\"black\",\"text_font_size\":\"12pt\"},\"id\":\"1420\",\"type\":\"Title\"},{\"attributes\":{},\"id\":\"1436\",\"type\":\"SaveTool\"},{\"attributes\":{\"months\":[0,1,2,3,4,5,6,7,8,9,10,11]},\"id\":\"1478\",\"type\":\"MonthsTicker\"},{\"attributes\":{},\"id\":\"1437\",\"type\":\"PanTool\"},{\"attributes\":{\"days\":[1,8,15,22]},\"id\":\"1476\",\"type\":\"DaysTicker\"},{\"attributes\":{},\"id\":\"1440\",\"type\":\"ResetTool\"},{\"attributes\":{\"days\":[1,15]},\"id\":\"1477\",\"type\":\"DaysTicker\"},{\"attributes\":{},\"id\":\"1484\",\"type\":\"UnionRenderers\"},{\"attributes\":{},\"id\":\"1438\",\"type\":\"WheelZoomTool\"},{\"attributes\":{},\"id\":\"1459\",\"type\":\"DatetimeTickFormatter\"},{\"attributes\":{\"children\":[{\"id\":\"1415\"},{\"id\":\"1419\"},{\"id\":\"1508\"}],\"margin\":[0,0,0,0],\"name\":\"Row01980\",\"tags\":[\"embedded\"]},\"id\":\"1414\",\"type\":\"Row\"},{\"attributes\":{\"overlay\":{\"id\":\"1441\"}},\"id\":\"1439\",\"type\":\"BoxZoomTool\"},{\"attributes\":{\"source\":{\"id\":\"1449\"}},\"id\":\"1456\",\"type\":\"CDSView\"}],\"root_ids\":[\"1414\"]},\"title\":\"Bokeh Application\",\"version\":\"2.3.2\"}};\n",
       "    var render_items = [{\"docid\":\"7171673a-addc-4f63-831f-4e8908a86863\",\"root_ids\":[\"1414\"],\"roots\":{\"1414\":\"a23c0ec8-1a9d-48a7-8c50-03ed73f63686\"}}];\n",
=======
<<<<<<< HEAD
       "  <div class=\"bk-root\" id=\"68590397-47ae-43a4-91ea-669de1940c7c\" data-root-id=\"1414\"></div>\n",
       "</div>\n",
       "<script type=\"application/javascript\">(function(root) {\n",
       "  function embed_document(root) {\n",
       "    var docs_json = {\"5b6795df-ca1f-4fee-8938-3f1708a69f7b\":{\"defs\":[{\"extends\":null,\"module\":null,\"name\":\"ReactiveHTML1\",\"overrides\":[],\"properties\":[]},{\"extends\":null,\"module\":null,\"name\":\"FlexBox1\",\"overrides\":[],\"properties\":[{\"default\":\"flex-start\",\"kind\":null,\"name\":\"align_content\"},{\"default\":\"flex-start\",\"kind\":null,\"name\":\"align_items\"},{\"default\":\"row\",\"kind\":null,\"name\":\"flex_direction\"},{\"default\":\"wrap\",\"kind\":null,\"name\":\"flex_wrap\"},{\"default\":\"flex-start\",\"kind\":null,\"name\":\"justify_content\"}]},{\"extends\":null,\"module\":null,\"name\":\"TemplateActions1\",\"overrides\":[],\"properties\":[{\"default\":0,\"kind\":null,\"name\":\"open_modal\"},{\"default\":0,\"kind\":null,\"name\":\"close_modal\"}]},{\"extends\":null,\"module\":null,\"name\":\"MaterialTemplateActions1\",\"overrides\":[],\"properties\":[{\"default\":0,\"kind\":null,\"name\":\"open_modal\"},{\"default\":0,\"kind\":null,\"name\":\"close_modal\"}]}],\"roots\":{\"references\":[{\"attributes\":{\"days\":[1,15]},\"id\":\"1480\",\"type\":\"DaysTicker\"},{\"attributes\":{\"axis\":{\"id\":\"1428\"},\"grid_line_color\":null,\"ticker\":null},\"id\":\"1431\",\"type\":\"Grid\"},{\"attributes\":{\"data\":{\"standardized_anomoly\":{\"__ndarray__\":\"0pd+1Jdg+r9EzhT9lnfxv4q2Yok8a/C/cwlSHnkW9L+yj0pP1obxv8T9a9XQwO6/PMRtV/uB+b8RNHjztRQBwKkA4rRWWvm/itKuv3fk9b9ynoYPa0D5v3RDQNtUIf+/uSLCJui6AcAbiTaAvHn1v11oGu3iR/i/aAbduScf8b/VSVKNfp7pv2ZEe0SBYem/wIg0Y8zp479irgnNcmfovxx67ivhkvC/m1eI3Oh18L+fw03I2gDvv9kiOlMYuuq/lsbbz+30879o37Kh13b2v5Az2XKNW/e/Dj+eseCNyj98QRP811LhP/VxlW8Xj+i/9/LW5pdD8L9XaB4alk7lvx4LiN+9rem/gpxI55KC87/HbgoAKc38v50MtaTgSfu/fmuJB5Go/L+VKmO/xwj+v5+qgwVsTvG/ktPj3gCO4b+hoiYc70P8vwYcLUnW5fS/F3+huApI+b/9biIotif3v/wqgTH4+fa/SbPV/F0Z879VnWXejtHkv6YOFWyc/+a/A5iEHjv3+L/ZZbCho9vqv1LhCYfLY9q/ORUXXcxI579xxIV/iNzzv31pM7crkPy/hVPL/+9u/r9ySnIcnx/0v+Ja9ntiNO2/hguQRlHU+b/YRs1nM3P8vwrU2glm3v+/pkWcdV3Q/b+ZtbuUU3IAwKqH+fmfqfm/tDQEG8Bn97+my54dEd7mvwXjNC/+b9q/pKDiqXPv97+pVPanInv+vwMCJYUWwfO/CpZSiqlm8L91bdGmvwPuv+P3mTS7LOO/Pm3qSYEA8L8sKAUIz8ntvwKDOV77JOy/Dd6F3LTa5L8PMVkuFzmWP7Q2cHbCSuC/Wy3MgqW53b/K1TtMVjbzv+moOt7bN9K/wf5NEFk9or+TiDaN6ZLLv1mYie2p6++/ml1zOho52r/+ASmyycfgv4TRnNRgB9S/BpPIohxg0j9G405nTkHQP3ieodxJ5tI/OHF344xr4z/12c4vBTjlP7Ez0IOYedk/orKiB/IY3z87akWiQm3uP9vWRd0GBts/2X7wYitVvj/p0Ya8liPVP1VSjmymhbw/2R6nfJbRrr8wfn3vCafbvzTYiK3GbNU/EFTuJjUi4j+bDyl0o2zqP5AP+/pezpm/WZxhpK6x0b8rq6D8Z53iv4R3edS8tOM/h5GBmHzZ5D95lRlLms/dP663Q5zX188/YgpqUzOK5D+vtRCA5IvZP/K/xmtFE+Q/kccKpdMH4b9kI5d1giTHv8hVVc0iQ8A/a2pmrJeQ0D9bmqTHtaq/P9Rsv657DeY/JmM0a02S2z8P7QX1arbEv7HiI78bNdA/uNrtQ/EW6D84Ra5GGnvTvwVrwI5dVoY/OzT5GwgP3r8mZrEpBZfoP5oVNEebftI/KrmsUohv6T8XWuiw0UTyP64BCqsKAvQ/dh+H4Eg33j8MaBHxwEz0P3uty770294/npZE88zb3T+t13jfnx/lPx6PI+GDmvQ/pmEDbErW9j/u0X3azlrtP4L4ja2hGPw/xMWozVTb+T/ztj7alfzuPyLRgGXGc/A/2d/IuaFa9T88RrKNJ7T8P0NPLouQnfQ/lWBsOFsRAUBIG467gBMFQKBJPxoGBvo/WdrZSBfD+j/3Sy8pUvwCQNo99Ap5MAVAv+sg5dYYBUCks2S8jJ4CQEaWw9en+gZAIvH60iWhBEBaHLljsx8FQI2W2/80VQFAJLyzDi0eBUBjs085UY8HQJzNbyWeDgNAMsiSkv06BEBCoqJbeBcGQIohhBhqLwhAXKdbMkVjDUA=\",\"dtype\":\"float64\",\"order\":\"little\",\"shape\":[166]},\"time\":{\"__ndarray__\":\"AADg0e5Si8IAAIBIMRiLwgAAQIxK3YrCAADgAo2iisIAAIB5z2eKwgAAIPARLYrCAADgMyvyicIAAICqbbeJwgAAICGwfInCAADAl/JBicIAAIDbCweJwgAAIFJOzIjCAADAyJCRiMIAAGA/01aIwgAAIIPsG4jCAADA+S7hh8IAAGBwcaaHwgAAAOeza4fCAADAKs0wh8IAAGChD/aGwgAAABhSu4bCAACgjpSAhsIAAGDSrUWGwgAAAEnwCobCAACgvzLQhcIAAEA2dZWFwgAAAHqOWoXCAACg8NAfhcIAAEBnE+WEwgAA4N1VqoTCAACgIW9vhMIAAECYsTSEwgAA4A70+YPCAACAhTa/g8IAAEDJT4SDwgAA4D+SSYPCAACAttQOg8IAACAtF9SCwgAA4HAwmYLCAACA53JegsIAACBetSOCwgAAwNT36IHCAACAGBGugcIAACCPU3OBwgAAwAWWOIHCAABgfNj9gMIAACDA8cKAwgAAwDY0iIDCAABgrXZNgMIAAAAkuRKAwgAAQDX3r3/CAACAInw6f8IAAMAPAcV+wgAAAP2FT37CAACAhLjZfcIAAMBxPWR9wgAAAF/C7nzCAABATEd5fMIAAMDTeQN8wgAAAMH+jXvCAABAroMYe8IAAICbCKN6wgAAACM7LXrCAABAEMC3ecIAAID9REJ5wgAAwOrJzHjCAABAcvxWeMIAAIBfgeF3wgAAwEwGbHfCAAAAOov2dsIAAIDBvYB2wgAAwK5CC3bCAAAAnMeVdcIAAECJTCB1wgAAwBB/qnTCAAAA/gM1dMIAAEDriL9zwgAAgNgNSnPCAAAAYEDUcsIAAEBNxV5ywgAAgDpK6XHCAADAJ89zccIAAECvAf5wwgAAgJyGiHDCAADAiQsTcMIAAADuIDtvwgAAAP2FT27CAACA149kbcIAAACymXlswgAAgIyjjmvCAACAmwijasIAAAB2ErhpwgAAgFAczWjCAAAAKybiZ8IAAAA6i/ZmwgAAgBSVC2bCAAAA754gZcIAAIDJqDVkwgAAgNgNSmPCAAAAsxdfYsIAAICNIXRhwgAAAGgriWDCAAAA7iA7X8IAAACjNGVdwgAAAFhIj1vCAAAADVy5WcIAAAArJuJXwgAAAOA5DFbCAAAAlU02VMIAAABKYWBSwgAAAGgriVDCAAAAOn5mTcIAAACkpbpJwgAAAA7NDkbCAAAASmFgQsIAAABoEWk9wgAAADxgETbCAAAAIF5zLcIAAAAgXnMdwgAAAABwmZTBAAAAQCtKHUIAAAD4d1QtQgAAAIQTBzZCAAAAsMRePUIAAADuOltCQgAAAIQTB0ZCAAAASH+1SUIAAADeV2FNQgAAADqYhlBCAAAAhYRcUkIAAABnujNUQgAAALKmCVZCAAAA/ZLfV0IAAABIf7VZQgAAACq1jFtCAAAAdaFiXUIAAADAjThfQgAAgAU9h2BCAACA9tdyYUIAAAAczl1iQgAAgEHESGNCAAAAZ7ozZEIAAABYVR9lQgAAgH1LCmZCAAAAo0H1ZkIAAIDIN+BnQgAAgLnSy2hCAAAA38i2aUIAAIAEv6FqQgAAACq1jGtCAAAAG1B4bEIAAIBARmNtQgAAAGY8Tm5CAACAizI5b0IAAEC+ZhJwQgAAANHhh3BCAADA41z9cEIAAID213JxQgAAAG+l6HFCAADAgSBeckIAAICUm9NyQgAAQKcWSXNCAADAH+S+c0IAAIAyXzR0QgAAQEXaqXRCAAAAWFUfdUI=\",\"dtype\":\"float64\",\"order\":\"little\",\"shape\":[166]}},\"selected\":{\"id\":\"1450\"},\"selection_policy\":{\"id\":\"1473\"}},\"id\":\"1449\",\"type\":\"ColumnDataSource\"},{\"attributes\":{\"days\":[1,2,3,4,5,6,7,8,9,10,11,12,13,14,15,16,17,18,19,20,21,22,23,24,25,26,27,28,29,30,31]},\"id\":\"1477\",\"type\":\"DaysTicker\"},{\"attributes\":{},\"id\":\"1433\",\"type\":\"BasicTicker\"},{\"attributes\":{\"axis\":{\"id\":\"1432\"},\"dimension\":1,\"grid_line_color\":null,\"ticker\":null},\"id\":\"1435\",\"type\":\"Grid\"},{\"attributes\":{\"days\":[1,4,7,10,13,16,19,22,25,28]},\"id\":\"1478\",\"type\":\"DaysTicker\"},{\"attributes\":{\"axis_label\":\"Standardized Anomolies\",\"formatter\":{\"id\":\"1462\"},\"major_label_policy\":{\"id\":\"1461\"},\"ticker\":{\"id\":\"1433\"}},\"id\":\"1432\",\"type\":\"LinearAxis\"},{\"attributes\":{\"months\":[0,4,8]},\"id\":\"1483\",\"type\":\"MonthsTicker\"},{\"attributes\":{\"text\":\"Land and Ocean Standardized Temperature Anomolies (1850 - 2016)\",\"text_color\":\"black\",\"text_font_size\":\"12pt\"},\"id\":\"1420\",\"type\":\"Title\"},{\"attributes\":{\"base\":24,\"mantissas\":[1,2,4,6,8,12],\"max_interval\":43200000.0,\"min_interval\":3600000.0,\"num_minor_ticks\":0},\"id\":\"1476\",\"type\":\"AdaptiveTicker\"},{\"attributes\":{\"end\":4.262445319217883,\"reset_end\":4.262445319217883,\"reset_start\":-2.805236599370679,\"start\":-2.805236599370679,\"tags\":[[[\"standardized_anomoly\",\"standardized_anomoly\",null]]]},\"id\":\"1417\",\"type\":\"Range1d\"},{\"attributes\":{\"bottom_units\":\"screen\",\"fill_alpha\":0.5,\"fill_color\":\"lightgrey\",\"left_units\":\"screen\",\"level\":\"overlay\",\"line_alpha\":1.0,\"line_color\":\"black\",\"line_dash\":[4,4],\"line_width\":2,\"right_units\":\"screen\",\"syncable\":false,\"top_units\":\"screen\"},\"id\":\"1441\",\"type\":\"BoxAnnotation\"},{\"attributes\":{\"months\":[0,6]},\"id\":\"1484\",\"type\":\"MonthsTicker\"},{\"attributes\":{\"below\":[{\"id\":\"1428\"}],\"center\":[{\"id\":\"1431\"},{\"id\":\"1435\"}],\"height\":300,\"left\":[{\"id\":\"1432\"}],\"margin\":[5,5,5,5],\"min_border_bottom\":10,\"min_border_left\":10,\"min_border_right\":10,\"min_border_top\":10,\"renderers\":[{\"id\":\"1455\"}],\"sizing_mode\":\"fixed\",\"title\":{\"id\":\"1420\"},\"toolbar\":{\"id\":\"1442\"},\"width\":700,\"x_range\":{\"id\":\"1416\"},\"x_scale\":{\"id\":\"1424\"},\"y_range\":{\"id\":\"1417\"},\"y_scale\":{\"id\":\"1426\"}},\"id\":\"1419\",\"subtype\":\"Figure\",\"type\":\"Plot\"},{\"attributes\":{\"mantissas\":[1,2,5],\"max_interval\":500.0,\"num_minor_ticks\":0},\"id\":\"1474\",\"type\":\"AdaptiveTicker\"},{\"attributes\":{},\"id\":\"1426\",\"type\":\"LinearScale\"},{\"attributes\":{\"data_source\":{\"id\":\"1449\"},\"glyph\":{\"id\":\"1452\"},\"hover_glyph\":null,\"muted_glyph\":{\"id\":\"1454\"},\"nonselection_glyph\":{\"id\":\"1453\"},\"selection_glyph\":{\"id\":\"1457\"},\"view\":{\"id\":\"1456\"}},\"id\":\"1455\",\"type\":\"GlyphRenderer\"},{\"attributes\":{\"axis_label\":\"Date\",\"formatter\":{\"id\":\"1459\"},\"major_label_policy\":{\"id\":\"1458\"},\"ticker\":{\"id\":\"1429\"}},\"id\":\"1428\",\"type\":\"DatetimeAxis\"},{\"attributes\":{\"line_alpha\":0.2,\"line_color\":\"#30a2da\",\"line_width\":2,\"x\":{\"field\":\"time\"},\"y\":{\"field\":\"standardized_anomoly\"}},\"id\":\"1454\",\"type\":\"Line\"},{\"attributes\":{\"active_multi\":null,\"tools\":[{\"id\":\"1418\"},{\"id\":\"1436\"},{\"id\":\"1437\"},{\"id\":\"1438\"},{\"id\":\"1439\"},{\"id\":\"1440\"}]},\"id\":\"1442\",\"type\":\"Toolbar\"},{\"attributes\":{\"months\":[0,2,4,6,8,10]},\"id\":\"1482\",\"type\":\"MonthsTicker\"},{\"attributes\":{\"line_alpha\":0.1,\"line_color\":\"#30a2da\",\"line_width\":2,\"x\":{\"field\":\"time\"},\"y\":{\"field\":\"standardized_anomoly\"}},\"id\":\"1453\",\"type\":\"Line\"},{\"attributes\":{},\"id\":\"1436\",\"type\":\"SaveTool\"},{\"attributes\":{\"line_color\":\"#30a2da\",\"line_width\":2,\"x\":{\"field\":\"time\"},\"y\":{\"field\":\"standardized_anomoly\"}},\"id\":\"1452\",\"type\":\"Line\"},{\"attributes\":{},\"id\":\"1437\",\"type\":\"PanTool\"},{\"attributes\":{},\"id\":\"1485\",\"type\":\"YearsTicker\"},{\"attributes\":{\"source\":{\"id\":\"1449\"}},\"id\":\"1456\",\"type\":\"CDSView\"},{\"attributes\":{},\"id\":\"1473\",\"type\":\"UnionRenderers\"},{\"attributes\":{},\"id\":\"1438\",\"type\":\"WheelZoomTool\"},{\"attributes\":{\"overlay\":{\"id\":\"1441\"}},\"id\":\"1439\",\"type\":\"BoxZoomTool\"},{\"attributes\":{\"num_minor_ticks\":5,\"tickers\":[{\"id\":\"1474\"},{\"id\":\"1475\"},{\"id\":\"1476\"},{\"id\":\"1477\"},{\"id\":\"1478\"},{\"id\":\"1479\"},{\"id\":\"1480\"},{\"id\":\"1481\"},{\"id\":\"1482\"},{\"id\":\"1483\"},{\"id\":\"1484\"},{\"id\":\"1485\"}]},\"id\":\"1429\",\"type\":\"DatetimeTicker\"},{\"attributes\":{},\"id\":\"1458\",\"type\":\"AllLabels\"},{\"attributes\":{\"children\":[{\"id\":\"1415\"},{\"id\":\"1419\"},{\"id\":\"1508\"}],\"margin\":[0,0,0,0],\"name\":\"Row01980\",\"tags\":[\"embedded\"]},\"id\":\"1414\",\"type\":\"Row\"},{\"attributes\":{},\"id\":\"1459\",\"type\":\"DatetimeTickFormatter\"},{\"attributes\":{\"margin\":[5,5,5,5],\"name\":\"HSpacer01985\",\"sizing_mode\":\"stretch_width\"},\"id\":\"1508\",\"type\":\"Spacer\"},{\"attributes\":{\"end\":1451520000000.0,\"reset_end\":1451520000000.0,\"reset_start\":-3755376000000.0,\"start\":-3755376000000.0,\"tags\":[[[\"time\",\"time\",null]]]},\"id\":\"1416\",\"type\":\"Range1d\"},{\"attributes\":{\"callback\":null,\"formatters\":{\"@{time}\":\"datetime\"},\"renderers\":[{\"id\":\"1455\"}],\"tags\":[\"hv_created\"],\"tooltips\":[[\"time\",\"@{time}{%F %T}\"],[\"standardized_anomoly\",\"@{standardized_anomoly}\"]]},\"id\":\"1418\",\"type\":\"HoverTool\"},{\"attributes\":{},\"id\":\"1461\",\"type\":\"AllLabels\"},{\"attributes\":{\"line_color\":\"#30a2da\",\"line_width\":2,\"x\":{\"field\":\"time\"},\"y\":{\"field\":\"standardized_anomoly\"}},\"id\":\"1457\",\"type\":\"Line\"},{\"attributes\":{\"margin\":[5,5,5,5],\"name\":\"HSpacer01984\",\"sizing_mode\":\"stretch_width\"},\"id\":\"1415\",\"type\":\"Spacer\"},{\"attributes\":{},\"id\":\"1424\",\"type\":\"LinearScale\"},{\"attributes\":{},\"id\":\"1440\",\"type\":\"ResetTool\"},{\"attributes\":{},\"id\":\"1450\",\"type\":\"Selection\"},{\"attributes\":{},\"id\":\"1462\",\"type\":\"BasicTickFormatter\"},{\"attributes\":{\"months\":[0,1,2,3,4,5,6,7,8,9,10,11]},\"id\":\"1481\",\"type\":\"MonthsTicker\"},{\"attributes\":{\"base\":60,\"mantissas\":[1,2,5,10,15,20,30],\"max_interval\":1800000.0,\"min_interval\":1000.0,\"num_minor_ticks\":0},\"id\":\"1475\",\"type\":\"AdaptiveTicker\"},{\"attributes\":{\"days\":[1,8,15,22]},\"id\":\"1479\",\"type\":\"DaysTicker\"}],\"root_ids\":[\"1414\"]},\"title\":\"Bokeh Application\",\"version\":\"2.3.3\"}};\n",
       "    var render_items = [{\"docid\":\"5b6795df-ca1f-4fee-8938-3f1708a69f7b\",\"root_ids\":[\"1414\"],\"roots\":{\"1414\":\"68590397-47ae-43a4-91ea-669de1940c7c\"}}];\n",
=======
       "  <div class=\"bk-root\" id=\"282c3b1d-c0bb-47fa-a64c-4c72c084d078\" data-root-id=\"27233\"></div>\n",
       "</div>\n",
       "<script type=\"application/javascript\">(function(root) {\n",
       "  function embed_document(root) {\n",
       "    var docs_json = {\"7293757a-7d5b-4dde-b59a-164b1488d32e\":{\"defs\":[{\"extends\":null,\"module\":null,\"name\":\"ReactiveHTML1\",\"overrides\":[],\"properties\":[]},{\"extends\":null,\"module\":null,\"name\":\"FlexBox1\",\"overrides\":[],\"properties\":[{\"default\":\"flex-start\",\"kind\":null,\"name\":\"align_content\"},{\"default\":\"flex-start\",\"kind\":null,\"name\":\"align_items\"},{\"default\":\"row\",\"kind\":null,\"name\":\"flex_direction\"},{\"default\":\"wrap\",\"kind\":null,\"name\":\"flex_wrap\"},{\"default\":\"flex-start\",\"kind\":null,\"name\":\"justify_content\"}]},{\"extends\":null,\"module\":null,\"name\":\"TemplateActions1\",\"overrides\":[],\"properties\":[{\"default\":0,\"kind\":null,\"name\":\"open_modal\"},{\"default\":0,\"kind\":null,\"name\":\"close_modal\"}]},{\"extends\":null,\"module\":null,\"name\":\"MaterialTemplateActions1\",\"overrides\":[],\"properties\":[{\"default\":0,\"kind\":null,\"name\":\"open_modal\"},{\"default\":0,\"kind\":null,\"name\":\"close_modal\"}]}],\"roots\":{\"references\":[{\"attributes\":{\"source\":{\"id\":\"27268\"}},\"id\":\"27275\",\"type\":\"CDSView\"},{\"attributes\":{\"below\":[{\"id\":\"27247\"}],\"center\":[{\"id\":\"27250\"},{\"id\":\"27254\"}],\"height\":300,\"left\":[{\"id\":\"27251\"}],\"margin\":[5,5,5,5],\"min_border_bottom\":10,\"min_border_left\":10,\"min_border_right\":10,\"min_border_top\":10,\"renderers\":[{\"id\":\"27274\"}],\"sizing_mode\":\"fixed\",\"title\":{\"id\":\"27239\"},\"toolbar\":{\"id\":\"27261\"},\"width\":700,\"x_range\":{\"id\":\"27235\"},\"x_scale\":{\"id\":\"27243\"},\"y_range\":{\"id\":\"27236\"},\"y_scale\":{\"id\":\"27245\"}},\"id\":\"27238\",\"subtype\":\"Figure\",\"type\":\"Plot\"},{\"attributes\":{\"line_color\":\"#30a2da\",\"line_width\":2,\"x\":{\"field\":\"time\"},\"y\":{\"field\":\"standardized_anomoly\"}},\"id\":\"27271\",\"type\":\"Line\"},{\"attributes\":{},\"id\":\"27282\",\"type\":\"AllLabels\"},{\"attributes\":{\"data_source\":{\"id\":\"27268\"},\"glyph\":{\"id\":\"27271\"},\"hover_glyph\":null,\"muted_glyph\":{\"id\":\"27273\"},\"nonselection_glyph\":{\"id\":\"27272\"},\"selection_glyph\":{\"id\":\"27276\"},\"view\":{\"id\":\"27275\"}},\"id\":\"27274\",\"type\":\"GlyphRenderer\"},{\"attributes\":{},\"id\":\"27277\",\"type\":\"DatetimeTickFormatter\"},{\"attributes\":{},\"id\":\"27269\",\"type\":\"Selection\"},{\"attributes\":{\"overlay\":{\"id\":\"27260\"}},\"id\":\"27258\",\"type\":\"BoxZoomTool\"},{\"attributes\":{},\"id\":\"27259\",\"type\":\"ResetTool\"},{\"attributes\":{\"days\":[1,4,7,10,13,16,19,22,25,28]},\"id\":\"27297\",\"type\":\"DaysTicker\"},{\"attributes\":{\"axis_label\":\"Standardized Anomolies\",\"formatter\":{\"id\":\"27280\"},\"major_label_policy\":{\"id\":\"27282\"},\"ticker\":{\"id\":\"27252\"}},\"id\":\"27251\",\"type\":\"LinearAxis\"},{\"attributes\":{},\"id\":\"27279\",\"type\":\"AllLabels\"},{\"attributes\":{\"base\":60,\"mantissas\":[1,2,5,10,15,20,30],\"max_interval\":1800000.0,\"min_interval\":1000.0,\"num_minor_ticks\":0},\"id\":\"27294\",\"type\":\"AdaptiveTicker\"},{\"attributes\":{},\"id\":\"27255\",\"type\":\"SaveTool\"},{\"attributes\":{\"base\":24,\"mantissas\":[1,2,4,6,8,12],\"max_interval\":43200000.0,\"min_interval\":3600000.0,\"num_minor_ticks\":0},\"id\":\"27295\",\"type\":\"AdaptiveTicker\"},{\"attributes\":{\"days\":[1,15]},\"id\":\"27299\",\"type\":\"DaysTicker\"},{\"attributes\":{},\"id\":\"27304\",\"type\":\"YearsTicker\"},{\"attributes\":{\"active_multi\":null,\"tools\":[{\"id\":\"27237\"},{\"id\":\"27255\"},{\"id\":\"27256\"},{\"id\":\"27257\"},{\"id\":\"27258\"},{\"id\":\"27259\"}]},\"id\":\"27261\",\"type\":\"Toolbar\"},{\"attributes\":{\"margin\":[5,5,5,5],\"name\":\"HSpacer29453\",\"sizing_mode\":\"stretch_width\"},\"id\":\"27234\",\"type\":\"Spacer\"},{\"attributes\":{\"axis_label\":\"Date\",\"formatter\":{\"id\":\"27277\"},\"major_label_policy\":{\"id\":\"27279\"},\"ticker\":{\"id\":\"27248\"}},\"id\":\"27247\",\"type\":\"DatetimeAxis\"},{\"attributes\":{\"axis\":{\"id\":\"27247\"},\"grid_line_color\":null,\"ticker\":null},\"id\":\"27250\",\"type\":\"Grid\"},{\"attributes\":{\"days\":[1,2,3,4,5,6,7,8,9,10,11,12,13,14,15,16,17,18,19,20,21,22,23,24,25,26,27,28,29,30,31]},\"id\":\"27296\",\"type\":\"DaysTicker\"},{\"attributes\":{\"days\":[1,8,15,22]},\"id\":\"27298\",\"type\":\"DaysTicker\"},{\"attributes\":{\"months\":[0,1,2,3,4,5,6,7,8,9,10,11]},\"id\":\"27300\",\"type\":\"MonthsTicker\"},{\"attributes\":{\"data\":{\"standardized_anomoly\":{\"__ndarray__\":\"0pd+1Jdg+r9ozhT9lnfxv2a2Yok8a/C/cwlSHnkW9L/Vj0pP1obxv1P+a9XQwO6/PMRtV/uB+b8RNHjztRQBwKkA4rRWWvm/QtKuv3fk9b+VnoYPa0D5v3RDQNtUIf+/uSLCJui6AcD3iDaAvHn1v6RoGu3iR/i/aAbduScf8b+NSVKNfp7pv2ZEe0SBYem/wIg0Y8zp47+qrgnNcmfov/h57ivhkvC/VFeI3Oh18L9Xw03I2gDvv9kiOlMYuuq/lsbbz+30879o37Kh13b2v0gz2XKNW/e/SkGeseCNyj98QRP811LhP61xlW8Xj+i/P/PW5pdD8L8QaB4alk7lv60LiN+9rem/gpxI55KC87+kbgoAKc38v3kMtaTgSfu/fmuJB5Go/L+VKmO/xwj+v3uqgwVsTvG/S9Pj3gCO4b+hoiYc70P8vyocLUnW5fS/F3+huApI+b/9biIotif3v/wqgTH4+fa/JrPV/F0Z878OnWXejtHkv18OFWyc/+a/JpiEHjv3+L/ZZbCho9vqv1LhCYfLY9q/ORUXXcxI579xxIV/iNzzvzVpM7crkPy/hVPL/+9u/r9ySnIcnx/0v+Ja9ntiNO2/zQuQRlHU+b9tRs1nM3P8vwrU2glm3v+/pkWcdV3Q/b+ZtbuUU3IAwM6H+fmfqfm/2DQEG8Bn979ey54dEd7mvwXjNC/+b9q/pKDiqXPv97+GVPanInv+v98BJYUWwfO/UpZSiqlm8L+9bdGmvwPuv+P3mTS7LOO/92zqSYEA8L90KAUIz8ntvwKDOV77JOy/Dd6F3LTa5L/+OVkuFzmWP7Q2cHbCSuC/zCzMgqW53b/u1TtMVjbzv3ipOt7bN9K/SfpNEFk9or91hzaN6ZLLv1mYie2p6++/ml1zOho52r+2ASmyycfgv4TRnNRgB9S/BpPIohxg0j9G405nTkHQP3ieodxJ5tI/OHF344xr4z+u2c4vBTjlP1410IOYedk/MbOiB/IY3z87akWiQm3uP9vWRd0GBts/2X7wYitVvj940oa8liPVP5FUjmymhbw/2R6nfJbRrr8wfn3vCafbv6XXiK3GbNU/EFTuJjUi4j+bDyl0o2zqP6EG+/pezpm/WZxhpK6x0b9yq6D8Z53ivzx3edS8tOM/h5GBmHzZ5D95lRlLms/dP5C2Q5zX188/qQpqUzOK5D+vtRCA5IvZP6u/xmtFE+Q/2ccKpdMH4b9kI5d1giTHv8hVVc0iQ8A/a2pmrJeQ0D8fmKTHtaq/P0Vsv657DeY/JmM0a02S2z8P7QX1arbEv7HiI78bNdA//9rtQ/EW6D84Ra5GGnvTvwVrwI5dVoY/OzT5GwgP3r8mZrEpBZfoP5oVNEebftI/KrmsUohv6T8XWuiw0UTyP64BCqsKAvQ/dh+H4Eg33j8MaBHxwEz0P3uty770294/vJdE88zb3T/013jfnx/lP0KPI+GDmvQ/pmEDbErW9j/u0X3azlrtP6b4ja2hGPw/xMWozVTb+T9ktj7alfzuPyLRgGXGc/A/2d/IuaFa9T88RrKNJ7T8P0NPLouQnfQ/lWBsOFsRAUBaG467gBMFQKBJPxoGBvo/WdrZSBfD+j/lSy8pUvwCQNo99Ap5MAVA4usg5dYYBUC2s2S8jJ4CQEaWw9en+gZAIvH60iWhBEBaHLljsx8FQLGW2/80VQFAJLyzDi0eBUBjs085UY8HQJzNbyWeDgNARMiSkv06BEBCoqJbeBcGQHghhBhqLwhAXKdbMkVjDUA=\",\"dtype\":\"float64\",\"order\":\"little\",\"shape\":[166]},\"time\":{\"__ndarray__\":\"AADg0e5Si8IAAIBIMRiLwgAAQIxK3YrCAADgAo2iisIAAIB5z2eKwgAAIPARLYrCAADgMyvyicIAAICqbbeJwgAAICGwfInCAADAl/JBicIAAIDbCweJwgAAIFJOzIjCAADAyJCRiMIAAGA/01aIwgAAIIPsG4jCAADA+S7hh8IAAGBwcaaHwgAAAOeza4fCAADAKs0wh8IAAGChD/aGwgAAABhSu4bCAACgjpSAhsIAAGDSrUWGwgAAAEnwCobCAACgvzLQhcIAAEA2dZWFwgAAAHqOWoXCAACg8NAfhcIAAEBnE+WEwgAA4N1VqoTCAACgIW9vhMIAAECYsTSEwgAA4A70+YPCAACAhTa/g8IAAEDJT4SDwgAA4D+SSYPCAACAttQOg8IAACAtF9SCwgAA4HAwmYLCAACA53JegsIAACBetSOCwgAAwNT36IHCAACAGBGugcIAACCPU3OBwgAAwAWWOIHCAABgfNj9gMIAACDA8cKAwgAAwDY0iIDCAABgrXZNgMIAAAAkuRKAwgAAQDX3r3/CAACAInw6f8IAAMAPAcV+wgAAAP2FT37CAACAhLjZfcIAAMBxPWR9wgAAAF/C7nzCAABATEd5fMIAAMDTeQN8wgAAAMH+jXvCAABAroMYe8IAAICbCKN6wgAAACM7LXrCAABAEMC3ecIAAID9REJ5wgAAwOrJzHjCAABAcvxWeMIAAIBfgeF3wgAAwEwGbHfCAAAAOov2dsIAAIDBvYB2wgAAwK5CC3bCAAAAnMeVdcIAAECJTCB1wgAAwBB/qnTCAAAA/gM1dMIAAEDriL9zwgAAgNgNSnPCAAAAYEDUcsIAAEBNxV5ywgAAgDpK6XHCAADAJ89zccIAAECvAf5wwgAAgJyGiHDCAADAiQsTcMIAAADuIDtvwgAAAP2FT27CAACA149kbcIAAACymXlswgAAgIyjjmvCAACAmwijasIAAAB2ErhpwgAAgFAczWjCAAAAKybiZ8IAAAA6i/ZmwgAAgBSVC2bCAAAA754gZcIAAIDJqDVkwgAAgNgNSmPCAAAAsxdfYsIAAICNIXRhwgAAAGgriWDCAAAA7iA7X8IAAACjNGVdwgAAAFhIj1vCAAAADVy5WcIAAAArJuJXwgAAAOA5DFbCAAAAlU02VMIAAABKYWBSwgAAAGgriVDCAAAAOn5mTcIAAACkpbpJwgAAAA7NDkbCAAAASmFgQsIAAABoEWk9wgAAADxgETbCAAAAIF5zLcIAAAAgXnMdwgAAAABwmZTBAAAAQCtKHUIAAAD4d1QtQgAAAIQTBzZCAAAAsMRePUIAAADuOltCQgAAAIQTB0ZCAAAASH+1SUIAAADeV2FNQgAAADqYhlBCAAAAhYRcUkIAAABnujNUQgAAALKmCVZCAAAA/ZLfV0IAAABIf7VZQgAAACq1jFtCAAAAdaFiXUIAAADAjThfQgAAgAU9h2BCAACA9tdyYUIAAAAczl1iQgAAgEHESGNCAAAAZ7ozZEIAAABYVR9lQgAAgH1LCmZCAAAAo0H1ZkIAAIDIN+BnQgAAgLnSy2hCAAAA38i2aUIAAIAEv6FqQgAAACq1jGtCAAAAG1B4bEIAAIBARmNtQgAAAGY8Tm5CAACAizI5b0IAAEC+ZhJwQgAAANHhh3BCAADA41z9cEIAAID213JxQgAAAG+l6HFCAADAgSBeckIAAICUm9NyQgAAQKcWSXNCAADAH+S+c0IAAIAyXzR0QgAAQEXaqXRCAAAAWFUfdUI=\",\"dtype\":\"float64\",\"order\":\"little\",\"shape\":[166]}},\"selected\":{\"id\":\"27269\"},\"selection_policy\":{\"id\":\"27292\"}},\"id\":\"27268\",\"type\":\"ColumnDataSource\"},{\"attributes\":{\"mantissas\":[1,2,5],\"max_interval\":500.0,\"num_minor_ticks\":0},\"id\":\"27293\",\"type\":\"AdaptiveTicker\"},{\"attributes\":{\"line_alpha\":0.1,\"line_color\":\"#30a2da\",\"line_width\":2,\"x\":{\"field\":\"time\"},\"y\":{\"field\":\"standardized_anomoly\"}},\"id\":\"27272\",\"type\":\"Line\"},{\"attributes\":{\"margin\":[5,5,5,5],\"name\":\"HSpacer29454\",\"sizing_mode\":\"stretch_width\"},\"id\":\"27327\",\"type\":\"Spacer\"},{\"attributes\":{\"children\":[{\"id\":\"27234\"},{\"id\":\"27238\"},{\"id\":\"27327\"}],\"margin\":[0,0,0,0],\"name\":\"Row29449\",\"tags\":[\"embedded\"]},\"id\":\"27233\",\"type\":\"Row\"},{\"attributes\":{\"months\":[0,2,4,6,8,10]},\"id\":\"27301\",\"type\":\"MonthsTicker\"},{\"attributes\":{\"callback\":null,\"formatters\":{\"@{time}\":\"datetime\"},\"renderers\":[{\"id\":\"27274\"}],\"tags\":[\"hv_created\"],\"tooltips\":[[\"time\",\"@{time}{%F %T}\"],[\"standardized_anomoly\",\"@{standardized_anomoly}\"]]},\"id\":\"27237\",\"type\":\"HoverTool\"},{\"attributes\":{\"end\":4.262445319217883,\"reset_end\":4.262445319217883,\"reset_start\":-2.805236599370679,\"start\":-2.805236599370679,\"tags\":[[[\"standardized_anomoly\",\"standardized_anomoly\",null]]]},\"id\":\"27236\",\"type\":\"Range1d\"},{\"attributes\":{},\"id\":\"27243\",\"type\":\"LinearScale\"},{\"attributes\":{},\"id\":\"27252\",\"type\":\"BasicTicker\"},{\"attributes\":{\"months\":[0,4,8]},\"id\":\"27302\",\"type\":\"MonthsTicker\"},{\"attributes\":{\"axis\":{\"id\":\"27251\"},\"dimension\":1,\"grid_line_color\":null,\"ticker\":null},\"id\":\"27254\",\"type\":\"Grid\"},{\"attributes\":{\"end\":1451520000000.0,\"reset_end\":1451520000000.0,\"reset_start\":-3755376000000.0,\"start\":-3755376000000.0,\"tags\":[[[\"time\",\"time\",null]]]},\"id\":\"27235\",\"type\":\"Range1d\"},{\"attributes\":{\"num_minor_ticks\":5,\"tickers\":[{\"id\":\"27293\"},{\"id\":\"27294\"},{\"id\":\"27295\"},{\"id\":\"27296\"},{\"id\":\"27297\"},{\"id\":\"27298\"},{\"id\":\"27299\"},{\"id\":\"27300\"},{\"id\":\"27301\"},{\"id\":\"27302\"},{\"id\":\"27303\"},{\"id\":\"27304\"}]},\"id\":\"27248\",\"type\":\"DatetimeTicker\"},{\"attributes\":{},\"id\":\"27245\",\"type\":\"LinearScale\"},{\"attributes\":{\"line_alpha\":0.2,\"line_color\":\"#30a2da\",\"line_width\":2,\"x\":{\"field\":\"time\"},\"y\":{\"field\":\"standardized_anomoly\"}},\"id\":\"27273\",\"type\":\"Line\"},{\"attributes\":{},\"id\":\"27280\",\"type\":\"BasicTickFormatter\"},{\"attributes\":{\"bottom_units\":\"screen\",\"fill_alpha\":0.5,\"fill_color\":\"lightgrey\",\"left_units\":\"screen\",\"level\":\"overlay\",\"line_alpha\":1.0,\"line_color\":\"black\",\"line_dash\":[4,4],\"line_width\":2,\"right_units\":\"screen\",\"syncable\":false,\"top_units\":\"screen\"},\"id\":\"27260\",\"type\":\"BoxAnnotation\"},{\"attributes\":{},\"id\":\"27256\",\"type\":\"PanTool\"},{\"attributes\":{},\"id\":\"27257\",\"type\":\"WheelZoomTool\"},{\"attributes\":{},\"id\":\"27292\",\"type\":\"UnionRenderers\"},{\"attributes\":{\"months\":[0,6]},\"id\":\"27303\",\"type\":\"MonthsTicker\"},{\"attributes\":{\"text\":\"Land and Ocean Standardized Temperature Anomolies (1850 - 2016)\",\"text_color\":\"black\",\"text_font_size\":\"12pt\"},\"id\":\"27239\",\"type\":\"Title\"},{\"attributes\":{\"line_color\":\"#30a2da\",\"line_width\":2,\"x\":{\"field\":\"time\"},\"y\":{\"field\":\"standardized_anomoly\"}},\"id\":\"27276\",\"type\":\"Line\"}],\"root_ids\":[\"27233\"]},\"title\":\"Bokeh Application\",\"version\":\"2.3.2\"}};\n",
       "    var render_items = [{\"docid\":\"7293757a-7d5b-4dde-b59a-164b1488d32e\",\"root_ids\":[\"27233\"],\"roots\":{\"27233\":\"282c3b1d-c0bb-47fa-a64c-4c72c084d078\"}}];\n",
>>>>>>> f4869e0c2d563b7915abdccb25e3e7ec4efcab45
>>>>>>> 63f8ba45e0bf701583efee4d35c673e603e26119:commodities_prices_vs_climate_change_old.ipynb
       "    root.Bokeh.embed.embed_items_notebook(docs_json, render_items);\n",
       "  }\n",
       "  if (root.Bokeh !== undefined && root.Bokeh.Panel !== undefined) {\n",
       "    embed_document(root);\n",
       "  } else {\n",
       "    var attempts = 0;\n",
       "    var timer = setInterval(function(root) {\n",
       "      if (root.Bokeh !== undefined && root.Bokeh.Panel !== undefined) {\n",
       "        clearInterval(timer);\n",
       "        embed_document(root);\n",
       "      } else if (document.readyState == \"complete\") {\n",
       "        attempts++;\n",
       "        if (attempts > 200) {\n",
       "          clearInterval(timer);\n",
       "          console.log(\"Bokeh: ERROR: Unable to run BokehJS code because BokehJS library is missing\");\n",
       "        }\n",
       "      }\n",
       "    }, 25, root)\n",
       "  }\n",
       "})(window);</script>"
      ],
      "text/plain": [
       ":Curve   [time]   (standardized_anomoly)"
      ]
     },
<<<<<<< HEAD:commodities_prices_vs_climate_change.ipynb
     "execution_count": 18,
     "metadata": {
      "application/vnd.holoviews_exec.v0+json": {
       "id": "1414"
=======
<<<<<<< HEAD
     "execution_count": 16,
     "metadata": {
      "application/vnd.holoviews_exec.v0+json": {
       "id": "1414"
=======
     "execution_count": 778,
     "metadata": {
      "application/vnd.holoviews_exec.v0+json": {
       "id": "27233"
>>>>>>> f4869e0c2d563b7915abdccb25e3e7ec4efcab45
>>>>>>> 63f8ba45e0bf701583efee4d35c673e603e26119:commodities_prices_vs_climate_change_old.ipynb
      }
     },
     "output_type": "execute_result"
    }
   ],
   "source": [
    "# Plot Land and Ocean Standardized Anomolies to get a visualization of the normalized data.\n",
    "climate_standardized_anomoly_plot = climate_standardized_anomoly.hvplot(title = \"Land and Ocean Standardized Temperature Anomolies (1850 - 2016)\",\n",
    "                                                                xlabel = \"Date\",\n",
    "                                                                ylabel = \"Standardized Anomolies\")\n",
    "\n",
    "climate_standardized_anomoly_plot"
   ]
  },
  {
   "cell_type": "markdown",
   "id": "fb381445-8951-49f2-bc66-b022f477aed6",
   "metadata": {},
   "source": [
    "As seen for the temperature analysis, there is a warming trend occuring that began to increase slightly around 1920 and then the trend of warming significantly increased around 1980.  The following imaget shows the generaly trend of warming in units of \"Standard Devation\": \n",
    "\n",
    "![A screenshot depicting the warming trend of earth in units of \"Standard Devation\".](./Images/standardized_temperature_anomolies.PNG)\n",
    "\n",
    "When comparing this to a standard \"Normal Distribution\" curve, we can determine that this warming trend is very substantial and does not follow the rules of normal distribution probability.  For example, beginning in 2014 the temperature anomolies began to deviate by more than 3 standard devation units from the normal average temperature mean.  A normal distribution curve indicates that the \"odds\" of this ocurring are less than 0.1% and by the way the devations have been trending since 1980, it does not look like this warming trend will be slowing down.  \n",
    "\n",
    "The following \"Normal Distribution\" curve is provided for context of this analyis.  It was obtained from Investopia and created by Julie Bang: \n",
    "\n",
    "![investopia_normal_distribution_curve](./Images/bell_curve.PNG)\n",
    "\n",
    "This warming trend phenomenon not only has an impact on the temperature but also can cause great economic costs in the form of disaster, disease and agrictulture.  \n",
    "\n",
    "In the following sections of this report, we will evaluate more in depth the occurrences of natural disasters (specifically extreme weather conditions in the United States) and whether or not the frequency of these events have increased similarly to the climate temperature.  \n",
    "\n",
    "We will also evalute more in depth the overall trends in agriculture (specifically analyzing commoditie market pricing).  We want to analyze how specific commodities and their prices react to the general warming trends of the climate as well as taking into consideration the effects that extreme weather conditions may have on these products.  \n",
    "\n",
    "At the end of this report, we will provide analysis on which commodities have faired the best through the warming trends of the last decade and what commodites may be a potential smart investment moving forward."
   ]
  },
  {
   "cell_type": "markdown",
   "id": "29137c71-38fb-4c0f-ae6a-e21c025b1642",
   "metadata": {},
   "source": [
    "# Natural Disasters in the United States Analysis"
   ]
  },
  {
   "cell_type": "markdown",
   "id": "ed69d8dd-c0d9-43a2-80e9-967ad7603aa2",
   "metadata": {},
   "source": [
    "### Import Data"
   ]
  },
  {
   "cell_type": "code",
<<<<<<< HEAD:commodities_prices_vs_climate_change.ipynb
   "execution_count": 19,
=======
<<<<<<< HEAD
   "execution_count": 17,
=======
   "execution_count": 779,
>>>>>>> f4869e0c2d563b7915abdccb25e3e7ec4efcab45
>>>>>>> 63f8ba45e0bf701583efee4d35c673e603e26119:commodities_prices_vs_climate_change_old.ipynb
   "id": "f9d407b1-8051-4285-b14e-b290c92c3b1d",
   "metadata": {},
   "outputs": [],
   "source": [
    "# Using the read_csv function and Path module, create a DataFrame \n",
    "# by importing the us_disaster_declarations.csv from the Resources folder\n",
    "us_disasters_df = pd.read_csv(Path(\"./Resources/us_disaster_declarations.csv\"))\n",
    "\n",
    "# Using the read_csv function and Path module, create a DataFrame \n",
    "# by importing the us_disaster_declarations.csv from the Resources folder\n",
    "us_state_location_df = pd.read_csv(Path(\"./Resources/world_country_and_usa_states_latitude_and_longitude_values.csv\"))"
   ]
  },
  {
   "cell_type": "code",
<<<<<<< HEAD:commodities_prices_vs_climate_change.ipynb
   "execution_count": 20,
=======
<<<<<<< HEAD
   "execution_count": 18,
=======
   "execution_count": 780,
>>>>>>> f4869e0c2d563b7915abdccb25e3e7ec4efcab45
>>>>>>> 63f8ba45e0bf701583efee4d35c673e603e26119:commodities_prices_vs_climate_change_old.ipynb
   "id": "df6ad2b3-4ebb-495a-adc8-0016cd2e3d35",
   "metadata": {
    "tags": []
   },
   "outputs": [
    {
     "data": {
      "text/html": [
       "<div>\n",
       "<style scoped>\n",
       "    .dataframe tbody tr th:only-of-type {\n",
       "        vertical-align: middle;\n",
       "    }\n",
       "\n",
       "    .dataframe tbody tr th {\n",
       "        vertical-align: top;\n",
       "    }\n",
       "\n",
       "    .dataframe thead th {\n",
       "        text-align: right;\n",
       "    }\n",
       "</style>\n",
       "<table border=\"1\" class=\"dataframe\">\n",
       "  <thead>\n",
       "    <tr style=\"text-align: right;\">\n",
       "      <th></th>\n",
       "      <th>fema_declaration_string</th>\n",
       "      <th>disaster_number</th>\n",
       "      <th>state</th>\n",
       "      <th>declaration_type</th>\n",
       "      <th>declaration_date</th>\n",
       "      <th>fy_declared</th>\n",
       "      <th>incident_type</th>\n",
       "      <th>declaration_title</th>\n",
       "      <th>ih_program_declared</th>\n",
       "      <th>ia_program_declared</th>\n",
       "      <th>...</th>\n",
       "      <th>incident_begin_date</th>\n",
       "      <th>incident_end_date</th>\n",
       "      <th>disaster_closeout_date</th>\n",
       "      <th>fips</th>\n",
       "      <th>place_code</th>\n",
       "      <th>designated_area</th>\n",
       "      <th>declaration_request_number</th>\n",
       "      <th>hash</th>\n",
       "      <th>last_refresh</th>\n",
       "      <th>id</th>\n",
       "    </tr>\n",
       "  </thead>\n",
       "  <tbody>\n",
       "    <tr>\n",
       "      <th>0</th>\n",
       "      <td>DR-1-GA</td>\n",
       "      <td>1</td>\n",
       "      <td>GA</td>\n",
       "      <td>DR</td>\n",
       "      <td>1953-05-02T00:00:00Z</td>\n",
       "      <td>1953</td>\n",
       "      <td>Tornado</td>\n",
       "      <td>Tornado</td>\n",
       "      <td>0</td>\n",
       "      <td>1</td>\n",
       "      <td>...</td>\n",
       "      <td>1953-05-02T00:00:00Z</td>\n",
       "      <td>1953-05-02T00:00:00Z</td>\n",
       "      <td>1954-06-01T00:00:00Z</td>\n",
       "      <td>13000</td>\n",
       "      <td>0</td>\n",
       "      <td>Statewide</td>\n",
       "      <td>53013</td>\n",
       "      <td>bb121323c9c29d3bef0c9a3f134bfd8b5ecff148</td>\n",
       "      <td>2021-07-13T23:01:19Z</td>\n",
       "      <td>60c3b7a9a0ee349d71025780</td>\n",
       "    </tr>\n",
       "    <tr>\n",
       "      <th>1</th>\n",
       "      <td>DR-2-TX</td>\n",
       "      <td>2</td>\n",
       "      <td>TX</td>\n",
       "      <td>DR</td>\n",
       "      <td>1953-05-15T00:00:00Z</td>\n",
       "      <td>1953</td>\n",
       "      <td>Tornado</td>\n",
       "      <td>Tornado &amp; Heavy Rainfall</td>\n",
       "      <td>0</td>\n",
       "      <td>1</td>\n",
       "      <td>...</td>\n",
       "      <td>1953-05-15T00:00:00Z</td>\n",
       "      <td>1953-05-15T00:00:00Z</td>\n",
       "      <td>1958-01-01T00:00:00Z</td>\n",
       "      <td>48000</td>\n",
       "      <td>0</td>\n",
       "      <td>Statewide</td>\n",
       "      <td>53003</td>\n",
       "      <td>c879557e78d059e6847e7688388c339d10f51979</td>\n",
       "      <td>2021-07-13T23:01:19Z</td>\n",
       "      <td>60c3b7a9a0ee349d71025783</td>\n",
       "    </tr>\n",
       "    <tr>\n",
       "      <th>2</th>\n",
       "      <td>DR-3-LA</td>\n",
       "      <td>3</td>\n",
       "      <td>LA</td>\n",
       "      <td>DR</td>\n",
       "      <td>1953-05-29T00:00:00Z</td>\n",
       "      <td>1953</td>\n",
       "      <td>Flood</td>\n",
       "      <td>Flood</td>\n",
       "      <td>0</td>\n",
       "      <td>1</td>\n",
       "      <td>...</td>\n",
       "      <td>1953-05-29T00:00:00Z</td>\n",
       "      <td>1953-05-29T00:00:00Z</td>\n",
       "      <td>1960-02-01T00:00:00Z</td>\n",
       "      <td>22000</td>\n",
       "      <td>0</td>\n",
       "      <td>Statewide</td>\n",
       "      <td>53005</td>\n",
       "      <td>4fb19699fdbba1387ffa2263fcc4a4e37a1de6d6</td>\n",
       "      <td>2021-07-13T23:01:19Z</td>\n",
       "      <td>60c3b7a9a0ee349d71025777</td>\n",
       "    </tr>\n",
       "    <tr>\n",
       "      <th>3</th>\n",
       "      <td>DR-4-MI</td>\n",
       "      <td>4</td>\n",
       "      <td>MI</td>\n",
       "      <td>DR</td>\n",
       "      <td>1953-06-02T00:00:00Z</td>\n",
       "      <td>1953</td>\n",
       "      <td>Tornado</td>\n",
       "      <td>Tornado</td>\n",
       "      <td>0</td>\n",
       "      <td>1</td>\n",
       "      <td>...</td>\n",
       "      <td>1953-06-02T00:00:00Z</td>\n",
       "      <td>1953-06-02T00:00:00Z</td>\n",
       "      <td>1956-02-01T00:00:00Z</td>\n",
       "      <td>26000</td>\n",
       "      <td>0</td>\n",
       "      <td>Statewide</td>\n",
       "      <td>53004</td>\n",
       "      <td>87a0c1dd5da249767f545e0c0a43f917e4e9ca83</td>\n",
       "      <td>2021-07-13T23:01:19Z</td>\n",
       "      <td>60c3b7a9a0ee349d7102577a</td>\n",
       "    </tr>\n",
       "    <tr>\n",
       "      <th>4</th>\n",
       "      <td>DR-5-MT</td>\n",
       "      <td>5</td>\n",
       "      <td>MT</td>\n",
       "      <td>DR</td>\n",
       "      <td>1953-06-06T00:00:00Z</td>\n",
       "      <td>1953</td>\n",
       "      <td>Flood</td>\n",
       "      <td>Floods</td>\n",
       "      <td>0</td>\n",
       "      <td>1</td>\n",
       "      <td>...</td>\n",
       "      <td>1953-06-06T00:00:00Z</td>\n",
       "      <td>1953-06-06T00:00:00Z</td>\n",
       "      <td>1955-12-01T00:00:00Z</td>\n",
       "      <td>30000</td>\n",
       "      <td>0</td>\n",
       "      <td>Statewide</td>\n",
       "      <td>53006</td>\n",
       "      <td>954449c15634fb45c8bea3ac975782793ccde050</td>\n",
       "      <td>2021-07-13T23:01:19Z</td>\n",
       "      <td>60c3b7a9a0ee349d71025774</td>\n",
       "    </tr>\n",
       "  </tbody>\n",
       "</table>\n",
       "<p>5 rows × 22 columns</p>\n",
       "</div>"
      ],
      "text/plain": [
       "  fema_declaration_string  disaster_number state declaration_type  \\\n",
       "0                 DR-1-GA                1    GA               DR   \n",
       "1                 DR-2-TX                2    TX               DR   \n",
       "2                 DR-3-LA                3    LA               DR   \n",
       "3                 DR-4-MI                4    MI               DR   \n",
       "4                 DR-5-MT                5    MT               DR   \n",
       "\n",
       "       declaration_date  fy_declared incident_type         declaration_title  \\\n",
       "0  1953-05-02T00:00:00Z         1953       Tornado                   Tornado   \n",
       "1  1953-05-15T00:00:00Z         1953       Tornado  Tornado & Heavy Rainfall   \n",
       "2  1953-05-29T00:00:00Z         1953         Flood                     Flood   \n",
       "3  1953-06-02T00:00:00Z         1953       Tornado                   Tornado   \n",
       "4  1953-06-06T00:00:00Z         1953         Flood                    Floods   \n",
       "\n",
       "   ih_program_declared  ia_program_declared  ...   incident_begin_date  \\\n",
       "0                    0                    1  ...  1953-05-02T00:00:00Z   \n",
       "1                    0                    1  ...  1953-05-15T00:00:00Z   \n",
       "2                    0                    1  ...  1953-05-29T00:00:00Z   \n",
       "3                    0                    1  ...  1953-06-02T00:00:00Z   \n",
       "4                    0                    1  ...  1953-06-06T00:00:00Z   \n",
       "\n",
       "      incident_end_date disaster_closeout_date   fips place_code  \\\n",
       "0  1953-05-02T00:00:00Z   1954-06-01T00:00:00Z  13000          0   \n",
       "1  1953-05-15T00:00:00Z   1958-01-01T00:00:00Z  48000          0   \n",
       "2  1953-05-29T00:00:00Z   1960-02-01T00:00:00Z  22000          0   \n",
       "3  1953-06-02T00:00:00Z   1956-02-01T00:00:00Z  26000          0   \n",
       "4  1953-06-06T00:00:00Z   1955-12-01T00:00:00Z  30000          0   \n",
       "\n",
       "   designated_area  declaration_request_number  \\\n",
       "0        Statewide                       53013   \n",
       "1        Statewide                       53003   \n",
       "2        Statewide                       53005   \n",
       "3        Statewide                       53004   \n",
       "4        Statewide                       53006   \n",
       "\n",
       "                                       hash          last_refresh  \\\n",
       "0  bb121323c9c29d3bef0c9a3f134bfd8b5ecff148  2021-07-13T23:01:19Z   \n",
       "1  c879557e78d059e6847e7688388c339d10f51979  2021-07-13T23:01:19Z   \n",
       "2  4fb19699fdbba1387ffa2263fcc4a4e37a1de6d6  2021-07-13T23:01:19Z   \n",
       "3  87a0c1dd5da249767f545e0c0a43f917e4e9ca83  2021-07-13T23:01:19Z   \n",
       "4  954449c15634fb45c8bea3ac975782793ccde050  2021-07-13T23:01:19Z   \n",
       "\n",
       "                         id  \n",
       "0  60c3b7a9a0ee349d71025780  \n",
       "1  60c3b7a9a0ee349d71025783  \n",
       "2  60c3b7a9a0ee349d71025777  \n",
       "3  60c3b7a9a0ee349d7102577a  \n",
       "4  60c3b7a9a0ee349d71025774  \n",
       "\n",
       "[5 rows x 22 columns]"
      ]
     },
     "metadata": {},
     "output_type": "display_data"
    },
    {
     "data": {
      "text/html": [
       "<div>\n",
       "<style scoped>\n",
       "    .dataframe tbody tr th:only-of-type {\n",
       "        vertical-align: middle;\n",
       "    }\n",
       "\n",
       "    .dataframe tbody tr th {\n",
       "        vertical-align: top;\n",
       "    }\n",
       "\n",
       "    .dataframe thead th {\n",
       "        text-align: right;\n",
       "    }\n",
       "</style>\n",
       "<table border=\"1\" class=\"dataframe\">\n",
       "  <thead>\n",
       "    <tr style=\"text-align: right;\">\n",
       "      <th></th>\n",
       "      <th>fema_declaration_string</th>\n",
       "      <th>disaster_number</th>\n",
       "      <th>state</th>\n",
       "      <th>declaration_type</th>\n",
       "      <th>declaration_date</th>\n",
       "      <th>fy_declared</th>\n",
       "      <th>incident_type</th>\n",
       "      <th>declaration_title</th>\n",
       "      <th>ih_program_declared</th>\n",
       "      <th>ia_program_declared</th>\n",
       "      <th>...</th>\n",
       "      <th>incident_begin_date</th>\n",
       "      <th>incident_end_date</th>\n",
       "      <th>disaster_closeout_date</th>\n",
       "      <th>fips</th>\n",
       "      <th>place_code</th>\n",
       "      <th>designated_area</th>\n",
       "      <th>declaration_request_number</th>\n",
       "      <th>hash</th>\n",
       "      <th>last_refresh</th>\n",
       "      <th>id</th>\n",
       "    </tr>\n",
       "  </thead>\n",
       "  <tbody>\n",
       "    <tr>\n",
       "      <th>62592</th>\n",
       "      <td>EM-3574-LA</td>\n",
       "      <td>3574</td>\n",
       "      <td>LA</td>\n",
       "      <td>EM</td>\n",
       "      <td>2021-09-13T22:22:00Z</td>\n",
       "      <td>2021</td>\n",
       "      <td>Coastal Storm</td>\n",
       "      <td>Tropical Storm Nicholas</td>\n",
       "      <td>0</td>\n",
       "      <td>0</td>\n",
       "      <td>...</td>\n",
       "      <td>2021-09-12T12:00:00Z</td>\n",
       "      <td>NaN</td>\n",
       "      <td>NaN</td>\n",
       "      <td>22121</td>\n",
       "      <td>99121</td>\n",
       "      <td>West Baton Rouge (Parish)</td>\n",
       "      <td>21101</td>\n",
       "      <td>d8dbe3f740b91ac17b35e49bc71fe22940905f62</td>\n",
       "      <td>2021-09-14T03:02:03Z</td>\n",
       "      <td>614010ab434e34d5ee03378a</td>\n",
       "    </tr>\n",
       "    <tr>\n",
       "      <th>62593</th>\n",
       "      <td>EM-3574-LA</td>\n",
       "      <td>3574</td>\n",
       "      <td>LA</td>\n",
       "      <td>EM</td>\n",
       "      <td>2021-09-13T22:22:00Z</td>\n",
       "      <td>2021</td>\n",
       "      <td>Coastal Storm</td>\n",
       "      <td>Tropical Storm Nicholas</td>\n",
       "      <td>0</td>\n",
       "      <td>0</td>\n",
       "      <td>...</td>\n",
       "      <td>2021-09-12T12:00:00Z</td>\n",
       "      <td>NaN</td>\n",
       "      <td>NaN</td>\n",
       "      <td>22125</td>\n",
       "      <td>99125</td>\n",
       "      <td>West Feliciana (Parish)</td>\n",
       "      <td>21101</td>\n",
       "      <td>2b408677246d38fa2e20fc687a5b1fa1fb3bb324</td>\n",
       "      <td>2021-09-14T03:02:03Z</td>\n",
       "      <td>614010ab434e34d5ee03378d</td>\n",
       "    </tr>\n",
       "    <tr>\n",
       "      <th>62594</th>\n",
       "      <td>EM-3574-LA</td>\n",
       "      <td>3574</td>\n",
       "      <td>LA</td>\n",
       "      <td>EM</td>\n",
       "      <td>2021-09-13T22:22:00Z</td>\n",
       "      <td>2021</td>\n",
       "      <td>Coastal Storm</td>\n",
       "      <td>Tropical Storm Nicholas</td>\n",
       "      <td>0</td>\n",
       "      <td>0</td>\n",
       "      <td>...</td>\n",
       "      <td>2021-09-12T12:00:00Z</td>\n",
       "      <td>NaN</td>\n",
       "      <td>NaN</td>\n",
       "      <td>22123</td>\n",
       "      <td>99123</td>\n",
       "      <td>West Carroll (Parish)</td>\n",
       "      <td>21101</td>\n",
       "      <td>6ca2c413f659d8f114e82d2bd8df07148fd4ef73</td>\n",
       "      <td>2021-09-14T03:02:03Z</td>\n",
       "      <td>614010ab434e34d5ee033790</td>\n",
       "    </tr>\n",
       "    <tr>\n",
       "      <th>62595</th>\n",
       "      <td>EM-3574-LA</td>\n",
       "      <td>3574</td>\n",
       "      <td>LA</td>\n",
       "      <td>EM</td>\n",
       "      <td>2021-09-13T22:22:00Z</td>\n",
       "      <td>2021</td>\n",
       "      <td>Coastal Storm</td>\n",
       "      <td>Tropical Storm Nicholas</td>\n",
       "      <td>0</td>\n",
       "      <td>0</td>\n",
       "      <td>...</td>\n",
       "      <td>2021-09-12T12:00:00Z</td>\n",
       "      <td>NaN</td>\n",
       "      <td>NaN</td>\n",
       "      <td>22127</td>\n",
       "      <td>99127</td>\n",
       "      <td>Winn (Parish)</td>\n",
       "      <td>21101</td>\n",
       "      <td>b88598fa1adce7778c2fb295668281ea28920f5b</td>\n",
       "      <td>2021-09-14T03:02:03Z</td>\n",
       "      <td>614010ab434e34d5ee033794</td>\n",
       "    </tr>\n",
       "    <tr>\n",
       "      <th>62596</th>\n",
       "      <td>FM-5417-CA</td>\n",
       "      <td>5417</td>\n",
       "      <td>CA</td>\n",
       "      <td>FM</td>\n",
       "      <td>2021-09-23T21:00:00Z</td>\n",
       "      <td>2021</td>\n",
       "      <td>Fire</td>\n",
       "      <td>Fawn Fire</td>\n",
       "      <td>0</td>\n",
       "      <td>0</td>\n",
       "      <td>...</td>\n",
       "      <td>2021-09-23T18:00:00Z</td>\n",
       "      <td>NaN</td>\n",
       "      <td>NaN</td>\n",
       "      <td>6089</td>\n",
       "      <td>99089</td>\n",
       "      <td>Shasta (County)</td>\n",
       "      <td>21107</td>\n",
       "      <td>486144c2913fbc43a15482ee7672b162d50f2715</td>\n",
       "      <td>2021-09-25T02:03:32Z</td>\n",
       "      <td>614e8374b7c535bbb1907259</td>\n",
       "    </tr>\n",
       "  </tbody>\n",
       "</table>\n",
       "<p>5 rows × 22 columns</p>\n",
       "</div>"
      ],
      "text/plain": [
       "      fema_declaration_string  disaster_number state declaration_type  \\\n",
       "62592              EM-3574-LA             3574    LA               EM   \n",
       "62593              EM-3574-LA             3574    LA               EM   \n",
       "62594              EM-3574-LA             3574    LA               EM   \n",
       "62595              EM-3574-LA             3574    LA               EM   \n",
       "62596              FM-5417-CA             5417    CA               FM   \n",
       "\n",
       "           declaration_date  fy_declared  incident_type  \\\n",
       "62592  2021-09-13T22:22:00Z         2021  Coastal Storm   \n",
       "62593  2021-09-13T22:22:00Z         2021  Coastal Storm   \n",
       "62594  2021-09-13T22:22:00Z         2021  Coastal Storm   \n",
       "62595  2021-09-13T22:22:00Z         2021  Coastal Storm   \n",
       "62596  2021-09-23T21:00:00Z         2021           Fire   \n",
       "\n",
       "             declaration_title  ih_program_declared  ia_program_declared  ...  \\\n",
       "62592  Tropical Storm Nicholas                    0                    0  ...   \n",
       "62593  Tropical Storm Nicholas                    0                    0  ...   \n",
       "62594  Tropical Storm Nicholas                    0                    0  ...   \n",
       "62595  Tropical Storm Nicholas                    0                    0  ...   \n",
       "62596                Fawn Fire                    0                    0  ...   \n",
       "\n",
       "        incident_begin_date  incident_end_date disaster_closeout_date   fips  \\\n",
       "62592  2021-09-12T12:00:00Z                NaN                    NaN  22121   \n",
       "62593  2021-09-12T12:00:00Z                NaN                    NaN  22125   \n",
       "62594  2021-09-12T12:00:00Z                NaN                    NaN  22123   \n",
       "62595  2021-09-12T12:00:00Z                NaN                    NaN  22127   \n",
       "62596  2021-09-23T18:00:00Z                NaN                    NaN   6089   \n",
       "\n",
       "      place_code            designated_area  declaration_request_number  \\\n",
       "62592      99121  West Baton Rouge (Parish)                       21101   \n",
       "62593      99125    West Feliciana (Parish)                       21101   \n",
       "62594      99123      West Carroll (Parish)                       21101   \n",
       "62595      99127              Winn (Parish)                       21101   \n",
       "62596      99089            Shasta (County)                       21107   \n",
       "\n",
       "                                           hash          last_refresh  \\\n",
       "62592  d8dbe3f740b91ac17b35e49bc71fe22940905f62  2021-09-14T03:02:03Z   \n",
       "62593  2b408677246d38fa2e20fc687a5b1fa1fb3bb324  2021-09-14T03:02:03Z   \n",
       "62594  6ca2c413f659d8f114e82d2bd8df07148fd4ef73  2021-09-14T03:02:03Z   \n",
       "62595  b88598fa1adce7778c2fb295668281ea28920f5b  2021-09-14T03:02:03Z   \n",
       "62596  486144c2913fbc43a15482ee7672b162d50f2715  2021-09-25T02:03:32Z   \n",
       "\n",
       "                             id  \n",
       "62592  614010ab434e34d5ee03378a  \n",
       "62593  614010ab434e34d5ee03378d  \n",
       "62594  614010ab434e34d5ee033790  \n",
       "62595  614010ab434e34d5ee033794  \n",
       "62596  614e8374b7c535bbb1907259  \n",
       "\n",
       "[5 rows x 22 columns]"
      ]
     },
     "metadata": {},
     "output_type": "display_data"
    }
   ],
   "source": [
    "# Review the first and last five rows of the us_disaster_df DataFrame\n",
    "display(us_disasters_df.head())\n",
    "display(us_disasters_df.tail())"
   ]
  },
  {
   "cell_type": "code",
<<<<<<< HEAD:commodities_prices_vs_climate_change.ipynb
   "execution_count": 21,
=======
<<<<<<< HEAD
   "execution_count": 19,
   "id": "ad888432-191e-4e91-bb55-bf67473ff67f",
=======
   "execution_count": 781,
>>>>>>> 63f8ba45e0bf701583efee4d35c673e603e26119:commodities_prices_vs_climate_change_old.ipynb
   "id": "10cce281-8242-41c3-893f-25c55770ed3a",
>>>>>>> f4869e0c2d563b7915abdccb25e3e7ec4efcab45
   "metadata": {},
   "outputs": [
    {
     "data": {
      "text/html": [
       "<div>\n",
       "<style scoped>\n",
       "    .dataframe tbody tr th:only-of-type {\n",
       "        vertical-align: middle;\n",
       "    }\n",
       "\n",
       "    .dataframe tbody tr th {\n",
       "        vertical-align: top;\n",
       "    }\n",
       "\n",
       "    .dataframe thead th {\n",
       "        text-align: right;\n",
       "    }\n",
       "</style>\n",
       "<table border=\"1\" class=\"dataframe\">\n",
       "  <thead>\n",
       "    <tr style=\"text-align: right;\">\n",
       "      <th></th>\n",
       "      <th>country_code</th>\n",
       "      <th>latitude</th>\n",
       "      <th>longitude</th>\n",
       "      <th>country</th>\n",
       "      <th>usa_state_code</th>\n",
       "      <th>usa_state_latitude</th>\n",
       "      <th>usa_state_longitude</th>\n",
       "      <th>usa_state</th>\n",
       "    </tr>\n",
       "  </thead>\n",
       "  <tbody>\n",
       "    <tr>\n",
       "      <th>0</th>\n",
       "      <td>AD</td>\n",
       "      <td>42.546245</td>\n",
       "      <td>1.601554</td>\n",
       "      <td>Andorra</td>\n",
       "      <td>AK</td>\n",
       "      <td>63.588753</td>\n",
       "      <td>-154.493062</td>\n",
       "      <td>Alaska</td>\n",
       "    </tr>\n",
       "    <tr>\n",
       "      <th>1</th>\n",
       "      <td>AE</td>\n",
       "      <td>23.424076</td>\n",
       "      <td>53.847818</td>\n",
       "      <td>United Arab Emirates</td>\n",
       "      <td>AL</td>\n",
       "      <td>32.318231</td>\n",
       "      <td>-86.902298</td>\n",
       "      <td>Alabama</td>\n",
       "    </tr>\n",
       "    <tr>\n",
       "      <th>2</th>\n",
       "      <td>AF</td>\n",
       "      <td>33.939110</td>\n",
       "      <td>67.709953</td>\n",
       "      <td>Afghanistan</td>\n",
       "      <td>AR</td>\n",
       "      <td>35.201050</td>\n",
       "      <td>-91.831833</td>\n",
       "      <td>Arkansas</td>\n",
       "    </tr>\n",
       "    <tr>\n",
       "      <th>3</th>\n",
       "      <td>AG</td>\n",
       "      <td>17.060816</td>\n",
       "      <td>-61.796428</td>\n",
       "      <td>Antigua and Barbuda</td>\n",
       "      <td>AZ</td>\n",
       "      <td>34.048928</td>\n",
       "      <td>-111.093731</td>\n",
       "      <td>Arizona</td>\n",
       "    </tr>\n",
       "    <tr>\n",
       "      <th>4</th>\n",
       "      <td>AI</td>\n",
       "      <td>18.220554</td>\n",
       "      <td>-63.068615</td>\n",
       "      <td>Anguilla</td>\n",
       "      <td>CA</td>\n",
       "      <td>36.778261</td>\n",
       "      <td>-119.417932</td>\n",
       "      <td>California</td>\n",
       "    </tr>\n",
       "  </tbody>\n",
       "</table>\n",
       "</div>"
      ],
      "text/plain": [
       "  country_code   latitude  longitude               country usa_state_code  \\\n",
       "0           AD  42.546245   1.601554               Andorra             AK   \n",
       "1           AE  23.424076  53.847818  United Arab Emirates             AL   \n",
       "2           AF  33.939110  67.709953           Afghanistan             AR   \n",
       "3           AG  17.060816 -61.796428   Antigua and Barbuda             AZ   \n",
       "4           AI  18.220554 -63.068615              Anguilla             CA   \n",
       "\n",
       "   usa_state_latitude  usa_state_longitude   usa_state  \n",
       "0           63.588753          -154.493062      Alaska  \n",
       "1           32.318231           -86.902298     Alabama  \n",
       "2           35.201050           -91.831833    Arkansas  \n",
       "3           34.048928          -111.093731     Arizona  \n",
       "4           36.778261          -119.417932  California  "
      ]
     },
     "metadata": {},
     "output_type": "display_data"
    },
    {
     "data": {
      "text/html": [
       "<div>\n",
       "<style scoped>\n",
       "    .dataframe tbody tr th:only-of-type {\n",
       "        vertical-align: middle;\n",
       "    }\n",
       "\n",
       "    .dataframe tbody tr th {\n",
       "        vertical-align: top;\n",
       "    }\n",
       "\n",
       "    .dataframe thead th {\n",
       "        text-align: right;\n",
       "    }\n",
       "</style>\n",
       "<table border=\"1\" class=\"dataframe\">\n",
       "  <thead>\n",
       "    <tr style=\"text-align: right;\">\n",
       "      <th></th>\n",
       "      <th>country_code</th>\n",
       "      <th>latitude</th>\n",
       "      <th>longitude</th>\n",
       "      <th>country</th>\n",
       "      <th>usa_state_code</th>\n",
       "      <th>usa_state_latitude</th>\n",
       "      <th>usa_state_longitude</th>\n",
       "      <th>usa_state</th>\n",
       "    </tr>\n",
       "  </thead>\n",
       "  <tbody>\n",
       "    <tr>\n",
       "      <th>240</th>\n",
       "      <td>YE</td>\n",
       "      <td>15.552727</td>\n",
       "      <td>48.516388</td>\n",
       "      <td>Yemen</td>\n",
       "      <td>NaN</td>\n",
       "      <td>NaN</td>\n",
       "      <td>NaN</td>\n",
       "      <td>NaN</td>\n",
       "    </tr>\n",
       "    <tr>\n",
       "      <th>241</th>\n",
       "      <td>YT</td>\n",
       "      <td>-12.827500</td>\n",
       "      <td>45.166244</td>\n",
       "      <td>Mayotte</td>\n",
       "      <td>NaN</td>\n",
       "      <td>NaN</td>\n",
       "      <td>NaN</td>\n",
       "      <td>NaN</td>\n",
       "    </tr>\n",
       "    <tr>\n",
       "      <th>242</th>\n",
       "      <td>ZA</td>\n",
       "      <td>-30.559482</td>\n",
       "      <td>22.937506</td>\n",
       "      <td>South Africa</td>\n",
       "      <td>NaN</td>\n",
       "      <td>NaN</td>\n",
       "      <td>NaN</td>\n",
       "      <td>NaN</td>\n",
       "    </tr>\n",
       "    <tr>\n",
       "      <th>243</th>\n",
       "      <td>ZM</td>\n",
       "      <td>-13.133897</td>\n",
       "      <td>27.849332</td>\n",
       "      <td>Zambia</td>\n",
       "      <td>NaN</td>\n",
       "      <td>NaN</td>\n",
       "      <td>NaN</td>\n",
       "      <td>NaN</td>\n",
       "    </tr>\n",
       "    <tr>\n",
       "      <th>244</th>\n",
       "      <td>ZW</td>\n",
       "      <td>-19.015438</td>\n",
       "      <td>29.154857</td>\n",
       "      <td>Zimbabwe</td>\n",
       "      <td>NaN</td>\n",
       "      <td>NaN</td>\n",
       "      <td>NaN</td>\n",
       "      <td>NaN</td>\n",
       "    </tr>\n",
       "  </tbody>\n",
       "</table>\n",
       "</div>"
      ],
      "text/plain": [
       "    country_code   latitude  longitude       country usa_state_code  \\\n",
       "240           YE  15.552727  48.516388         Yemen            NaN   \n",
       "241           YT -12.827500  45.166244       Mayotte            NaN   \n",
       "242           ZA -30.559482  22.937506  South Africa            NaN   \n",
       "243           ZM -13.133897  27.849332        Zambia            NaN   \n",
       "244           ZW -19.015438  29.154857      Zimbabwe            NaN   \n",
       "\n",
       "     usa_state_latitude  usa_state_longitude usa_state  \n",
       "240                 NaN                  NaN       NaN  \n",
       "241                 NaN                  NaN       NaN  \n",
       "242                 NaN                  NaN       NaN  \n",
       "243                 NaN                  NaN       NaN  \n",
       "244                 NaN                  NaN       NaN  "
      ]
     },
     "metadata": {},
     "output_type": "display_data"
    }
   ],
   "source": [
    "# Review the first and last five rows of the us_disaster_df DataFrame\n",
    "display(us_state_location_df.head())\n",
    "display(us_state_location_df.tail())"
   ]
  },
  {
   "cell_type": "markdown",
   "id": "ef7aa489-1524-4bf3-a9b4-03afeeae3652",
   "metadata": {},
   "source": [
    "### Clean Data"
   ]
  },
  {
   "cell_type": "code",
<<<<<<< HEAD:commodities_prices_vs_climate_change.ipynb
   "execution_count": 22,
=======
<<<<<<< HEAD
   "execution_count": 20,
=======
   "execution_count": 782,
>>>>>>> f4869e0c2d563b7915abdccb25e3e7ec4efcab45
>>>>>>> 63f8ba45e0bf701583efee4d35c673e603e26119:commodities_prices_vs_climate_change_old.ipynb
   "id": "9ec160af-d07c-4c57-90dd-75637fe9b7d5",
   "metadata": {},
   "outputs": [],
   "source": [
    "us_disasters_df = us_disasters_df.drop(columns = ['fema_declaration_string', 'ih_program_declared', 'ia_program_declared', 'declaration_title', 'pa_program_declared', 'hm_program_declared',\n",
    "                                                 'incident_begin_date', 'incident_end_date', 'disaster_closeout_date', 'fips', 'place_code', 'hash', 'last_refresh', 'id', 'designated_area', 'declaration_type',\n",
    "                                                 'fy_declared', 'declaration_request_number'])"
   ]
  },
  {
   "cell_type": "code",
<<<<<<< HEAD:commodities_prices_vs_climate_change.ipynb
   "execution_count": 23,
=======
<<<<<<< HEAD
   "execution_count": 21,
=======
   "execution_count": 783,
>>>>>>> f4869e0c2d563b7915abdccb25e3e7ec4efcab45
>>>>>>> 63f8ba45e0bf701583efee4d35c673e603e26119:commodities_prices_vs_climate_change_old.ipynb
   "id": "9fbf49a1-ac64-4ce7-94c9-580803b9ad01",
   "metadata": {},
   "outputs": [
    {
     "data": {
      "text/html": [
       "<div>\n",
       "<style scoped>\n",
       "    .dataframe tbody tr th:only-of-type {\n",
       "        vertical-align: middle;\n",
       "    }\n",
       "\n",
       "    .dataframe tbody tr th {\n",
       "        vertical-align: top;\n",
       "    }\n",
       "\n",
       "    .dataframe thead th {\n",
       "        text-align: right;\n",
       "    }\n",
       "</style>\n",
       "<table border=\"1\" class=\"dataframe\">\n",
       "  <thead>\n",
       "    <tr style=\"text-align: right;\">\n",
       "      <th></th>\n",
       "      <th>disaster_number</th>\n",
       "      <th>state</th>\n",
       "      <th>declaration_date</th>\n",
       "      <th>incident_type</th>\n",
       "    </tr>\n",
       "  </thead>\n",
       "  <tbody>\n",
       "    <tr>\n",
       "      <th>0</th>\n",
       "      <td>1</td>\n",
       "      <td>GA</td>\n",
       "      <td>1953-05-02T00:00:00Z</td>\n",
       "      <td>Tornado</td>\n",
       "    </tr>\n",
       "    <tr>\n",
       "      <th>1</th>\n",
       "      <td>2</td>\n",
       "      <td>TX</td>\n",
       "      <td>1953-05-15T00:00:00Z</td>\n",
       "      <td>Tornado</td>\n",
       "    </tr>\n",
       "    <tr>\n",
       "      <th>2</th>\n",
       "      <td>3</td>\n",
       "      <td>LA</td>\n",
       "      <td>1953-05-29T00:00:00Z</td>\n",
       "      <td>Flood</td>\n",
       "    </tr>\n",
       "    <tr>\n",
       "      <th>3</th>\n",
       "      <td>4</td>\n",
       "      <td>MI</td>\n",
       "      <td>1953-06-02T00:00:00Z</td>\n",
       "      <td>Tornado</td>\n",
       "    </tr>\n",
       "    <tr>\n",
       "      <th>4</th>\n",
       "      <td>5</td>\n",
       "      <td>MT</td>\n",
       "      <td>1953-06-06T00:00:00Z</td>\n",
       "      <td>Flood</td>\n",
       "    </tr>\n",
       "  </tbody>\n",
       "</table>\n",
       "</div>"
      ],
      "text/plain": [
       "   disaster_number state      declaration_date incident_type\n",
       "0                1    GA  1953-05-02T00:00:00Z       Tornado\n",
       "1                2    TX  1953-05-15T00:00:00Z       Tornado\n",
       "2                3    LA  1953-05-29T00:00:00Z         Flood\n",
       "3                4    MI  1953-06-02T00:00:00Z       Tornado\n",
       "4                5    MT  1953-06-06T00:00:00Z         Flood"
      ]
     },
<<<<<<< HEAD:commodities_prices_vs_climate_change.ipynb
     "execution_count": 23,
=======
<<<<<<< HEAD
     "execution_count": 21,
=======
     "execution_count": 783,
>>>>>>> f4869e0c2d563b7915abdccb25e3e7ec4efcab45
>>>>>>> 63f8ba45e0bf701583efee4d35c673e603e26119:commodities_prices_vs_climate_change_old.ipynb
     "metadata": {},
     "output_type": "execute_result"
    }
   ],
   "source": [
    "us_disasters_df.head()"
   ]
  },
  {
   "cell_type": "code",
<<<<<<< HEAD:commodities_prices_vs_climate_change.ipynb
   "execution_count": 24,
=======
<<<<<<< HEAD
   "execution_count": 22,
=======
   "execution_count": 784,
>>>>>>> f4869e0c2d563b7915abdccb25e3e7ec4efcab45
>>>>>>> 63f8ba45e0bf701583efee4d35c673e603e26119:commodities_prices_vs_climate_change_old.ipynb
   "id": "069ae6a3-d576-49ab-aa40-002f1dd56b22",
   "metadata": {},
   "outputs": [],
   "source": [
    "# Format declaration_date column as Datetime data format\n",
    "us_disasters_df['date'] = pd.to_datetime(us_disasters_df['declaration_date'], infer_datetime_format=True)\n",
    "\n",
    "# Format date to be year only\n",
    "us_disasters_df['date'] = us_disasters_df['date'].dt.year"
   ]
  },
  {
   "cell_type": "code",
<<<<<<< HEAD:commodities_prices_vs_climate_change.ipynb
   "execution_count": 25,
=======
<<<<<<< HEAD
   "execution_count": 23,
=======
   "execution_count": 785,
>>>>>>> f4869e0c2d563b7915abdccb25e3e7ec4efcab45
>>>>>>> 63f8ba45e0bf701583efee4d35c673e603e26119:commodities_prices_vs_climate_change_old.ipynb
   "id": "f5700c67-58af-49dd-9922-bee0831a2a1a",
   "metadata": {},
   "outputs": [],
   "source": [
    "# Set time as index \n",
    "us_disasters_df = us_disasters_df.set_index('date')"
   ]
  },
  {
   "cell_type": "code",
<<<<<<< HEAD:commodities_prices_vs_climate_change.ipynb
   "execution_count": 26,
=======
<<<<<<< HEAD
   "execution_count": 24,
=======
   "execution_count": 786,
>>>>>>> f4869e0c2d563b7915abdccb25e3e7ec4efcab45
>>>>>>> 63f8ba45e0bf701583efee4d35c673e603e26119:commodities_prices_vs_climate_change_old.ipynb
   "id": "bca67eda-19a2-4d5e-84a0-38fbc4bb0a76",
   "metadata": {},
   "outputs": [],
   "source": [
    "# Drop unnecessary rows\n",
    "us_disasters_df = us_disasters_df.dropna()\n",
    "us_disasters_df = us_disasters_df.drop(columns = ['declaration_date'])\n",
    "\n",
    "# Drop duplicate rows\n",
    "us_disasters_df = us_disasters_df.drop_duplicates()"
   ]
  },
  {
   "cell_type": "code",
<<<<<<< HEAD:commodities_prices_vs_climate_change.ipynb
   "execution_count": 27,
=======
<<<<<<< HEAD
   "execution_count": 25,
=======
   "execution_count": 787,
>>>>>>> f4869e0c2d563b7915abdccb25e3e7ec4efcab45
>>>>>>> 63f8ba45e0bf701583efee4d35c673e603e26119:commodities_prices_vs_climate_change_old.ipynb
   "id": "da026a92-ba4f-4f77-94a9-dfcfd6d35575",
   "metadata": {},
   "outputs": [
    {
     "data": {
      "text/html": [
       "<div>\n",
       "<style scoped>\n",
       "    .dataframe tbody tr th:only-of-type {\n",
       "        vertical-align: middle;\n",
       "    }\n",
       "\n",
       "    .dataframe tbody tr th {\n",
       "        vertical-align: top;\n",
       "    }\n",
       "\n",
       "    .dataframe thead th {\n",
       "        text-align: right;\n",
       "    }\n",
       "</style>\n",
       "<table border=\"1\" class=\"dataframe\">\n",
       "  <thead>\n",
       "    <tr style=\"text-align: right;\">\n",
       "      <th></th>\n",
       "      <th>disaster_number</th>\n",
       "      <th>state</th>\n",
       "      <th>incident_type</th>\n",
       "    </tr>\n",
       "    <tr>\n",
       "      <th>date</th>\n",
       "      <th></th>\n",
       "      <th></th>\n",
       "      <th></th>\n",
       "    </tr>\n",
       "  </thead>\n",
       "  <tbody>\n",
       "    <tr>\n",
       "      <th>1953</th>\n",
       "      <td>1</td>\n",
       "      <td>GA</td>\n",
       "      <td>Tornado</td>\n",
       "    </tr>\n",
       "    <tr>\n",
       "      <th>1953</th>\n",
       "      <td>2</td>\n",
       "      <td>TX</td>\n",
       "      <td>Tornado</td>\n",
       "    </tr>\n",
       "    <tr>\n",
       "      <th>1953</th>\n",
       "      <td>3</td>\n",
       "      <td>LA</td>\n",
       "      <td>Flood</td>\n",
       "    </tr>\n",
       "    <tr>\n",
       "      <th>1953</th>\n",
       "      <td>4</td>\n",
       "      <td>MI</td>\n",
       "      <td>Tornado</td>\n",
       "    </tr>\n",
       "    <tr>\n",
       "      <th>1953</th>\n",
       "      <td>5</td>\n",
       "      <td>MT</td>\n",
       "      <td>Flood</td>\n",
       "    </tr>\n",
       "  </tbody>\n",
       "</table>\n",
       "</div>"
      ],
      "text/plain": [
       "      disaster_number state incident_type\n",
       "date                                     \n",
       "1953                1    GA       Tornado\n",
       "1953                2    TX       Tornado\n",
       "1953                3    LA         Flood\n",
       "1953                4    MI       Tornado\n",
       "1953                5    MT         Flood"
      ]
     },
     "metadata": {},
     "output_type": "display_data"
    },
    {
     "data": {
      "text/html": [
       "<div>\n",
       "<style scoped>\n",
       "    .dataframe tbody tr th:only-of-type {\n",
       "        vertical-align: middle;\n",
       "    }\n",
       "\n",
       "    .dataframe tbody tr th {\n",
       "        vertical-align: top;\n",
       "    }\n",
       "\n",
       "    .dataframe thead th {\n",
       "        text-align: right;\n",
       "    }\n",
       "</style>\n",
       "<table border=\"1\" class=\"dataframe\">\n",
       "  <thead>\n",
       "    <tr style=\"text-align: right;\">\n",
       "      <th></th>\n",
       "      <th>disaster_number</th>\n",
       "      <th>state</th>\n",
       "      <th>incident_type</th>\n",
       "    </tr>\n",
       "    <tr>\n",
       "      <th>date</th>\n",
       "      <th></th>\n",
       "      <th></th>\n",
       "      <th></th>\n",
       "    </tr>\n",
       "  </thead>\n",
       "  <tbody>\n",
       "    <tr>\n",
       "      <th>2021</th>\n",
       "      <td>4618</td>\n",
       "      <td>PA</td>\n",
       "      <td>Hurricane</td>\n",
       "    </tr>\n",
       "    <tr>\n",
       "      <th>2021</th>\n",
       "      <td>4619</td>\n",
       "      <td>CA</td>\n",
       "      <td>Fire</td>\n",
       "    </tr>\n",
       "    <tr>\n",
       "      <th>2021</th>\n",
       "      <td>4620</td>\n",
       "      <td>AZ</td>\n",
       "      <td>Flood</td>\n",
       "    </tr>\n",
       "    <tr>\n",
       "      <th>2021</th>\n",
       "      <td>3574</td>\n",
       "      <td>LA</td>\n",
       "      <td>Coastal Storm</td>\n",
       "    </tr>\n",
       "    <tr>\n",
       "      <th>2021</th>\n",
       "      <td>5417</td>\n",
       "      <td>CA</td>\n",
       "      <td>Fire</td>\n",
       "    </tr>\n",
       "  </tbody>\n",
       "</table>\n",
       "</div>"
      ],
      "text/plain": [
       "      disaster_number state  incident_type\n",
       "date                                      \n",
       "2021             4618    PA      Hurricane\n",
       "2021             4619    CA           Fire\n",
       "2021             4620    AZ          Flood\n",
       "2021             3574    LA  Coastal Storm\n",
       "2021             5417    CA           Fire"
      ]
     },
     "metadata": {},
     "output_type": "display_data"
    }
   ],
   "source": [
    "# Review the first 5 and last 5 rows the DataFrame\n",
    "display(us_disasters_df.head())\n",
    "display(us_disasters_df.tail())"
   ]
  },
  {
   "cell_type": "code",
   "execution_count": 28,
   "id": "e65e8fc0-a69b-4c17-82e4-a489df21f8c5",
   "metadata": {},
   "outputs": [],
   "source": [
    "# Change column name to \"state\" to be merged later\n",
    "us_state_location_df[\"state\"] = us_state_location_df[\"usa_state_code\"]\n",
    "\n",
    "# Drop unnecessary rows\n",
    "us_state_location_df = us_state_location_df.drop(columns = ['country_code', 'latitude', 'longitude', 'country', 'usa_state_code'])\n",
    "\n",
    "# Drop empty rows\n",
    "us_state_location_df = us_state_location_df.dropna()"
   ]
  },
  {
   "cell_type": "code",
   "execution_count": 29,
   "id": "8ee5a84d-30ad-4961-9cb5-56973348f194",
   "metadata": {},
   "outputs": [
    {
     "data": {
      "text/html": [
       "<div>\n",
       "<style scoped>\n",
       "    .dataframe tbody tr th:only-of-type {\n",
       "        vertical-align: middle;\n",
       "    }\n",
       "\n",
       "    .dataframe tbody tr th {\n",
       "        vertical-align: top;\n",
       "    }\n",
       "\n",
       "    .dataframe thead th {\n",
       "        text-align: right;\n",
       "    }\n",
       "</style>\n",
       "<table border=\"1\" class=\"dataframe\">\n",
       "  <thead>\n",
       "    <tr style=\"text-align: right;\">\n",
       "      <th></th>\n",
       "      <th>usa_state_latitude</th>\n",
       "      <th>usa_state_longitude</th>\n",
       "      <th>usa_state</th>\n",
       "      <th>state</th>\n",
       "    </tr>\n",
       "  </thead>\n",
       "  <tbody>\n",
       "    <tr>\n",
       "      <th>0</th>\n",
       "      <td>63.588753</td>\n",
       "      <td>-154.493062</td>\n",
       "      <td>Alaska</td>\n",
       "      <td>AK</td>\n",
       "    </tr>\n",
       "    <tr>\n",
       "      <th>1</th>\n",
       "      <td>32.318231</td>\n",
       "      <td>-86.902298</td>\n",
       "      <td>Alabama</td>\n",
       "      <td>AL</td>\n",
       "    </tr>\n",
       "    <tr>\n",
       "      <th>2</th>\n",
       "      <td>35.201050</td>\n",
       "      <td>-91.831833</td>\n",
       "      <td>Arkansas</td>\n",
       "      <td>AR</td>\n",
       "    </tr>\n",
       "    <tr>\n",
       "      <th>3</th>\n",
       "      <td>34.048928</td>\n",
       "      <td>-111.093731</td>\n",
       "      <td>Arizona</td>\n",
       "      <td>AZ</td>\n",
       "    </tr>\n",
       "    <tr>\n",
       "      <th>4</th>\n",
       "      <td>36.778261</td>\n",
       "      <td>-119.417932</td>\n",
       "      <td>California</td>\n",
       "      <td>CA</td>\n",
       "    </tr>\n",
       "  </tbody>\n",
       "</table>\n",
       "</div>"
      ],
      "text/plain": [
       "   usa_state_latitude  usa_state_longitude   usa_state state\n",
       "0           63.588753          -154.493062      Alaska    AK\n",
       "1           32.318231           -86.902298     Alabama    AL\n",
       "2           35.201050           -91.831833    Arkansas    AR\n",
       "3           34.048928          -111.093731     Arizona    AZ\n",
       "4           36.778261          -119.417932  California    CA"
      ]
     },
     "metadata": {},
     "output_type": "display_data"
    },
    {
     "data": {
      "text/html": [
       "<div>\n",
       "<style scoped>\n",
       "    .dataframe tbody tr th:only-of-type {\n",
       "        vertical-align: middle;\n",
       "    }\n",
       "\n",
       "    .dataframe tbody tr th {\n",
       "        vertical-align: top;\n",
       "    }\n",
       "\n",
       "    .dataframe thead th {\n",
       "        text-align: right;\n",
       "    }\n",
       "</style>\n",
       "<table border=\"1\" class=\"dataframe\">\n",
       "  <thead>\n",
       "    <tr style=\"text-align: right;\">\n",
       "      <th></th>\n",
       "      <th>usa_state_latitude</th>\n",
       "      <th>usa_state_longitude</th>\n",
       "      <th>usa_state</th>\n",
       "      <th>state</th>\n",
       "    </tr>\n",
       "  </thead>\n",
       "  <tbody>\n",
       "    <tr>\n",
       "      <th>47</th>\n",
       "      <td>44.558803</td>\n",
       "      <td>-72.577841</td>\n",
       "      <td>Vermont</td>\n",
       "      <td>VT</td>\n",
       "    </tr>\n",
       "    <tr>\n",
       "      <th>48</th>\n",
       "      <td>47.751074</td>\n",
       "      <td>-120.740139</td>\n",
       "      <td>Washington</td>\n",
       "      <td>WA</td>\n",
       "    </tr>\n",
       "    <tr>\n",
       "      <th>49</th>\n",
       "      <td>43.784440</td>\n",
       "      <td>-88.787868</td>\n",
       "      <td>Wisconsin</td>\n",
       "      <td>WI</td>\n",
       "    </tr>\n",
       "    <tr>\n",
       "      <th>50</th>\n",
       "      <td>38.597626</td>\n",
       "      <td>-80.454903</td>\n",
       "      <td>West Virginia</td>\n",
       "      <td>WV</td>\n",
       "    </tr>\n",
       "    <tr>\n",
       "      <th>51</th>\n",
       "      <td>43.075968</td>\n",
       "      <td>-107.290284</td>\n",
       "      <td>Wyoming</td>\n",
       "      <td>WY</td>\n",
       "    </tr>\n",
       "  </tbody>\n",
       "</table>\n",
       "</div>"
      ],
      "text/plain": [
       "    usa_state_latitude  usa_state_longitude      usa_state state\n",
       "47           44.558803           -72.577841        Vermont    VT\n",
       "48           47.751074          -120.740139     Washington    WA\n",
       "49           43.784440           -88.787868      Wisconsin    WI\n",
       "50           38.597626           -80.454903  West Virginia    WV\n",
       "51           43.075968          -107.290284        Wyoming    WY"
      ]
     },
     "metadata": {},
     "output_type": "display_data"
    }
   ],
   "source": [
    "display(us_state_location_df.head())\n",
    "display(us_state_location_df.tail())"
   ]
  },
  {
   "cell_type": "markdown",
   "id": "effe04e5-b271-4d8a-ac10-80e3ba419672",
   "metadata": {},
   "source": [
    "### Data Analysis"
   ]
  },
  {
   "cell_type": "code",
<<<<<<< HEAD:commodities_prices_vs_climate_change.ipynb
   "execution_count": 30,
=======
<<<<<<< HEAD
   "execution_count": 26,
=======
   "execution_count": 790,
>>>>>>> f4869e0c2d563b7915abdccb25e3e7ec4efcab45
>>>>>>> 63f8ba45e0bf701583efee4d35c673e603e26119:commodities_prices_vs_climate_change_old.ipynb
   "id": "559793ad-3441-4a9d-bfa0-17e95fdcff0a",
   "metadata": {},
   "outputs": [
    {
     "data": {
      "text/html": [
       "<div>\n",
       "<style scoped>\n",
       "    .dataframe tbody tr th:only-of-type {\n",
       "        vertical-align: middle;\n",
       "    }\n",
       "\n",
       "    .dataframe tbody tr th {\n",
       "        vertical-align: top;\n",
       "    }\n",
       "\n",
       "    .dataframe thead th {\n",
       "        text-align: right;\n",
       "    }\n",
       "</style>\n",
       "<table border=\"1\" class=\"dataframe\">\n",
       "  <thead>\n",
       "    <tr style=\"text-align: right;\">\n",
       "      <th></th>\n",
       "      <th>disaster_count</th>\n",
       "    </tr>\n",
       "    <tr>\n",
       "      <th>state</th>\n",
       "      <th></th>\n",
       "    </tr>\n",
       "  </thead>\n",
       "  <tbody>\n",
       "    <tr>\n",
       "      <th>PW</th>\n",
       "      <td>1</td>\n",
       "    </tr>\n",
       "    <tr>\n",
       "      <th>MH</th>\n",
       "      <td>7</td>\n",
       "    </tr>\n",
       "    <tr>\n",
       "      <th>AS</th>\n",
       "      <td>16</td>\n",
       "    </tr>\n",
       "    <tr>\n",
       "      <th>GU</th>\n",
       "      <td>19</td>\n",
       "    </tr>\n",
       "    <tr>\n",
       "      <th>FM</th>\n",
       "      <td>21</td>\n",
       "    </tr>\n",
       "  </tbody>\n",
       "</table>\n",
       "</div>"
      ],
      "text/plain": [
       "       disaster_count\n",
       "state                \n",
       "PW                  1\n",
       "MH                  7\n",
       "AS                 16\n",
       "GU                 19\n",
       "FM                 21"
      ]
     },
<<<<<<< HEAD:commodities_prices_vs_climate_change.ipynb
     "execution_count": 30,
=======
<<<<<<< HEAD
     "execution_count": 26,
=======
     "execution_count": 790,
>>>>>>> f4869e0c2d563b7915abdccb25e3e7ec4efcab45
>>>>>>> 63f8ba45e0bf701583efee4d35c673e603e26119:commodities_prices_vs_climate_change_old.ipynb
     "metadata": {},
     "output_type": "execute_result"
    }
   ],
   "source": [
    "# Using the DataFrame\n",
    "# group the information by \"state\" and count the data\n",
    "number_of_disasters_by_state = us_disasters_df.groupby(\"state\").count()\n",
    "number_of_disasters_by_state['disaster_count'] = number_of_disasters_by_state['incident_type']\n",
    "number_of_disasters_by_state = number_of_disasters_by_state.drop(columns = ['disaster_number', 'incident_type'])\n",
    "\n",
    "# Sort the DataFrame by \"count\"\n",
    "number_of_disasters_by_state = number_of_disasters_by_state.sort_values(\"disaster_count\")\n",
    "\n",
    "\n",
    "# Review the first five rows resulting DataFrame\n",
    "number_of_disasters_by_state.head()"
   ]
  },
  {
   "cell_type": "code",
<<<<<<< HEAD:commodities_prices_vs_climate_change.ipynb
   "execution_count": 31,
=======
<<<<<<< HEAD
   "execution_count": 27,
=======
   "execution_count": 791,
>>>>>>> f4869e0c2d563b7915abdccb25e3e7ec4efcab45
>>>>>>> 63f8ba45e0bf701583efee4d35c673e603e26119:commodities_prices_vs_climate_change_old.ipynb
   "id": "55ed0abc-a85c-467a-b5b9-440eb2251693",
   "metadata": {},
   "outputs": [
    {
     "data": {},
     "metadata": {},
     "output_type": "display_data"
    },
    {
     "data": {
      "application/vnd.holoviews_exec.v0+json": "",
      "text/html": [
<<<<<<< HEAD:commodities_prices_vs_climate_change.ipynb
       "<div id='1620'>\n",
=======
<<<<<<< HEAD
       "<div id='1620'>\n",
=======
       "<div id='27439'>\n",
>>>>>>> f4869e0c2d563b7915abdccb25e3e7ec4efcab45
>>>>>>> 63f8ba45e0bf701583efee4d35c673e603e26119:commodities_prices_vs_climate_change_old.ipynb
       "\n",
       "\n",
       "\n",
       "\n",
       "\n",
<<<<<<< HEAD:commodities_prices_vs_climate_change.ipynb
       "  <div class=\"bk-root\" id=\"0ebcf30a-10da-46fb-bc9b-175d42aa9734\" data-root-id=\"1620\"></div>\n",
       "</div>\n",
       "<script type=\"application/javascript\">(function(root) {\n",
       "  function embed_document(root) {\n",
       "    var docs_json = {\"fe43b2ec-e3ed-492e-b89b-665891545088\":{\"defs\":[{\"extends\":null,\"module\":null,\"name\":\"ReactiveHTML1\",\"overrides\":[],\"properties\":[]},{\"extends\":null,\"module\":null,\"name\":\"FlexBox1\",\"overrides\":[],\"properties\":[{\"default\":\"flex-start\",\"kind\":null,\"name\":\"align_content\"},{\"default\":\"flex-start\",\"kind\":null,\"name\":\"align_items\"},{\"default\":\"row\",\"kind\":null,\"name\":\"flex_direction\"},{\"default\":\"wrap\",\"kind\":null,\"name\":\"flex_wrap\"},{\"default\":\"flex-start\",\"kind\":null,\"name\":\"justify_content\"}]},{\"extends\":null,\"module\":null,\"name\":\"TemplateActions1\",\"overrides\":[],\"properties\":[{\"default\":0,\"kind\":null,\"name\":\"open_modal\"},{\"default\":0,\"kind\":null,\"name\":\"close_modal\"}]},{\"extends\":null,\"module\":null,\"name\":\"MaterialTemplateActions1\",\"overrides\":[],\"properties\":[{\"default\":0,\"kind\":null,\"name\":\"open_modal\"},{\"default\":0,\"kind\":null,\"name\":\"close_modal\"}]}],\"roots\":{\"references\":[{\"attributes\":{},\"id\":\"1635\",\"type\":\"CategoricalTicker\"},{\"attributes\":{\"axis_label\":\"disaster_count\",\"formatter\":{\"id\":\"1663\"},\"major_label_policy\":{\"id\":\"1669\"},\"ticker\":{\"id\":\"1638\"}},\"id\":\"1637\",\"type\":\"LinearAxis\"},{\"attributes\":{},\"id\":\"1655\",\"type\":\"Selection\"},{\"attributes\":{},\"id\":\"1664\",\"type\":\"CategoricalTickFormatter\"},{\"attributes\":{},\"id\":\"1630\",\"type\":\"CategoricalScale\"},{\"attributes\":{\"bottom\":{\"value\":0},\"fill_alpha\":{\"value\":1.0},\"fill_color\":{\"value\":\"#30a2da\"},\"hatch_alpha\":{\"value\":1.0},\"hatch_color\":{\"value\":\"black\"},\"hatch_scale\":{\"value\":12.0},\"hatch_weight\":{\"value\":1.0},\"line_alpha\":{\"value\":1.0},\"line_cap\":{\"value\":\"butt\"},\"line_color\":{\"value\":\"black\"},\"line_dash\":{\"value\":[]},\"line_dash_offset\":{\"value\":0},\"line_join\":{\"value\":\"bevel\"},\"line_width\":{\"value\":1},\"top\":{\"field\":\"disaster_count\"},\"width\":{\"value\":0.8},\"x\":{\"field\":\"state\"}},\"id\":\"1662\",\"type\":\"VBar\"},{\"attributes\":{\"axis_label\":\"state\",\"formatter\":{\"id\":\"1664\"},\"major_label_orientation\":1.5707963267948966,\"major_label_policy\":{\"id\":\"1665\"},\"ticker\":{\"id\":\"1635\"}},\"id\":\"1634\",\"type\":\"CategoricalAxis\"},{\"attributes\":{\"axis\":{\"id\":\"1634\"},\"grid_line_color\":null,\"ticker\":null},\"id\":\"1636\",\"type\":\"Grid\"},{\"attributes\":{},\"id\":\"1665\",\"type\":\"AllLabels\"},{\"attributes\":{\"children\":[{\"id\":\"1621\"},{\"id\":\"1625\"},{\"id\":\"1690\"}],\"margin\":[0,0,0,0],\"name\":\"Row02201\",\"tags\":[\"embedded\"]},\"id\":\"1620\",\"type\":\"Row\"},{\"attributes\":{\"text\":\"Number of Total Disasters Per State from 1953-05-02 through 2021-09-23\",\"text_color\":\"black\",\"text_font_size\":\"12pt\"},\"id\":\"1626\",\"type\":\"Title\"},{\"attributes\":{},\"id\":\"1645\",\"type\":\"ResetTool\"},{\"attributes\":{\"axis\":{\"id\":\"1637\"},\"dimension\":1,\"grid_line_color\":null,\"ticker\":null},\"id\":\"1640\",\"type\":\"Grid\"},{\"attributes\":{\"fill_alpha\":{\"value\":0.2},\"fill_color\":{\"value\":\"#30a2da\"},\"line_alpha\":{\"value\":0.2},\"top\":{\"field\":\"disaster_count\"},\"width\":{\"value\":0.8},\"x\":{\"field\":\"state\"}},\"id\":\"1659\",\"type\":\"VBar\"},{\"attributes\":{\"callback\":null,\"renderers\":[{\"id\":\"1660\"}],\"tags\":[\"hv_created\"],\"tooltips\":[[\"state\",\"@{state}\"],[\"disaster_count\",\"@{disaster_count}\"]]},\"id\":\"1624\",\"type\":\"HoverTool\"},{\"attributes\":{},\"id\":\"1642\",\"type\":\"PanTool\"},{\"attributes\":{\"margin\":[5,5,5,5],\"name\":\"HSpacer02206\",\"sizing_mode\":\"stretch_width\"},\"id\":\"1690\",\"type\":\"Spacer\"},{\"attributes\":{},\"id\":\"1643\",\"type\":\"WheelZoomTool\"},{\"attributes\":{\"margin\":[5,5,5,5],\"name\":\"HSpacer02205\",\"sizing_mode\":\"stretch_width\"},\"id\":\"1621\",\"type\":\"Spacer\"},{\"attributes\":{\"fill_alpha\":{\"value\":0.1},\"fill_color\":{\"value\":\"#30a2da\"},\"line_alpha\":{\"value\":0.1},\"top\":{\"field\":\"disaster_count\"},\"width\":{\"value\":0.8},\"x\":{\"field\":\"state\"}},\"id\":\"1658\",\"type\":\"VBar\"},{\"attributes\":{},\"id\":\"1632\",\"type\":\"LinearScale\"},{\"attributes\":{\"factors\":[\"PW\",\"MH\",\"AS\",\"GU\",\"FM\",\"MP\",\"DC\",\"DE\",\"RI\",\"VI\",\"MD\",\"SC\",\"WY\",\"CT\",\"MI\",\"PR\",\"IN\",\"VT\",\"UT\",\"ID\",\"WI\",\"NH\",\"MA\",\"NJ\",\"OH\",\"HI\",\"ME\",\"IL\",\"PA\",\"ND\",\"VA\",\"GA\",\"AK\",\"IA\",\"NE\",\"NC\",\"MN\",\"WV\",\"MO\",\"AR\",\"KS\",\"TN\",\"KY\",\"SD\",\"MS\",\"MT\",\"AL\",\"NV\",\"CO\",\"LA\",\"AZ\",\"NM\",\"NY\",\"OR\",\"FL\",\"WA\",\"OK\",\"CA\",\"TX\"],\"tags\":[[[\"state\",\"state\",null]]]},\"id\":\"1622\",\"type\":\"FactorRange\"},{\"attributes\":{},\"id\":\"1638\",\"type\":\"BasicTicker\"},{\"attributes\":{\"below\":[{\"id\":\"1634\"}],\"center\":[{\"id\":\"1636\"},{\"id\":\"1640\"}],\"height\":300,\"left\":[{\"id\":\"1637\"}],\"margin\":[5,5,5,5],\"min_border_bottom\":10,\"min_border_left\":10,\"min_border_right\":10,\"min_border_top\":10,\"renderers\":[{\"id\":\"1660\"}],\"sizing_mode\":\"fixed\",\"title\":{\"id\":\"1626\"},\"toolbar\":{\"id\":\"1647\"},\"width\":700,\"x_range\":{\"id\":\"1622\"},\"x_scale\":{\"id\":\"1630\"},\"y_range\":{\"id\":\"1623\"},\"y_scale\":{\"id\":\"1632\"}},\"id\":\"1625\",\"subtype\":\"Figure\",\"type\":\"Plot\"},{\"attributes\":{\"active_multi\":null,\"tools\":[{\"id\":\"1624\"},{\"id\":\"1641\"},{\"id\":\"1642\"},{\"id\":\"1643\"},{\"id\":\"1644\"},{\"id\":\"1645\"}]},\"id\":\"1647\",\"type\":\"Toolbar\"},{\"attributes\":{\"end\":399.2,\"reset_end\":399.2,\"reset_start\":0.0,\"tags\":[[[\"disaster_count\",\"disaster_count\",null]]]},\"id\":\"1623\",\"type\":\"Range1d\"},{\"attributes\":{},\"id\":\"1641\",\"type\":\"SaveTool\"},{\"attributes\":{\"bottom_units\":\"screen\",\"fill_alpha\":0.5,\"fill_color\":\"lightgrey\",\"left_units\":\"screen\",\"level\":\"overlay\",\"line_alpha\":1.0,\"line_color\":\"black\",\"line_dash\":[4,4],\"line_width\":2,\"right_units\":\"screen\",\"syncable\":false,\"top_units\":\"screen\"},\"id\":\"1646\",\"type\":\"BoxAnnotation\"},{\"attributes\":{\"data\":{\"disaster_count\":[1,7,16,19,21,23,23,24,26,29,37,38,38,38,43,45,51,51,51,52,54,55,55,57,59,60,62,63,63,66,70,72,72,72,73,73,74,75,75,78,79,80,82,84,89,96,98,99,99,101,103,103,106,139,166,187,214,354,363],\"state\":[\"PW\",\"MH\",\"AS\",\"GU\",\"FM\",\"MP\",\"DC\",\"DE\",\"RI\",\"VI\",\"MD\",\"SC\",\"WY\",\"CT\",\"MI\",\"PR\",\"IN\",\"VT\",\"UT\",\"ID\",\"WI\",\"NH\",\"MA\",\"NJ\",\"OH\",\"HI\",\"ME\",\"IL\",\"PA\",\"ND\",\"VA\",\"GA\",\"AK\",\"IA\",\"NE\",\"NC\",\"MN\",\"WV\",\"MO\",\"AR\",\"KS\",\"TN\",\"KY\",\"SD\",\"MS\",\"MT\",\"AL\",\"NV\",\"CO\",\"LA\",\"AZ\",\"NM\",\"NY\",\"OR\",\"FL\",\"WA\",\"OK\",\"CA\",\"TX\"]},\"selected\":{\"id\":\"1655\"},\"selection_policy\":{\"id\":\"1679\"}},\"id\":\"1654\",\"type\":\"ColumnDataSource\"},{\"attributes\":{\"data_source\":{\"id\":\"1654\"},\"glyph\":{\"id\":\"1657\"},\"hover_glyph\":null,\"muted_glyph\":{\"id\":\"1659\"},\"nonselection_glyph\":{\"id\":\"1658\"},\"selection_glyph\":{\"id\":\"1662\"},\"view\":{\"id\":\"1661\"}},\"id\":\"1660\",\"type\":\"GlyphRenderer\"},{\"attributes\":{},\"id\":\"1679\",\"type\":\"UnionRenderers\"},{\"attributes\":{},\"id\":\"1669\",\"type\":\"AllLabels\"},{\"attributes\":{\"source\":{\"id\":\"1654\"}},\"id\":\"1661\",\"type\":\"CDSView\"},{\"attributes\":{\"overlay\":{\"id\":\"1646\"}},\"id\":\"1644\",\"type\":\"BoxZoomTool\"},{\"attributes\":{\"fill_color\":{\"value\":\"#30a2da\"},\"top\":{\"field\":\"disaster_count\"},\"width\":{\"value\":0.8},\"x\":{\"field\":\"state\"}},\"id\":\"1657\",\"type\":\"VBar\"},{\"attributes\":{\"format\":\"%.0f\"},\"id\":\"1663\",\"type\":\"PrintfTickFormatter\"}],\"root_ids\":[\"1620\"]},\"title\":\"Bokeh Application\",\"version\":\"2.3.2\"}};\n",
       "    var render_items = [{\"docid\":\"fe43b2ec-e3ed-492e-b89b-665891545088\",\"root_ids\":[\"1620\"],\"roots\":{\"1620\":\"0ebcf30a-10da-46fb-bc9b-175d42aa9734\"}}];\n",
=======
<<<<<<< HEAD
       "  <div class=\"bk-root\" id=\"9b49c375-4234-4483-a89e-781af5e9039b\" data-root-id=\"1620\"></div>\n",
       "</div>\n",
       "<script type=\"application/javascript\">(function(root) {\n",
       "  function embed_document(root) {\n",
       "    var docs_json = {\"966af3d2-a72a-4a93-8f48-8e9c5c4ba504\":{\"defs\":[{\"extends\":null,\"module\":null,\"name\":\"ReactiveHTML1\",\"overrides\":[],\"properties\":[]},{\"extends\":null,\"module\":null,\"name\":\"FlexBox1\",\"overrides\":[],\"properties\":[{\"default\":\"flex-start\",\"kind\":null,\"name\":\"align_content\"},{\"default\":\"flex-start\",\"kind\":null,\"name\":\"align_items\"},{\"default\":\"row\",\"kind\":null,\"name\":\"flex_direction\"},{\"default\":\"wrap\",\"kind\":null,\"name\":\"flex_wrap\"},{\"default\":\"flex-start\",\"kind\":null,\"name\":\"justify_content\"}]},{\"extends\":null,\"module\":null,\"name\":\"TemplateActions1\",\"overrides\":[],\"properties\":[{\"default\":0,\"kind\":null,\"name\":\"open_modal\"},{\"default\":0,\"kind\":null,\"name\":\"close_modal\"}]},{\"extends\":null,\"module\":null,\"name\":\"MaterialTemplateActions1\",\"overrides\":[],\"properties\":[{\"default\":0,\"kind\":null,\"name\":\"open_modal\"},{\"default\":0,\"kind\":null,\"name\":\"close_modal\"}]}],\"roots\":{\"references\":[{\"attributes\":{},\"id\":\"1645\",\"type\":\"ResetTool\"},{\"attributes\":{\"factors\":[\"PW\",\"MH\",\"AS\",\"GU\",\"FM\",\"MP\",\"DC\",\"DE\",\"RI\",\"VI\",\"MD\",\"SC\",\"WY\",\"CT\",\"MI\",\"PR\",\"IN\",\"VT\",\"UT\",\"ID\",\"WI\",\"NH\",\"MA\",\"NJ\",\"OH\",\"HI\",\"ME\",\"IL\",\"PA\",\"ND\",\"VA\",\"GA\",\"AK\",\"IA\",\"NE\",\"NC\",\"MN\",\"WV\",\"MO\",\"AR\",\"KS\",\"TN\",\"KY\",\"SD\",\"MS\",\"MT\",\"AL\",\"NV\",\"CO\",\"LA\",\"AZ\",\"NM\",\"NY\",\"OR\",\"FL\",\"WA\",\"OK\",\"CA\",\"TX\"],\"tags\":[[[\"state\",\"state\",null]]]},\"id\":\"1622\",\"type\":\"FactorRange\"},{\"attributes\":{\"children\":[{\"id\":\"1621\"},{\"id\":\"1625\"},{\"id\":\"1690\"}],\"margin\":[0,0,0,0],\"name\":\"Row02201\",\"tags\":[\"embedded\"]},\"id\":\"1620\",\"type\":\"Row\"},{\"attributes\":{\"end\":399.2,\"reset_end\":399.2,\"reset_start\":0.0,\"tags\":[[[\"disaster_count\",\"disaster_count\",null]]]},\"id\":\"1623\",\"type\":\"Range1d\"},{\"attributes\":{},\"id\":\"1632\",\"type\":\"LinearScale\"},{\"attributes\":{},\"id\":\"1655\",\"type\":\"Selection\"},{\"attributes\":{\"below\":[{\"id\":\"1634\"}],\"center\":[{\"id\":\"1636\"},{\"id\":\"1640\"}],\"height\":300,\"left\":[{\"id\":\"1637\"}],\"margin\":[5,5,5,5],\"min_border_bottom\":10,\"min_border_left\":10,\"min_border_right\":10,\"min_border_top\":10,\"renderers\":[{\"id\":\"1660\"}],\"sizing_mode\":\"fixed\",\"title\":{\"id\":\"1626\"},\"toolbar\":{\"id\":\"1647\"},\"width\":700,\"x_range\":{\"id\":\"1622\"},\"x_scale\":{\"id\":\"1630\"},\"y_range\":{\"id\":\"1623\"},\"y_scale\":{\"id\":\"1632\"}},\"id\":\"1625\",\"subtype\":\"Figure\",\"type\":\"Plot\"},{\"attributes\":{\"overlay\":{\"id\":\"1646\"}},\"id\":\"1644\",\"type\":\"BoxZoomTool\"},{\"attributes\":{\"source\":{\"id\":\"1654\"}},\"id\":\"1661\",\"type\":\"CDSView\"},{\"attributes\":{\"fill_alpha\":{\"value\":0.1},\"fill_color\":{\"value\":\"#30a2da\"},\"line_alpha\":{\"value\":0.1},\"top\":{\"field\":\"disaster_count\"},\"width\":{\"value\":0.8},\"x\":{\"field\":\"state\"}},\"id\":\"1658\",\"type\":\"VBar\"},{\"attributes\":{\"active_multi\":null,\"tools\":[{\"id\":\"1624\"},{\"id\":\"1641\"},{\"id\":\"1642\"},{\"id\":\"1643\"},{\"id\":\"1644\"},{\"id\":\"1645\"}]},\"id\":\"1647\",\"type\":\"Toolbar\"},{\"attributes\":{\"axis_label\":\"state\",\"formatter\":{\"id\":\"1666\"},\"major_label_orientation\":1.5707963267948966,\"major_label_policy\":{\"id\":\"1665\"},\"ticker\":{\"id\":\"1635\"}},\"id\":\"1634\",\"type\":\"CategoricalAxis\"},{\"attributes\":{},\"id\":\"1642\",\"type\":\"PanTool\"},{\"attributes\":{},\"id\":\"1641\",\"type\":\"SaveTool\"},{\"attributes\":{},\"id\":\"1638\",\"type\":\"BasicTicker\"},{\"attributes\":{\"bottom\":{\"value\":0},\"fill_alpha\":{\"value\":1.0},\"fill_color\":{\"value\":\"#30a2da\"},\"hatch_alpha\":{\"value\":1.0},\"hatch_color\":{\"value\":\"black\"},\"hatch_scale\":{\"value\":12.0},\"hatch_weight\":{\"value\":1.0},\"line_alpha\":{\"value\":1.0},\"line_cap\":{\"value\":\"butt\"},\"line_color\":{\"value\":\"black\"},\"line_dash\":{\"value\":[]},\"line_dash_offset\":{\"value\":0},\"line_join\":{\"value\":\"bevel\"},\"line_width\":{\"value\":1},\"top\":{\"field\":\"disaster_count\"},\"width\":{\"value\":0.8},\"x\":{\"field\":\"state\"}},\"id\":\"1662\",\"type\":\"VBar\"},{\"attributes\":{\"data_source\":{\"id\":\"1654\"},\"glyph\":{\"id\":\"1657\"},\"hover_glyph\":null,\"muted_glyph\":{\"id\":\"1659\"},\"nonselection_glyph\":{\"id\":\"1658\"},\"selection_glyph\":{\"id\":\"1662\"},\"view\":{\"id\":\"1661\"}},\"id\":\"1660\",\"type\":\"GlyphRenderer\"},{\"attributes\":{},\"id\":\"1680\",\"type\":\"UnionRenderers\"},{\"attributes\":{\"margin\":[5,5,5,5],\"name\":\"HSpacer02205\",\"sizing_mode\":\"stretch_width\"},\"id\":\"1621\",\"type\":\"Spacer\"},{\"attributes\":{\"axis_label\":\"disaster_count\",\"formatter\":{\"id\":\"1663\"},\"major_label_policy\":{\"id\":\"1667\"},\"ticker\":{\"id\":\"1638\"}},\"id\":\"1637\",\"type\":\"LinearAxis\"},{\"attributes\":{},\"id\":\"1665\",\"type\":\"AllLabels\"},{\"attributes\":{\"margin\":[5,5,5,5],\"name\":\"HSpacer02206\",\"sizing_mode\":\"stretch_width\"},\"id\":\"1690\",\"type\":\"Spacer\"},{\"attributes\":{\"axis\":{\"id\":\"1637\"},\"dimension\":1,\"grid_line_color\":null,\"ticker\":null},\"id\":\"1640\",\"type\":\"Grid\"},{\"attributes\":{\"axis\":{\"id\":\"1634\"},\"grid_line_color\":null,\"ticker\":null},\"id\":\"1636\",\"type\":\"Grid\"},{\"attributes\":{},\"id\":\"1666\",\"type\":\"CategoricalTickFormatter\"},{\"attributes\":{},\"id\":\"1635\",\"type\":\"CategoricalTicker\"},{\"attributes\":{\"fill_color\":{\"value\":\"#30a2da\"},\"top\":{\"field\":\"disaster_count\"},\"width\":{\"value\":0.8},\"x\":{\"field\":\"state\"}},\"id\":\"1657\",\"type\":\"VBar\"},{\"attributes\":{\"format\":\"%.0f\"},\"id\":\"1663\",\"type\":\"PrintfTickFormatter\"},{\"attributes\":{\"fill_alpha\":{\"value\":0.2},\"fill_color\":{\"value\":\"#30a2da\"},\"line_alpha\":{\"value\":0.2},\"top\":{\"field\":\"disaster_count\"},\"width\":{\"value\":0.8},\"x\":{\"field\":\"state\"}},\"id\":\"1659\",\"type\":\"VBar\"},{\"attributes\":{},\"id\":\"1630\",\"type\":\"CategoricalScale\"},{\"attributes\":{\"data\":{\"disaster_count\":[1,7,16,19,21,23,23,24,26,29,37,38,38,38,43,45,51,51,51,52,54,55,55,57,59,60,62,63,63,66,70,72,72,72,73,73,74,75,75,78,79,80,82,84,89,96,98,99,99,101,103,103,106,139,166,187,214,354,363],\"state\":[\"PW\",\"MH\",\"AS\",\"GU\",\"FM\",\"MP\",\"DC\",\"DE\",\"RI\",\"VI\",\"MD\",\"SC\",\"WY\",\"CT\",\"MI\",\"PR\",\"IN\",\"VT\",\"UT\",\"ID\",\"WI\",\"NH\",\"MA\",\"NJ\",\"OH\",\"HI\",\"ME\",\"IL\",\"PA\",\"ND\",\"VA\",\"GA\",\"AK\",\"IA\",\"NE\",\"NC\",\"MN\",\"WV\",\"MO\",\"AR\",\"KS\",\"TN\",\"KY\",\"SD\",\"MS\",\"MT\",\"AL\",\"NV\",\"CO\",\"LA\",\"AZ\",\"NM\",\"NY\",\"OR\",\"FL\",\"WA\",\"OK\",\"CA\",\"TX\"]},\"selected\":{\"id\":\"1655\"},\"selection_policy\":{\"id\":\"1680\"}},\"id\":\"1654\",\"type\":\"ColumnDataSource\"},{\"attributes\":{\"text\":\"Number of Total Disasters Per State from 1953-05-02 through 2021-09-23\",\"text_color\":\"black\",\"text_font_size\":\"12pt\"},\"id\":\"1626\",\"type\":\"Title\"},{\"attributes\":{\"callback\":null,\"renderers\":[{\"id\":\"1660\"}],\"tags\":[\"hv_created\"],\"tooltips\":[[\"state\",\"@{state}\"],[\"disaster_count\",\"@{disaster_count}\"]]},\"id\":\"1624\",\"type\":\"HoverTool\"},{\"attributes\":{},\"id\":\"1667\",\"type\":\"AllLabels\"},{\"attributes\":{},\"id\":\"1643\",\"type\":\"WheelZoomTool\"},{\"attributes\":{\"bottom_units\":\"screen\",\"fill_alpha\":0.5,\"fill_color\":\"lightgrey\",\"left_units\":\"screen\",\"level\":\"overlay\",\"line_alpha\":1.0,\"line_color\":\"black\",\"line_dash\":[4,4],\"line_width\":2,\"right_units\":\"screen\",\"syncable\":false,\"top_units\":\"screen\"},\"id\":\"1646\",\"type\":\"BoxAnnotation\"}],\"root_ids\":[\"1620\"]},\"title\":\"Bokeh Application\",\"version\":\"2.3.3\"}};\n",
       "    var render_items = [{\"docid\":\"966af3d2-a72a-4a93-8f48-8e9c5c4ba504\",\"root_ids\":[\"1620\"],\"roots\":{\"1620\":\"9b49c375-4234-4483-a89e-781af5e9039b\"}}];\n",
=======
       "  <div class=\"bk-root\" id=\"ad1564d6-894c-4874-87b3-66109ba3ecec\" data-root-id=\"27439\"></div>\n",
       "</div>\n",
       "<script type=\"application/javascript\">(function(root) {\n",
       "  function embed_document(root) {\n",
       "    var docs_json = {\"c56ccd37-3dbb-40fd-b2cb-8eea50f86478\":{\"defs\":[{\"extends\":null,\"module\":null,\"name\":\"ReactiveHTML1\",\"overrides\":[],\"properties\":[]},{\"extends\":null,\"module\":null,\"name\":\"FlexBox1\",\"overrides\":[],\"properties\":[{\"default\":\"flex-start\",\"kind\":null,\"name\":\"align_content\"},{\"default\":\"flex-start\",\"kind\":null,\"name\":\"align_items\"},{\"default\":\"row\",\"kind\":null,\"name\":\"flex_direction\"},{\"default\":\"wrap\",\"kind\":null,\"name\":\"flex_wrap\"},{\"default\":\"flex-start\",\"kind\":null,\"name\":\"justify_content\"}]},{\"extends\":null,\"module\":null,\"name\":\"TemplateActions1\",\"overrides\":[],\"properties\":[{\"default\":0,\"kind\":null,\"name\":\"open_modal\"},{\"default\":0,\"kind\":null,\"name\":\"close_modal\"}]},{\"extends\":null,\"module\":null,\"name\":\"MaterialTemplateActions1\",\"overrides\":[],\"properties\":[{\"default\":0,\"kind\":null,\"name\":\"open_modal\"},{\"default\":0,\"kind\":null,\"name\":\"close_modal\"}]}],\"roots\":{\"references\":[{\"attributes\":{\"axis\":{\"id\":\"27453\"},\"grid_line_color\":null,\"ticker\":null},\"id\":\"27455\",\"type\":\"Grid\"},{\"attributes\":{\"text\":\"Number of Total Disasters Per State from 1953-05-02 through 2021-09-23\",\"text_color\":\"black\",\"text_font_size\":\"12pt\"},\"id\":\"27445\",\"type\":\"Title\"},{\"attributes\":{\"bottom_units\":\"screen\",\"fill_alpha\":0.5,\"fill_color\":\"lightgrey\",\"left_units\":\"screen\",\"level\":\"overlay\",\"line_alpha\":1.0,\"line_color\":\"black\",\"line_dash\":[4,4],\"line_width\":2,\"right_units\":\"screen\",\"syncable\":false,\"top_units\":\"screen\"},\"id\":\"27465\",\"type\":\"BoxAnnotation\"},{\"attributes\":{\"axis\":{\"id\":\"27456\"},\"dimension\":1,\"grid_line_color\":null,\"ticker\":null},\"id\":\"27459\",\"type\":\"Grid\"},{\"attributes\":{\"axis_label\":\"disaster_count\",\"formatter\":{\"id\":\"27482\"},\"major_label_policy\":{\"id\":\"27488\"},\"ticker\":{\"id\":\"27457\"}},\"id\":\"27456\",\"type\":\"LinearAxis\"},{\"attributes\":{\"data\":{\"disaster_count\":[1,7,16,19,21,23,23,24,26,29,37,38,38,38,43,45,51,51,51,52,54,55,55,57,59,60,62,63,63,66,70,72,72,72,73,73,74,75,75,78,79,80,82,84,89,96,98,99,99,101,103,103,106,139,166,187,214,354,363],\"state\":[\"PW\",\"MH\",\"AS\",\"GU\",\"FM\",\"MP\",\"DC\",\"DE\",\"RI\",\"VI\",\"MD\",\"SC\",\"WY\",\"CT\",\"MI\",\"PR\",\"IN\",\"VT\",\"UT\",\"ID\",\"WI\",\"NH\",\"MA\",\"NJ\",\"OH\",\"HI\",\"ME\",\"IL\",\"PA\",\"ND\",\"VA\",\"GA\",\"AK\",\"IA\",\"NE\",\"NC\",\"MN\",\"WV\",\"MO\",\"AR\",\"KS\",\"TN\",\"KY\",\"SD\",\"MS\",\"MT\",\"AL\",\"NV\",\"CO\",\"LA\",\"AZ\",\"NM\",\"NY\",\"OR\",\"FL\",\"WA\",\"OK\",\"CA\",\"TX\"]},\"selected\":{\"id\":\"27474\"},\"selection_policy\":{\"id\":\"27499\"}},\"id\":\"27473\",\"type\":\"ColumnDataSource\"},{\"attributes\":{},\"id\":\"27484\",\"type\":\"CategoricalTickFormatter\"},{\"attributes\":{},\"id\":\"27488\",\"type\":\"AllLabels\"},{\"attributes\":{\"margin\":[5,5,5,5],\"name\":\"HSpacer29674\",\"sizing_mode\":\"stretch_width\"},\"id\":\"27440\",\"type\":\"Spacer\"},{\"attributes\":{\"margin\":[5,5,5,5],\"name\":\"HSpacer29675\",\"sizing_mode\":\"stretch_width\"},\"id\":\"27509\",\"type\":\"Spacer\"},{\"attributes\":{\"data_source\":{\"id\":\"27473\"},\"glyph\":{\"id\":\"27476\"},\"hover_glyph\":null,\"muted_glyph\":{\"id\":\"27478\"},\"nonselection_glyph\":{\"id\":\"27477\"},\"selection_glyph\":{\"id\":\"27481\"},\"view\":{\"id\":\"27480\"}},\"id\":\"27479\",\"type\":\"GlyphRenderer\"},{\"attributes\":{\"children\":[{\"id\":\"27440\"},{\"id\":\"27444\"},{\"id\":\"27509\"}],\"margin\":[0,0,0,0],\"name\":\"Row29670\",\"tags\":[\"embedded\"]},\"id\":\"27439\",\"type\":\"Row\"},{\"attributes\":{},\"id\":\"27464\",\"type\":\"ResetTool\"},{\"attributes\":{},\"id\":\"27449\",\"type\":\"CategoricalScale\"},{\"attributes\":{\"format\":\"%.0f\"},\"id\":\"27482\",\"type\":\"PrintfTickFormatter\"},{\"attributes\":{},\"id\":\"27483\",\"type\":\"AllLabels\"},{\"attributes\":{\"source\":{\"id\":\"27473\"}},\"id\":\"27480\",\"type\":\"CDSView\"},{\"attributes\":{},\"id\":\"27457\",\"type\":\"BasicTicker\"},{\"attributes\":{},\"id\":\"27474\",\"type\":\"Selection\"},{\"attributes\":{\"fill_color\":{\"value\":\"#30a2da\"},\"top\":{\"field\":\"disaster_count\"},\"width\":{\"value\":0.8},\"x\":{\"field\":\"state\"}},\"id\":\"27476\",\"type\":\"VBar\"},{\"attributes\":{\"bottom\":{\"value\":0},\"fill_alpha\":{\"value\":1.0},\"fill_color\":{\"value\":\"#30a2da\"},\"hatch_alpha\":{\"value\":1.0},\"hatch_color\":{\"value\":\"black\"},\"hatch_scale\":{\"value\":12.0},\"hatch_weight\":{\"value\":1.0},\"line_alpha\":{\"value\":1.0},\"line_cap\":{\"value\":\"butt\"},\"line_color\":{\"value\":\"black\"},\"line_dash\":{\"value\":[]},\"line_dash_offset\":{\"value\":0},\"line_join\":{\"value\":\"bevel\"},\"line_width\":{\"value\":1},\"top\":{\"field\":\"disaster_count\"},\"width\":{\"value\":0.8},\"x\":{\"field\":\"state\"}},\"id\":\"27481\",\"type\":\"VBar\"},{\"attributes\":{},\"id\":\"27451\",\"type\":\"LinearScale\"},{\"attributes\":{\"end\":399.2,\"reset_end\":399.2,\"reset_start\":0.0,\"tags\":[[[\"disaster_count\",\"disaster_count\",null]]]},\"id\":\"27442\",\"type\":\"Range1d\"},{\"attributes\":{\"fill_alpha\":{\"value\":0.2},\"fill_color\":{\"value\":\"#30a2da\"},\"line_alpha\":{\"value\":0.2},\"top\":{\"field\":\"disaster_count\"},\"width\":{\"value\":0.8},\"x\":{\"field\":\"state\"}},\"id\":\"27478\",\"type\":\"VBar\"},{\"attributes\":{\"callback\":null,\"renderers\":[{\"id\":\"27479\"}],\"tags\":[\"hv_created\"],\"tooltips\":[[\"state\",\"@{state}\"],[\"disaster_count\",\"@{disaster_count}\"]]},\"id\":\"27443\",\"type\":\"HoverTool\"},{\"attributes\":{},\"id\":\"27460\",\"type\":\"SaveTool\"},{\"attributes\":{},\"id\":\"27461\",\"type\":\"PanTool\"},{\"attributes\":{\"active_multi\":null,\"tools\":[{\"id\":\"27443\"},{\"id\":\"27460\"},{\"id\":\"27461\"},{\"id\":\"27462\"},{\"id\":\"27463\"},{\"id\":\"27464\"}]},\"id\":\"27466\",\"type\":\"Toolbar\"},{\"attributes\":{\"axis_label\":\"state\",\"formatter\":{\"id\":\"27484\"},\"major_label_orientation\":1.5707963267948966,\"major_label_policy\":{\"id\":\"27483\"},\"ticker\":{\"id\":\"27454\"}},\"id\":\"27453\",\"type\":\"CategoricalAxis\"},{\"attributes\":{},\"id\":\"27462\",\"type\":\"WheelZoomTool\"},{\"attributes\":{},\"id\":\"27499\",\"type\":\"UnionRenderers\"},{\"attributes\":{\"below\":[{\"id\":\"27453\"}],\"center\":[{\"id\":\"27455\"},{\"id\":\"27459\"}],\"height\":300,\"left\":[{\"id\":\"27456\"}],\"margin\":[5,5,5,5],\"min_border_bottom\":10,\"min_border_left\":10,\"min_border_right\":10,\"min_border_top\":10,\"renderers\":[{\"id\":\"27479\"}],\"sizing_mode\":\"fixed\",\"title\":{\"id\":\"27445\"},\"toolbar\":{\"id\":\"27466\"},\"width\":700,\"x_range\":{\"id\":\"27441\"},\"x_scale\":{\"id\":\"27449\"},\"y_range\":{\"id\":\"27442\"},\"y_scale\":{\"id\":\"27451\"}},\"id\":\"27444\",\"subtype\":\"Figure\",\"type\":\"Plot\"},{\"attributes\":{\"overlay\":{\"id\":\"27465\"}},\"id\":\"27463\",\"type\":\"BoxZoomTool\"},{\"attributes\":{},\"id\":\"27454\",\"type\":\"CategoricalTicker\"},{\"attributes\":{\"fill_alpha\":{\"value\":0.1},\"fill_color\":{\"value\":\"#30a2da\"},\"line_alpha\":{\"value\":0.1},\"top\":{\"field\":\"disaster_count\"},\"width\":{\"value\":0.8},\"x\":{\"field\":\"state\"}},\"id\":\"27477\",\"type\":\"VBar\"},{\"attributes\":{\"factors\":[\"PW\",\"MH\",\"AS\",\"GU\",\"FM\",\"MP\",\"DC\",\"DE\",\"RI\",\"VI\",\"MD\",\"SC\",\"WY\",\"CT\",\"MI\",\"PR\",\"IN\",\"VT\",\"UT\",\"ID\",\"WI\",\"NH\",\"MA\",\"NJ\",\"OH\",\"HI\",\"ME\",\"IL\",\"PA\",\"ND\",\"VA\",\"GA\",\"AK\",\"IA\",\"NE\",\"NC\",\"MN\",\"WV\",\"MO\",\"AR\",\"KS\",\"TN\",\"KY\",\"SD\",\"MS\",\"MT\",\"AL\",\"NV\",\"CO\",\"LA\",\"AZ\",\"NM\",\"NY\",\"OR\",\"FL\",\"WA\",\"OK\",\"CA\",\"TX\"],\"tags\":[[[\"state\",\"state\",null]]]},\"id\":\"27441\",\"type\":\"FactorRange\"}],\"root_ids\":[\"27439\"]},\"title\":\"Bokeh Application\",\"version\":\"2.3.2\"}};\n",
       "    var render_items = [{\"docid\":\"c56ccd37-3dbb-40fd-b2cb-8eea50f86478\",\"root_ids\":[\"27439\"],\"roots\":{\"27439\":\"ad1564d6-894c-4874-87b3-66109ba3ecec\"}}];\n",
>>>>>>> f4869e0c2d563b7915abdccb25e3e7ec4efcab45
>>>>>>> 63f8ba45e0bf701583efee4d35c673e603e26119:commodities_prices_vs_climate_change_old.ipynb
       "    root.Bokeh.embed.embed_items_notebook(docs_json, render_items);\n",
       "  }\n",
       "  if (root.Bokeh !== undefined && root.Bokeh.Panel !== undefined) {\n",
       "    embed_document(root);\n",
       "  } else {\n",
       "    var attempts = 0;\n",
       "    var timer = setInterval(function(root) {\n",
       "      if (root.Bokeh !== undefined && root.Bokeh.Panel !== undefined) {\n",
       "        clearInterval(timer);\n",
       "        embed_document(root);\n",
       "      } else if (document.readyState == \"complete\") {\n",
       "        attempts++;\n",
       "        if (attempts > 200) {\n",
       "          clearInterval(timer);\n",
       "          console.log(\"Bokeh: ERROR: Unable to run BokehJS code because BokehJS library is missing\");\n",
       "        }\n",
       "      }\n",
       "    }, 25, root)\n",
       "  }\n",
       "})(window);</script>"
      ],
      "text/plain": [
       ":Bars   [state]   (disaster_count)"
      ]
     },
<<<<<<< HEAD:commodities_prices_vs_climate_change.ipynb
     "execution_count": 31,
     "metadata": {
      "application/vnd.holoviews_exec.v0+json": {
       "id": "1620"
=======
<<<<<<< HEAD
     "execution_count": 27,
     "metadata": {
      "application/vnd.holoviews_exec.v0+json": {
       "id": "1620"
=======
     "execution_count": 791,
     "metadata": {
      "application/vnd.holoviews_exec.v0+json": {
       "id": "27439"
>>>>>>> f4869e0c2d563b7915abdccb25e3e7ec4efcab45
>>>>>>> 63f8ba45e0bf701583efee4d35c673e603e26119:commodities_prices_vs_climate_change_old.ipynb
      }
     },
     "output_type": "execute_result"
    }
   ],
   "source": [
    "# Create a bar chart of the `number_of_disasters_by_state` DataFrame\n",
    "number_of_disasters_by_state.hvplot.bar(\n",
    "    rot=90, \n",
    "    title = \"Number of Total Disasters Per State from 1953-05-02 through 2021-09-23\"\n",
    ").opts(yformatter='%.0f')"
   ]
  },
  {
   "cell_type": "markdown",
   "id": "dc6f136a-70c0-42f1-9776-acbb0c5b5bee",
   "metadata": {},
   "source": [
    "Analyzing data by state appears to show that states with higher agricultural output tend to have a higher frequency of extreme weather events. Due to this, we will explore a more in depth geographical visualtion. "
   ]
  },
  {
   "cell_type": "code",
<<<<<<< HEAD:commodities_prices_vs_climate_change.ipynb
   "execution_count": 32,
=======
<<<<<<< HEAD
   "execution_count": 28,
   "id": "1896e7c4-894d-48fb-a859-a00b84cf0f18",
=======
   "execution_count": 792,
>>>>>>> 63f8ba45e0bf701583efee4d35c673e603e26119:commodities_prices_vs_climate_change_old.ipynb
   "id": "ab550be9-a9fa-4c75-a0f0-5aa664ec21b4",
>>>>>>> f4869e0c2d563b7915abdccb25e3e7ec4efcab45
   "metadata": {},
   "outputs": [
    {
     "data": {
      "text/html": [
       "<div>\n",
       "<style scoped>\n",
       "    .dataframe tbody tr th:only-of-type {\n",
       "        vertical-align: middle;\n",
       "    }\n",
       "\n",
       "    .dataframe tbody tr th {\n",
       "        vertical-align: top;\n",
       "    }\n",
       "\n",
       "    .dataframe thead th {\n",
       "        text-align: right;\n",
       "    }\n",
       "</style>\n",
       "<table border=\"1\" class=\"dataframe\">\n",
       "  <thead>\n",
       "    <tr style=\"text-align: right;\">\n",
       "      <th></th>\n",
       "      <th>state</th>\n",
       "      <th>disaster_count</th>\n",
       "      <th>usa_state_latitude</th>\n",
       "      <th>usa_state_longitude</th>\n",
       "      <th>usa_state</th>\n",
       "    </tr>\n",
       "  </thead>\n",
       "  <tbody>\n",
       "    <tr>\n",
       "      <th>0</th>\n",
       "      <td>DC</td>\n",
       "      <td>23</td>\n",
       "      <td>38.905985</td>\n",
       "      <td>-77.033418</td>\n",
       "      <td>District of Columbia</td>\n",
       "    </tr>\n",
       "    <tr>\n",
       "      <th>1</th>\n",
       "      <td>DE</td>\n",
       "      <td>24</td>\n",
       "      <td>38.910832</td>\n",
       "      <td>-75.527670</td>\n",
       "      <td>Delaware</td>\n",
       "    </tr>\n",
       "    <tr>\n",
       "      <th>2</th>\n",
       "      <td>RI</td>\n",
       "      <td>26</td>\n",
       "      <td>41.580095</td>\n",
       "      <td>-71.477429</td>\n",
       "      <td>Rhode Island</td>\n",
       "    </tr>\n",
       "    <tr>\n",
       "      <th>3</th>\n",
       "      <td>MD</td>\n",
       "      <td>37</td>\n",
       "      <td>39.045755</td>\n",
       "      <td>-76.641271</td>\n",
       "      <td>Maryland</td>\n",
       "    </tr>\n",
       "    <tr>\n",
       "      <th>4</th>\n",
       "      <td>SC</td>\n",
       "      <td>38</td>\n",
       "      <td>33.836081</td>\n",
       "      <td>-81.163725</td>\n",
       "      <td>South Carolina</td>\n",
       "    </tr>\n",
       "  </tbody>\n",
       "</table>\n",
       "</div>"
      ],
      "text/plain": [
       "  state  disaster_count  usa_state_latitude  usa_state_longitude  \\\n",
       "0    DC              23           38.905985           -77.033418   \n",
       "1    DE              24           38.910832           -75.527670   \n",
       "2    RI              26           41.580095           -71.477429   \n",
       "3    MD              37           39.045755           -76.641271   \n",
       "4    SC              38           33.836081           -81.163725   \n",
       "\n",
       "              usa_state  \n",
       "0  District of Columbia  \n",
       "1              Delaware  \n",
       "2          Rhode Island  \n",
       "3              Maryland  \n",
       "4        South Carolina  "
      ]
     },
     "execution_count": 32,
     "metadata": {},
     "output_type": "execute_result"
    }
   ],
   "source": [
    "# Merge the DataFrame with disaster data and DataFrame with location data\n",
    "merged_df = number_of_disasters_by_state.merge(us_state_location_df, how='inner', on='state')\n",
    "\n",
    "# View the first 5 rows of the df\n",
    "merged_df.head()"
   ]
  },
  {
   "cell_type": "code",
   "execution_count": 33,
   "id": "c55577a8-4f25-4448-a15d-b665bb4a25a3",
   "metadata": {},
   "outputs": [
    {
     "data": {},
     "metadata": {},
     "output_type": "display_data"
    },
    {
     "data": {
      "application/vnd.holoviews_exec.v0+json": "",
      "text/html": [
       "<div id='1739'>\n",
       "\n",
       "\n",
       "\n",
       "\n",
       "\n",
       "  <div class=\"bk-root\" id=\"51c07f64-9611-4c9a-ba7d-6b1ef0f5e1e6\" data-root-id=\"1739\"></div>\n",
       "</div>\n",
       "<script type=\"application/javascript\">(function(root) {\n",
       "  function embed_document(root) {\n",
       "    var docs_json = {\"1aa06dd4-29f3-4c52-a967-2bd1b240b3b4\":{\"defs\":[{\"extends\":null,\"module\":null,\"name\":\"ReactiveHTML1\",\"overrides\":[],\"properties\":[]},{\"extends\":null,\"module\":null,\"name\":\"FlexBox1\",\"overrides\":[],\"properties\":[{\"default\":\"flex-start\",\"kind\":null,\"name\":\"align_content\"},{\"default\":\"flex-start\",\"kind\":null,\"name\":\"align_items\"},{\"default\":\"row\",\"kind\":null,\"name\":\"flex_direction\"},{\"default\":\"wrap\",\"kind\":null,\"name\":\"flex_wrap\"},{\"default\":\"flex-start\",\"kind\":null,\"name\":\"justify_content\"}]},{\"extends\":null,\"module\":null,\"name\":\"TemplateActions1\",\"overrides\":[],\"properties\":[{\"default\":0,\"kind\":null,\"name\":\"open_modal\"},{\"default\":0,\"kind\":null,\"name\":\"close_modal\"}]},{\"extends\":null,\"module\":null,\"name\":\"MaterialTemplateActions1\",\"overrides\":[],\"properties\":[{\"default\":0,\"kind\":null,\"name\":\"open_modal\"},{\"default\":0,\"kind\":null,\"name\":\"close_modal\"}]}],\"roots\":{\"references\":[{\"attributes\":{\"below\":[{\"id\":\"1761\"}],\"center\":[{\"id\":\"1764\"},{\"id\":\"1768\"}],\"frame_height\":500,\"frame_width\":700,\"height\":null,\"left\":[{\"id\":\"1765\"}],\"margin\":[5,5,5,5],\"match_aspect\":true,\"min_border_bottom\":10,\"min_border_left\":10,\"min_border_right\":10,\"min_border_top\":10,\"renderers\":[{\"id\":\"1813\"},{\"id\":\"1824\"}],\"right\":[{\"id\":\"1827\"}],\"sizing_mode\":\"fixed\",\"title\":{\"id\":\"1753\"},\"toolbar\":{\"id\":\"1775\"},\"width\":null,\"x_range\":{\"id\":\"1745\"},\"x_scale\":{\"id\":\"1757\"},\"y_range\":{\"id\":\"1746\"},\"y_scale\":{\"id\":\"1759\"}},\"id\":\"1752\",\"subtype\":\"Figure\",\"type\":\"Plot\"},{\"attributes\":{\"data_source\":{\"id\":\"1816\"},\"glyph\":{\"id\":\"1819\"},\"hover_glyph\":{\"id\":\"1822\"},\"muted_glyph\":{\"id\":\"1823\"},\"nonselection_glyph\":{\"id\":\"1820\"},\"selection_glyph\":{\"id\":\"1821\"},\"view\":{\"id\":\"1825\"}},\"id\":\"1824\",\"type\":\"GlyphRenderer\"},{\"attributes\":{\"active_multi\":null,\"tools\":[{\"id\":\"1749\"},{\"id\":\"1769\"},{\"id\":\"1770\"},{\"id\":\"1771\"},{\"id\":\"1772\"},{\"id\":\"1773\"}]},\"id\":\"1775\",\"type\":\"Toolbar\"},{\"attributes\":{},\"id\":\"1757\",\"type\":\"LinearScale\"},{\"attributes\":{\"margin\":[5,5,5,5],\"name\":\"HSpacer03698\",\"sizing_mode\":\"stretch_width\"},\"id\":\"1740\",\"type\":\"Spacer\"},{\"attributes\":{\"end\":9964360.330838358,\"min_interval\":5,\"reset_end\":9964360.330838358,\"reset_start\":1345145.102888186,\"start\":1345145.102888186,\"tags\":[[[\"usa_state_latitude\",\"usa_state_latitude\",null]]]},\"id\":\"1746\",\"type\":\"Range1d\"},{\"attributes\":{\"axis\":{\"id\":\"1761\"},\"grid_line_color\":null,\"ticker\":null},\"id\":\"1764\",\"type\":\"Grid\"},{\"attributes\":{},\"id\":\"1769\",\"type\":\"SaveTool\"},{\"attributes\":{},\"id\":\"1770\",\"type\":\"PanTool\"},{\"attributes\":{\"fill_color\":{\"field\":\"color\",\"transform\":{\"id\":\"1815\"}},\"line_color\":{\"field\":\"color\",\"transform\":{\"id\":\"1815\"}},\"size\":{\"field\":\"size\"},\"x\":{\"field\":\"usa_state_longitude\"},\"y\":{\"field\":\"usa_state_latitude\"}},\"id\":\"1821\",\"type\":\"Scatter\"},{\"attributes\":{},\"id\":\"1835\",\"type\":\"UnionRenderers\"},{\"attributes\":{\"bar_line_color\":\"black\",\"color_mapper\":{\"id\":\"1815\"},\"label_standoff\":8,\"location\":[0,0],\"major_label_policy\":{\"id\":\"1833\"},\"major_tick_line_color\":\"black\",\"ticker\":{\"id\":\"1826\"}},\"id\":\"1827\",\"type\":\"ColorBar\"},{\"attributes\":{},\"id\":\"1773\",\"type\":\"ResetTool\"},{\"attributes\":{\"zoom_on_axis\":false},\"id\":\"1771\",\"type\":\"WheelZoomTool\"},{\"attributes\":{\"code\":\"\\n        var projections = Bokeh.require(\\\"core/util/projections\\\");\\n        var x = special_vars.data_x\\n        var y = special_vars.data_y\\n        if (projections.wgs84_mercator.invert == null) {\\n          var coords = projections.wgs84_mercator.inverse([x, y])\\n        } else {\\n          var coords = projections.wgs84_mercator.invert(x, y)\\n        }\\n        return \\\"\\\" + (coords[0]).toFixed(4)\\n    \"},\"id\":\"1828\",\"type\":\"CustomJSHover\"},{\"attributes\":{\"end\":-6337262.047268256,\"min_interval\":5,\"reset_end\":-6337262.047268256,\"reset_start\":-18404163.366398495,\"start\":-18404163.366398495,\"tags\":[[[\"usa_state_longitude\",\"usa_state_longitude\",null]]]},\"id\":\"1745\",\"type\":\"Range1d\"},{\"attributes\":{\"match_aspect\":true,\"overlay\":{\"id\":\"1774\"}},\"id\":\"1772\",\"type\":\"BoxZoomTool\"},{\"attributes\":{},\"id\":\"1833\",\"type\":\"NoOverlap\"},{\"attributes\":{},\"id\":\"1817\",\"type\":\"Selection\"},{\"attributes\":{\"margin\":[5,5,5,5],\"name\":\"HSpacer03699\",\"sizing_mode\":\"stretch_width\"},\"id\":\"1893\",\"type\":\"Spacer\"},{\"attributes\":{\"text\":\"Number of Diasters By USA Location - 1953-05-02 through 2021-09-03\",\"text_color\":\"black\",\"text_font_size\":\"12pt\"},\"id\":\"1753\",\"type\":\"Title\"},{\"attributes\":{},\"id\":\"1826\",\"type\":\"BasicTicker\"},{\"attributes\":{\"dimension\":\"lat\"},\"id\":\"1787\",\"type\":\"MercatorTickFormatter\"},{\"attributes\":{\"attribution\":\"&copy; <a href=\\\"https://www.openstreetmap.org/copyright\\\">OpenStreetMap</a> contributors\",\"url\":\"https://c.tile.openstreetmap.org/{Z}/{X}/{Y}.png\"},\"id\":\"1810\",\"type\":\"WMTSTileSource\"},{\"attributes\":{\"callback\":null,\"formatters\":{\"$x\":{\"id\":\"1828\"},\"$y\":{\"id\":\"1829\"}},\"renderers\":[{\"id\":\"1824\"}],\"tags\":[\"hv_created\"],\"tooltips\":[[\"usa_state_longitude\",\"$x{custom}\"],[\"usa_state_latitude\",\"$y{custom}\"],[\"disaster_count\",\"@{disaster_count}\"]]},\"id\":\"1749\",\"type\":\"HoverTool\"},{\"attributes\":{},\"id\":\"1759\",\"type\":\"LinearScale\"},{\"attributes\":{\"data\":{\"color\":[23,24,26,37,38,38,38,43,45,51,51,51,52,54,55,55,57,59,60,62,63,63,66,70,72,72,72,73,73,74,75,75,78,79,80,82,84,89,96,98,99,99,101,103,103,106,139,166,187,214,354,363],\"disaster_count\":[23,24,26,37,38,38,38,43,45,51,51,51,52,54,55,55,57,59,60,62,63,63,66,70,72,72,72,73,73,74,75,75,78,79,80,82,84,89,96,98,99,99,101,103,103,106,139,166,187,214,354,363],\"size\":{\"__ndarray__\":\"FgR3de4uE0AuIQkUjpgTQPYvEl9lZRRAOdxjs79UGEBZBvckXKgYQFkG9yRcqBhAWQb3JFyoGEBgoR0q0ToaQPzuY2kz1RpAzkMtndKQHEDOQy2d0pAcQM5DLZ3SkBxA81lhRCvYHEDGsQ0e1WQdQNjhqu8vqh1A2OGq7y+qHUBcz1bMBzMeQNueW0V+uR5A2k5Psd77HkAST43r+34fQF91vH6/vx9AX3W8fr+/H0AMuDb2gT8gQNuvrAezuyBA2WzfzHb4IEDZbN/MdvggQNls38x2+CBAoxSuqIcWIUCjFK6ohxYhQE4BN/pjNCFA6y830QxSIUDrLzfRDFIhQATxbY/cqSFAcLgta8HGIUCo9Jebd+MhQCT42XBbHCJAhR4VuY5UIkBBh2LGMt4iQC4hCRSOmCNAU1SvmYrMI0BnE/7uVeYjQGcT/u5V5iNA8CkjTIkZJEBTceWDO0wkQFNx5YM7TCRAiIB21VyXJEBsxesWZJQnQHdwm5aoxClAo91/pH5ZK0CRr5gO6kEtQD7gVHuc0DJAtbS8f3QNM0A=\",\"dtype\":\"float64\",\"order\":\"little\",\"shape\":[52]},\"usa_state_latitude\":{\"__ndarray__\":\"sHp4at31UUFLI7fDivZRQTiir3HLclNBsYgW7WgJUkFklMlxzpFOQbxx94bFTlRBm38H/Cd2U0FwbNy/DQlVQd7o3es0fD9B2ntlfHDeUkEXmklbMi5VQb7nSoMCMFJBb0QWq6jjVEHvlpsJ1LhUQaw7JjNVYFRBqf0gjcfrU0H1M8xYLZhSQRtFD/hLy1JBB7wGIxRAQUHitVDT3phVQcoUalcq6lJBJha+gTI8U0GhwnA+LANXQSDsV5z6KVFBc6dEGp3eTEExbqeUsaJhQTQIepcwnlNBlcLLHRRmU0EeJ/1NkUdQQYQQGFvOf1ZBVaDZb+HKUUGZlDRMKnNRQSIBM1sC+k9Bw/rSJKwEUkGq9qKYLydQQSz3EnD0YVFB7S9Tcb3UVEHzwy5xUhFNQUc9XUuml1ZBtCHIIfIHTUFhlmsdb+dRQR3QO69AUFJB+VTXhmT1S0FVxpvglslOQUI7SfBXvU9BLl/S3RZwVEGNuVJLy7tUQbckQr4+d0hBFtE9eGEjV0GmjXRUo8ZPQUmfkgjt0FBBCXNPuyquTEE=\",\"dtype\":\"float64\",\"order\":\"little\",\"shape\":[52]},\"usa_state_longitude\":{\"__ndarray__\":\"dde0GytbYMHBiXy4UglgwdSu979XWl7B1fRdaNpFYME1WzYRrDthwQCzBXnJx2bB0TwfwGYJX8E6HEdy7yxiwc40oF4LR1zBOhxHcu8sYsHeRWQT+NFewX98FjKGlmfBe1V0MtRcaMFY4iOIFdpiwceFPaSqZF7Bc4V1IgRQXsHBqNsSrJhfwWZW5VZvmmHB1FP2PqCGcMF6hc6Pcn1dwcgIq9NG+2LBt4Ph5uxjYMHYHXCR/HFlwY0TZqxps2DBZlblVm+aYcFjDuOPwGZwweoy+5hYxGPBfMF6Xi82ZcG4laSHHMdgwV2yi0WsGmTBDFiu2iQVYcGn6Wscin9jwafpaxyKf2PB50i1AyLpZMHK6LloGWJiwTfWxe+D5GHBfMF6Xi82ZcHICKvTRvtiwXzTyhTIbmfBO+788ZdzYsEiIENjALhowRUIrLrOdWbB03fTJJCQY8F/fBYyhpZnwUWpT6UOTWbBITKYoEOEX8HA/pUIwJhpwT7YQofOTmHBCVZWWduiacHAyhI0gZ1kwazqN+z8WmnBfMF6Xi82ZcE=\",\"dtype\":\"float64\",\"order\":\"little\",\"shape\":[52]}},\"selected\":{\"id\":\"1817\"},\"selection_policy\":{\"id\":\"1835\"}},\"id\":\"1816\",\"type\":\"ColumnDataSource\"},{\"attributes\":{\"axis_label\":\"y\",\"formatter\":{\"id\":\"1787\"},\"major_label_policy\":{\"id\":\"1797\"},\"ticker\":{\"id\":\"1786\"}},\"id\":\"1765\",\"type\":\"LinearAxis\"},{\"attributes\":{\"level\":\"glyph\",\"tile_source\":{\"id\":\"1810\"}},\"id\":\"1813\",\"type\":\"TileRenderer\"},{\"attributes\":{\"axis_label\":\"x\",\"formatter\":{\"id\":\"1785\"},\"major_label_policy\":{\"id\":\"1790\"},\"ticker\":{\"id\":\"1784\"}},\"id\":\"1761\",\"type\":\"LinearAxis\"},{\"attributes\":{\"high\":363,\"low\":23,\"palette\":[\"#b3fef5\",\"#b0fef5\",\"#adfdf5\",\"#a9fcf5\",\"#a6fbf6\",\"#a3faf6\",\"#a0faf6\",\"#9df9f6\",\"#9af8f6\",\"#97f7f6\",\"#93f7f6\",\"#90f6f6\",\"#8df5f6\",\"#8af4f7\",\"#87f3f7\",\"#83f2f7\",\"#80f2f7\",\"#7df1f7\",\"#79f0f7\",\"#76eff7\",\"#73eef7\",\"#6fedf8\",\"#6cecf8\",\"#68ecf8\",\"#65ebf8\",\"#61eaf8\",\"#5ee9f8\",\"#5ae8f8\",\"#57e7f8\",\"#53e6f8\",\"#50e5f9\",\"#4ce4f9\",\"#49e3f9\",\"#45e2f9\",\"#42e1f9\",\"#3ee0f9\",\"#3bdff9\",\"#38def9\",\"#35ddf9\",\"#32dcf9\",\"#30dbfa\",\"#2ed9fa\",\"#2dd8fa\",\"#2cd7fa\",\"#2bd6fa\",\"#2bd5fa\",\"#2ad3fa\",\"#2ad2fa\",\"#29d1fa\",\"#29d0fb\",\"#29cffb\",\"#28cdfb\",\"#28ccfb\",\"#28cbfb\",\"#28cafb\",\"#28c8fb\",\"#28c7fb\",\"#29c6fb\",\"#29c5fb\",\"#29c4fb\",\"#29c2fb\",\"#2ac1fb\",\"#2ac0fb\",\"#2bbffb\",\"#2bbdfc\",\"#2cbcfc\",\"#2dbbfc\",\"#2db9fc\",\"#2eb8fc\",\"#2fb7fc\",\"#2fb6fc\",\"#30b4fc\",\"#31b3fc\",\"#32b2fc\",\"#32b0fc\",\"#33affc\",\"#33aefc\",\"#34adfc\",\"#34abfc\",\"#34aafc\",\"#35a9fc\",\"#35a8fc\",\"#35a6fc\",\"#35a5fc\",\"#35a4fc\",\"#35a3fc\",\"#35a1fc\",\"#35a0fc\",\"#359ffc\",\"#359dfc\",\"#359cfc\",\"#359bfc\",\"#349afd\",\"#3498fd\",\"#3497fd\",\"#3396fd\",\"#3395fd\",\"#3293fd\",\"#3292fd\",\"#3191fd\",\"#3090fd\",\"#308ffd\",\"#2f8dfd\",\"#2f8cfd\",\"#2e8bfd\",\"#2e8afd\",\"#2d88fd\",\"#2d87fd\",\"#2c86fd\",\"#2c84fd\",\"#2c83fd\",\"#2c82fd\",\"#2b81fd\",\"#2b7ffd\",\"#2b7efd\",\"#2b7dfd\",\"#2b7bfd\",\"#2b7afd\",\"#2b79fd\",\"#2b77fd\",\"#2b76fd\",\"#2b75fd\",\"#2b73fd\",\"#2c72fd\",\"#2c71fd\",\"#2c6ffd\",\"#2c6efd\",\"#2d6cfd\",\"#2d6bfd\",\"#2d6afc\",\"#2e68fc\",\"#2e67fc\",\"#2e65fc\",\"#2e64fc\",\"#2f62fc\",\"#2f61fc\",\"#2f5ffc\",\"#2f5efc\",\"#2f5dfc\",\"#2f5bfc\",\"#2f5afc\",\"#2f58fb\",\"#2f57fb\",\"#2f55fb\",\"#2f53fb\",\"#2f52fb\",\"#2f50fb\",\"#2f4ffb\",\"#2f4dfb\",\"#2e4cfb\",\"#2e4afb\",\"#2e48fb\",\"#2e47fa\",\"#2d45fa\",\"#2d43fa\",\"#2d42fa\",\"#2d40fa\",\"#2c3efa\",\"#2c3dfa\",\"#2b3bf9\",\"#2b39f9\",\"#2a37f9\",\"#2a36f8\",\"#2934f8\",\"#2832f7\",\"#2831f7\",\"#272ff6\",\"#262ef5\",\"#252cf5\",\"#252af4\",\"#2429f3\",\"#2327f2\",\"#2226f1\",\"#2124f0\",\"#2023ef\",\"#1f22ee\",\"#1e20ed\",\"#1d1feb\",\"#1c1eea\",\"#1b1ce9\",\"#1a1be7\",\"#181ae6\",\"#1719e5\",\"#1618e3\",\"#1417e1\",\"#1316e0\",\"#1215de\",\"#1014dc\",\"#0f13db\",\"#0e12d9\",\"#0d11d7\",\"#0c10d5\",\"#0b0fd3\",\"#0a0ed1\",\"#090dd0\",\"#080dce\",\"#080ccc\",\"#070bca\",\"#070ac8\",\"#0709c6\",\"#0708c4\",\"#0707c2\",\"#0707bf\",\"#0806bd\",\"#0806bb\",\"#0905b9\",\"#0904b7\",\"#0a04b5\",\"#0a04b2\",\"#0b03b0\",\"#0c03ae\",\"#0d02ab\",\"#0e02a9\",\"#0e02a7\",\"#0f02a4\",\"#0f01a2\",\"#1001a0\",\"#10019d\",\"#10019b\",\"#100199\",\"#100197\",\"#100194\",\"#0f0192\",\"#0f0190\",\"#0f018e\",\"#0e018b\",\"#0e0189\",\"#0d0187\",\"#0d0185\",\"#0c0183\",\"#0b0181\",\"#0b017e\",\"#0a017c\",\"#09017a\",\"#090178\",\"#080276\",\"#070274\",\"#060272\",\"#060270\",\"#05026e\",\"#04026c\",\"#030269\",\"#030267\",\"#020265\",\"#010263\",\"#010261\",\"#00025f\",\"#00025d\",\"#00025b\",\"#000259\",\"#000257\",\"#000255\",\"#000154\",\"#000152\",\"#000150\",\"#00004e\"]},\"id\":\"1815\",\"type\":\"LinearColorMapper\"},{\"attributes\":{\"source\":{\"id\":\"1816\"}},\"id\":\"1825\",\"type\":\"CDSView\"},{\"attributes\":{},\"id\":\"1797\",\"type\":\"AllLabels\"},{\"attributes\":{\"dimension\":\"lon\"},\"id\":\"1785\",\"type\":\"MercatorTickFormatter\"},{\"attributes\":{\"axis\":{\"id\":\"1765\"},\"dimension\":1,\"grid_line_color\":null,\"ticker\":null},\"id\":\"1768\",\"type\":\"Grid\"},{\"attributes\":{\"fill_color\":{\"field\":\"color\",\"transform\":{\"id\":\"1815\"}},\"line_color\":{\"field\":\"color\",\"transform\":{\"id\":\"1815\"}},\"size\":{\"field\":\"size\"},\"x\":{\"field\":\"usa_state_longitude\"},\"y\":{\"field\":\"usa_state_latitude\"}},\"id\":\"1819\",\"type\":\"Scatter\"},{\"attributes\":{\"dimension\":\"lon\"},\"id\":\"1784\",\"type\":\"MercatorTicker\"},{\"attributes\":{\"dimension\":\"lat\"},\"id\":\"1786\",\"type\":\"MercatorTicker\"},{\"attributes\":{\"fill_alpha\":{\"value\":1},\"fill_color\":{\"field\":\"color\",\"transform\":{\"id\":\"1815\"}},\"line_alpha\":{\"value\":1},\"line_color\":{\"field\":\"color\",\"transform\":{\"id\":\"1815\"}},\"size\":{\"field\":\"size\"},\"x\":{\"field\":\"usa_state_longitude\"},\"y\":{\"field\":\"usa_state_latitude\"}},\"id\":\"1820\",\"type\":\"Scatter\"},{\"attributes\":{\"fill_alpha\":{\"value\":0.2},\"fill_color\":{\"field\":\"color\",\"transform\":{\"id\":\"1815\"}},\"line_alpha\":{\"value\":0.2},\"line_color\":{\"field\":\"color\",\"transform\":{\"id\":\"1815\"}},\"size\":{\"field\":\"size\"},\"x\":{\"field\":\"usa_state_longitude\"},\"y\":{\"field\":\"usa_state_latitude\"}},\"id\":\"1823\",\"type\":\"Scatter\"},{\"attributes\":{\"code\":\"\\n        var projections = Bokeh.require(\\\"core/util/projections\\\");\\n        var x = special_vars.data_x\\n        var y = special_vars.data_y\\n        if (projections.wgs84_mercator.invert == null) {\\n          var coords = projections.wgs84_mercator.inverse([x, y])\\n        } else {\\n          var coords = projections.wgs84_mercator.invert(x, y)\\n        }\\n        return \\\"\\\" + (coords[1]).toFixed(4)\\n    \"},\"id\":\"1829\",\"type\":\"CustomJSHover\"},{\"attributes\":{\"fill_color\":{\"field\":\"color\",\"transform\":{\"id\":\"1815\"}},\"line_color\":{\"field\":\"color\",\"transform\":{\"id\":\"1815\"}},\"size\":{\"field\":\"size\"},\"x\":{\"field\":\"usa_state_longitude\"},\"y\":{\"field\":\"usa_state_latitude\"}},\"id\":\"1822\",\"type\":\"Scatter\"},{\"attributes\":{\"bottom_units\":\"screen\",\"fill_alpha\":0.5,\"fill_color\":\"lightgrey\",\"left_units\":\"screen\",\"level\":\"overlay\",\"line_alpha\":1.0,\"line_color\":\"black\",\"line_dash\":[4,4],\"line_width\":2,\"right_units\":\"screen\",\"syncable\":false,\"top_units\":\"screen\"},\"id\":\"1774\",\"type\":\"BoxAnnotation\"},{\"attributes\":{},\"id\":\"1790\",\"type\":\"AllLabels\"},{\"attributes\":{\"children\":[{\"id\":\"1740\"},{\"id\":\"1752\"},{\"id\":\"1893\"}],\"margin\":[0,0,0,0],\"name\":\"Row03694\",\"tags\":[\"embedded\"]},\"id\":\"1739\",\"type\":\"Row\"}],\"root_ids\":[\"1739\"]},\"title\":\"Bokeh Application\",\"version\":\"2.3.2\"}};\n",
       "    var render_items = [{\"docid\":\"1aa06dd4-29f3-4c52-a967-2bd1b240b3b4\",\"root_ids\":[\"1739\"],\"roots\":{\"1739\":\"51c07f64-9611-4c9a-ba7d-6b1ef0f5e1e6\"}}];\n",
       "    root.Bokeh.embed.embed_items_notebook(docs_json, render_items);\n",
       "  }\n",
       "  if (root.Bokeh !== undefined && root.Bokeh.Panel !== undefined) {\n",
       "    embed_document(root);\n",
       "  } else {\n",
       "    var attempts = 0;\n",
       "    var timer = setInterval(function(root) {\n",
       "      if (root.Bokeh !== undefined && root.Bokeh.Panel !== undefined) {\n",
       "        clearInterval(timer);\n",
       "        embed_document(root);\n",
       "      } else if (document.readyState == \"complete\") {\n",
       "        attempts++;\n",
       "        if (attempts > 200) {\n",
       "          clearInterval(timer);\n",
       "          console.log(\"Bokeh: ERROR: Unable to run BokehJS code because BokehJS library is missing\");\n",
       "        }\n",
       "      }\n",
       "    }, 25, root)\n",
       "  }\n",
       "})(window);</script>"
      ],
      "text/plain": [
       ":Overlay\n",
       "   .Tiles.I  :Tiles   [x,y]\n",
       "   .Points.I :Points   [usa_state_longitude,usa_state_latitude]   (disaster_count)"
      ]
     },
     "execution_count": 33,
     "metadata": {
      "application/vnd.holoviews_exec.v0+json": {
       "id": "1739"
      }
     },
     "output_type": "execute_result"
    }
   ],
   "source": [
    "# Using hvPlot, visualize the number of disasters by location\n",
    "disaster_location_plot = merged_df.hvplot.points(\n",
    "    'usa_state_longitude',\n",
    "    'usa_state_latitude',\n",
    "    geo = True, \n",
    "    size = 'disaster_count', \n",
    "    color = 'disaster_count',\n",
    "    alpha=1,\n",
    "    scale = 1,\n",
    "    tiles = 'OSM',\n",
    "    frame_width = 700, \n",
    "    frame_height = 500,\n",
    "    title = \"Number of Diasters By USA Location - 1953-05-02 through 2021-09-03\"\n",
    "    )\n",
    "\n",
    "disaster_location_plot"
   ]
  },
  {
   "cell_type": "code",
   "execution_count": 34,
   "id": "1896e7c4-894d-48fb-a859-a00b84cf0f18",
   "metadata": {},
   "outputs": [
    {
     "data": {
      "text/html": [
       "<div>\n",
       "<style scoped>\n",
       "    .dataframe tbody tr th:only-of-type {\n",
       "        vertical-align: middle;\n",
       "    }\n",
       "\n",
       "    .dataframe tbody tr th {\n",
       "        vertical-align: top;\n",
       "    }\n",
       "\n",
       "    .dataframe thead th {\n",
       "        text-align: right;\n",
       "    }\n",
       "</style>\n",
       "<table border=\"1\" class=\"dataframe\">\n",
       "  <thead>\n",
       "    <tr style=\"text-align: right;\">\n",
       "      <th></th>\n",
       "      <th>disaster_count</th>\n",
       "    </tr>\n",
       "    <tr>\n",
       "      <th>date</th>\n",
       "      <th></th>\n",
       "    </tr>\n",
       "  </thead>\n",
       "  <tbody>\n",
       "    <tr>\n",
       "      <th>1953</th>\n",
       "      <td>13</td>\n",
       "    </tr>\n",
       "    <tr>\n",
       "      <th>1954</th>\n",
       "      <td>17</td>\n",
       "    </tr>\n",
       "    <tr>\n",
       "      <th>1955</th>\n",
       "      <td>18</td>\n",
       "    </tr>\n",
       "    <tr>\n",
       "      <th>1956</th>\n",
       "      <td>16</td>\n",
       "    </tr>\n",
       "    <tr>\n",
       "      <th>1957</th>\n",
       "      <td>16</td>\n",
       "    </tr>\n",
       "  </tbody>\n",
       "</table>\n",
       "</div>"
      ],
      "text/plain": [
       "      disaster_count\n",
       "date                \n",
       "1953              13\n",
       "1954              17\n",
       "1955              18\n",
       "1956              16\n",
       "1957              16"
      ]
     },
     "metadata": {},
     "output_type": "display_data"
    },
    {
     "data": {
      "text/html": [
       "<div>\n",
       "<style scoped>\n",
       "    .dataframe tbody tr th:only-of-type {\n",
       "        vertical-align: middle;\n",
       "    }\n",
       "\n",
       "    .dataframe tbody tr th {\n",
       "        vertical-align: top;\n",
       "    }\n",
       "\n",
       "    .dataframe thead th {\n",
       "        text-align: right;\n",
       "    }\n",
       "</style>\n",
       "<table border=\"1\" class=\"dataframe\">\n",
       "  <thead>\n",
       "    <tr style=\"text-align: right;\">\n",
       "      <th></th>\n",
       "      <th>disaster_count</th>\n",
       "    </tr>\n",
       "    <tr>\n",
       "      <th>date</th>\n",
       "      <th></th>\n",
       "    </tr>\n",
       "  </thead>\n",
       "  <tbody>\n",
       "    <tr>\n",
       "      <th>2016</th>\n",
       "      <td>103</td>\n",
       "    </tr>\n",
       "    <tr>\n",
       "      <th>2017</th>\n",
       "      <td>137</td>\n",
       "    </tr>\n",
       "    <tr>\n",
       "      <th>2018</th>\n",
       "      <td>124</td>\n",
       "    </tr>\n",
       "    <tr>\n",
       "      <th>2019</th>\n",
       "      <td>101</td>\n",
       "    </tr>\n",
       "    <tr>\n",
       "      <th>2020</th>\n",
       "      <td>312</td>\n",
       "    </tr>\n",
       "  </tbody>\n",
       "</table>\n",
       "</div>"
      ],
      "text/plain": [
       "      disaster_count\n",
       "date                \n",
       "2016             103\n",
       "2017             137\n",
       "2018             124\n",
       "2019             101\n",
       "2020             312"
      ]
     },
     "metadata": {},
     "output_type": "display_data"
    }
   ],
   "source": [
    "# Using the DataFrame\n",
    "# group the information by \"year\" and count each event\n",
    "number_of_disasters_by_year = us_disasters_df.groupby(\"date\").count()\n",
    "number_of_disasters_by_year['disaster_count'] = number_of_disasters_by_year['incident_type']\n",
    "\n",
    "# Drop unnecessary columns\n",
    "number_of_disasters_by_year = number_of_disasters_by_year.drop(columns = ['disaster_number', 'incident_type', 'state'])\n",
    "\n",
    "# Drop 2021 row because this year has incomplete data\n",
    "number_of_disasters_by_year = number_of_disasters_by_year.drop(number_of_disasters_by_year.index[-1])\n",
    "\n",
    "# Review the first five rows resulting DataFrame\n",
    "display(number_of_disasters_by_year.head())\n",
    "display(number_of_disasters_by_year.tail())"
   ]
  },
  {
   "cell_type": "code",
<<<<<<< HEAD:commodities_prices_vs_climate_change.ipynb
   "execution_count": 35,
=======
<<<<<<< HEAD
   "execution_count": 29,
=======
   "execution_count": 795,
>>>>>>> f4869e0c2d563b7915abdccb25e3e7ec4efcab45
>>>>>>> 63f8ba45e0bf701583efee4d35c673e603e26119:commodities_prices_vs_climate_change_old.ipynb
   "id": "4123567f-ecf2-495c-8d50-2302ea22f38c",
   "metadata": {},
   "outputs": [
    {
     "data": {},
     "metadata": {},
     "output_type": "display_data"
    },
    {
     "data": {
      "application/vnd.holoviews_exec.v0+json": "",
      "text/html": [
<<<<<<< HEAD:commodities_prices_vs_climate_change.ipynb
       "<div id='1930'>\n",
=======
<<<<<<< HEAD
       "<div id='1737'>\n",
=======
       "<div id='27747'>\n",
>>>>>>> f4869e0c2d563b7915abdccb25e3e7ec4efcab45
>>>>>>> 63f8ba45e0bf701583efee4d35c673e603e26119:commodities_prices_vs_climate_change_old.ipynb
       "\n",
       "\n",
       "\n",
       "\n",
       "\n",
<<<<<<< HEAD:commodities_prices_vs_climate_change.ipynb
       "  <div class=\"bk-root\" id=\"1782cd0b-7d1b-43a4-b13d-3a5123f8c177\" data-root-id=\"1930\"></div>\n",
       "</div>\n",
       "<script type=\"application/javascript\">(function(root) {\n",
       "  function embed_document(root) {\n",
       "    var docs_json = {\"d0966d79-340b-4d65-8de9-b70b29e11b4e\":{\"defs\":[{\"extends\":null,\"module\":null,\"name\":\"ReactiveHTML1\",\"overrides\":[],\"properties\":[]},{\"extends\":null,\"module\":null,\"name\":\"FlexBox1\",\"overrides\":[],\"properties\":[{\"default\":\"flex-start\",\"kind\":null,\"name\":\"align_content\"},{\"default\":\"flex-start\",\"kind\":null,\"name\":\"align_items\"},{\"default\":\"row\",\"kind\":null,\"name\":\"flex_direction\"},{\"default\":\"wrap\",\"kind\":null,\"name\":\"flex_wrap\"},{\"default\":\"flex-start\",\"kind\":null,\"name\":\"justify_content\"}]},{\"extends\":null,\"module\":null,\"name\":\"TemplateActions1\",\"overrides\":[],\"properties\":[{\"default\":0,\"kind\":null,\"name\":\"open_modal\"},{\"default\":0,\"kind\":null,\"name\":\"close_modal\"}]},{\"extends\":null,\"module\":null,\"name\":\"MaterialTemplateActions1\",\"overrides\":[],\"properties\":[{\"default\":0,\"kind\":null,\"name\":\"open_modal\"},{\"default\":0,\"kind\":null,\"name\":\"close_modal\"}]}],\"roots\":{\"references\":[{\"attributes\":{},\"id\":\"1942\",\"type\":\"LinearScale\"},{\"attributes\":{\"axis_label\":\"# of Total Disasters\",\"formatter\":{\"id\":\"1978\"},\"major_label_policy\":{\"id\":\"1979\"},\"ticker\":{\"id\":\"1949\"}},\"id\":\"1948\",\"type\":\"LinearAxis\"},{\"attributes\":{\"axis_label\":\"Date\",\"formatter\":{\"id\":\"1975\"},\"major_label_orientation\":1.5707963267948966,\"major_label_policy\":{\"id\":\"1976\"},\"ticker\":{\"id\":\"1945\"}},\"id\":\"1944\",\"type\":\"LinearAxis\"},{\"attributes\":{},\"id\":\"1975\",\"type\":\"BasicTickFormatter\"},{\"attributes\":{},\"id\":\"1949\",\"type\":\"BasicTicker\"},{\"attributes\":{},\"id\":\"1966\",\"type\":\"Selection\"},{\"attributes\":{\"axis\":{\"id\":\"1948\"},\"dimension\":1,\"grid_line_color\":null,\"ticker\":null},\"id\":\"1951\",\"type\":\"Grid\"},{\"attributes\":{\"active_multi\":null,\"tools\":[{\"id\":\"1934\"},{\"id\":\"1952\"},{\"id\":\"1953\"},{\"id\":\"1954\"},{\"id\":\"1955\"},{\"id\":\"1956\"}]},\"id\":\"1958\",\"type\":\"Toolbar\"},{\"attributes\":{\"margin\":[5,5,5,5],\"name\":\"HSpacer04079\",\"sizing_mode\":\"stretch_width\"},\"id\":\"1931\",\"type\":\"Spacer\"},{\"attributes\":{\"line_alpha\":0.1,\"line_color\":\"#30a2da\",\"line_width\":2,\"x\":{\"field\":\"date\"},\"y\":{\"field\":\"disaster_count\"}},\"id\":\"1969\",\"type\":\"Line\"},{\"attributes\":{},\"id\":\"1988\",\"type\":\"UnionRenderers\"},{\"attributes\":{\"bottom_units\":\"screen\",\"fill_alpha\":0.5,\"fill_color\":\"lightgrey\",\"left_units\":\"screen\",\"level\":\"overlay\",\"line_alpha\":1.0,\"line_color\":\"black\",\"line_dash\":[4,4],\"line_width\":2,\"right_units\":\"screen\",\"syncable\":false,\"top_units\":\"screen\"},\"id\":\"1957\",\"type\":\"BoxAnnotation\"},{\"attributes\":{\"end\":342.5,\"reset_end\":342.5,\"reset_start\":-23.5,\"start\":-23.5,\"tags\":[[[\"disaster_count\",\"disaster_count\",null]]]},\"id\":\"1933\",\"type\":\"Range1d\"},{\"attributes\":{},\"id\":\"1978\",\"type\":\"BasicTickFormatter\"},{\"attributes\":{\"data\":{\"date\":[1953,1954,1955,1956,1957,1958,1959,1960,1961,1962,1963,1964,1965,1966,1967,1968,1969,1970,1971,1972,1973,1974,1975,1976,1977,1978,1979,1980,1981,1982,1983,1984,1985,1986,1987,1988,1989,1990,1991,1992,1993,1994,1995,1996,1997,1998,1999,2000,2001,2002,2003,2004,2005,2006,2007,2008,2009,2010,2011,2012,2013,2014,2015,2016,2017,2018,2019,2020],\"disaster_count\":[13,17,18,16,16,7,7,12,12,22,20,25,25,11,10,18,29,19,20,48,55,53,45,43,61,41,58,31,18,27,24,42,36,29,31,16,32,43,45,53,58,57,38,158,47,128,110,114,100,118,123,118,155,143,136,143,115,108,242,112,95,84,79,103,137,124,101,312]},\"selected\":{\"id\":\"1966\"},\"selection_policy\":{\"id\":\"1988\"}},\"id\":\"1965\",\"type\":\"ColumnDataSource\"},{\"attributes\":{\"line_alpha\":0.2,\"line_color\":\"#30a2da\",\"line_width\":2,\"x\":{\"field\":\"date\"},\"y\":{\"field\":\"disaster_count\"}},\"id\":\"1970\",\"type\":\"Line\"},{\"attributes\":{\"line_color\":\"#30a2da\",\"line_width\":2,\"x\":{\"field\":\"date\"},\"y\":{\"field\":\"disaster_count\"}},\"id\":\"1968\",\"type\":\"Line\"},{\"attributes\":{\"line_color\":\"#30a2da\",\"line_width\":2,\"x\":{\"field\":\"date\"},\"y\":{\"field\":\"disaster_count\"}},\"id\":\"1973\",\"type\":\"Line\"},{\"attributes\":{\"callback\":null,\"renderers\":[{\"id\":\"1971\"}],\"tags\":[\"hv_created\"],\"tooltips\":[[\"date\",\"@{date}\"],[\"disaster_count\",\"@{disaster_count}\"]]},\"id\":\"1934\",\"type\":\"HoverTool\"},{\"attributes\":{},\"id\":\"1952\",\"type\":\"SaveTool\"},{\"attributes\":{\"source\":{\"id\":\"1965\"}},\"id\":\"1972\",\"type\":\"CDSView\"},{\"attributes\":{},\"id\":\"1953\",\"type\":\"PanTool\"},{\"attributes\":{\"text\":\"USA Natural Diaster Absolute Count (1950 - 2020)\",\"text_color\":\"black\",\"text_font_size\":\"12pt\"},\"id\":\"1936\",\"type\":\"Title\"},{\"attributes\":{},\"id\":\"1956\",\"type\":\"ResetTool\"},{\"attributes\":{},\"id\":\"1976\",\"type\":\"AllLabels\"},{\"attributes\":{},\"id\":\"1954\",\"type\":\"WheelZoomTool\"},{\"attributes\":{\"below\":[{\"id\":\"1944\"}],\"center\":[{\"id\":\"1947\"},{\"id\":\"1951\"}],\"height\":300,\"left\":[{\"id\":\"1948\"}],\"margin\":[5,5,5,5],\"min_border_bottom\":10,\"min_border_left\":10,\"min_border_right\":10,\"min_border_top\":10,\"renderers\":[{\"id\":\"1971\"}],\"sizing_mode\":\"fixed\",\"title\":{\"id\":\"1936\"},\"toolbar\":{\"id\":\"1958\"},\"width\":700,\"x_range\":{\"id\":\"1932\"},\"x_scale\":{\"id\":\"1940\"},\"y_range\":{\"id\":\"1933\"},\"y_scale\":{\"id\":\"1942\"}},\"id\":\"1935\",\"subtype\":\"Figure\",\"type\":\"Plot\"},{\"attributes\":{\"overlay\":{\"id\":\"1957\"}},\"id\":\"1955\",\"type\":\"BoxZoomTool\"},{\"attributes\":{\"end\":2020.0,\"reset_end\":2020.0,\"reset_start\":1953.0,\"start\":1953.0,\"tags\":[[[\"date\",\"date\",null]]]},\"id\":\"1932\",\"type\":\"Range1d\"},{\"attributes\":{\"data_source\":{\"id\":\"1965\"},\"glyph\":{\"id\":\"1968\"},\"hover_glyph\":null,\"muted_glyph\":{\"id\":\"1970\"},\"nonselection_glyph\":{\"id\":\"1969\"},\"selection_glyph\":{\"id\":\"1973\"},\"view\":{\"id\":\"1972\"}},\"id\":\"1971\",\"type\":\"GlyphRenderer\"},{\"attributes\":{},\"id\":\"1979\",\"type\":\"AllLabels\"},{\"attributes\":{\"axis\":{\"id\":\"1944\"},\"grid_line_color\":null,\"ticker\":null},\"id\":\"1947\",\"type\":\"Grid\"},{\"attributes\":{},\"id\":\"1945\",\"type\":\"BasicTicker\"},{\"attributes\":{},\"id\":\"1940\",\"type\":\"LinearScale\"},{\"attributes\":{\"children\":[{\"id\":\"1931\"},{\"id\":\"1935\"},{\"id\":\"2000\"}],\"margin\":[0,0,0,0],\"name\":\"Row04075\",\"tags\":[\"embedded\"]},\"id\":\"1930\",\"type\":\"Row\"},{\"attributes\":{\"margin\":[5,5,5,5],\"name\":\"HSpacer04080\",\"sizing_mode\":\"stretch_width\"},\"id\":\"2000\",\"type\":\"Spacer\"}],\"root_ids\":[\"1930\"]},\"title\":\"Bokeh Application\",\"version\":\"2.3.2\"}};\n",
       "    var render_items = [{\"docid\":\"d0966d79-340b-4d65-8de9-b70b29e11b4e\",\"root_ids\":[\"1930\"],\"roots\":{\"1930\":\"1782cd0b-7d1b-43a4-b13d-3a5123f8c177\"}}];\n",
=======
<<<<<<< HEAD
       "  <div class=\"bk-root\" id=\"1ed2b4e2-564d-4edf-a1b0-e1154327faee\" data-root-id=\"1737\"></div>\n",
       "</div>\n",
       "<script type=\"application/javascript\">(function(root) {\n",
       "  function embed_document(root) {\n",
       "    var docs_json = {\"c2ba4279-81cb-45eb-867a-4033af42ab5e\":{\"defs\":[{\"extends\":null,\"module\":null,\"name\":\"ReactiveHTML1\",\"overrides\":[],\"properties\":[]},{\"extends\":null,\"module\":null,\"name\":\"FlexBox1\",\"overrides\":[],\"properties\":[{\"default\":\"flex-start\",\"kind\":null,\"name\":\"align_content\"},{\"default\":\"flex-start\",\"kind\":null,\"name\":\"align_items\"},{\"default\":\"row\",\"kind\":null,\"name\":\"flex_direction\"},{\"default\":\"wrap\",\"kind\":null,\"name\":\"flex_wrap\"},{\"default\":\"flex-start\",\"kind\":null,\"name\":\"justify_content\"}]},{\"extends\":null,\"module\":null,\"name\":\"TemplateActions1\",\"overrides\":[],\"properties\":[{\"default\":0,\"kind\":null,\"name\":\"open_modal\"},{\"default\":0,\"kind\":null,\"name\":\"close_modal\"}]},{\"extends\":null,\"module\":null,\"name\":\"MaterialTemplateActions1\",\"overrides\":[],\"properties\":[{\"default\":0,\"kind\":null,\"name\":\"open_modal\"},{\"default\":0,\"kind\":null,\"name\":\"close_modal\"}]}],\"roots\":{\"references\":[{\"attributes\":{\"axis\":{\"id\":\"1751\"},\"grid_line_color\":null,\"ticker\":null},\"id\":\"1754\",\"type\":\"Grid\"},{\"attributes\":{},\"id\":\"1796\",\"type\":\"UnionRenderers\"},{\"attributes\":{\"axis\":{\"id\":\"1755\"},\"dimension\":1,\"grid_line_color\":null,\"ticker\":null},\"id\":\"1758\",\"type\":\"Grid\"},{\"attributes\":{\"end\":2020.0,\"reset_end\":2020.0,\"reset_start\":1953.0,\"start\":1953.0,\"tags\":[[[\"date\",\"date\",null]]]},\"id\":\"1739\",\"type\":\"Range1d\"},{\"attributes\":{},\"id\":\"1756\",\"type\":\"BasicTicker\"},{\"attributes\":{},\"id\":\"1747\",\"type\":\"LinearScale\"},{\"attributes\":{\"axis_label\":\"# of Total Disasters\",\"formatter\":{\"id\":\"1785\"},\"major_label_policy\":{\"id\":\"1784\"},\"ticker\":{\"id\":\"1756\"}},\"id\":\"1755\",\"type\":\"LinearAxis\"},{\"attributes\":{\"axis_label\":\"Date\",\"formatter\":{\"id\":\"1782\"},\"major_label_orientation\":1.5707963267948966,\"major_label_policy\":{\"id\":\"1781\"},\"ticker\":{\"id\":\"1752\"}},\"id\":\"1751\",\"type\":\"LinearAxis\"},{\"attributes\":{\"end\":342.5,\"reset_end\":342.5,\"reset_start\":-23.5,\"start\":-23.5,\"tags\":[[[\"disaster_count\",\"disaster_count\",null]]]},\"id\":\"1740\",\"type\":\"Range1d\"},{\"attributes\":{\"line_alpha\":0.2,\"line_color\":\"#30a2da\",\"line_width\":2,\"x\":{\"field\":\"date\"},\"y\":{\"field\":\"disaster_count\"}},\"id\":\"1777\",\"type\":\"Line\"},{\"attributes\":{\"bottom_units\":\"screen\",\"fill_alpha\":0.5,\"fill_color\":\"lightgrey\",\"left_units\":\"screen\",\"level\":\"overlay\",\"line_alpha\":1.0,\"line_color\":\"black\",\"line_dash\":[4,4],\"line_width\":2,\"right_units\":\"screen\",\"syncable\":false,\"top_units\":\"screen\"},\"id\":\"1764\",\"type\":\"BoxAnnotation\"},{\"attributes\":{\"data_source\":{\"id\":\"1772\"},\"glyph\":{\"id\":\"1775\"},\"hover_glyph\":null,\"muted_glyph\":{\"id\":\"1777\"},\"nonselection_glyph\":{\"id\":\"1776\"},\"selection_glyph\":{\"id\":\"1780\"},\"view\":{\"id\":\"1779\"}},\"id\":\"1778\",\"type\":\"GlyphRenderer\"},{\"attributes\":{\"active_multi\":null,\"tools\":[{\"id\":\"1741\"},{\"id\":\"1759\"},{\"id\":\"1760\"},{\"id\":\"1761\"},{\"id\":\"1762\"},{\"id\":\"1763\"}]},\"id\":\"1765\",\"type\":\"Toolbar\"},{\"attributes\":{\"margin\":[5,5,5,5],\"name\":\"HSpacer02354\",\"sizing_mode\":\"stretch_width\"},\"id\":\"1738\",\"type\":\"Spacer\"},{\"attributes\":{\"callback\":null,\"renderers\":[{\"id\":\"1778\"}],\"tags\":[\"hv_created\"],\"tooltips\":[[\"date\",\"@{date}\"],[\"disaster_count\",\"@{disaster_count}\"]]},\"id\":\"1741\",\"type\":\"HoverTool\"},{\"attributes\":{},\"id\":\"1759\",\"type\":\"SaveTool\"},{\"attributes\":{},\"id\":\"1760\",\"type\":\"PanTool\"},{\"attributes\":{},\"id\":\"1773\",\"type\":\"Selection\"},{\"attributes\":{\"source\":{\"id\":\"1772\"}},\"id\":\"1779\",\"type\":\"CDSView\"},{\"attributes\":{\"text\":\"USA Natural Diaster Absolute Count (1950 - 2020)\",\"text_color\":\"black\",\"text_font_size\":\"12pt\"},\"id\":\"1743\",\"type\":\"Title\"},{\"attributes\":{},\"id\":\"1761\",\"type\":\"WheelZoomTool\"},{\"attributes\":{\"line_color\":\"#30a2da\",\"line_width\":2,\"x\":{\"field\":\"date\"},\"y\":{\"field\":\"disaster_count\"}},\"id\":\"1780\",\"type\":\"Line\"},{\"attributes\":{\"overlay\":{\"id\":\"1764\"}},\"id\":\"1762\",\"type\":\"BoxZoomTool\"},{\"attributes\":{\"line_color\":\"#30a2da\",\"line_width\":2,\"x\":{\"field\":\"date\"},\"y\":{\"field\":\"disaster_count\"}},\"id\":\"1775\",\"type\":\"Line\"},{\"attributes\":{\"below\":[{\"id\":\"1751\"}],\"center\":[{\"id\":\"1754\"},{\"id\":\"1758\"}],\"height\":300,\"left\":[{\"id\":\"1755\"}],\"margin\":[5,5,5,5],\"min_border_bottom\":10,\"min_border_left\":10,\"min_border_right\":10,\"min_border_top\":10,\"renderers\":[{\"id\":\"1778\"}],\"sizing_mode\":\"fixed\",\"title\":{\"id\":\"1743\"},\"toolbar\":{\"id\":\"1765\"},\"width\":700,\"x_range\":{\"id\":\"1739\"},\"x_scale\":{\"id\":\"1747\"},\"y_range\":{\"id\":\"1740\"},\"y_scale\":{\"id\":\"1749\"}},\"id\":\"1742\",\"subtype\":\"Figure\",\"type\":\"Plot\"},{\"attributes\":{\"line_alpha\":0.1,\"line_color\":\"#30a2da\",\"line_width\":2,\"x\":{\"field\":\"date\"},\"y\":{\"field\":\"disaster_count\"}},\"id\":\"1776\",\"type\":\"Line\"},{\"attributes\":{},\"id\":\"1781\",\"type\":\"AllLabels\"},{\"attributes\":{},\"id\":\"1752\",\"type\":\"BasicTicker\"},{\"attributes\":{\"children\":[{\"id\":\"1738\"},{\"id\":\"1742\"},{\"id\":\"1807\"}],\"margin\":[0,0,0,0],\"name\":\"Row02350\",\"tags\":[\"embedded\"]},\"id\":\"1737\",\"type\":\"Row\"},{\"attributes\":{},\"id\":\"1763\",\"type\":\"ResetTool\"},{\"attributes\":{},\"id\":\"1782\",\"type\":\"BasicTickFormatter\"},{\"attributes\":{},\"id\":\"1749\",\"type\":\"LinearScale\"},{\"attributes\":{},\"id\":\"1784\",\"type\":\"AllLabels\"},{\"attributes\":{\"data\":{\"date\":[1953,1954,1955,1956,1957,1958,1959,1960,1961,1962,1963,1964,1965,1966,1967,1968,1969,1970,1971,1972,1973,1974,1975,1976,1977,1978,1979,1980,1981,1982,1983,1984,1985,1986,1987,1988,1989,1990,1991,1992,1993,1994,1995,1996,1997,1998,1999,2000,2001,2002,2003,2004,2005,2006,2007,2008,2009,2010,2011,2012,2013,2014,2015,2016,2017,2018,2019,2020],\"disaster_count\":[13,17,18,16,16,7,7,12,12,22,20,25,25,11,10,18,29,19,20,48,55,53,45,43,61,41,58,31,18,27,24,42,36,29,31,16,32,43,45,53,58,57,38,158,47,128,110,114,100,118,123,118,155,143,136,143,115,108,242,112,95,84,79,103,137,124,101,312]},\"selected\":{\"id\":\"1773\"},\"selection_policy\":{\"id\":\"1796\"}},\"id\":\"1772\",\"type\":\"ColumnDataSource\"},{\"attributes\":{\"margin\":[5,5,5,5],\"name\":\"HSpacer02355\",\"sizing_mode\":\"stretch_width\"},\"id\":\"1807\",\"type\":\"Spacer\"},{\"attributes\":{},\"id\":\"1785\",\"type\":\"BasicTickFormatter\"}],\"root_ids\":[\"1737\"]},\"title\":\"Bokeh Application\",\"version\":\"2.3.3\"}};\n",
       "    var render_items = [{\"docid\":\"c2ba4279-81cb-45eb-867a-4033af42ab5e\",\"root_ids\":[\"1737\"],\"roots\":{\"1737\":\"1ed2b4e2-564d-4edf-a1b0-e1154327faee\"}}];\n",
=======
       "  <div class=\"bk-root\" id=\"b9bc9122-5928-4bc8-867f-113262e71b44\" data-root-id=\"27747\"></div>\n",
       "</div>\n",
       "<script type=\"application/javascript\">(function(root) {\n",
       "  function embed_document(root) {\n",
       "    var docs_json = {\"431c4284-cd08-4b26-82a2-3a6f2779f693\":{\"defs\":[{\"extends\":null,\"module\":null,\"name\":\"ReactiveHTML1\",\"overrides\":[],\"properties\":[]},{\"extends\":null,\"module\":null,\"name\":\"FlexBox1\",\"overrides\":[],\"properties\":[{\"default\":\"flex-start\",\"kind\":null,\"name\":\"align_content\"},{\"default\":\"flex-start\",\"kind\":null,\"name\":\"align_items\"},{\"default\":\"row\",\"kind\":null,\"name\":\"flex_direction\"},{\"default\":\"wrap\",\"kind\":null,\"name\":\"flex_wrap\"},{\"default\":\"flex-start\",\"kind\":null,\"name\":\"justify_content\"}]},{\"extends\":null,\"module\":null,\"name\":\"TemplateActions1\",\"overrides\":[],\"properties\":[{\"default\":0,\"kind\":null,\"name\":\"open_modal\"},{\"default\":0,\"kind\":null,\"name\":\"close_modal\"}]},{\"extends\":null,\"module\":null,\"name\":\"MaterialTemplateActions1\",\"overrides\":[],\"properties\":[{\"default\":0,\"kind\":null,\"name\":\"open_modal\"},{\"default\":0,\"kind\":null,\"name\":\"close_modal\"}]}],\"roots\":{\"references\":[{\"attributes\":{\"active_multi\":null,\"tools\":[{\"id\":\"27751\"},{\"id\":\"27769\"},{\"id\":\"27770\"},{\"id\":\"27771\"},{\"id\":\"27772\"},{\"id\":\"27773\"}]},\"id\":\"27775\",\"type\":\"Toolbar\"},{\"attributes\":{\"axis\":{\"id\":\"27761\"},\"grid_line_color\":null,\"ticker\":null},\"id\":\"27764\",\"type\":\"Grid\"},{\"attributes\":{\"margin\":[5,5,5,5],\"name\":\"HSpacer30192\",\"sizing_mode\":\"stretch_width\"},\"id\":\"27748\",\"type\":\"Spacer\"},{\"attributes\":{},\"id\":\"27806\",\"type\":\"UnionRenderers\"},{\"attributes\":{\"children\":[{\"id\":\"27748\"},{\"id\":\"27752\"},{\"id\":\"27817\"}],\"margin\":[0,0,0,0],\"name\":\"Row30188\",\"tags\":[\"embedded\"]},\"id\":\"27747\",\"type\":\"Row\"},{\"attributes\":{},\"id\":\"27766\",\"type\":\"BasicTicker\"},{\"attributes\":{},\"id\":\"27762\",\"type\":\"BasicTicker\"},{\"attributes\":{\"below\":[{\"id\":\"27761\"}],\"center\":[{\"id\":\"27764\"},{\"id\":\"27768\"}],\"height\":300,\"left\":[{\"id\":\"27765\"}],\"margin\":[5,5,5,5],\"min_border_bottom\":10,\"min_border_left\":10,\"min_border_right\":10,\"min_border_top\":10,\"renderers\":[{\"id\":\"27788\"}],\"sizing_mode\":\"fixed\",\"title\":{\"id\":\"27753\"},\"toolbar\":{\"id\":\"27775\"},\"width\":700,\"x_range\":{\"id\":\"27749\"},\"x_scale\":{\"id\":\"27757\"},\"y_range\":{\"id\":\"27750\"},\"y_scale\":{\"id\":\"27759\"}},\"id\":\"27752\",\"subtype\":\"Figure\",\"type\":\"Plot\"},{\"attributes\":{\"end\":2020.0,\"reset_end\":2020.0,\"reset_start\":1953.0,\"start\":1953.0,\"tags\":[[[\"date\",\"date\",null]]]},\"id\":\"27749\",\"type\":\"Range1d\"},{\"attributes\":{\"line_alpha\":0.2,\"line_color\":\"#30a2da\",\"line_width\":2,\"x\":{\"field\":\"date\"},\"y\":{\"field\":\"disaster_count\"}},\"id\":\"27787\",\"type\":\"Line\"},{\"attributes\":{},\"id\":\"27759\",\"type\":\"LinearScale\"},{\"attributes\":{\"line_color\":\"#30a2da\",\"line_width\":2,\"x\":{\"field\":\"date\"},\"y\":{\"field\":\"disaster_count\"}},\"id\":\"27785\",\"type\":\"Line\"},{\"attributes\":{\"axis_label\":\"# of Total Disasters\",\"formatter\":{\"id\":\"27794\"},\"major_label_policy\":{\"id\":\"27796\"},\"ticker\":{\"id\":\"27766\"}},\"id\":\"27765\",\"type\":\"LinearAxis\"},{\"attributes\":{\"axis_label\":\"Date\",\"formatter\":{\"id\":\"27791\"},\"major_label_orientation\":1.5707963267948966,\"major_label_policy\":{\"id\":\"27793\"},\"ticker\":{\"id\":\"27762\"}},\"id\":\"27761\",\"type\":\"LinearAxis\"},{\"attributes\":{\"overlay\":{\"id\":\"27774\"}},\"id\":\"27772\",\"type\":\"BoxZoomTool\"},{\"attributes\":{},\"id\":\"27757\",\"type\":\"LinearScale\"},{\"attributes\":{\"line_color\":\"#30a2da\",\"line_width\":2,\"x\":{\"field\":\"date\"},\"y\":{\"field\":\"disaster_count\"}},\"id\":\"27790\",\"type\":\"Line\"},{\"attributes\":{\"text\":\"USA Natural Diaster Absolute Count (1950 - 2020)\",\"text_color\":\"black\",\"text_font_size\":\"12pt\"},\"id\":\"27753\",\"type\":\"Title\"},{\"attributes\":{},\"id\":\"27773\",\"type\":\"ResetTool\"},{\"attributes\":{},\"id\":\"27771\",\"type\":\"WheelZoomTool\"},{\"attributes\":{\"bottom_units\":\"screen\",\"fill_alpha\":0.5,\"fill_color\":\"lightgrey\",\"left_units\":\"screen\",\"level\":\"overlay\",\"line_alpha\":1.0,\"line_color\":\"black\",\"line_dash\":[4,4],\"line_width\":2,\"right_units\":\"screen\",\"syncable\":false,\"top_units\":\"screen\"},\"id\":\"27774\",\"type\":\"BoxAnnotation\"},{\"attributes\":{},\"id\":\"27769\",\"type\":\"SaveTool\"},{\"attributes\":{},\"id\":\"27794\",\"type\":\"BasicTickFormatter\"},{\"attributes\":{},\"id\":\"27770\",\"type\":\"PanTool\"},{\"attributes\":{},\"id\":\"27783\",\"type\":\"Selection\"},{\"attributes\":{\"margin\":[5,5,5,5],\"name\":\"HSpacer30193\",\"sizing_mode\":\"stretch_width\"},\"id\":\"27817\",\"type\":\"Spacer\"},{\"attributes\":{\"line_alpha\":0.1,\"line_color\":\"#30a2da\",\"line_width\":2,\"x\":{\"field\":\"date\"},\"y\":{\"field\":\"disaster_count\"}},\"id\":\"27786\",\"type\":\"Line\"},{\"attributes\":{\"data_source\":{\"id\":\"27782\"},\"glyph\":{\"id\":\"27785\"},\"hover_glyph\":null,\"muted_glyph\":{\"id\":\"27787\"},\"nonselection_glyph\":{\"id\":\"27786\"},\"selection_glyph\":{\"id\":\"27790\"},\"view\":{\"id\":\"27789\"}},\"id\":\"27788\",\"type\":\"GlyphRenderer\"},{\"attributes\":{\"data\":{\"date\":[1953,1954,1955,1956,1957,1958,1959,1960,1961,1962,1963,1964,1965,1966,1967,1968,1969,1970,1971,1972,1973,1974,1975,1976,1977,1978,1979,1980,1981,1982,1983,1984,1985,1986,1987,1988,1989,1990,1991,1992,1993,1994,1995,1996,1997,1998,1999,2000,2001,2002,2003,2004,2005,2006,2007,2008,2009,2010,2011,2012,2013,2014,2015,2016,2017,2018,2019,2020],\"disaster_count\":[13,17,18,16,16,7,7,12,12,22,20,25,25,11,10,18,29,19,20,48,55,53,45,43,61,41,58,31,18,27,24,42,36,29,31,16,32,43,45,53,58,57,38,158,47,128,110,114,100,118,123,118,155,143,136,143,115,108,242,112,95,84,79,103,137,124,101,312]},\"selected\":{\"id\":\"27783\"},\"selection_policy\":{\"id\":\"27806\"}},\"id\":\"27782\",\"type\":\"ColumnDataSource\"},{\"attributes\":{},\"id\":\"27793\",\"type\":\"AllLabels\"},{\"attributes\":{\"callback\":null,\"renderers\":[{\"id\":\"27788\"}],\"tags\":[\"hv_created\"],\"tooltips\":[[\"date\",\"@{date}\"],[\"disaster_count\",\"@{disaster_count}\"]]},\"id\":\"27751\",\"type\":\"HoverTool\"},{\"attributes\":{\"source\":{\"id\":\"27782\"}},\"id\":\"27789\",\"type\":\"CDSView\"},{\"attributes\":{},\"id\":\"27796\",\"type\":\"AllLabels\"},{\"attributes\":{},\"id\":\"27791\",\"type\":\"BasicTickFormatter\"},{\"attributes\":{\"axis\":{\"id\":\"27765\"},\"dimension\":1,\"grid_line_color\":null,\"ticker\":null},\"id\":\"27768\",\"type\":\"Grid\"},{\"attributes\":{\"end\":342.5,\"reset_end\":342.5,\"reset_start\":-23.5,\"start\":-23.5,\"tags\":[[[\"disaster_count\",\"disaster_count\",null]]]},\"id\":\"27750\",\"type\":\"Range1d\"}],\"root_ids\":[\"27747\"]},\"title\":\"Bokeh Application\",\"version\":\"2.3.2\"}};\n",
       "    var render_items = [{\"docid\":\"431c4284-cd08-4b26-82a2-3a6f2779f693\",\"root_ids\":[\"27747\"],\"roots\":{\"27747\":\"b9bc9122-5928-4bc8-867f-113262e71b44\"}}];\n",
>>>>>>> f4869e0c2d563b7915abdccb25e3e7ec4efcab45
>>>>>>> 63f8ba45e0bf701583efee4d35c673e603e26119:commodities_prices_vs_climate_change_old.ipynb
       "    root.Bokeh.embed.embed_items_notebook(docs_json, render_items);\n",
       "  }\n",
       "  if (root.Bokeh !== undefined && root.Bokeh.Panel !== undefined) {\n",
       "    embed_document(root);\n",
       "  } else {\n",
       "    var attempts = 0;\n",
       "    var timer = setInterval(function(root) {\n",
       "      if (root.Bokeh !== undefined && root.Bokeh.Panel !== undefined) {\n",
       "        clearInterval(timer);\n",
       "        embed_document(root);\n",
       "      } else if (document.readyState == \"complete\") {\n",
       "        attempts++;\n",
       "        if (attempts > 200) {\n",
       "          clearInterval(timer);\n",
       "          console.log(\"Bokeh: ERROR: Unable to run BokehJS code because BokehJS library is missing\");\n",
       "        }\n",
       "      }\n",
       "    }, 25, root)\n",
       "  }\n",
       "})(window);</script>"
      ],
      "text/plain": [
       ":Curve   [date]   (disaster_count)"
      ]
     },
<<<<<<< HEAD:commodities_prices_vs_climate_change.ipynb
     "execution_count": 35,
     "metadata": {
      "application/vnd.holoviews_exec.v0+json": {
       "id": "1930"
=======
<<<<<<< HEAD
     "execution_count": 29,
     "metadata": {
      "application/vnd.holoviews_exec.v0+json": {
       "id": "1737"
=======
     "execution_count": 795,
     "metadata": {
      "application/vnd.holoviews_exec.v0+json": {
       "id": "27747"
>>>>>>> f4869e0c2d563b7915abdccb25e3e7ec4efcab45
>>>>>>> 63f8ba45e0bf701583efee4d35c673e603e26119:commodities_prices_vs_climate_change_old.ipynb
      }
     },
     "output_type": "execute_result"
    }
   ],
   "source": [
    "# Plot Land and Ocean Daily Averages to get a visualization of the raw data.\n",
    "number_of_disasters_by_year.hvplot(title = \"USA Natural Diaster Absolute Count (1950 - 2020)\",\n",
    "                            xlabel = \"Date\",\n",
    "                            ylabel = \"# of Total Disasters\",\n",
    "                            rot = 90)"
   ]
  },
  {
   "cell_type": "code",
   "execution_count": 54,
   "id": "375e7b3f-d526-41ea-94ad-7148e7afd005",
   "metadata": {},
   "outputs": [
    {
     "name": "stderr",
     "output_type": "stream",
     "text": [
      "C:\\Users\\14065\\anaconda3\\envs\\dev\\lib\\site-packages\\seaborn\\_decorators.py:43: FutureWarning: Pass the following variables as keyword args: x, y. From version 0.12, the only valid positional argument will be `data`, and passing other arguments without an explicit keyword will result in an error or misinterpretation.\n",
      "  FutureWarning\n"
     ]
    },
    {
     "data": {
      "text/plain": [
       "[Text(0.5, 1.0, 'Number of Disasters x Years')]"
      ]
     },
     "execution_count": 54,
     "metadata": {},
     "output_type": "execute_result"
    },
    {
     "data": {
      "image/png": "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\n",
      "text/plain": [
       "<Figure size 432x288 with 1 Axes>"
      ]
     },
     "metadata": {},
     "output_type": "display_data"
    }
   ],
   "source": [
    "# Use the new seaborn library to plot a scatter plot showing the USA Natural Disasters absolute count\n",
    "sns.set_style(\"dark\")\n",
    "sns.scatterplot(\"date\", \"disaster_count\", data=number_of_disasters_by_year ).set(title = \"Number of Disasters x Years\")"
   ]
  },
  {
   "cell_type": "code",
   "execution_count": 51,
   "id": "ca69fa20-d5e0-4a4a-b825-b688dfe1263c",
   "metadata": {},
   "outputs": [],
   "source": [
    "# Add a new \"Date\" column to be utilized for linear regression line\n",
    "disaster_by_year_lmplot = number_of_disasters_by_year\n",
    "\n",
    "# Set index to \"Date\" column so we have a column of the dates to be utlized in our linear regression plot \n",
    "disaster_by_year_lmplot[\"Date\"] = disaster_by_year_lmplot.index\n",
    "\n",
    "# Rename disaster_count column for linear regression plot\n",
    "disaster_by_year_lmplot = disaster_by_year_lmplot.rename(columns={\"disaster_count\":\"# of Disasters\"})"
   ]
  },
  {
   "cell_type": "code",
   "execution_count": 53,
   "id": "5ea4450a-21df-48ce-966e-8249da18d524",
   "metadata": {},
   "outputs": [
    {
     "data": {
      "image/png": "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\n",
      "text/plain": [
       "<Figure size 360x360 with 1 Axes>"
      ]
     },
     "metadata": {},
     "output_type": "display_data"
    }
   ],
   "source": [
    "# Use the new seaborn library to plot a scatter plot and line of best fit representing the USA Natural Disasters absolute count\n",
    "sns.lmplot(x=\"Date\", y = \"# of Disasters\", data=disaster_by_year_lmplot).set(title = \"USA Natural Diaster Absolute Count (1950 - 2020) Linear Regression Plot\");"
   ]
  },
  {
   "cell_type": "markdown",
   "id": "83afc4d3-c0b2-4331-b516-5addaf6274da",
   "metadata": {},
   "source": [
    "In order to stay consistent with the climate temperature analysis, we will also evaluate the natural disaster count in standard devaitaions from the mean.  This will allow for a more equivalent comparison between the climate analysis as well as the disaster analysis.  For the normal average disaster dataframe, we will use the entire dataset of 1953 to 2020."
   ]
  },
  {
   "cell_type": "code",
<<<<<<< HEAD
   "execution_count": 30,
=======
   "execution_count": 796,
>>>>>>> f4869e0c2d563b7915abdccb25e3e7ec4efcab45
   "id": "7e8ed594-a520-433a-a4bb-25108fb42bb4",
   "metadata": {},
   "outputs": [
    {
     "name": "stdout",
     "output_type": "stream",
     "text": [
      "The mean value of the number_of_disasters_by_year DataFrame is:\n",
      "disaster_count    66.264706\n",
      "dtype: float64\n",
      "\n",
      "\n",
      "The standard devation of the number_of_disasters_by_year DataFrame is:\n",
      "disaster_count    58.244113\n",
      "dtype: float64\n"
     ]
    }
   ],
   "source": [
    "# Find the mean value and standard deviation of the normal_average_temperature DataFrame\n",
    "mean = number_of_disasters_by_year.mean()\n",
    "std_dev = number_of_disasters_by_year.std()\n",
    "\n",
    "# Review the mean value and standard deviation\n",
    "print(\"The mean value of the number_of_disasters_by_year DataFrame is:\")\n",
    "print(f\"{mean}\")\n",
    "print(\"\\n\")\n",
    "print(f\"The standard devation of the number_of_disasters_by_year DataFrame is:\")\n",
    "print(f\"{std_dev}\")"
   ]
  },
  {
   "cell_type": "code",
<<<<<<< HEAD
   "execution_count": 31,
=======
   "execution_count": 797,
>>>>>>> f4869e0c2d563b7915abdccb25e3e7ec4efcab45
   "id": "6b0deb3a-5c6c-4b84-aaa6-fde44fd0a1a4",
   "metadata": {},
   "outputs": [
    {
     "data": {
      "text/html": [
       "<div>\n",
       "<style scoped>\n",
       "    .dataframe tbody tr th:only-of-type {\n",
       "        vertical-align: middle;\n",
       "    }\n",
       "\n",
       "    .dataframe tbody tr th {\n",
       "        vertical-align: top;\n",
       "    }\n",
       "\n",
       "    .dataframe thead th {\n",
       "        text-align: right;\n",
       "    }\n",
       "</style>\n",
       "<table border=\"1\" class=\"dataframe\">\n",
       "  <thead>\n",
       "    <tr style=\"text-align: right;\">\n",
       "      <th></th>\n",
       "      <th>standardized_anomoly</th>\n",
       "    </tr>\n",
       "    <tr>\n",
       "      <th>date</th>\n",
       "      <th></th>\n",
       "    </tr>\n",
       "  </thead>\n",
       "  <tbody>\n",
       "    <tr>\n",
       "      <th>1953</th>\n",
       "      <td>-0.914508</td>\n",
       "    </tr>\n",
       "    <tr>\n",
       "      <th>1954</th>\n",
       "      <td>-0.845832</td>\n",
       "    </tr>\n",
       "    <tr>\n",
       "      <th>1955</th>\n",
       "      <td>-0.828662</td>\n",
       "    </tr>\n",
       "    <tr>\n",
       "      <th>1956</th>\n",
       "      <td>-0.863001</td>\n",
       "    </tr>\n",
       "    <tr>\n",
       "      <th>1957</th>\n",
       "      <td>-0.863001</td>\n",
       "    </tr>\n",
       "  </tbody>\n",
       "</table>\n",
       "</div>"
      ],
      "text/plain": [
       "      standardized_anomoly\n",
       "date                      \n",
       "1953             -0.914508\n",
       "1954             -0.845832\n",
       "1955             -0.828662\n",
       "1956             -0.863001\n",
       "1957             -0.863001"
      ]
     },
     "metadata": {},
     "output_type": "display_data"
    },
    {
     "data": {
      "text/html": [
       "<div>\n",
       "<style scoped>\n",
       "    .dataframe tbody tr th:only-of-type {\n",
       "        vertical-align: middle;\n",
       "    }\n",
       "\n",
       "    .dataframe tbody tr th {\n",
       "        vertical-align: top;\n",
       "    }\n",
       "\n",
       "    .dataframe thead th {\n",
       "        text-align: right;\n",
       "    }\n",
       "</style>\n",
       "<table border=\"1\" class=\"dataframe\">\n",
       "  <thead>\n",
       "    <tr style=\"text-align: right;\">\n",
       "      <th></th>\n",
       "      <th>standardized_anomoly</th>\n",
       "    </tr>\n",
       "    <tr>\n",
       "      <th>date</th>\n",
       "      <th></th>\n",
       "    </tr>\n",
       "  </thead>\n",
       "  <tbody>\n",
       "    <tr>\n",
       "      <th>2016</th>\n",
       "      <td>0.630713</td>\n",
       "    </tr>\n",
       "    <tr>\n",
       "      <th>2017</th>\n",
       "      <td>1.214463</td>\n",
       "    </tr>\n",
       "    <tr>\n",
       "      <th>2018</th>\n",
       "      <td>0.991264</td>\n",
       "    </tr>\n",
       "    <tr>\n",
       "      <th>2019</th>\n",
       "      <td>0.596374</td>\n",
       "    </tr>\n",
       "    <tr>\n",
       "      <th>2020</th>\n",
       "      <td>4.219058</td>\n",
       "    </tr>\n",
       "  </tbody>\n",
       "</table>\n",
       "</div>"
      ],
      "text/plain": [
       "      standardized_anomoly\n",
       "date                      \n",
       "2016              0.630713\n",
       "2017              1.214463\n",
       "2018              0.991264\n",
       "2019              0.596374\n",
       "2020              4.219058"
      ]
     },
     "metadata": {},
     "output_type": "display_data"
    }
   ],
   "source": [
    "# Create a new DataFrame containing standardized anomolies normalized to the normal_average_temperature DataFrame.  \n",
    "disaster_standardized_anomoly = (number_of_disasters_by_year - mean)/std_dev\n",
    "\n",
    "# Rename column in df\n",
    "disaster_standardized_anomoly = disaster_standardized_anomoly.rename(columns={'disaster_count':'standardized_anomoly'})\n",
    "\n",
    "# Review the first 5 and last 5 rows of DataFrame\n",
    "display(disaster_standardized_anomoly.head())\n",
    "display(disaster_standardized_anomoly.tail())"
   ]
  },
  {
   "cell_type": "code",
<<<<<<< HEAD
   "execution_count": 32,
=======
   "execution_count": 798,
>>>>>>> f4869e0c2d563b7915abdccb25e3e7ec4efcab45
   "id": "85a2ded1-9db9-4126-8081-d29b66f27f57",
   "metadata": {},
   "outputs": [
    {
     "data": {},
     "metadata": {},
     "output_type": "display_data"
    },
    {
     "data": {
      "application/vnd.holoviews_exec.v0+json": "",
      "text/html": [
<<<<<<< HEAD
       "<div id='1859'>\n",
=======
       "<div id='27869'>\n",
>>>>>>> f4869e0c2d563b7915abdccb25e3e7ec4efcab45
       "\n",
       "\n",
       "\n",
       "\n",
       "\n",
<<<<<<< HEAD
       "  <div class=\"bk-root\" id=\"8675909c-18c3-42c6-8a8e-996d49c1281c\" data-root-id=\"1859\"></div>\n",
       "</div>\n",
       "<script type=\"application/javascript\">(function(root) {\n",
       "  function embed_document(root) {\n",
       "    var docs_json = {\"45993150-61d9-4135-8966-a02ae60b2f81\":{\"defs\":[{\"extends\":null,\"module\":null,\"name\":\"ReactiveHTML1\",\"overrides\":[],\"properties\":[]},{\"extends\":null,\"module\":null,\"name\":\"FlexBox1\",\"overrides\":[],\"properties\":[{\"default\":\"flex-start\",\"kind\":null,\"name\":\"align_content\"},{\"default\":\"flex-start\",\"kind\":null,\"name\":\"align_items\"},{\"default\":\"row\",\"kind\":null,\"name\":\"flex_direction\"},{\"default\":\"wrap\",\"kind\":null,\"name\":\"flex_wrap\"},{\"default\":\"flex-start\",\"kind\":null,\"name\":\"justify_content\"}]},{\"extends\":null,\"module\":null,\"name\":\"TemplateActions1\",\"overrides\":[],\"properties\":[{\"default\":0,\"kind\":null,\"name\":\"open_modal\"},{\"default\":0,\"kind\":null,\"name\":\"close_modal\"}]},{\"extends\":null,\"module\":null,\"name\":\"MaterialTemplateActions1\",\"overrides\":[],\"properties\":[{\"default\":0,\"kind\":null,\"name\":\"open_modal\"},{\"default\":0,\"kind\":null,\"name\":\"close_modal\"}]}],\"roots\":{\"references\":[{\"attributes\":{\"callback\":null,\"renderers\":[{\"id\":\"1900\"}],\"tags\":[\"hv_created\"],\"tooltips\":[[\"date\",\"@{date}\"],[\"standardized_anomoly\",\"@{standardized_anomoly}\"]]},\"id\":\"1863\",\"type\":\"HoverTool\"},{\"attributes\":{\"line_alpha\":0.1,\"line_color\":\"#30a2da\",\"line_width\":2,\"x\":{\"field\":\"date\"},\"y\":{\"field\":\"standardized_anomoly\"}},\"id\":\"1898\",\"type\":\"Line\"},{\"attributes\":{\"bottom_units\":\"screen\",\"fill_alpha\":0.5,\"fill_color\":\"lightgrey\",\"left_units\":\"screen\",\"level\":\"overlay\",\"line_alpha\":1.0,\"line_color\":\"black\",\"line_dash\":[4,4],\"line_width\":2,\"right_units\":\"screen\",\"syncable\":false,\"top_units\":\"screen\"},\"id\":\"1886\",\"type\":\"BoxAnnotation\"},{\"attributes\":{\"line_alpha\":0.2,\"line_color\":\"#30a2da\",\"line_width\":2,\"x\":{\"field\":\"date\"},\"y\":{\"field\":\"standardized_anomoly\"}},\"id\":\"1899\",\"type\":\"Line\"},{\"attributes\":{\"active_multi\":null,\"tools\":[{\"id\":\"1863\"},{\"id\":\"1881\"},{\"id\":\"1882\"},{\"id\":\"1883\"},{\"id\":\"1884\"},{\"id\":\"1885\"}]},\"id\":\"1887\",\"type\":\"Toolbar\"},{\"attributes\":{},\"id\":\"1895\",\"type\":\"Selection\"},{\"attributes\":{},\"id\":\"1906\",\"type\":\"AllLabels\"},{\"attributes\":{},\"id\":\"1881\",\"type\":\"SaveTool\"},{\"attributes\":{},\"id\":\"1882\",\"type\":\"PanTool\"},{\"attributes\":{\"line_color\":\"#30a2da\",\"line_width\":2,\"x\":{\"field\":\"date\"},\"y\":{\"field\":\"standardized_anomoly\"}},\"id\":\"1902\",\"type\":\"Line\"},{\"attributes\":{},\"id\":\"1883\",\"type\":\"WheelZoomTool\"},{\"attributes\":{\"below\":[{\"id\":\"1873\"}],\"center\":[{\"id\":\"1876\"},{\"id\":\"1880\"}],\"height\":300,\"left\":[{\"id\":\"1877\"}],\"margin\":[5,5,5,5],\"min_border_bottom\":10,\"min_border_left\":10,\"min_border_right\":10,\"min_border_top\":10,\"renderers\":[{\"id\":\"1900\"}],\"sizing_mode\":\"fixed\",\"title\":{\"id\":\"1865\"},\"toolbar\":{\"id\":\"1887\"},\"width\":700,\"x_range\":{\"id\":\"1861\"},\"x_scale\":{\"id\":\"1869\"},\"y_range\":{\"id\":\"1862\"},\"y_scale\":{\"id\":\"1871\"}},\"id\":\"1864\",\"subtype\":\"Figure\",\"type\":\"Plot\"},{\"attributes\":{},\"id\":\"1871\",\"type\":\"LinearScale\"},{\"attributes\":{\"data_source\":{\"id\":\"1894\"},\"glyph\":{\"id\":\"1897\"},\"hover_glyph\":null,\"muted_glyph\":{\"id\":\"1899\"},\"nonselection_glyph\":{\"id\":\"1898\"},\"selection_glyph\":{\"id\":\"1902\"},\"view\":{\"id\":\"1901\"}},\"id\":\"1900\",\"type\":\"GlyphRenderer\"},{\"attributes\":{\"overlay\":{\"id\":\"1886\"}},\"id\":\"1884\",\"type\":\"BoxZoomTool\"},{\"attributes\":{},\"id\":\"1903\",\"type\":\"AllLabels\"},{\"attributes\":{\"source\":{\"id\":\"1894\"}},\"id\":\"1901\",\"type\":\"CDSView\"},{\"attributes\":{},\"id\":\"1869\",\"type\":\"LinearScale\"},{\"attributes\":{\"data\":{\"date\":[1953,1954,1955,1956,1957,1958,1959,1960,1961,1962,1963,1964,1965,1966,1967,1968,1969,1970,1971,1972,1973,1974,1975,1976,1977,1978,1979,1980,1981,1982,1983,1984,1985,1986,1987,1988,1989,1990,1991,1992,1993,1994,1995,1996,1997,1998,1999,2000,2001,2002,2003,2004,2005,2006,2007,2008,2009,2010,2011,2012,2013,2014,2015,2016,2017,2018,2019,2020],\"standardized_anomoly\":{\"__ndarray__\":\"YzfWPqZD7b/CRDJADRHrvxlIiQBnhOq/akHbf7Od679qQdt/s53rv6sRZt7FR/C/qxFm3sVH8L8MNH9+TNDtvww0f35M0O2/eFXlAc5R6L/JTjeBGmvpv39f6kLbq+a/f1/qQtur5r+0MCi+8lzuv10t0f2Y6e6/GUiJAGeE6r/dbEZEQnnkv3FL4MDA9+m/yU43gRpr6b+8WHcV1xHUvw0PczR/wci/UPS6MbEmzb+uRG2TvF3Xv1A3EZJVkNm/iL42edIjt7/xKbWQ7sLbvyk3hzi0KcK/jHP0xPVf478ZSIkAZ4Tqvy5mmMOOkuW/J1yTgoE457+hMGMRoqnav0OEp4a2oOC/3WxGREJ55L+Mc/TE9V/jv2pB23+zneu/5HZLhU/T4r9QNxGSVZDZv65EbZO8Xde/UPS6MbEmzb8pN4c4tCnCv8opKzdNXMS/5BWrDtQO37/+cfDnQTP5Pw1SyZQjK9W/IKQJLYT18D9qhDHgVwfoPwt31d7wOeo/1qWXY9mI4j+taXndiWzsP/dYxhvJK+8/rWl53Yls7D8C93KISGD4Pw8LfQpjFPU/wpatKx0o8z8PC30KYxT1P7Rzfh6Xxuo/GYvfYAvu5j/Q8tQsRCMIQLt9g1+kIOk/GG2VSjST3z+gtg/S6nzTPxiw66rY/Ms/z5uSIswu5D8WFYJLcG7zP59Vb1tvuO8/fqJAo38V4z8pHHHDUOAQQA==\",\"dtype\":\"float64\",\"order\":\"little\",\"shape\":[68]}},\"selected\":{\"id\":\"1895\"},\"selection_policy\":{\"id\":\"1918\"}},\"id\":\"1894\",\"type\":\"ColumnDataSource\"},{\"attributes\":{\"margin\":[5,5,5,5],\"name\":\"HSpacer02531\",\"sizing_mode\":\"stretch_width\"},\"id\":\"1860\",\"type\":\"Spacer\"},{\"attributes\":{},\"id\":\"1885\",\"type\":\"ResetTool\"},{\"attributes\":{},\"id\":\"1904\",\"type\":\"BasicTickFormatter\"},{\"attributes\":{\"axis\":{\"id\":\"1877\"},\"dimension\":1,\"grid_line_color\":null,\"ticker\":null},\"id\":\"1880\",\"type\":\"Grid\"},{\"attributes\":{},\"id\":\"1918\",\"type\":\"UnionRenderers\"},{\"attributes\":{\"text\":\"USA Natural Disaster Count Standardized Anomolies (1950 - 2020)\",\"text_color\":\"black\",\"text_font_size\":\"12pt\"},\"id\":\"1865\",\"type\":\"Title\"},{\"attributes\":{\"line_color\":\"#30a2da\",\"line_width\":2,\"x\":{\"field\":\"date\"},\"y\":{\"field\":\"standardized_anomoly\"}},\"id\":\"1897\",\"type\":\"Line\"},{\"attributes\":{\"children\":[{\"id\":\"1860\"},{\"id\":\"1864\"},{\"id\":\"1929\"}],\"margin\":[0,0,0,0],\"name\":\"Row02527\",\"tags\":[\"embedded\"]},\"id\":\"1859\",\"type\":\"Row\"},{\"attributes\":{\"end\":2020.0,\"reset_end\":2020.0,\"reset_start\":1953.0,\"start\":1953.0,\"tags\":[[[\"date\",\"date\",null]]]},\"id\":\"1861\",\"type\":\"Range1d\"},{\"attributes\":{\"end\":4.742716165572214,\"reset_end\":4.742716165572214,\"reset_start\":-1.541180764195741,\"start\":-1.541180764195741,\"tags\":[[[\"standardized_anomoly\",\"standardized_anomoly\",null]]]},\"id\":\"1862\",\"type\":\"Range1d\"},{\"attributes\":{},\"id\":\"1874\",\"type\":\"BasicTicker\"},{\"attributes\":{\"margin\":[5,5,5,5],\"name\":\"HSpacer02532\",\"sizing_mode\":\"stretch_width\"},\"id\":\"1929\",\"type\":\"Spacer\"},{\"attributes\":{\"axis_label\":\"Date\",\"formatter\":{\"id\":\"1904\"},\"major_label_policy\":{\"id\":\"1903\"},\"ticker\":{\"id\":\"1874\"}},\"id\":\"1873\",\"type\":\"LinearAxis\"},{\"attributes\":{},\"id\":\"1907\",\"type\":\"BasicTickFormatter\"},{\"attributes\":{\"axis\":{\"id\":\"1873\"},\"grid_line_color\":null,\"ticker\":null},\"id\":\"1876\",\"type\":\"Grid\"},{\"attributes\":{},\"id\":\"1878\",\"type\":\"BasicTicker\"},{\"attributes\":{\"axis_label\":\"Standardized Anomolies\",\"formatter\":{\"id\":\"1907\"},\"major_label_policy\":{\"id\":\"1906\"},\"ticker\":{\"id\":\"1878\"}},\"id\":\"1877\",\"type\":\"LinearAxis\"}],\"root_ids\":[\"1859\"]},\"title\":\"Bokeh Application\",\"version\":\"2.3.3\"}};\n",
       "    var render_items = [{\"docid\":\"45993150-61d9-4135-8966-a02ae60b2f81\",\"root_ids\":[\"1859\"],\"roots\":{\"1859\":\"8675909c-18c3-42c6-8a8e-996d49c1281c\"}}];\n",
=======
       "  <div class=\"bk-root\" id=\"09de4e87-bf95-4576-8755-036086d68fd5\" data-root-id=\"27869\"></div>\n",
       "</div>\n",
       "<script type=\"application/javascript\">(function(root) {\n",
       "  function embed_document(root) {\n",
       "    var docs_json = {\"c12adc92-7564-4a65-a604-a85a5396a5c8\":{\"defs\":[{\"extends\":null,\"module\":null,\"name\":\"ReactiveHTML1\",\"overrides\":[],\"properties\":[]},{\"extends\":null,\"module\":null,\"name\":\"FlexBox1\",\"overrides\":[],\"properties\":[{\"default\":\"flex-start\",\"kind\":null,\"name\":\"align_content\"},{\"default\":\"flex-start\",\"kind\":null,\"name\":\"align_items\"},{\"default\":\"row\",\"kind\":null,\"name\":\"flex_direction\"},{\"default\":\"wrap\",\"kind\":null,\"name\":\"flex_wrap\"},{\"default\":\"flex-start\",\"kind\":null,\"name\":\"justify_content\"}]},{\"extends\":null,\"module\":null,\"name\":\"TemplateActions1\",\"overrides\":[],\"properties\":[{\"default\":0,\"kind\":null,\"name\":\"open_modal\"},{\"default\":0,\"kind\":null,\"name\":\"close_modal\"}]},{\"extends\":null,\"module\":null,\"name\":\"MaterialTemplateActions1\",\"overrides\":[],\"properties\":[{\"default\":0,\"kind\":null,\"name\":\"open_modal\"},{\"default\":0,\"kind\":null,\"name\":\"close_modal\"}]}],\"roots\":{\"references\":[{\"attributes\":{\"margin\":[5,5,5,5],\"name\":\"HSpacer30369\",\"sizing_mode\":\"stretch_width\"},\"id\":\"27870\",\"type\":\"Spacer\"},{\"attributes\":{\"margin\":[5,5,5,5],\"name\":\"HSpacer30370\",\"sizing_mode\":\"stretch_width\"},\"id\":\"27939\",\"type\":\"Spacer\"},{\"attributes\":{},\"id\":\"27915\",\"type\":\"AllLabels\"},{\"attributes\":{\"axis\":{\"id\":\"27883\"},\"grid_line_color\":null,\"ticker\":null},\"id\":\"27886\",\"type\":\"Grid\"},{\"attributes\":{\"line_alpha\":0.1,\"line_color\":\"#30a2da\",\"line_width\":2,\"x\":{\"field\":\"date\"},\"y\":{\"field\":\"standardized_anomoly\"}},\"id\":\"27908\",\"type\":\"Line\"},{\"attributes\":{\"bottom_units\":\"screen\",\"fill_alpha\":0.5,\"fill_color\":\"lightgrey\",\"left_units\":\"screen\",\"level\":\"overlay\",\"line_alpha\":1.0,\"line_color\":\"black\",\"line_dash\":[4,4],\"line_width\":2,\"right_units\":\"screen\",\"syncable\":false,\"top_units\":\"screen\"},\"id\":\"27896\",\"type\":\"BoxAnnotation\"},{\"attributes\":{\"data_source\":{\"id\":\"27904\"},\"glyph\":{\"id\":\"27907\"},\"hover_glyph\":null,\"muted_glyph\":{\"id\":\"27909\"},\"nonselection_glyph\":{\"id\":\"27908\"},\"selection_glyph\":{\"id\":\"27912\"},\"view\":{\"id\":\"27911\"}},\"id\":\"27910\",\"type\":\"GlyphRenderer\"},{\"attributes\":{\"line_color\":\"#30a2da\",\"line_width\":2,\"x\":{\"field\":\"date\"},\"y\":{\"field\":\"standardized_anomoly\"}},\"id\":\"27907\",\"type\":\"Line\"},{\"attributes\":{\"end\":4.742716165572214,\"reset_end\":4.742716165572214,\"reset_start\":-1.541180764195741,\"start\":-1.541180764195741,\"tags\":[[[\"standardized_anomoly\",\"standardized_anomoly\",null]]]},\"id\":\"27872\",\"type\":\"Range1d\"},{\"attributes\":{\"active_multi\":null,\"tools\":[{\"id\":\"27873\"},{\"id\":\"27891\"},{\"id\":\"27892\"},{\"id\":\"27893\"},{\"id\":\"27894\"},{\"id\":\"27895\"}]},\"id\":\"27897\",\"type\":\"Toolbar\"},{\"attributes\":{\"line_alpha\":0.2,\"line_color\":\"#30a2da\",\"line_width\":2,\"x\":{\"field\":\"date\"},\"y\":{\"field\":\"standardized_anomoly\"}},\"id\":\"27909\",\"type\":\"Line\"},{\"attributes\":{},\"id\":\"27913\",\"type\":\"BasicTickFormatter\"},{\"attributes\":{},\"id\":\"27916\",\"type\":\"BasicTickFormatter\"},{\"attributes\":{},\"id\":\"27891\",\"type\":\"SaveTool\"},{\"attributes\":{\"source\":{\"id\":\"27904\"}},\"id\":\"27911\",\"type\":\"CDSView\"},{\"attributes\":{},\"id\":\"27888\",\"type\":\"BasicTicker\"},{\"attributes\":{\"axis_label\":\"Date\",\"formatter\":{\"id\":\"27913\"},\"major_label_policy\":{\"id\":\"27915\"},\"ticker\":{\"id\":\"27884\"}},\"id\":\"27883\",\"type\":\"LinearAxis\"},{\"attributes\":{},\"id\":\"27884\",\"type\":\"BasicTicker\"},{\"attributes\":{\"children\":[{\"id\":\"27870\"},{\"id\":\"27874\"},{\"id\":\"27939\"}],\"margin\":[0,0,0,0],\"name\":\"Row30365\",\"tags\":[\"embedded\"]},\"id\":\"27869\",\"type\":\"Row\"},{\"attributes\":{\"axis\":{\"id\":\"27887\"},\"dimension\":1,\"grid_line_color\":null,\"ticker\":null},\"id\":\"27890\",\"type\":\"Grid\"},{\"attributes\":{},\"id\":\"27881\",\"type\":\"LinearScale\"},{\"attributes\":{\"axis_label\":\"Standardized Anomolies\",\"formatter\":{\"id\":\"27916\"},\"major_label_policy\":{\"id\":\"27918\"},\"ticker\":{\"id\":\"27888\"}},\"id\":\"27887\",\"type\":\"LinearAxis\"},{\"attributes\":{\"callback\":null,\"renderers\":[{\"id\":\"27910\"}],\"tags\":[\"hv_created\"],\"tooltips\":[[\"date\",\"@{date}\"],[\"standardized_anomoly\",\"@{standardized_anomoly}\"]]},\"id\":\"27873\",\"type\":\"HoverTool\"},{\"attributes\":{},\"id\":\"27892\",\"type\":\"PanTool\"},{\"attributes\":{},\"id\":\"27879\",\"type\":\"LinearScale\"},{\"attributes\":{},\"id\":\"27928\",\"type\":\"UnionRenderers\"},{\"attributes\":{\"text\":\"USA Natural Disaster Count Standardized Anomolies (1950 - 2020)\",\"text_color\":\"black\",\"text_font_size\":\"12pt\"},\"id\":\"27875\",\"type\":\"Title\"},{\"attributes\":{\"end\":2020.0,\"reset_end\":2020.0,\"reset_start\":1953.0,\"start\":1953.0,\"tags\":[[[\"date\",\"date\",null]]]},\"id\":\"27871\",\"type\":\"Range1d\"},{\"attributes\":{},\"id\":\"27893\",\"type\":\"WheelZoomTool\"},{\"attributes\":{},\"id\":\"27895\",\"type\":\"ResetTool\"},{\"attributes\":{},\"id\":\"27918\",\"type\":\"AllLabels\"},{\"attributes\":{},\"id\":\"27905\",\"type\":\"Selection\"},{\"attributes\":{\"line_color\":\"#30a2da\",\"line_width\":2,\"x\":{\"field\":\"date\"},\"y\":{\"field\":\"standardized_anomoly\"}},\"id\":\"27912\",\"type\":\"Line\"},{\"attributes\":{\"data\":{\"date\":[1953,1954,1955,1956,1957,1958,1959,1960,1961,1962,1963,1964,1965,1966,1967,1968,1969,1970,1971,1972,1973,1974,1975,1976,1977,1978,1979,1980,1981,1982,1983,1984,1985,1986,1987,1988,1989,1990,1991,1992,1993,1994,1995,1996,1997,1998,1999,2000,2001,2002,2003,2004,2005,2006,2007,2008,2009,2010,2011,2012,2013,2014,2015,2016,2017,2018,2019,2020],\"standardized_anomoly\":{\"__ndarray__\":\"YzfWPqZD7b/CRDJADRHrvxlIiQBnhOq/akHbf7Od679qQdt/s53rv6sRZt7FR/C/qxFm3sVH8L8MNH9+TNDtvww0f35M0O2/eFXlAc5R6L/JTjeBGmvpv39f6kLbq+a/f1/qQtur5r+0MCi+8lzuv10t0f2Y6e6/GUiJAGeE6r/dbEZEQnnkv3FL4MDA9+m/yU43gRpr6b+8WHcV1xHUvw0PczR/wci/UPS6MbEmzb+uRG2TvF3Xv1A3EZJVkNm/iL42edIjt7/xKbWQ7sLbvyk3hzi0KcK/jHP0xPVf478ZSIkAZ4Tqvy5mmMOOkuW/J1yTgoE457+hMGMRoqnav0OEp4a2oOC/3WxGREJ55L+Mc/TE9V/jv2pB23+zneu/5HZLhU/T4r9QNxGSVZDZv65EbZO8Xde/UPS6MbEmzb8pN4c4tCnCv8opKzdNXMS/5BWrDtQO37/+cfDnQTP5Pw1SyZQjK9W/IKQJLYT18D9qhDHgVwfoPwt31d7wOeo/1qWXY9mI4j+taXndiWzsP/dYxhvJK+8/rWl53Yls7D8C93KISGD4Pw8LfQpjFPU/wpatKx0o8z8PC30KYxT1P7Rzfh6Xxuo/GYvfYAvu5j/Q8tQsRCMIQLt9g1+kIOk/GG2VSjST3z+gtg/S6nzTPxiw66rY/Ms/z5uSIswu5D8WFYJLcG7zP59Vb1tvuO8/fqJAo38V4z8pHHHDUOAQQA==\",\"dtype\":\"float64\",\"order\":\"little\",\"shape\":[68]}},\"selected\":{\"id\":\"27905\"},\"selection_policy\":{\"id\":\"27928\"}},\"id\":\"27904\",\"type\":\"ColumnDataSource\"},{\"attributes\":{\"below\":[{\"id\":\"27883\"}],\"center\":[{\"id\":\"27886\"},{\"id\":\"27890\"}],\"height\":300,\"left\":[{\"id\":\"27887\"}],\"margin\":[5,5,5,5],\"min_border_bottom\":10,\"min_border_left\":10,\"min_border_right\":10,\"min_border_top\":10,\"renderers\":[{\"id\":\"27910\"}],\"sizing_mode\":\"fixed\",\"title\":{\"id\":\"27875\"},\"toolbar\":{\"id\":\"27897\"},\"width\":700,\"x_range\":{\"id\":\"27871\"},\"x_scale\":{\"id\":\"27879\"},\"y_range\":{\"id\":\"27872\"},\"y_scale\":{\"id\":\"27881\"}},\"id\":\"27874\",\"subtype\":\"Figure\",\"type\":\"Plot\"},{\"attributes\":{\"overlay\":{\"id\":\"27896\"}},\"id\":\"27894\",\"type\":\"BoxZoomTool\"}],\"root_ids\":[\"27869\"]},\"title\":\"Bokeh Application\",\"version\":\"2.3.2\"}};\n",
       "    var render_items = [{\"docid\":\"c12adc92-7564-4a65-a604-a85a5396a5c8\",\"root_ids\":[\"27869\"],\"roots\":{\"27869\":\"09de4e87-bf95-4576-8755-036086d68fd5\"}}];\n",
>>>>>>> f4869e0c2d563b7915abdccb25e3e7ec4efcab45
       "    root.Bokeh.embed.embed_items_notebook(docs_json, render_items);\n",
       "  }\n",
       "  if (root.Bokeh !== undefined && root.Bokeh.Panel !== undefined) {\n",
       "    embed_document(root);\n",
       "  } else {\n",
       "    var attempts = 0;\n",
       "    var timer = setInterval(function(root) {\n",
       "      if (root.Bokeh !== undefined && root.Bokeh.Panel !== undefined) {\n",
       "        clearInterval(timer);\n",
       "        embed_document(root);\n",
       "      } else if (document.readyState == \"complete\") {\n",
       "        attempts++;\n",
       "        if (attempts > 200) {\n",
       "          clearInterval(timer);\n",
       "          console.log(\"Bokeh: ERROR: Unable to run BokehJS code because BokehJS library is missing\");\n",
       "        }\n",
       "      }\n",
       "    }, 25, root)\n",
       "  }\n",
       "})(window);</script>"
      ],
      "text/plain": [
       ":Curve   [date]   (standardized_anomoly)"
      ]
     },
<<<<<<< HEAD
     "execution_count": 32,
     "metadata": {
      "application/vnd.holoviews_exec.v0+json": {
       "id": "1859"
=======
     "execution_count": 798,
     "metadata": {
      "application/vnd.holoviews_exec.v0+json": {
       "id": "27869"
>>>>>>> f4869e0c2d563b7915abdccb25e3e7ec4efcab45
      }
     },
     "output_type": "execute_result"
    }
   ],
   "source": [
    "# Plot USA Natural Disaster Counts Standardized Anomolies to get a visualization of the normalized data.\n",
    "disaster_standardized_anomoly_plot = disaster_standardized_anomoly.hvplot(title = \"USA Natural Disaster Count Standardized Anomolies (1950 - 2020)\",\n",
    "                                                                        xlabel = \"Date\",\n",
    "                                                                        ylabel = \"Standardized Anomolies\")\n",
    "\n",
    "disaster_standardized_anomoly_plot"
   ]
  },
  {
   "cell_type": "code",
<<<<<<< HEAD
   "execution_count": 33,
=======
   "execution_count": 799,
>>>>>>> f4869e0c2d563b7915abdccb25e3e7ec4efcab45
   "id": "707509e2-77eb-4042-932d-1cd443677ad3",
   "metadata": {},
   "outputs": [
    {
     "data": {},
     "metadata": {},
     "output_type": "display_data"
    },
    {
     "data": {
      "application/vnd.holoviews_exec.v0+json": "",
      "text/html": [
<<<<<<< HEAD
       "<div id='1981'>\n",
=======
       "<div id='27991'>\n",
>>>>>>> f4869e0c2d563b7915abdccb25e3e7ec4efcab45
       "\n",
       "\n",
       "\n",
       "\n",
       "\n",
<<<<<<< HEAD
       "  <div class=\"bk-root\" id=\"64a37990-7b28-4c50-8048-07483891ed7b\" data-root-id=\"1981\"></div>\n",
       "</div>\n",
       "<script type=\"application/javascript\">(function(root) {\n",
       "  function embed_document(root) {\n",
       "    var docs_json = {\"040475a0-6e39-4674-95aa-019b6f0d7fbd\":{\"defs\":[{\"extends\":null,\"module\":null,\"name\":\"ReactiveHTML1\",\"overrides\":[],\"properties\":[]},{\"extends\":null,\"module\":null,\"name\":\"FlexBox1\",\"overrides\":[],\"properties\":[{\"default\":\"flex-start\",\"kind\":null,\"name\":\"align_content\"},{\"default\":\"flex-start\",\"kind\":null,\"name\":\"align_items\"},{\"default\":\"row\",\"kind\":null,\"name\":\"flex_direction\"},{\"default\":\"wrap\",\"kind\":null,\"name\":\"flex_wrap\"},{\"default\":\"flex-start\",\"kind\":null,\"name\":\"justify_content\"}]},{\"extends\":null,\"module\":null,\"name\":\"TemplateActions1\",\"overrides\":[],\"properties\":[{\"default\":0,\"kind\":null,\"name\":\"open_modal\"},{\"default\":0,\"kind\":null,\"name\":\"close_modal\"}]},{\"extends\":null,\"module\":null,\"name\":\"MaterialTemplateActions1\",\"overrides\":[],\"properties\":[{\"default\":0,\"kind\":null,\"name\":\"open_modal\"},{\"default\":0,\"kind\":null,\"name\":\"close_modal\"}]}],\"roots\":{\"references\":[{\"attributes\":{\"line_color\":\"#30a2da\",\"line_width\":2,\"x\":{\"field\":\"date\"},\"y\":{\"field\":\"standardized_anomoly\"}},\"id\":\"2071\",\"type\":\"Line\"},{\"attributes\":{\"base\":24,\"mantissas\":[1,2,4,6,8,12],\"max_interval\":43200000.0,\"min_interval\":3600000.0,\"num_minor_ticks\":0},\"id\":\"2090\",\"type\":\"AdaptiveTicker\"},{\"attributes\":{},\"id\":\"2072\",\"type\":\"AllLabels\"},{\"attributes\":{\"active_multi\":null,\"tools\":[{\"id\":\"2032\"},{\"id\":\"2050\"},{\"id\":\"2051\"},{\"id\":\"2052\"},{\"id\":\"2053\"},{\"id\":\"2054\"}]},\"id\":\"2056\",\"type\":\"Toolbar\"},{\"attributes\":{},\"id\":\"2087\",\"type\":\"UnionRenderers\"},{\"attributes\":{\"margin\":[5,5,5,5],\"name\":\"HSpacer02638\",\"sizing_mode\":\"stretch_width\"},\"id\":\"1982\",\"type\":\"Spacer\"},{\"attributes\":{},\"id\":\"2050\",\"type\":\"SaveTool\"},{\"attributes\":{},\"id\":\"1991\",\"type\":\"LinearScale\"},{\"attributes\":{\"children\":[[{\"id\":\"1986\"},0,0],[{\"id\":\"2033\"},0,1]]},\"id\":\"2112\",\"type\":\"GridBox\"},{\"attributes\":{\"end\":4.862590207516203,\"reset_end\":4.862590207516203,\"reset_start\":-2.8597952255796177,\"start\":-2.8597952255796177,\"tags\":[[[\"standardized_anomoly\",\"standardized_anomoly\",null]]]},\"id\":\"1984\",\"type\":\"Range1d\"},{\"attributes\":{\"source\":{\"id\":\"2063\"}},\"id\":\"2070\",\"type\":\"CDSView\"},{\"attributes\":{\"callback\":null,\"formatters\":{\"@{time}\":\"datetime\"},\"renderers\":[{\"id\":\"2022\"}],\"tags\":[\"hv_created\"],\"tooltips\":[[\"time\",\"@{time}{%F %T}\"],[\"standardized_anomoly\",\"@{standardized_anomoly}\"]]},\"id\":\"1985\",\"type\":\"HoverTool\"},{\"attributes\":{},\"id\":\"2051\",\"type\":\"PanTool\"},{\"attributes\":{\"bottom_units\":\"screen\",\"fill_alpha\":0.5,\"fill_color\":\"lightgrey\",\"left_units\":\"screen\",\"level\":\"overlay\",\"line_alpha\":1.0,\"line_color\":\"black\",\"line_dash\":[4,4],\"line_width\":2,\"right_units\":\"screen\",\"syncable\":false,\"top_units\":\"screen\"},\"id\":\"2008\",\"type\":\"BoxAnnotation\"},{\"attributes\":{\"data\":{\"date\":[1953,1954,1955,1956,1957,1958,1959,1960,1961,1962,1963,1964,1965,1966,1967,1968,1969,1970,1971,1972,1973,1974,1975,1976,1977,1978,1979,1980,1981,1982,1983,1984,1985,1986,1987,1988,1989,1990,1991,1992,1993,1994,1995,1996,1997,1998,1999,2000,2001,2002,2003,2004,2005,2006,2007,2008,2009,2010,2011,2012,2013,2014,2015,2016,2017,2018,2019,2020],\"standardized_anomoly\":{\"__ndarray__\":\"YzfWPqZD7b/CRDJADRHrvxlIiQBnhOq/akHbf7Od679qQdt/s53rv6sRZt7FR/C/qxFm3sVH8L8MNH9+TNDtvww0f35M0O2/eFXlAc5R6L/JTjeBGmvpv39f6kLbq+a/f1/qQtur5r+0MCi+8lzuv10t0f2Y6e6/GUiJAGeE6r/dbEZEQnnkv3FL4MDA9+m/yU43gRpr6b+8WHcV1xHUvw0PczR/wci/UPS6MbEmzb+uRG2TvF3Xv1A3EZJVkNm/iL42edIjt7/xKbWQ7sLbvyk3hzi0KcK/jHP0xPVf478ZSIkAZ4Tqvy5mmMOOkuW/J1yTgoE457+hMGMRoqnav0OEp4a2oOC/3WxGREJ55L+Mc/TE9V/jv2pB23+zneu/5HZLhU/T4r9QNxGSVZDZv65EbZO8Xde/UPS6MbEmzb8pN4c4tCnCv8opKzdNXMS/5BWrDtQO37/+cfDnQTP5Pw1SyZQjK9W/IKQJLYT18D9qhDHgVwfoPwt31d7wOeo/1qWXY9mI4j+taXndiWzsP/dYxhvJK+8/rWl53Yls7D8C93KISGD4Pw8LfQpjFPU/wpatKx0o8z8PC30KYxT1P7Rzfh6Xxuo/GYvfYAvu5j/Q8tQsRCMIQLt9g1+kIOk/GG2VSjST3z+gtg/S6nzTPxiw66rY/Ms/z5uSIswu5D8WFYJLcG7zP59Vb1tvuO8/fqJAo38V4z8pHHHDUOAQQA==\",\"dtype\":\"float64\",\"order\":\"little\",\"shape\":[68]}},\"selected\":{\"id\":\"2064\"},\"selection_policy\":{\"id\":\"2110\"}},\"id\":\"2063\",\"type\":\"ColumnDataSource\"},{\"attributes\":{\"data_source\":{\"id\":\"2063\"},\"glyph\":{\"id\":\"2066\"},\"hover_glyph\":null,\"muted_glyph\":{\"id\":\"2068\"},\"nonselection_glyph\":{\"id\":\"2067\"},\"selection_glyph\":{\"id\":\"2071\"},\"view\":{\"id\":\"2070\"}},\"id\":\"2069\",\"type\":\"GlyphRenderer\"},{\"attributes\":{},\"id\":\"2052\",\"type\":\"WheelZoomTool\"},{\"attributes\":{\"days\":[1,2,3,4,5,6,7,8,9,10,11,12,13,14,15,16,17,18,19,20,21,22,23,24,25,26,27,28,29,30,31]},\"id\":\"2091\",\"type\":\"DaysTicker\"},{\"attributes\":{\"overlay\":{\"id\":\"2055\"}},\"id\":\"2053\",\"type\":\"BoxZoomTool\"},{\"attributes\":{\"source\":{\"id\":\"2016\"}},\"id\":\"2023\",\"type\":\"CDSView\"},{\"attributes\":{\"end\":2020.0,\"reset_end\":2020.0,\"reset_start\":1953.0,\"start\":1953.0,\"tags\":[[[\"date\",\"date\",null]]]},\"id\":\"2031\",\"type\":\"Range1d\"},{\"attributes\":{},\"id\":\"2054\",\"type\":\"ResetTool\"},{\"attributes\":{\"line_color\":\"#30a2da\",\"line_width\":2,\"x\":{\"field\":\"time\"},\"y\":{\"field\":\"standardized_anomoly\"}},\"id\":\"2024\",\"type\":\"Line\"},{\"attributes\":{},\"id\":\"2075\",\"type\":\"AllLabels\"},{\"attributes\":{\"days\":[1,4,7,10,13,16,19,22,25,28]},\"id\":\"2092\",\"type\":\"DaysTicker\"},{\"attributes\":{},\"id\":\"2028\",\"type\":\"AllLabels\"},{\"attributes\":{\"axis_label\":\"Date\",\"formatter\":{\"id\":\"2026\"},\"major_label_policy\":{\"id\":\"2025\"},\"ticker\":{\"id\":\"1996\"}},\"id\":\"1995\",\"type\":\"DatetimeAxis\"},{\"attributes\":{\"months\":[0,2,4,6,8,10]},\"id\":\"2096\",\"type\":\"MonthsTicker\"},{\"attributes\":{},\"id\":\"2025\",\"type\":\"AllLabels\"},{\"attributes\":{\"below\":[{\"id\":\"1995\"}],\"center\":[{\"id\":\"1998\"},{\"id\":\"2002\"}],\"height\":300,\"left\":[{\"id\":\"1999\"}],\"margin\":null,\"min_border_bottom\":10,\"min_border_left\":10,\"min_border_right\":10,\"min_border_top\":10,\"renderers\":[{\"id\":\"2022\"}],\"sizing_mode\":\"fixed\",\"title\":{\"id\":\"1987\"},\"toolbar\":{\"id\":\"2009\"},\"toolbar_location\":null,\"width\":700,\"x_range\":{\"id\":\"1983\"},\"x_scale\":{\"id\":\"1991\"},\"y_range\":{\"id\":\"1984\"},\"y_scale\":{\"id\":\"1993\"}},\"id\":\"1986\",\"subtype\":\"Figure\",\"type\":\"Plot\"},{\"attributes\":{},\"id\":\"2026\",\"type\":\"DatetimeTickFormatter\"},{\"attributes\":{},\"id\":\"2073\",\"type\":\"BasicTickFormatter\"},{\"attributes\":{\"line_color\":\"#30a2da\",\"line_width\":2,\"x\":{\"field\":\"date\"},\"y\":{\"field\":\"standardized_anomoly\"}},\"id\":\"2066\",\"type\":\"Line\"},{\"attributes\":{\"line_color\":\"#30a2da\",\"line_width\":2,\"x\":{\"field\":\"time\"},\"y\":{\"field\":\"standardized_anomoly\"}},\"id\":\"2019\",\"type\":\"Line\"},{\"attributes\":{\"days\":[1,8,15,22]},\"id\":\"2093\",\"type\":\"DaysTicker\"},{\"attributes\":{},\"id\":\"2017\",\"type\":\"Selection\"},{\"attributes\":{\"days\":[1,15]},\"id\":\"2094\",\"type\":\"DaysTicker\"},{\"attributes\":{},\"id\":\"1993\",\"type\":\"LinearScale\"},{\"attributes\":{},\"id\":\"2038\",\"type\":\"LinearScale\"},{\"attributes\":{\"months\":[0,1,2,3,4,5,6,7,8,9,10,11]},\"id\":\"2095\",\"type\":\"MonthsTicker\"},{\"attributes\":{},\"id\":\"2000\",\"type\":\"BasicTicker\"},{\"attributes\":{\"mantissas\":[1,2,5],\"max_interval\":500.0,\"num_minor_ticks\":0},\"id\":\"2088\",\"type\":\"AdaptiveTicker\"},{\"attributes\":{\"text\":\"Land and Ocean Standardized Temperature Anomolies (1850 - 2016)\",\"text_color\":\"black\",\"text_font_size\":\"12pt\"},\"id\":\"1987\",\"type\":\"Title\"},{\"attributes\":{\"base\":60,\"mantissas\":[1,2,5,10,15,20,30],\"max_interval\":1800000.0,\"min_interval\":1000.0,\"num_minor_ticks\":0},\"id\":\"2089\",\"type\":\"AdaptiveTicker\"},{\"attributes\":{\"margin\":[5,5,5,5],\"name\":\"HSpacer02639\",\"sizing_mode\":\"stretch_width\"},\"id\":\"2404\",\"type\":\"Spacer\"},{\"attributes\":{\"bottom_units\":\"screen\",\"fill_alpha\":0.5,\"fill_color\":\"lightgrey\",\"left_units\":\"screen\",\"level\":\"overlay\",\"line_alpha\":1.0,\"line_color\":\"black\",\"line_dash\":[4,4],\"line_width\":2,\"right_units\":\"screen\",\"syncable\":false,\"top_units\":\"screen\"},\"id\":\"2055\",\"type\":\"BoxAnnotation\"},{\"attributes\":{\"num_minor_ticks\":5,\"tickers\":[{\"id\":\"2088\"},{\"id\":\"2089\"},{\"id\":\"2090\"},{\"id\":\"2091\"},{\"id\":\"2092\"},{\"id\":\"2093\"},{\"id\":\"2094\"},{\"id\":\"2095\"},{\"id\":\"2096\"},{\"id\":\"2097\"},{\"id\":\"2098\"},{\"id\":\"2099\"}]},\"id\":\"1996\",\"type\":\"DatetimeTicker\"},{\"attributes\":{\"axis\":{\"id\":\"1995\"},\"grid_line_color\":null,\"ticker\":null},\"id\":\"1998\",\"type\":\"Grid\"},{\"attributes\":{\"callback\":null,\"renderers\":[{\"id\":\"2069\"}],\"tags\":[\"hv_created\"],\"tooltips\":[[\"date\",\"@{date}\"],[\"standardized_anomoly\",\"@{standardized_anomoly}\"]]},\"id\":\"2032\",\"type\":\"HoverTool\"},{\"attributes\":{},\"id\":\"2029\",\"type\":\"BasicTickFormatter\"},{\"attributes\":{\"axis\":{\"id\":\"1999\"},\"dimension\":1,\"grid_line_color\":null,\"ticker\":null},\"id\":\"2002\",\"type\":\"Grid\"},{\"attributes\":{\"axis_label\":\"Date\",\"formatter\":{\"id\":\"2073\"},\"major_label_policy\":{\"id\":\"2072\"},\"ticker\":{\"id\":\"2043\"}},\"id\":\"2042\",\"type\":\"LinearAxis\"},{\"attributes\":{\"axis_label\":\"Standardized Anomolies\",\"formatter\":{\"id\":\"2029\"},\"major_label_policy\":{\"id\":\"2028\"},\"ticker\":{\"id\":\"2000\"}},\"id\":\"1999\",\"type\":\"LinearAxis\"},{\"attributes\":{\"months\":[0,4,8]},\"id\":\"2097\",\"type\":\"MonthsTicker\"},{\"attributes\":{},\"id\":\"2040\",\"type\":\"LinearScale\"},{\"attributes\":{\"line_alpha\":0.1,\"line_color\":\"#30a2da\",\"line_width\":2,\"x\":{\"field\":\"time\"},\"y\":{\"field\":\"standardized_anomoly\"}},\"id\":\"2020\",\"type\":\"Line\"},{\"attributes\":{\"line_alpha\":0.2,\"line_color\":\"#30a2da\",\"line_width\":2,\"x\":{\"field\":\"time\"},\"y\":{\"field\":\"standardized_anomoly\"}},\"id\":\"2021\",\"type\":\"Line\"},{\"attributes\":{\"months\":[0,6]},\"id\":\"2098\",\"type\":\"MonthsTicker\"},{\"attributes\":{},\"id\":\"2110\",\"type\":\"UnionRenderers\"},{\"attributes\":{\"below\":[{\"id\":\"2042\"}],\"center\":[{\"id\":\"2045\"},{\"id\":\"2049\"}],\"height\":300,\"left\":[{\"id\":\"2046\"}],\"margin\":null,\"min_border_bottom\":10,\"min_border_left\":10,\"min_border_right\":10,\"min_border_top\":10,\"renderers\":[{\"id\":\"2069\"}],\"sizing_mode\":\"fixed\",\"title\":{\"id\":\"2034\"},\"toolbar\":{\"id\":\"2056\"},\"toolbar_location\":null,\"width\":700,\"x_range\":{\"id\":\"2031\"},\"x_scale\":{\"id\":\"2038\"},\"y_range\":{\"id\":\"1984\"},\"y_scale\":{\"id\":\"2040\"}},\"id\":\"2033\",\"subtype\":\"Figure\",\"type\":\"Plot\"},{\"attributes\":{\"data_source\":{\"id\":\"2016\"},\"glyph\":{\"id\":\"2019\"},\"hover_glyph\":null,\"muted_glyph\":{\"id\":\"2021\"},\"nonselection_glyph\":{\"id\":\"2020\"},\"selection_glyph\":{\"id\":\"2024\"},\"view\":{\"id\":\"2023\"}},\"id\":\"2022\",\"type\":\"GlyphRenderer\"},{\"attributes\":{},\"id\":\"2099\",\"type\":\"YearsTicker\"},{\"attributes\":{},\"id\":\"2064\",\"type\":\"Selection\"},{\"attributes\":{\"toolbars\":[{\"id\":\"2009\"},{\"id\":\"2056\"}],\"tools\":[{\"id\":\"1985\"},{\"id\":\"2003\"},{\"id\":\"2004\"},{\"id\":\"2005\"},{\"id\":\"2006\"},{\"id\":\"2007\"},{\"id\":\"2032\"},{\"id\":\"2050\"},{\"id\":\"2051\"},{\"id\":\"2052\"},{\"id\":\"2053\"},{\"id\":\"2054\"}]},\"id\":\"2113\",\"type\":\"ProxyToolbar\"},{\"attributes\":{},\"id\":\"2003\",\"type\":\"SaveTool\"},{\"attributes\":{\"line_alpha\":0.1,\"line_color\":\"#30a2da\",\"line_width\":2,\"x\":{\"field\":\"date\"},\"y\":{\"field\":\"standardized_anomoly\"}},\"id\":\"2067\",\"type\":\"Line\"},{\"attributes\":{\"children\":[{\"id\":\"2114\"},{\"id\":\"2112\"}]},\"id\":\"2115\",\"type\":\"Column\"},{\"attributes\":{},\"id\":\"2004\",\"type\":\"PanTool\"},{\"attributes\":{\"axis\":{\"id\":\"2046\"},\"dimension\":1,\"grid_line_color\":null,\"ticker\":null},\"id\":\"2049\",\"type\":\"Grid\"},{\"attributes\":{},\"id\":\"2005\",\"type\":\"WheelZoomTool\"},{\"attributes\":{\"active_multi\":null,\"tools\":[{\"id\":\"1985\"},{\"id\":\"2003\"},{\"id\":\"2004\"},{\"id\":\"2005\"},{\"id\":\"2006\"},{\"id\":\"2007\"}]},\"id\":\"2009\",\"type\":\"Toolbar\"},{\"attributes\":{\"overlay\":{\"id\":\"2008\"}},\"id\":\"2006\",\"type\":\"BoxZoomTool\"},{\"attributes\":{\"data\":{\"standardized_anomoly\":{\"__ndarray__\":\"0pd+1Jdg+r9EzhT9lnfxv4q2Yok8a/C/cwlSHnkW9L+yj0pP1obxv8T9a9XQwO6/PMRtV/uB+b8RNHjztRQBwKkA4rRWWvm/itKuv3fk9b9ynoYPa0D5v3RDQNtUIf+/uSLCJui6AcAbiTaAvHn1v11oGu3iR/i/aAbduScf8b/VSVKNfp7pv2ZEe0SBYem/wIg0Y8zp479irgnNcmfovxx67ivhkvC/m1eI3Oh18L+fw03I2gDvv9kiOlMYuuq/lsbbz+30879o37Kh13b2v5Az2XKNW/e/Dj+eseCNyj98QRP811LhP/VxlW8Xj+i/9/LW5pdD8L9XaB4alk7lvx4LiN+9rem/gpxI55KC87/HbgoAKc38v50MtaTgSfu/fmuJB5Go/L+VKmO/xwj+v5+qgwVsTvG/ktPj3gCO4b+hoiYc70P8vwYcLUnW5fS/F3+huApI+b/9biIotif3v/wqgTH4+fa/SbPV/F0Z879VnWXejtHkv6YOFWyc/+a/A5iEHjv3+L/ZZbCho9vqv1LhCYfLY9q/ORUXXcxI579xxIV/iNzzv31pM7crkPy/hVPL/+9u/r9ySnIcnx/0v+Ja9ntiNO2/hguQRlHU+b/YRs1nM3P8vwrU2glm3v+/pkWcdV3Q/b+ZtbuUU3IAwKqH+fmfqfm/tDQEG8Bn97+my54dEd7mvwXjNC/+b9q/pKDiqXPv97+pVPanInv+vwMCJYUWwfO/CpZSiqlm8L91bdGmvwPuv+P3mTS7LOO/Pm3qSYEA8L8sKAUIz8ntvwKDOV77JOy/Dd6F3LTa5L8PMVkuFzmWP7Q2cHbCSuC/Wy3MgqW53b/K1TtMVjbzv+moOt7bN9K/wf5NEFk9or+TiDaN6ZLLv1mYie2p6++/ml1zOho52r/+ASmyycfgv4TRnNRgB9S/BpPIohxg0j9G405nTkHQP3ieodxJ5tI/OHF344xr4z/12c4vBTjlP7Ez0IOYedk/orKiB/IY3z87akWiQm3uP9vWRd0GBts/2X7wYitVvj/p0Ya8liPVP1VSjmymhbw/2R6nfJbRrr8wfn3vCafbvzTYiK3GbNU/EFTuJjUi4j+bDyl0o2zqP5AP+/pezpm/WZxhpK6x0b8rq6D8Z53iv4R3edS8tOM/h5GBmHzZ5D95lRlLms/dP663Q5zX188/YgpqUzOK5D+vtRCA5IvZP/K/xmtFE+Q/kccKpdMH4b9kI5d1giTHv8hVVc0iQ8A/a2pmrJeQ0D9bmqTHtaq/P9Rsv657DeY/JmM0a02S2z8P7QX1arbEv7HiI78bNdA/uNrtQ/EW6D84Ra5GGnvTvwVrwI5dVoY/OzT5GwgP3r8mZrEpBZfoP5oVNEebftI/KrmsUohv6T8XWuiw0UTyP64BCqsKAvQ/dh+H4Eg33j8MaBHxwEz0P3uty770294/npZE88zb3T+t13jfnx/lPx6PI+GDmvQ/pmEDbErW9j/u0X3azlrtP4L4ja2hGPw/xMWozVTb+T/ztj7alfzuPyLRgGXGc/A/2d/IuaFa9T88RrKNJ7T8P0NPLouQnfQ/lWBsOFsRAUBIG467gBMFQKBJPxoGBvo/WdrZSBfD+j/3Sy8pUvwCQNo99Ap5MAVAv+sg5dYYBUCks2S8jJ4CQEaWw9en+gZAIvH60iWhBEBaHLljsx8FQI2W2/80VQFAJLyzDi0eBUBjs085UY8HQJzNbyWeDgNAMsiSkv06BEBCoqJbeBcGQIohhBhqLwhAXKdbMkVjDUA=\",\"dtype\":\"float64\",\"order\":\"little\",\"shape\":[166]},\"time\":{\"__ndarray__\":\"AADg0e5Si8IAAIBIMRiLwgAAQIxK3YrCAADgAo2iisIAAIB5z2eKwgAAIPARLYrCAADgMyvyicIAAICqbbeJwgAAICGwfInCAADAl/JBicIAAIDbCweJwgAAIFJOzIjCAADAyJCRiMIAAGA/01aIwgAAIIPsG4jCAADA+S7hh8IAAGBwcaaHwgAAAOeza4fCAADAKs0wh8IAAGChD/aGwgAAABhSu4bCAACgjpSAhsIAAGDSrUWGwgAAAEnwCobCAACgvzLQhcIAAEA2dZWFwgAAAHqOWoXCAACg8NAfhcIAAEBnE+WEwgAA4N1VqoTCAACgIW9vhMIAAECYsTSEwgAA4A70+YPCAACAhTa/g8IAAEDJT4SDwgAA4D+SSYPCAACAttQOg8IAACAtF9SCwgAA4HAwmYLCAACA53JegsIAACBetSOCwgAAwNT36IHCAACAGBGugcIAACCPU3OBwgAAwAWWOIHCAABgfNj9gMIAACDA8cKAwgAAwDY0iIDCAABgrXZNgMIAAAAkuRKAwgAAQDX3r3/CAACAInw6f8IAAMAPAcV+wgAAAP2FT37CAACAhLjZfcIAAMBxPWR9wgAAAF/C7nzCAABATEd5fMIAAMDTeQN8wgAAAMH+jXvCAABAroMYe8IAAICbCKN6wgAAACM7LXrCAABAEMC3ecIAAID9REJ5wgAAwOrJzHjCAABAcvxWeMIAAIBfgeF3wgAAwEwGbHfCAAAAOov2dsIAAIDBvYB2wgAAwK5CC3bCAAAAnMeVdcIAAECJTCB1wgAAwBB/qnTCAAAA/gM1dMIAAEDriL9zwgAAgNgNSnPCAAAAYEDUcsIAAEBNxV5ywgAAgDpK6XHCAADAJ89zccIAAECvAf5wwgAAgJyGiHDCAADAiQsTcMIAAADuIDtvwgAAAP2FT27CAACA149kbcIAAACymXlswgAAgIyjjmvCAACAmwijasIAAAB2ErhpwgAAgFAczWjCAAAAKybiZ8IAAAA6i/ZmwgAAgBSVC2bCAAAA754gZcIAAIDJqDVkwgAAgNgNSmPCAAAAsxdfYsIAAICNIXRhwgAAAGgriWDCAAAA7iA7X8IAAACjNGVdwgAAAFhIj1vCAAAADVy5WcIAAAArJuJXwgAAAOA5DFbCAAAAlU02VMIAAABKYWBSwgAAAGgriVDCAAAAOn5mTcIAAACkpbpJwgAAAA7NDkbCAAAASmFgQsIAAABoEWk9wgAAADxgETbCAAAAIF5zLcIAAAAgXnMdwgAAAABwmZTBAAAAQCtKHUIAAAD4d1QtQgAAAIQTBzZCAAAAsMRePUIAAADuOltCQgAAAIQTB0ZCAAAASH+1SUIAAADeV2FNQgAAADqYhlBCAAAAhYRcUkIAAABnujNUQgAAALKmCVZCAAAA/ZLfV0IAAABIf7VZQgAAACq1jFtCAAAAdaFiXUIAAADAjThfQgAAgAU9h2BCAACA9tdyYUIAAAAczl1iQgAAgEHESGNCAAAAZ7ozZEIAAABYVR9lQgAAgH1LCmZCAAAAo0H1ZkIAAIDIN+BnQgAAgLnSy2hCAAAA38i2aUIAAIAEv6FqQgAAACq1jGtCAAAAG1B4bEIAAIBARmNtQgAAAGY8Tm5CAACAizI5b0IAAEC+ZhJwQgAAANHhh3BCAADA41z9cEIAAID213JxQgAAAG+l6HFCAADAgSBeckIAAICUm9NyQgAAQKcWSXNCAADAH+S+c0IAAIAyXzR0QgAAQEXaqXRCAAAAWFUfdUI=\",\"dtype\":\"float64\",\"order\":\"little\",\"shape\":[166]}},\"selected\":{\"id\":\"2017\"},\"selection_policy\":{\"id\":\"2087\"}},\"id\":\"2016\",\"type\":\"ColumnDataSource\"},{\"attributes\":{\"text\":\"USA Natural Disaster Count Standardized Anomolies (1950 - 2020)\",\"text_color\":\"black\",\"text_font_size\":\"12pt\"},\"id\":\"2034\",\"type\":\"Title\"},{\"attributes\":{},\"id\":\"2043\",\"type\":\"BasicTicker\"},{\"attributes\":{\"axis\":{\"id\":\"2042\"},\"grid_line_color\":null,\"ticker\":null},\"id\":\"2045\",\"type\":\"Grid\"},{\"attributes\":{},\"id\":\"2007\",\"type\":\"ResetTool\"},{\"attributes\":{},\"id\":\"2076\",\"type\":\"BasicTickFormatter\"},{\"attributes\":{},\"id\":\"2047\",\"type\":\"BasicTicker\"},{\"attributes\":{\"axis_label\":\"Standardized Anomolies\",\"formatter\":{\"id\":\"2076\"},\"major_label_policy\":{\"id\":\"2075\"},\"ticker\":{\"id\":\"2047\"}},\"id\":\"2046\",\"type\":\"LinearAxis\"},{\"attributes\":{\"end\":1451520000000.0,\"reset_end\":1451520000000.0,\"reset_start\":-3755376000000.0,\"start\":-3755376000000.0,\"tags\":[[[\"time\",\"time\",null]]]},\"id\":\"1983\",\"type\":\"Range1d\"},{\"attributes\":{\"toolbar\":{\"id\":\"2113\"},\"toolbar_location\":\"above\"},\"id\":\"2114\",\"type\":\"ToolbarBox\"},{\"attributes\":{\"children\":[{\"id\":\"1982\"},{\"id\":\"2115\"},{\"id\":\"2404\"}],\"margin\":[0,0,0,0],\"name\":\"Row02634\",\"tags\":[\"embedded\"]},\"id\":\"1981\",\"type\":\"Row\"},{\"attributes\":{\"line_alpha\":0.2,\"line_color\":\"#30a2da\",\"line_width\":2,\"x\":{\"field\":\"date\"},\"y\":{\"field\":\"standardized_anomoly\"}},\"id\":\"2068\",\"type\":\"Line\"}],\"root_ids\":[\"1981\"]},\"title\":\"Bokeh Application\",\"version\":\"2.3.3\"}};\n",
       "    var render_items = [{\"docid\":\"040475a0-6e39-4674-95aa-019b6f0d7fbd\",\"root_ids\":[\"1981\"],\"roots\":{\"1981\":\"64a37990-7b28-4c50-8048-07483891ed7b\"}}];\n",
=======
       "  <div class=\"bk-root\" id=\"f0f7f314-f676-4721-9083-8a9c2daf803b\" data-root-id=\"27991\"></div>\n",
       "</div>\n",
       "<script type=\"application/javascript\">(function(root) {\n",
       "  function embed_document(root) {\n",
       "    var docs_json = {\"ae8f25f7-f98c-41aa-a0bd-2140c17a8922\":{\"defs\":[{\"extends\":null,\"module\":null,\"name\":\"ReactiveHTML1\",\"overrides\":[],\"properties\":[]},{\"extends\":null,\"module\":null,\"name\":\"FlexBox1\",\"overrides\":[],\"properties\":[{\"default\":\"flex-start\",\"kind\":null,\"name\":\"align_content\"},{\"default\":\"flex-start\",\"kind\":null,\"name\":\"align_items\"},{\"default\":\"row\",\"kind\":null,\"name\":\"flex_direction\"},{\"default\":\"wrap\",\"kind\":null,\"name\":\"flex_wrap\"},{\"default\":\"flex-start\",\"kind\":null,\"name\":\"justify_content\"}]},{\"extends\":null,\"module\":null,\"name\":\"TemplateActions1\",\"overrides\":[],\"properties\":[{\"default\":0,\"kind\":null,\"name\":\"open_modal\"},{\"default\":0,\"kind\":null,\"name\":\"close_modal\"}]},{\"extends\":null,\"module\":null,\"name\":\"MaterialTemplateActions1\",\"overrides\":[],\"properties\":[{\"default\":0,\"kind\":null,\"name\":\"open_modal\"},{\"default\":0,\"kind\":null,\"name\":\"close_modal\"}]}],\"roots\":{\"references\":[{\"attributes\":{},\"id\":\"28064\",\"type\":\"ResetTool\"},{\"attributes\":{},\"id\":\"28037\",\"type\":\"AllLabels\"},{\"attributes\":{\"toolbar\":{\"id\":\"28123\"},\"toolbar_location\":\"above\"},\"id\":\"28124\",\"type\":\"ToolbarBox\"},{\"attributes\":{},\"id\":\"28062\",\"type\":\"WheelZoomTool\"},{\"attributes\":{\"toolbars\":[{\"id\":\"28019\"},{\"id\":\"28066\"}],\"tools\":[{\"id\":\"27995\"},{\"id\":\"28013\"},{\"id\":\"28014\"},{\"id\":\"28015\"},{\"id\":\"28016\"},{\"id\":\"28017\"},{\"id\":\"28042\"},{\"id\":\"28060\"},{\"id\":\"28061\"},{\"id\":\"28062\"},{\"id\":\"28063\"},{\"id\":\"28064\"}]},\"id\":\"28123\",\"type\":\"ProxyToolbar\"},{\"attributes\":{},\"id\":\"28038\",\"type\":\"BasicTickFormatter\"},{\"attributes\":{},\"id\":\"28061\",\"type\":\"PanTool\"},{\"attributes\":{\"overlay\":{\"id\":\"28065\"}},\"id\":\"28063\",\"type\":\"BoxZoomTool\"},{\"attributes\":{\"children\":[{\"id\":\"28124\"},{\"id\":\"28122\"}]},\"id\":\"28125\",\"type\":\"Column\"},{\"attributes\":{},\"id\":\"28040\",\"type\":\"AllLabels\"},{\"attributes\":{},\"id\":\"28087\",\"type\":\"AllLabels\"},{\"attributes\":{\"line_color\":\"#30a2da\",\"line_width\":2,\"x\":{\"field\":\"date\"},\"y\":{\"field\":\"standardized_anomoly\"}},\"id\":\"28081\",\"type\":\"Line\"},{\"attributes\":{\"data_source\":{\"id\":\"28026\"},\"glyph\":{\"id\":\"28029\"},\"hover_glyph\":null,\"muted_glyph\":{\"id\":\"28031\"},\"nonselection_glyph\":{\"id\":\"28030\"},\"selection_glyph\":{\"id\":\"28034\"},\"view\":{\"id\":\"28033\"}},\"id\":\"28032\",\"type\":\"GlyphRenderer\"},{\"attributes\":{\"text\":\"Land and Ocean Standardized Temperature Anomolies (1850 - 2016)\",\"text_color\":\"black\",\"text_font_size\":\"12pt\"},\"id\":\"27997\",\"type\":\"Title\"},{\"attributes\":{},\"id\":\"28027\",\"type\":\"Selection\"},{\"attributes\":{\"line_alpha\":0.1,\"line_color\":\"#30a2da\",\"line_width\":2,\"x\":{\"field\":\"date\"},\"y\":{\"field\":\"standardized_anomoly\"}},\"id\":\"28077\",\"type\":\"Line\"},{\"attributes\":{},\"id\":\"28097\",\"type\":\"UnionRenderers\"},{\"attributes\":{\"callback\":null,\"formatters\":{\"@{time}\":\"datetime\"},\"renderers\":[{\"id\":\"28032\"}],\"tags\":[\"hv_created\"],\"tooltips\":[[\"time\",\"@{time}{%F %T}\"],[\"standardized_anomoly\",\"@{standardized_anomoly}\"]]},\"id\":\"27995\",\"type\":\"HoverTool\"},{\"attributes\":{\"line_alpha\":0.2,\"line_color\":\"#30a2da\",\"line_width\":2,\"x\":{\"field\":\"time\"},\"y\":{\"field\":\"standardized_anomoly\"}},\"id\":\"28031\",\"type\":\"Line\"},{\"attributes\":{\"base\":24,\"mantissas\":[1,2,4,6,8,12],\"max_interval\":43200000.0,\"min_interval\":3600000.0,\"num_minor_ticks\":0},\"id\":\"28100\",\"type\":\"AdaptiveTicker\"},{\"attributes\":{\"source\":{\"id\":\"28073\"}},\"id\":\"28080\",\"type\":\"CDSView\"},{\"attributes\":{},\"id\":\"28053\",\"type\":\"BasicTicker\"},{\"attributes\":{\"line_color\":\"#30a2da\",\"line_width\":2,\"x\":{\"field\":\"time\"},\"y\":{\"field\":\"standardized_anomoly\"}},\"id\":\"28034\",\"type\":\"Line\"},{\"attributes\":{\"active_multi\":null,\"tools\":[{\"id\":\"28042\"},{\"id\":\"28060\"},{\"id\":\"28061\"},{\"id\":\"28062\"},{\"id\":\"28063\"},{\"id\":\"28064\"}]},\"id\":\"28066\",\"type\":\"Toolbar\"},{\"attributes\":{\"line_color\":\"#30a2da\",\"line_width\":2,\"x\":{\"field\":\"time\"},\"y\":{\"field\":\"standardized_anomoly\"}},\"id\":\"28029\",\"type\":\"Line\"},{\"attributes\":{\"days\":[1,2,3,4,5,6,7,8,9,10,11,12,13,14,15,16,17,18,19,20,21,22,23,24,25,26,27,28,29,30,31]},\"id\":\"28101\",\"type\":\"DaysTicker\"},{\"attributes\":{\"axis\":{\"id\":\"28009\"},\"dimension\":1,\"grid_line_color\":null,\"ticker\":null},\"id\":\"28012\",\"type\":\"Grid\"},{\"attributes\":{},\"id\":\"28013\",\"type\":\"SaveTool\"},{\"attributes\":{\"children\":[{\"id\":\"27992\"},{\"id\":\"28125\"},{\"id\":\"28414\"}],\"margin\":[0,0,0,0],\"name\":\"Row30472\",\"tags\":[\"embedded\"]},\"id\":\"27991\",\"type\":\"Row\"},{\"attributes\":{\"axis\":{\"id\":\"28052\"},\"grid_line_color\":null,\"ticker\":null},\"id\":\"28055\",\"type\":\"Grid\"},{\"attributes\":{},\"id\":\"28082\",\"type\":\"BasicTickFormatter\"},{\"attributes\":{\"bottom_units\":\"screen\",\"fill_alpha\":0.5,\"fill_color\":\"lightgrey\",\"left_units\":\"screen\",\"level\":\"overlay\",\"line_alpha\":1.0,\"line_color\":\"black\",\"line_dash\":[4,4],\"line_width\":2,\"right_units\":\"screen\",\"syncable\":false,\"top_units\":\"screen\"},\"id\":\"28065\",\"type\":\"BoxAnnotation\"},{\"attributes\":{\"mantissas\":[1,2,5],\"max_interval\":500.0,\"num_minor_ticks\":0},\"id\":\"28098\",\"type\":\"AdaptiveTicker\"},{\"attributes\":{},\"id\":\"28015\",\"type\":\"WheelZoomTool\"},{\"attributes\":{\"below\":[{\"id\":\"28005\"}],\"center\":[{\"id\":\"28008\"},{\"id\":\"28012\"}],\"height\":300,\"left\":[{\"id\":\"28009\"}],\"margin\":null,\"min_border_bottom\":10,\"min_border_left\":10,\"min_border_right\":10,\"min_border_top\":10,\"renderers\":[{\"id\":\"28032\"}],\"sizing_mode\":\"fixed\",\"title\":{\"id\":\"27997\"},\"toolbar\":{\"id\":\"28019\"},\"toolbar_location\":null,\"width\":700,\"x_range\":{\"id\":\"27993\"},\"x_scale\":{\"id\":\"28001\"},\"y_range\":{\"id\":\"27994\"},\"y_scale\":{\"id\":\"28003\"}},\"id\":\"27996\",\"subtype\":\"Figure\",\"type\":\"Plot\"},{\"attributes\":{},\"id\":\"28084\",\"type\":\"AllLabels\"},{\"attributes\":{\"end\":1451520000000.0,\"reset_end\":1451520000000.0,\"reset_start\":-3755376000000.0,\"start\":-3755376000000.0,\"tags\":[[[\"time\",\"time\",null]]]},\"id\":\"27993\",\"type\":\"Range1d\"},{\"attributes\":{\"source\":{\"id\":\"28026\"}},\"id\":\"28033\",\"type\":\"CDSView\"},{\"attributes\":{},\"id\":\"28048\",\"type\":\"LinearScale\"},{\"attributes\":{\"children\":[[{\"id\":\"27996\"},0,0],[{\"id\":\"28043\"},0,1]]},\"id\":\"28122\",\"type\":\"GridBox\"},{\"attributes\":{\"below\":[{\"id\":\"28052\"}],\"center\":[{\"id\":\"28055\"},{\"id\":\"28059\"}],\"height\":300,\"left\":[{\"id\":\"28056\"}],\"margin\":null,\"min_border_bottom\":10,\"min_border_left\":10,\"min_border_right\":10,\"min_border_top\":10,\"renderers\":[{\"id\":\"28079\"}],\"sizing_mode\":\"fixed\",\"title\":{\"id\":\"28044\"},\"toolbar\":{\"id\":\"28066\"},\"toolbar_location\":null,\"width\":700,\"x_range\":{\"id\":\"28041\"},\"x_scale\":{\"id\":\"28048\"},\"y_range\":{\"id\":\"27994\"},\"y_scale\":{\"id\":\"28050\"}},\"id\":\"28043\",\"subtype\":\"Figure\",\"type\":\"Plot\"},{\"attributes\":{\"margin\":[5,5,5,5],\"name\":\"HSpacer30477\",\"sizing_mode\":\"stretch_width\"},\"id\":\"28414\",\"type\":\"Spacer\"},{\"attributes\":{\"callback\":null,\"renderers\":[{\"id\":\"28079\"}],\"tags\":[\"hv_created\"],\"tooltips\":[[\"date\",\"@{date}\"],[\"standardized_anomoly\",\"@{standardized_anomoly}\"]]},\"id\":\"28042\",\"type\":\"HoverTool\"},{\"attributes\":{\"days\":[1,4,7,10,13,16,19,22,25,28]},\"id\":\"28102\",\"type\":\"DaysTicker\"},{\"attributes\":{\"overlay\":{\"id\":\"28018\"}},\"id\":\"28016\",\"type\":\"BoxZoomTool\"},{\"attributes\":{},\"id\":\"28085\",\"type\":\"BasicTickFormatter\"},{\"attributes\":{\"num_minor_ticks\":5,\"tickers\":[{\"id\":\"28098\"},{\"id\":\"28099\"},{\"id\":\"28100\"},{\"id\":\"28101\"},{\"id\":\"28102\"},{\"id\":\"28103\"},{\"id\":\"28104\"},{\"id\":\"28105\"},{\"id\":\"28106\"},{\"id\":\"28107\"},{\"id\":\"28108\"},{\"id\":\"28109\"}]},\"id\":\"28006\",\"type\":\"DatetimeTicker\"},{\"attributes\":{\"axis_label\":\"Date\",\"formatter\":{\"id\":\"28082\"},\"major_label_policy\":{\"id\":\"28084\"},\"ticker\":{\"id\":\"28053\"}},\"id\":\"28052\",\"type\":\"LinearAxis\"},{\"attributes\":{},\"id\":\"28003\",\"type\":\"LinearScale\"},{\"attributes\":{},\"id\":\"28060\",\"type\":\"SaveTool\"},{\"attributes\":{},\"id\":\"28035\",\"type\":\"DatetimeTickFormatter\"},{\"attributes\":{\"data\":{\"standardized_anomoly\":{\"__ndarray__\":\"0pd+1Jdg+r9ozhT9lnfxv2a2Yok8a/C/cwlSHnkW9L/Vj0pP1obxv1P+a9XQwO6/PMRtV/uB+b8RNHjztRQBwKkA4rRWWvm/QtKuv3fk9b+VnoYPa0D5v3RDQNtUIf+/uSLCJui6AcD3iDaAvHn1v6RoGu3iR/i/aAbduScf8b+NSVKNfp7pv2ZEe0SBYem/wIg0Y8zp47+qrgnNcmfov/h57ivhkvC/VFeI3Oh18L9Xw03I2gDvv9kiOlMYuuq/lsbbz+30879o37Kh13b2v0gz2XKNW/e/SkGeseCNyj98QRP811LhP61xlW8Xj+i/P/PW5pdD8L8QaB4alk7lv60LiN+9rem/gpxI55KC87+kbgoAKc38v3kMtaTgSfu/fmuJB5Go/L+VKmO/xwj+v3uqgwVsTvG/S9Pj3gCO4b+hoiYc70P8vyocLUnW5fS/F3+huApI+b/9biIotif3v/wqgTH4+fa/JrPV/F0Z878OnWXejtHkv18OFWyc/+a/JpiEHjv3+L/ZZbCho9vqv1LhCYfLY9q/ORUXXcxI579xxIV/iNzzvzVpM7crkPy/hVPL/+9u/r9ySnIcnx/0v+Ja9ntiNO2/zQuQRlHU+b9tRs1nM3P8vwrU2glm3v+/pkWcdV3Q/b+ZtbuUU3IAwM6H+fmfqfm/2DQEG8Bn979ey54dEd7mvwXjNC/+b9q/pKDiqXPv97+GVPanInv+v98BJYUWwfO/UpZSiqlm8L+9bdGmvwPuv+P3mTS7LOO/92zqSYEA8L90KAUIz8ntvwKDOV77JOy/Dd6F3LTa5L/+OVkuFzmWP7Q2cHbCSuC/zCzMgqW53b/u1TtMVjbzv3ipOt7bN9K/SfpNEFk9or91hzaN6ZLLv1mYie2p6++/ml1zOho52r+2ASmyycfgv4TRnNRgB9S/BpPIohxg0j9G405nTkHQP3ieodxJ5tI/OHF344xr4z+u2c4vBTjlP1410IOYedk/MbOiB/IY3z87akWiQm3uP9vWRd0GBts/2X7wYitVvj940oa8liPVP5FUjmymhbw/2R6nfJbRrr8wfn3vCafbv6XXiK3GbNU/EFTuJjUi4j+bDyl0o2zqP6EG+/pezpm/WZxhpK6x0b9yq6D8Z53ivzx3edS8tOM/h5GBmHzZ5D95lRlLms/dP5C2Q5zX188/qQpqUzOK5D+vtRCA5IvZP6u/xmtFE+Q/2ccKpdMH4b9kI5d1giTHv8hVVc0iQ8A/a2pmrJeQ0D8fmKTHtaq/P0Vsv657DeY/JmM0a02S2z8P7QX1arbEv7HiI78bNdA//9rtQ/EW6D84Ra5GGnvTvwVrwI5dVoY/OzT5GwgP3r8mZrEpBZfoP5oVNEebftI/KrmsUohv6T8XWuiw0UTyP64BCqsKAvQ/dh+H4Eg33j8MaBHxwEz0P3uty770294/vJdE88zb3T/013jfnx/lP0KPI+GDmvQ/pmEDbErW9j/u0X3azlrtP6b4ja2hGPw/xMWozVTb+T9ktj7alfzuPyLRgGXGc/A/2d/IuaFa9T88RrKNJ7T8P0NPLouQnfQ/lWBsOFsRAUBaG467gBMFQKBJPxoGBvo/WdrZSBfD+j/lSy8pUvwCQNo99Ap5MAVA4usg5dYYBUC2s2S8jJ4CQEaWw9en+gZAIvH60iWhBEBaHLljsx8FQLGW2/80VQFAJLyzDi0eBUBjs085UY8HQJzNbyWeDgNARMiSkv06BEBCoqJbeBcGQHghhBhqLwhAXKdbMkVjDUA=\",\"dtype\":\"float64\",\"order\":\"little\",\"shape\":[166]},\"time\":{\"__ndarray__\":\"AADg0e5Si8IAAIBIMRiLwgAAQIxK3YrCAADgAo2iisIAAIB5z2eKwgAAIPARLYrCAADgMyvyicIAAICqbbeJwgAAICGwfInCAADAl/JBicIAAIDbCweJwgAAIFJOzIjCAADAyJCRiMIAAGA/01aIwgAAIIPsG4jCAADA+S7hh8IAAGBwcaaHwgAAAOeza4fCAADAKs0wh8IAAGChD/aGwgAAABhSu4bCAACgjpSAhsIAAGDSrUWGwgAAAEnwCobCAACgvzLQhcIAAEA2dZWFwgAAAHqOWoXCAACg8NAfhcIAAEBnE+WEwgAA4N1VqoTCAACgIW9vhMIAAECYsTSEwgAA4A70+YPCAACAhTa/g8IAAEDJT4SDwgAA4D+SSYPCAACAttQOg8IAACAtF9SCwgAA4HAwmYLCAACA53JegsIAACBetSOCwgAAwNT36IHCAACAGBGugcIAACCPU3OBwgAAwAWWOIHCAABgfNj9gMIAACDA8cKAwgAAwDY0iIDCAABgrXZNgMIAAAAkuRKAwgAAQDX3r3/CAACAInw6f8IAAMAPAcV+wgAAAP2FT37CAACAhLjZfcIAAMBxPWR9wgAAAF/C7nzCAABATEd5fMIAAMDTeQN8wgAAAMH+jXvCAABAroMYe8IAAICbCKN6wgAAACM7LXrCAABAEMC3ecIAAID9REJ5wgAAwOrJzHjCAABAcvxWeMIAAIBfgeF3wgAAwEwGbHfCAAAAOov2dsIAAIDBvYB2wgAAwK5CC3bCAAAAnMeVdcIAAECJTCB1wgAAwBB/qnTCAAAA/gM1dMIAAEDriL9zwgAAgNgNSnPCAAAAYEDUcsIAAEBNxV5ywgAAgDpK6XHCAADAJ89zccIAAECvAf5wwgAAgJyGiHDCAADAiQsTcMIAAADuIDtvwgAAAP2FT27CAACA149kbcIAAACymXlswgAAgIyjjmvCAACAmwijasIAAAB2ErhpwgAAgFAczWjCAAAAKybiZ8IAAAA6i/ZmwgAAgBSVC2bCAAAA754gZcIAAIDJqDVkwgAAgNgNSmPCAAAAsxdfYsIAAICNIXRhwgAAAGgriWDCAAAA7iA7X8IAAACjNGVdwgAAAFhIj1vCAAAADVy5WcIAAAArJuJXwgAAAOA5DFbCAAAAlU02VMIAAABKYWBSwgAAAGgriVDCAAAAOn5mTcIAAACkpbpJwgAAAA7NDkbCAAAASmFgQsIAAABoEWk9wgAAADxgETbCAAAAIF5zLcIAAAAgXnMdwgAAAABwmZTBAAAAQCtKHUIAAAD4d1QtQgAAAIQTBzZCAAAAsMRePUIAAADuOltCQgAAAIQTB0ZCAAAASH+1SUIAAADeV2FNQgAAADqYhlBCAAAAhYRcUkIAAABnujNUQgAAALKmCVZCAAAA/ZLfV0IAAABIf7VZQgAAACq1jFtCAAAAdaFiXUIAAADAjThfQgAAgAU9h2BCAACA9tdyYUIAAAAczl1iQgAAgEHESGNCAAAAZ7ozZEIAAABYVR9lQgAAgH1LCmZCAAAAo0H1ZkIAAIDIN+BnQgAAgLnSy2hCAAAA38i2aUIAAIAEv6FqQgAAACq1jGtCAAAAG1B4bEIAAIBARmNtQgAAAGY8Tm5CAACAizI5b0IAAEC+ZhJwQgAAANHhh3BCAADA41z9cEIAAID213JxQgAAAG+l6HFCAADAgSBeckIAAICUm9NyQgAAQKcWSXNCAADAH+S+c0IAAIAyXzR0QgAAQEXaqXRCAAAAWFUfdUI=\",\"dtype\":\"float64\",\"order\":\"little\",\"shape\":[166]}},\"selected\":{\"id\":\"28027\"},\"selection_policy\":{\"id\":\"28097\"}},\"id\":\"28026\",\"type\":\"ColumnDataSource\"},{\"attributes\":{\"line_color\":\"#30a2da\",\"line_width\":2,\"x\":{\"field\":\"date\"},\"y\":{\"field\":\"standardized_anomoly\"}},\"id\":\"28076\",\"type\":\"Line\"},{\"attributes\":{},\"id\":\"28014\",\"type\":\"PanTool\"},{\"attributes\":{\"base\":60,\"mantissas\":[1,2,5,10,15,20,30],\"max_interval\":1800000.0,\"min_interval\":1000.0,\"num_minor_ticks\":0},\"id\":\"28099\",\"type\":\"AdaptiveTicker\"},{\"attributes\":{\"months\":[0,1,2,3,4,5,6,7,8,9,10,11]},\"id\":\"28105\",\"type\":\"MonthsTicker\"},{\"attributes\":{\"margin\":[5,5,5,5],\"name\":\"HSpacer30476\",\"sizing_mode\":\"stretch_width\"},\"id\":\"27992\",\"type\":\"Spacer\"},{\"attributes\":{\"line_alpha\":0.1,\"line_color\":\"#30a2da\",\"line_width\":2,\"x\":{\"field\":\"time\"},\"y\":{\"field\":\"standardized_anomoly\"}},\"id\":\"28030\",\"type\":\"Line\"},{\"attributes\":{},\"id\":\"28001\",\"type\":\"LinearScale\"},{\"attributes\":{\"days\":[1,8,15,22]},\"id\":\"28103\",\"type\":\"DaysTicker\"},{\"attributes\":{\"text\":\"USA Natural Disaster Count Standardized Anomolies (1950 - 2020)\",\"text_color\":\"black\",\"text_font_size\":\"12pt\"},\"id\":\"28044\",\"type\":\"Title\"},{\"attributes\":{\"days\":[1,15]},\"id\":\"28104\",\"type\":\"DaysTicker\"},{\"attributes\":{},\"id\":\"28057\",\"type\":\"BasicTicker\"},{\"attributes\":{\"end\":2020.0,\"reset_end\":2020.0,\"reset_start\":1953.0,\"start\":1953.0,\"tags\":[[[\"date\",\"date\",null]]]},\"id\":\"28041\",\"type\":\"Range1d\"},{\"attributes\":{},\"id\":\"28050\",\"type\":\"LinearScale\"},{\"attributes\":{\"months\":[0,2,4,6,8,10]},\"id\":\"28106\",\"type\":\"MonthsTicker\"},{\"attributes\":{\"active_multi\":null,\"tools\":[{\"id\":\"27995\"},{\"id\":\"28013\"},{\"id\":\"28014\"},{\"id\":\"28015\"},{\"id\":\"28016\"},{\"id\":\"28017\"}]},\"id\":\"28019\",\"type\":\"Toolbar\"},{\"attributes\":{\"data_source\":{\"id\":\"28073\"},\"glyph\":{\"id\":\"28076\"},\"hover_glyph\":null,\"muted_glyph\":{\"id\":\"28078\"},\"nonselection_glyph\":{\"id\":\"28077\"},\"selection_glyph\":{\"id\":\"28081\"},\"view\":{\"id\":\"28080\"}},\"id\":\"28079\",\"type\":\"GlyphRenderer\"},{\"attributes\":{\"axis\":{\"id\":\"28056\"},\"dimension\":1,\"grid_line_color\":null,\"ticker\":null},\"id\":\"28059\",\"type\":\"Grid\"},{\"attributes\":{\"bottom_units\":\"screen\",\"fill_alpha\":0.5,\"fill_color\":\"lightgrey\",\"left_units\":\"screen\",\"level\":\"overlay\",\"line_alpha\":1.0,\"line_color\":\"black\",\"line_dash\":[4,4],\"line_width\":2,\"right_units\":\"screen\",\"syncable\":false,\"top_units\":\"screen\"},\"id\":\"28018\",\"type\":\"BoxAnnotation\"},{\"attributes\":{\"axis\":{\"id\":\"28005\"},\"grid_line_color\":null,\"ticker\":null},\"id\":\"28008\",\"type\":\"Grid\"},{\"attributes\":{\"months\":[0,4,8]},\"id\":\"28107\",\"type\":\"MonthsTicker\"},{\"attributes\":{\"axis_label\":\"Standardized Anomolies\",\"formatter\":{\"id\":\"28085\"},\"major_label_policy\":{\"id\":\"28087\"},\"ticker\":{\"id\":\"28057\"}},\"id\":\"28056\",\"type\":\"LinearAxis\"},{\"attributes\":{},\"id\":\"28074\",\"type\":\"Selection\"},{\"attributes\":{},\"id\":\"28010\",\"type\":\"BasicTicker\"},{\"attributes\":{},\"id\":\"28017\",\"type\":\"ResetTool\"},{\"attributes\":{\"data\":{\"date\":[1953,1954,1955,1956,1957,1958,1959,1960,1961,1962,1963,1964,1965,1966,1967,1968,1969,1970,1971,1972,1973,1974,1975,1976,1977,1978,1979,1980,1981,1982,1983,1984,1985,1986,1987,1988,1989,1990,1991,1992,1993,1994,1995,1996,1997,1998,1999,2000,2001,2002,2003,2004,2005,2006,2007,2008,2009,2010,2011,2012,2013,2014,2015,2016,2017,2018,2019,2020],\"standardized_anomoly\":{\"__ndarray__\":\"YzfWPqZD7b/CRDJADRHrvxlIiQBnhOq/akHbf7Od679qQdt/s53rv6sRZt7FR/C/qxFm3sVH8L8MNH9+TNDtvww0f35M0O2/eFXlAc5R6L/JTjeBGmvpv39f6kLbq+a/f1/qQtur5r+0MCi+8lzuv10t0f2Y6e6/GUiJAGeE6r/dbEZEQnnkv3FL4MDA9+m/yU43gRpr6b+8WHcV1xHUvw0PczR/wci/UPS6MbEmzb+uRG2TvF3Xv1A3EZJVkNm/iL42edIjt7/xKbWQ7sLbvyk3hzi0KcK/jHP0xPVf478ZSIkAZ4Tqvy5mmMOOkuW/J1yTgoE457+hMGMRoqnav0OEp4a2oOC/3WxGREJ55L+Mc/TE9V/jv2pB23+zneu/5HZLhU/T4r9QNxGSVZDZv65EbZO8Xde/UPS6MbEmzb8pN4c4tCnCv8opKzdNXMS/5BWrDtQO37/+cfDnQTP5Pw1SyZQjK9W/IKQJLYT18D9qhDHgVwfoPwt31d7wOeo/1qWXY9mI4j+taXndiWzsP/dYxhvJK+8/rWl53Yls7D8C93KISGD4Pw8LfQpjFPU/wpatKx0o8z8PC30KYxT1P7Rzfh6Xxuo/GYvfYAvu5j/Q8tQsRCMIQLt9g1+kIOk/GG2VSjST3z+gtg/S6nzTPxiw66rY/Ms/z5uSIswu5D8WFYJLcG7zP59Vb1tvuO8/fqJAo38V4z8pHHHDUOAQQA==\",\"dtype\":\"float64\",\"order\":\"little\",\"shape\":[68]}},\"selected\":{\"id\":\"28074\"},\"selection_policy\":{\"id\":\"28120\"}},\"id\":\"28073\",\"type\":\"ColumnDataSource\"},{\"attributes\":{\"axis_label\":\"Date\",\"formatter\":{\"id\":\"28035\"},\"major_label_policy\":{\"id\":\"28037\"},\"ticker\":{\"id\":\"28006\"}},\"id\":\"28005\",\"type\":\"DatetimeAxis\"},{\"attributes\":{\"months\":[0,6]},\"id\":\"28108\",\"type\":\"MonthsTicker\"},{\"attributes\":{\"axis_label\":\"Standardized Anomolies\",\"formatter\":{\"id\":\"28038\"},\"major_label_policy\":{\"id\":\"28040\"},\"ticker\":{\"id\":\"28010\"}},\"id\":\"28009\",\"type\":\"LinearAxis\"},{\"attributes\":{\"line_alpha\":0.2,\"line_color\":\"#30a2da\",\"line_width\":2,\"x\":{\"field\":\"date\"},\"y\":{\"field\":\"standardized_anomoly\"}},\"id\":\"28078\",\"type\":\"Line\"},{\"attributes\":{\"end\":4.862590207516203,\"reset_end\":4.862590207516203,\"reset_start\":-2.8597952255796177,\"start\":-2.8597952255796177,\"tags\":[[[\"standardized_anomoly\",\"standardized_anomoly\",null]]]},\"id\":\"27994\",\"type\":\"Range1d\"},{\"attributes\":{},\"id\":\"28120\",\"type\":\"UnionRenderers\"},{\"attributes\":{},\"id\":\"28109\",\"type\":\"YearsTicker\"}],\"root_ids\":[\"27991\"]},\"title\":\"Bokeh Application\",\"version\":\"2.3.2\"}};\n",
       "    var render_items = [{\"docid\":\"ae8f25f7-f98c-41aa-a0bd-2140c17a8922\",\"root_ids\":[\"27991\"],\"roots\":{\"27991\":\"f0f7f314-f676-4721-9083-8a9c2daf803b\"}}];\n",
>>>>>>> f4869e0c2d563b7915abdccb25e3e7ec4efcab45
       "    root.Bokeh.embed.embed_items_notebook(docs_json, render_items);\n",
       "  }\n",
       "  if (root.Bokeh !== undefined && root.Bokeh.Panel !== undefined) {\n",
       "    embed_document(root);\n",
       "  } else {\n",
       "    var attempts = 0;\n",
       "    var timer = setInterval(function(root) {\n",
       "      if (root.Bokeh !== undefined && root.Bokeh.Panel !== undefined) {\n",
       "        clearInterval(timer);\n",
       "        embed_document(root);\n",
       "      } else if (document.readyState == \"complete\") {\n",
       "        attempts++;\n",
       "        if (attempts > 200) {\n",
       "          clearInterval(timer);\n",
       "          console.log(\"Bokeh: ERROR: Unable to run BokehJS code because BokehJS library is missing\");\n",
       "        }\n",
       "      }\n",
       "    }, 25, root)\n",
       "  }\n",
       "})(window);</script>"
      ],
      "text/plain": [
       ":Layout\n",
       "   .Curve.I  :Curve   [time]   (standardized_anomoly)\n",
       "   .Curve.II :Curve   [date]   (standardized_anomoly)"
      ]
     },
<<<<<<< HEAD
     "execution_count": 33,
     "metadata": {
      "application/vnd.holoviews_exec.v0+json": {
       "id": "1981"
=======
     "execution_count": 799,
     "metadata": {
      "application/vnd.holoviews_exec.v0+json": {
       "id": "27991"
>>>>>>> f4869e0c2d563b7915abdccb25e3e7ec4efcab45
      }
     },
     "output_type": "execute_result"
    }
   ],
   "source": [
    "# Compare plots of Land and Ocean Standardized Anomolies and USA Disaster Count Standardized Anomolies\n",
    "\n",
    "climate_standardized_anomoly_plot + disaster_standardized_anomoly_plot"
   ]
  },
  {
   "cell_type": "markdown",
   "id": "8bc00236-21fb-454d-9626-f4f37ad71db8",
   "metadata": {},
   "source": [
    "A side by side comparison of temperature anomolies vs USA natural disaster anomolies from 1960 onwards can be seen in the following screenshot: \n",
    "\n",
    "![side_by_side_of_temp_vs_disaster](./Images/temp_vs_disaster.PNG)\n",
    "\n",
    "It can be seen that although disasters seems to be more sparatic in it's anomolies when compared temperature that there is an upward trend in both of the datasets analyzed.  Because the disaster dataset is smaller, it is important to note that the earlier data could provide us with more insights into the comparisons, but for now we will have to work with the information at hand.  \n",
    "\n",
    "Going back to review the normal distribution curve, again we can determine that this disaster trend is very substantial and does not follow what you would expect from normal distribution probability.  For example, in 2020 the disaster anomolies deviate by more than 4 standard devation units from the normal average disaster mean.  A normal distribution curve indicates that the \"odds\" of this ocurring are less than 0.1% and by the way the devations have been trending since 1990, it appears that this trend may be on the increase. \n",
    "\n",
    "![investopia_normal_distribution_curve](./Images/bell_curve.PNG)"
   ]
  },
  {
   "cell_type": "markdown",
   "id": "0049a157-f654-4d8a-8874-dc55e9cd5301",
   "metadata": {},
   "source": [
    "Now that we have an idea of the general trends of climate and weather as well as an anlaysis of disaster trends sampled for the USA, we can begin to look into commodity informtion and see if we can make long term investing decisions assuming these trends are to continue.  "
   ]
  },
  {
   "cell_type": "markdown",
   "id": "acfa17f7-8525-473f-a5d4-df5164374380",
   "metadata": {},
   "source": [
    "# Commodity Price Analysis"
   ]
  },
  {
   "cell_type": "code",
<<<<<<< HEAD
   "execution_count": 133,
=======
   "execution_count": 800,
>>>>>>> f4869e0c2d563b7915abdccb25e3e7ec4efcab45
   "id": "1651d567-b0f8-4081-a1c8-bbbbe9134aee",
   "metadata": {},
   "outputs": [],
   "source": [
    "#Reading all separate CSVs into data frames.\n",
    "barley_df = pd.read_csv(Path(\"./Resources/BarleyCostReturn.csv\"))\n",
    "corn_df = pd.read_csv(Path(\"./Resources/CornCostReturn.csv\"))\n",
    "cotton_df = pd.read_csv(Path(\"./Resources/CottonCostReturn.csv\"))\n",
    "oats_df = pd.read_csv(Path(\"./Resources/OatsCostReturn.csv\"))\n",
    "sorghum_df = pd.read_csv(Path(\"./Resources/SorghumCostReturn.csv\"))\n",
    "peanuts_df = pd.read_csv(Path(\"./Resources/PeanutsCostReturn.csv\"))\n",
    "soybeans_df = pd.read_csv(Path(\"./Resources/SoybeansCostReturn.csv\"))\n",
    "wheat_df = pd.read_csv(Path(\"./Resources/WheatCostReturn.csv\"))\n",
    "coffee_df = pd.read_csv(Path(\"./Resources/coffee.csv\"))"
   ]
  },
  {
   "cell_type": "code",
<<<<<<< HEAD
   "execution_count": 134,
=======
   "execution_count": 801,
   "id": "fc800d9d-b2f0-4c22-b07a-59e49621c3b1",
   "metadata": {},
   "outputs": [
    {
     "data": {
      "text/html": [
       "<div>\n",
       "<style scoped>\n",
       "    .dataframe tbody tr th:only-of-type {\n",
       "        vertical-align: middle;\n",
       "    }\n",
       "\n",
       "    .dataframe tbody tr th {\n",
       "        vertical-align: top;\n",
       "    }\n",
       "\n",
       "    .dataframe thead th {\n",
       "        text-align: right;\n",
       "    }\n",
       "</style>\n",
       "<table border=\"1\" class=\"dataframe\">\n",
       "  <thead>\n",
       "    <tr style=\"text-align: right;\">\n",
       "      <th></th>\n",
       "      <th>Commodity</th>\n",
       "      <th>CommodityId</th>\n",
       "      <th>Category</th>\n",
       "      <th>CategoryId</th>\n",
       "      <th>Item</th>\n",
       "      <th>Item2</th>\n",
       "      <th>ItemId</th>\n",
       "      <th>Units</th>\n",
       "      <th>UnitsAbr</th>\n",
       "      <th>UnitsId</th>\n",
       "      <th>...</th>\n",
       "      <th>RegionId</th>\n",
       "      <th>Country</th>\n",
       "      <th>CountryId</th>\n",
       "      <th>Year</th>\n",
       "      <th>Value</th>\n",
       "      <th>SurveyBaseYear</th>\n",
       "      <th>Note</th>\n",
       "      <th>Order</th>\n",
       "      <th>Size</th>\n",
       "      <th>SizeId</th>\n",
       "    </tr>\n",
       "  </thead>\n",
       "  <tbody>\n",
       "    <tr>\n",
       "      <th>2641</th>\n",
       "      <td>Barley</td>\n",
       "      <td>20</td>\n",
       "      <td>Production practices</td>\n",
       "      <td>7</td>\n",
       "      <td>Irrigated</td>\n",
       "      <td>Irrigated (percent of acres)</td>\n",
       "      <td>1190</td>\n",
       "      <td>percent of acres</td>\n",
       "      <td>% of ac</td>\n",
       "      <td>70</td>\n",
       "      <td>...</td>\n",
       "      <td>90</td>\n",
       "      <td>United States</td>\n",
       "      <td>10</td>\n",
       "      <td>2016</td>\n",
       "      <td>70.0</td>\n",
       "      <td>Base survey of 2011</td>\n",
       "      <td>NaN</td>\n",
       "      <td>1360</td>\n",
       "      <td>No specific size</td>\n",
       "      <td>90</td>\n",
       "    </tr>\n",
       "    <tr>\n",
       "      <th>2642</th>\n",
       "      <td>Barley</td>\n",
       "      <td>20</td>\n",
       "      <td>Production practices</td>\n",
       "      <td>7</td>\n",
       "      <td>Irrigated</td>\n",
       "      <td>Irrigated (percent of acres)</td>\n",
       "      <td>1190</td>\n",
       "      <td>percent of acres</td>\n",
       "      <td>% of ac</td>\n",
       "      <td>70</td>\n",
       "      <td>...</td>\n",
       "      <td>90</td>\n",
       "      <td>United States</td>\n",
       "      <td>10</td>\n",
       "      <td>2017</td>\n",
       "      <td>70.0</td>\n",
       "      <td>Base survey of 2011</td>\n",
       "      <td>NaN</td>\n",
       "      <td>1360</td>\n",
       "      <td>No specific size</td>\n",
       "      <td>90</td>\n",
       "    </tr>\n",
       "    <tr>\n",
       "      <th>2643</th>\n",
       "      <td>Barley</td>\n",
       "      <td>20</td>\n",
       "      <td>Production practices</td>\n",
       "      <td>7</td>\n",
       "      <td>Irrigated</td>\n",
       "      <td>Irrigated (percent of acres)</td>\n",
       "      <td>1190</td>\n",
       "      <td>percent of acres</td>\n",
       "      <td>% of ac</td>\n",
       "      <td>70</td>\n",
       "      <td>...</td>\n",
       "      <td>90</td>\n",
       "      <td>United States</td>\n",
       "      <td>10</td>\n",
       "      <td>2018</td>\n",
       "      <td>70.0</td>\n",
       "      <td>Base survey of 2011</td>\n",
       "      <td>NaN</td>\n",
       "      <td>1360</td>\n",
       "      <td>No specific size</td>\n",
       "      <td>90</td>\n",
       "    </tr>\n",
       "    <tr>\n",
       "      <th>2644</th>\n",
       "      <td>Barley</td>\n",
       "      <td>20</td>\n",
       "      <td>Production practices</td>\n",
       "      <td>7</td>\n",
       "      <td>Irrigated</td>\n",
       "      <td>Irrigated (percent of acres)</td>\n",
       "      <td>1190</td>\n",
       "      <td>percent of acres</td>\n",
       "      <td>% of ac</td>\n",
       "      <td>70</td>\n",
       "      <td>...</td>\n",
       "      <td>90</td>\n",
       "      <td>United States</td>\n",
       "      <td>10</td>\n",
       "      <td>2019</td>\n",
       "      <td>70.0</td>\n",
       "      <td>Base survey of 2011</td>\n",
       "      <td>NaN</td>\n",
       "      <td>1360</td>\n",
       "      <td>No specific size</td>\n",
       "      <td>90</td>\n",
       "    </tr>\n",
       "    <tr>\n",
       "      <th>2645</th>\n",
       "      <td>Barley</td>\n",
       "      <td>20</td>\n",
       "      <td>Production practices</td>\n",
       "      <td>7</td>\n",
       "      <td>Irrigated</td>\n",
       "      <td>Irrigated (percent of acres)</td>\n",
       "      <td>1190</td>\n",
       "      <td>percent of acres</td>\n",
       "      <td>% of ac</td>\n",
       "      <td>70</td>\n",
       "      <td>...</td>\n",
       "      <td>90</td>\n",
       "      <td>United States</td>\n",
       "      <td>10</td>\n",
       "      <td>2020</td>\n",
       "      <td>70.0</td>\n",
       "      <td>Base survey of 2011</td>\n",
       "      <td>NaN</td>\n",
       "      <td>1360</td>\n",
       "      <td>No specific size</td>\n",
       "      <td>90</td>\n",
       "    </tr>\n",
       "  </tbody>\n",
       "</table>\n",
       "<p>5 rows × 21 columns</p>\n",
       "</div>"
      ],
      "text/plain": [
       "     Commodity  CommodityId              Category  CategoryId       Item  \\\n",
       "2641    Barley           20  Production practices           7  Irrigated   \n",
       "2642    Barley           20  Production practices           7  Irrigated   \n",
       "2643    Barley           20  Production practices           7  Irrigated   \n",
       "2644    Barley           20  Production practices           7  Irrigated   \n",
       "2645    Barley           20  Production practices           7  Irrigated   \n",
       "\n",
       "                             Item2  ItemId             Units UnitsAbr  \\\n",
       "2641  Irrigated (percent of acres)    1190  percent of acres  % of ac   \n",
       "2642  Irrigated (percent of acres)    1190  percent of acres  % of ac   \n",
       "2643  Irrigated (percent of acres)    1190  percent of acres  % of ac   \n",
       "2644  Irrigated (percent of acres)    1190  percent of acres  % of ac   \n",
       "2645  Irrigated (percent of acres)    1190  percent of acres  % of ac   \n",
       "\n",
       "      UnitsId  ... RegionId        Country CountryId  Year  Value  \\\n",
       "2641       70  ...       90  United States        10  2016   70.0   \n",
       "2642       70  ...       90  United States        10  2017   70.0   \n",
       "2643       70  ...       90  United States        10  2018   70.0   \n",
       "2644       70  ...       90  United States        10  2019   70.0   \n",
       "2645       70  ...       90  United States        10  2020   70.0   \n",
       "\n",
       "           SurveyBaseYear Note Order              Size SizeId  \n",
       "2641  Base survey of 2011  NaN  1360  No specific size     90  \n",
       "2642  Base survey of 2011  NaN  1360  No specific size     90  \n",
       "2643  Base survey of 2011  NaN  1360  No specific size     90  \n",
       "2644  Base survey of 2011  NaN  1360  No specific size     90  \n",
       "2645  Base survey of 2011  NaN  1360  No specific size     90  \n",
       "\n",
       "[5 rows x 21 columns]"
      ]
     },
     "execution_count": 801,
     "metadata": {},
     "output_type": "execute_result"
    }
   ],
   "source": [
    "barley_df.tail()"
   ]
  },
  {
   "cell_type": "code",
   "execution_count": 802,
>>>>>>> f4869e0c2d563b7915abdccb25e3e7ec4efcab45
   "id": "a793902d-6f2e-4244-92e8-f044d64a3d57",
   "metadata": {},
   "outputs": [],
   "source": [
    "#Selection of the columns of interest\n",
    "barley_df = barley_df[['Year', 'UnitsId', 'RegionId', 'Value']]\n",
    "corn_df = corn_df[['Year', 'UnitsId', 'RegionId', 'Value']]\n",
    "cotton_df = cotton_df[['Year', 'UnitsId', 'RegionId', 'Value']]\n",
    "oats_df = oats_df[['Year', 'UnitsId', 'RegionId', 'Value']]\n",
    "sorghum_df = sorghum_df[['Year', 'UnitsId', 'RegionId', 'Value']]\n",
    "peanuts_df = peanuts_df[['Year', 'UnitsId', 'RegionId', 'Value']]\n",
    "soybeans_df = soybeans_df[['Year', 'UnitsId', 'RegionId', 'Value']]\n",
    "wheat_df = wheat_df[['Year', 'UnitsId', 'RegionId', 'Value']]\n",
    "coffee_df = coffee_df[['Year', 'Value']]"
   ]
  },
  {
   "cell_type": "code",
<<<<<<< HEAD
   "execution_count": 135,
=======
   "execution_count": 803,
   "id": "7c2d020e-b577-44b5-8676-3094204b58ad",
   "metadata": {},
   "outputs": [
    {
     "data": {
      "text/html": [
       "<div>\n",
       "<style scoped>\n",
       "    .dataframe tbody tr th:only-of-type {\n",
       "        vertical-align: middle;\n",
       "    }\n",
       "\n",
       "    .dataframe tbody tr th {\n",
       "        vertical-align: top;\n",
       "    }\n",
       "\n",
       "    .dataframe thead th {\n",
       "        text-align: right;\n",
       "    }\n",
       "</style>\n",
       "<table border=\"1\" class=\"dataframe\">\n",
       "  <thead>\n",
       "    <tr style=\"text-align: right;\">\n",
       "      <th></th>\n",
       "      <th>Year</th>\n",
       "      <th>UnitsId</th>\n",
       "      <th>RegionId</th>\n",
       "      <th>Value</th>\n",
       "    </tr>\n",
       "  </thead>\n",
       "  <tbody>\n",
       "    <tr>\n",
       "      <th>2641</th>\n",
       "      <td>2016</td>\n",
       "      <td>70</td>\n",
       "      <td>90</td>\n",
       "      <td>70.0</td>\n",
       "    </tr>\n",
       "    <tr>\n",
       "      <th>2642</th>\n",
       "      <td>2017</td>\n",
       "      <td>70</td>\n",
       "      <td>90</td>\n",
       "      <td>70.0</td>\n",
       "    </tr>\n",
       "    <tr>\n",
       "      <th>2643</th>\n",
       "      <td>2018</td>\n",
       "      <td>70</td>\n",
       "      <td>90</td>\n",
       "      <td>70.0</td>\n",
       "    </tr>\n",
       "    <tr>\n",
       "      <th>2644</th>\n",
       "      <td>2019</td>\n",
       "      <td>70</td>\n",
       "      <td>90</td>\n",
       "      <td>70.0</td>\n",
       "    </tr>\n",
       "    <tr>\n",
       "      <th>2645</th>\n",
       "      <td>2020</td>\n",
       "      <td>70</td>\n",
       "      <td>90</td>\n",
       "      <td>70.0</td>\n",
       "    </tr>\n",
       "  </tbody>\n",
       "</table>\n",
       "</div>"
      ],
      "text/plain": [
       "      Year  UnitsId  RegionId  Value\n",
       "2641  2016       70        90   70.0\n",
       "2642  2017       70        90   70.0\n",
       "2643  2018       70        90   70.0\n",
       "2644  2019       70        90   70.0\n",
       "2645  2020       70        90   70.0"
      ]
     },
     "execution_count": 803,
     "metadata": {},
     "output_type": "execute_result"
    }
   ],
   "source": [
    "barley_df.tail()"
   ]
  },
  {
   "cell_type": "code",
   "execution_count": 804,
>>>>>>> f4869e0c2d563b7915abdccb25e3e7ec4efcab45
   "id": "48705755-8ebd-4540-b9f8-cdd8d6208276",
   "metadata": {},
   "outputs": [],
   "source": [
    "#Setting the index column to Year\n",
    "barley_df = barley_df.set_index('Year')\n",
    "corn_df = corn_df.set_index('Year')\n",
    "cotton_df = cotton_df.set_index('Year')\n",
    "oats_df = oats_df.set_index('Year')\n",
    "sorghum_df = sorghum_df.set_index('Year')\n",
    "peanuts_df = peanuts_df.set_index('Year')\n",
    "soybeans_df = soybeans_df.set_index('Year')\n",
    "wheat_df = wheat_df.set_index('Year')\n",
    "coffee_df = coffee_df.set_index('Year')"
   ]
  },
  {
   "cell_type": "code",
<<<<<<< HEAD
   "execution_count": 136,
=======
   "execution_count": 805,
>>>>>>> f4869e0c2d563b7915abdccb25e3e7ec4efcab45
   "id": "f9c41002-a328-4440-9fb7-ff4aadca2278",
   "metadata": {},
   "outputs": [],
   "source": [
    "#Filtering price per bushell data(UnitsId=30) fo the U.S. Region(RegionId=10) into a new price dataframe\n",
    "barley_price_df = barley_df.loc[(barley_df['RegionId'] == 10) & (barley_df['UnitsId'] == 30)]\n",
    "corn_price_df = corn_df.loc[(corn_df['RegionId'] == 10) & (corn_df['UnitsId'] == 30)]\n",
    "cotton_price_df = cotton_df.loc[(cotton_df['RegionId'] == 10) & (cotton_df['UnitsId'] == 30)]\n",
    "oats_price_df = oats_df.loc[(oats_df['RegionId'] == 10) & (oats_df['UnitsId'] == 30)]\n",
    "sorghum_price_df = sorghum_df.loc[(sorghum_df['RegionId'] == 10) & (sorghum_df['UnitsId'] == 30)]\n",
    "peanuts_price_df = peanuts_df.loc[(peanuts_df['RegionId'] == 10) & (peanuts_df['UnitsId'] == 30)]\n",
    "soybeans_price_df = soybeans_df.loc[(soybeans_df['RegionId'] == 10) & (soybeans_df['UnitsId'] == 30)]\n",
    "wheat_price_df = wheat_df.loc[(wheat_df['RegionId'] == 10) & (wheat_df['UnitsId'] == 30)]"
   ]
  },
  {
   "cell_type": "code",
<<<<<<< HEAD
   "execution_count": 137,
=======
   "execution_count": 806,
>>>>>>> f4869e0c2d563b7915abdccb25e3e7ec4efcab45
   "id": "3dd662a6-3995-4258-a7b1-3426412fb662",
   "metadata": {},
   "outputs": [],
   "source": [
    "#Cleaning up of the new dataframe to include only year and price data for easier plotting\n",
    "barley_price_df = barley_price_df['Value']\n",
    "corn_price_df = corn_price_df['Value']\n",
    "cotton_price_df = cotton_price_df['Value']\n",
    "oats_price_df = oats_price_df['Value']\n",
    "sorghum_price_df = sorghum_price_df['Value']\n",
    "peanuts_price_df = peanuts_price_df['Value']\n",
    "soybeans_price_df = soybeans_price_df['Value']\n",
    "wheat_price_df = wheat_price_df['Value']\n",
    "coffee_price_df = coffee_df['Value']"
   ]
  },
  {
   "cell_type": "code",
<<<<<<< HEAD
   "execution_count": 141,
   "id": "3cd7f779-8e37-4726-94f1-9cf7676a85e3",
   "metadata": {},
   "outputs": [
    {
     "data": {},
     "metadata": {},
     "output_type": "display_data"
    },
    {
     "data": {
      "application/vnd.holoviews_exec.v0+json": "",
      "text/html": [
       "<div id='4018'>\n",
       "\n",
       "\n",
       "\n",
       "\n",
       "\n",
       "  <div class=\"bk-root\" id=\"9df8a114-2654-4af3-8a26-5e052d810441\" data-root-id=\"4018\"></div>\n",
       "</div>\n",
       "<script type=\"application/javascript\">(function(root) {\n",
       "  function embed_document(root) {\n",
       "    var docs_json = {\"a16e8edc-2a21-4af1-aca5-b8f3b57cf7e3\":{\"defs\":[{\"extends\":null,\"module\":null,\"name\":\"ReactiveHTML1\",\"overrides\":[],\"properties\":[]},{\"extends\":null,\"module\":null,\"name\":\"FlexBox1\",\"overrides\":[],\"properties\":[{\"default\":\"flex-start\",\"kind\":null,\"name\":\"align_content\"},{\"default\":\"flex-start\",\"kind\":null,\"name\":\"align_items\"},{\"default\":\"row\",\"kind\":null,\"name\":\"flex_direction\"},{\"default\":\"wrap\",\"kind\":null,\"name\":\"flex_wrap\"},{\"default\":\"flex-start\",\"kind\":null,\"name\":\"justify_content\"}]},{\"extends\":null,\"module\":null,\"name\":\"TemplateActions1\",\"overrides\":[],\"properties\":[{\"default\":0,\"kind\":null,\"name\":\"open_modal\"},{\"default\":0,\"kind\":null,\"name\":\"close_modal\"}]},{\"extends\":null,\"module\":null,\"name\":\"MaterialTemplateActions1\",\"overrides\":[],\"properties\":[{\"default\":0,\"kind\":null,\"name\":\"open_modal\"},{\"default\":0,\"kind\":null,\"name\":\"close_modal\"}]}],\"roots\":{\"references\":[{\"attributes\":{\"factors\":[\"1,030\",\"1,020\",\"890\",\"990\",\"1,170\",\"1,210\",\"1,260\",\"1,340\",\"965\",\"1,410\",\"1,270\",\"1,280\",\"1,560\",\"1,620\",\"1,190\",\"980\",\"690\",\"600\",\"1,390\",\"930\",\"880\",\"1,500\",\"1,120\",\"520\",\"1,300\",\"850\",\"1,220\",\"1,140\",\"1,060\",\"615\",\"1,520\",\"1,590\",\"1,420\",\"1,780\",\"1,550\",\"2,170\",\"1,970\",\"2,550\",\"2,780\",\"1,630\",\"2,410\",\"2,200\",\"1,850\",\"3,690\",\"2,290\",\"2,900\",\"3,500\",\"2,950\",\"2,980\",\"2,830\",\"2,770\",\"2,180\",\"2,590\"],\"tags\":[[[\"Value\",\"Value\",null]]]},\"id\":\"4021\",\"type\":\"FactorRange\"},{\"attributes\":{\"text\":\"Coffee Yield lb.acre in the U.S.\",\"text_color\":\"black\",\"text_font_size\":\"12pt\"},\"id\":\"4024\",\"type\":\"Title\"},{\"attributes\":{},\"id\":\"4028\",\"type\":\"LinearScale\"},{\"attributes\":{\"data_source\":{\"id\":\"4052\"},\"glyph\":{\"id\":\"4055\"},\"hover_glyph\":null,\"muted_glyph\":{\"id\":\"4057\"},\"nonselection_glyph\":{\"id\":\"4056\"},\"selection_glyph\":{\"id\":\"4060\"},\"view\":{\"id\":\"4059\"}},\"id\":\"4058\",\"type\":\"GlyphRenderer\"},{\"attributes\":{},\"id\":\"4039\",\"type\":\"SaveTool\"},{\"attributes\":{\"data\":{\"Value\":[\"1,030\",\"1,020\",\"890\",\"990\",\"1,170\",\"1,210\",\"1,260\",\"1,170\",\"1,170\",\"1,340\",\"965\",\"1,410\",\"1,270\",\"1,270\",\"1,280\",\"1,560\",\"1,560\",\"1,620\",\"1,190\",\"980\",\"980\",\"690\",\"600\",\"1,170\",\"1,170\",\"1,390\",\"930\",\"880\",\"1,500\",\"1,120\",\"1,030\",\"1,560\",\"520\",\"1,300\",\"850\",\"1,220\",\"880\",\"1,140\",\"1,060\",\"930\",\"615\",\"1,220\",\"1,520\",\"1,220\",\"1,590\",\"1,420\",\"1,780\",\"1,550\",\"2,170\",\"1,970\",\"2,550\",\"1,410\",\"2,780\",\"1,630\",\"2,410\",\"2,200\",\"1,850\",\"3,690\",\"2,290\",\"2,900\",\"3,500\",\"2,950\",\"2,980\",\"2,830\",\"2,770\",\"1,590\",\"2,180\",\"2,590\",\"2,550\"],\"Year\":[2014,2013,2012,2011,2010,2009,2008,2007,2006,2005,2004,2003,2002,2001,2000,1999,1998,1997,1996,1995,1994,1993,1992,1991,1990,1989,1988,1987,1986,1985,1984,1983,1982,1981,1980,1979,1978,1977,1976,1975,1974,1973,1972,1971,1970,1969,1968,1967,1966,1965,1964,1963,1962,1961,1960,1959,1958,1957,1956,1955,1954,1953,1952,1951,1950,1949,1948,1947,1946]},\"selected\":{\"id\":\"4053\"},\"selection_policy\":{\"id\":\"4076\"}},\"id\":\"4052\",\"type\":\"ColumnDataSource\"},{\"attributes\":{},\"id\":\"4030\",\"type\":\"CategoricalScale\"},{\"attributes\":{\"source\":{\"id\":\"4052\"}},\"id\":\"4059\",\"type\":\"CDSView\"},{\"attributes\":{\"bottom_units\":\"screen\",\"fill_alpha\":0.5,\"fill_color\":\"lightgrey\",\"left_units\":\"screen\",\"level\":\"overlay\",\"line_alpha\":1.0,\"line_color\":\"black\",\"line_dash\":[4,4],\"line_width\":2,\"right_units\":\"screen\",\"syncable\":false,\"top_units\":\"screen\"},\"id\":\"4044\",\"type\":\"BoxAnnotation\"},{\"attributes\":{\"overlay\":{\"id\":\"4044\"}},\"id\":\"4042\",\"type\":\"BoxZoomTool\"},{\"attributes\":{},\"id\":\"4076\",\"type\":\"UnionRenderers\"},{\"attributes\":{},\"id\":\"4061\",\"type\":\"AllLabels\"},{\"attributes\":{},\"id\":\"4066\",\"type\":\"CategoricalTickFormatter\"},{\"attributes\":{\"line_alpha\":0.1,\"line_color\":\"#30a2da\",\"line_width\":2,\"x\":{\"field\":\"Year\"},\"y\":{\"field\":\"Value\"}},\"id\":\"4056\",\"type\":\"Line\"},{\"attributes\":{},\"id\":\"4065\",\"type\":\"AllLabels\"},{\"attributes\":{\"margin\":[5,5,5,5],\"name\":\"HSpacer05142\",\"sizing_mode\":\"stretch_width\"},\"id\":\"4087\",\"type\":\"Spacer\"},{\"attributes\":{\"active_multi\":null,\"tools\":[{\"id\":\"4022\"},{\"id\":\"4039\"},{\"id\":\"4040\"},{\"id\":\"4041\"},{\"id\":\"4042\"},{\"id\":\"4043\"}]},\"id\":\"4045\",\"type\":\"Toolbar\"},{\"attributes\":{\"axis_label\":\"\",\"formatter\":{\"id\":\"4066\"},\"major_label_policy\":{\"id\":\"4065\"},\"ticker\":{\"id\":\"4037\"}},\"id\":\"4036\",\"type\":\"CategoricalAxis\"},{\"attributes\":{\"margin\":[5,5,5,5],\"name\":\"HSpacer05141\",\"sizing_mode\":\"stretch_width\"},\"id\":\"4019\",\"type\":\"Spacer\"},{\"attributes\":{\"line_color\":\"#30a2da\",\"line_width\":2,\"x\":{\"field\":\"Year\"},\"y\":{\"field\":\"Value\"}},\"id\":\"4060\",\"type\":\"Line\"},{\"attributes\":{\"line_color\":\"#30a2da\",\"line_width\":2,\"x\":{\"field\":\"Year\"},\"y\":{\"field\":\"Value\"}},\"id\":\"4055\",\"type\":\"Line\"},{\"attributes\":{\"children\":[{\"id\":\"4019\"},{\"id\":\"4023\"},{\"id\":\"4087\"}],\"margin\":[0,0,0,0],\"name\":\"Row05137\",\"tags\":[\"embedded\"]},\"id\":\"4018\",\"type\":\"Row\"},{\"attributes\":{\"line_alpha\":0.2,\"line_color\":\"#30a2da\",\"line_width\":2,\"x\":{\"field\":\"Year\"},\"y\":{\"field\":\"Value\"}},\"id\":\"4057\",\"type\":\"Line\"},{\"attributes\":{},\"id\":\"4041\",\"type\":\"WheelZoomTool\"},{\"attributes\":{\"below\":[{\"id\":\"4032\"}],\"center\":[{\"id\":\"4035\"},{\"id\":\"4038\"}],\"height\":300,\"left\":[{\"id\":\"4036\"}],\"margin\":[5,5,5,5],\"min_border_bottom\":10,\"min_border_left\":10,\"min_border_right\":10,\"min_border_top\":10,\"renderers\":[{\"id\":\"4058\"}],\"sizing_mode\":\"fixed\",\"title\":{\"id\":\"4024\"},\"toolbar\":{\"id\":\"4045\"},\"width\":700,\"x_range\":{\"id\":\"4020\"},\"x_scale\":{\"id\":\"4028\"},\"y_range\":{\"id\":\"4021\"},\"y_scale\":{\"id\":\"4030\"}},\"id\":\"4023\",\"subtype\":\"Figure\",\"type\":\"Plot\"},{\"attributes\":{\"end\":2014.0,\"reset_end\":2014.0,\"reset_start\":1946.0,\"start\":1946.0,\"tags\":[[[\"Year\",\"Year\",null]]]},\"id\":\"4020\",\"type\":\"Range1d\"},{\"attributes\":{\"callback\":null,\"renderers\":[{\"id\":\"4058\"}],\"tags\":[\"hv_created\"],\"tooltips\":[[\"Year\",\"@{Year}\"],[\"Value\",\"@{Value}\"]]},\"id\":\"4022\",\"type\":\"HoverTool\"},{\"attributes\":{},\"id\":\"4043\",\"type\":\"ResetTool\"},{\"attributes\":{},\"id\":\"4053\",\"type\":\"Selection\"},{\"attributes\":{},\"id\":\"4062\",\"type\":\"BasicTickFormatter\"},{\"attributes\":{\"axis\":{\"id\":\"4036\"},\"dimension\":1,\"grid_line_color\":null,\"ticker\":null},\"id\":\"4038\",\"type\":\"Grid\"},{\"attributes\":{},\"id\":\"4033\",\"type\":\"BasicTicker\"},{\"attributes\":{\"axis\":{\"id\":\"4032\"},\"grid_line_color\":null,\"ticker\":null},\"id\":\"4035\",\"type\":\"Grid\"},{\"attributes\":{},\"id\":\"4040\",\"type\":\"PanTool\"},{\"attributes\":{},\"id\":\"4037\",\"type\":\"CategoricalTicker\"},{\"attributes\":{\"axis_label\":\"Year\",\"formatter\":{\"id\":\"4062\"},\"major_label_orientation\":1.5707963267948966,\"major_label_policy\":{\"id\":\"4061\"},\"ticker\":{\"id\":\"4033\"}},\"id\":\"4032\",\"type\":\"LinearAxis\"}],\"root_ids\":[\"4018\"]},\"title\":\"Bokeh Application\",\"version\":\"2.3.3\"}};\n",
       "    var render_items = [{\"docid\":\"a16e8edc-2a21-4af1-aca5-b8f3b57cf7e3\",\"root_ids\":[\"4018\"],\"roots\":{\"4018\":\"9df8a114-2654-4af3-8a26-5e052d810441\"}}];\n",
       "    root.Bokeh.embed.embed_items_notebook(docs_json, render_items);\n",
       "  }\n",
       "  if (root.Bokeh !== undefined && root.Bokeh.Panel !== undefined) {\n",
       "    embed_document(root);\n",
       "  } else {\n",
       "    var attempts = 0;\n",
       "    var timer = setInterval(function(root) {\n",
       "      if (root.Bokeh !== undefined && root.Bokeh.Panel !== undefined) {\n",
       "        clearInterval(timer);\n",
       "        embed_document(root);\n",
       "      } else if (document.readyState == \"complete\") {\n",
       "        attempts++;\n",
       "        if (attempts > 200) {\n",
       "          clearInterval(timer);\n",
       "          console.log(\"Bokeh: ERROR: Unable to run BokehJS code because BokehJS library is missing\");\n",
       "        }\n",
       "      }\n",
       "    }, 25, root)\n",
       "  }\n",
       "})(window);</script>"
      ],
      "text/plain": [
       ":Curve   [Year]   (Value)"
      ]
     },
     "execution_count": 141,
     "metadata": {
      "application/vnd.holoviews_exec.v0+json": {
       "id": "4018"
      }
     },
     "output_type": "execute_result"
    }
   ],
   "source": [
    "#Plot of coffee yield in pounds per acre in the U.S.\n",
    "coffee_price_df.hvplot(rot=90, title=\"Coffee Yield lb.acre in the U.S.\")"
   ]
  },
  {
   "cell_type": "code",
   "execution_count": 142,
=======
   "execution_count": 807,
>>>>>>> f4869e0c2d563b7915abdccb25e3e7ec4efcab45
   "id": "ccb98a41-ffa8-4f00-b213-92d198a1bd29",
   "metadata": {},
   "outputs": [
    {
     "data": {
      "text/plain": [
<<<<<<< HEAD
       "<matplotlib.legend.Legend at 0x7f9091947b90>"
      ]
     },
     "execution_count": 142,
=======
       "<matplotlib.legend.Legend at 0x26d4359f948>"
      ]
     },
     "execution_count": 807,
>>>>>>> f4869e0c2d563b7915abdccb25e3e7ec4efcab45
     "metadata": {},
     "output_type": "execute_result"
    },
    {
     "data": {
<<<<<<< HEAD
      "image/png": "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\n",
=======
      "image/png": "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\n",
>>>>>>> f4869e0c2d563b7915abdccb25e3e7ec4efcab45
      "text/plain": [
       "<Figure size 1440x720 with 1 Axes>"
      ]
     },
     "metadata": {
      "needs_background": "light"
     },
     "output_type": "display_data"
    }
   ],
   "source": [
    "#Combined plot of all commodity prices\n",
    "ax = barley_price_df.plot(rot=90, figsize=(20,10), title=\"Price in $ per bushell at harvest in the U.S.\")\n",
    "corn_price_df.plot(ax=ax)\n",
    "cotton_price_df.plot(ax=ax)\n",
    "oats_price_df.plot(ax=ax)\n",
    "sorghum_price_df.plot(ax=ax)\n",
    "peanuts_price_df.plot(ax=ax)\n",
    "soybeans_price_df.plot(ax=ax)\n",
    "wheat_price_df.plot(ax=ax)\n",
    "\n",
    "\n",
    "\n",
    "ax.legend(['Barley Price',\n",
    "          'Corn Price', \n",
    "          'Cotton Price',\n",
    "          'Oats Price', \n",
    "          'Sorghum Price',\n",
    "          'Peanuts Price', \n",
    "          'Soybeans Price',\n",
    "          'Wheat Price'])"
   ]
  },
  {
   "cell_type": "code",
   "execution_count": null,
<<<<<<< HEAD
   "id": "d144de4d-4874-4dca-a5b6-95c366bc7bc3",
=======
   "id": "40f7f2f5-3d0e-4f6a-a58a-5a887633666d",
>>>>>>> f4869e0c2d563b7915abdccb25e3e7ec4efcab45
   "metadata": {},
   "outputs": [],
   "source": []
  }
 ],
 "metadata": {
  "kernelspec": {
   "display_name": "Python 3.7.10 64-bit ('dev': conda)",
   "language": "python",
   "name": "python3710jvsc74a57bd0126a38c33ce60d1ad370de9c241e0e3d76554d4a7dfedf135ebceda2f0bc08c1"
  },
  "language_info": {
   "codemirror_mode": {
    "name": "ipython",
    "version": 3
   },
   "file_extension": ".py",
   "mimetype": "text/x-python",
   "name": "python",
   "nbconvert_exporter": "python",
   "pygments_lexer": "ipython3",
   "version": "3.7.7"
  }
 },
 "nbformat": 4,
 "nbformat_minor": 5
}
